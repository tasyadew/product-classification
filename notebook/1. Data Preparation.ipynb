{
 "cells": [
  {
   "cell_type": "markdown",
   "id": "26473ee6-c80a-482d-9de1-a4b46fbc5d52",
   "metadata": {},
   "source": [
    "# Data Preparation"
   ]
  },
  {
   "cell_type": "markdown",
   "id": "763d7171-876e-4f87-8830-cc49aa7e80ca",
   "metadata": {},
   "source": [
    "The `E-Commerce Product Classification` aims to predict the most appropriate category for each product uploaded to an e-commerce platform. In this case, we face the challenge of ensuring that products are classified into categories that truly match their features.\n",
    "\n",
    "In the e-commerce business, accurate product classification is essential to enhance user experience and operational efficiency. One of the main concerns is ensuring that each product is classified into the most relevant category. Therefore, we prioritize business metrics similar to those used in churn prediction, namely Recall.\n",
    "\n",
    "In this context, the business metric Recall focuses on the model's ability to identify and classify products into the categories they truly belong to, even if the products have complex features or ambiguous characteristics. By prioritizing Recall, we aim to minimize prediction errors that lead to products being incorrectly classified into a category they do not belong to.\n",
    "\n",
    "Of course, there is a trade-off to consider, which is the potential increase in the number of False Positives (products wrongly classified into a certain category). However, in this context, these errors are considered more acceptable than False Negative errors, where products that should belong to a category are not correctly classified.\n",
    "\n",
    "By prioritizing the business metric Recall in this `E-Commerce Product Classification`, we hope to improve the accuracy of product categorization, which in turn will enhance user experience and the overall operational efficiency of the e-commerce business. This metric helps us detect and prevent products that truly belong to a category (positive cases) more efficiently than worrying about products wrongly classified into a certain category (negative cases)."
   ]
  },
  {
   "cell_type": "markdown",
   "id": "b976de37-bd12-444a-93b4-b0bd98cd1764",
   "metadata": {},
   "source": [
    "# Import Library"
   ]
  },
  {
   "cell_type": "code",
   "execution_count": 81,
   "id": "a3e2b625-be2a-48dd-9e95-78c162b4feb5",
   "metadata": {},
   "outputs": [],
   "source": [
    "import numpy as np\n",
    "import pandas as pd\n",
    "import matplotlib.pyplot as plt\n",
    "import seaborn as sns\n",
    "\n",
    "# import warnings for ignore the warnings\n",
    "import warnings \n",
    "warnings.filterwarnings(\"ignore\")\n",
    "\n",
    "# import pickle and json file for columns and model file\n",
    "import pickle\n",
    "import json\n",
    "import joblib\n",
    "import copy\n",
    "\n",
    "# Import train test split for splitting data\n",
    "from sklearn.model_selection import train_test_split\n",
    "import yaml\n",
    "from tqdm import tqdm\n",
    "import os"
   ]
  },
  {
   "cell_type": "code",
   "execution_count": 82,
   "id": "ccc47559",
   "metadata": {},
   "outputs": [],
   "source": [
    "data = pd.read_csv(\"./../../dataset/1 - raw data/product_category.csv\")"
   ]
  },
  {
   "cell_type": "code",
   "execution_count": 83,
   "id": "0f576a49",
   "metadata": {},
   "outputs": [
    {
     "data": {
      "text/html": [
       "<div>\n",
       "<style scoped>\n",
       "    .dataframe tbody tr th:only-of-type {\n",
       "        vertical-align: middle;\n",
       "    }\n",
       "\n",
       "    .dataframe tbody tr th {\n",
       "        vertical-align: top;\n",
       "    }\n",
       "\n",
       "    .dataframe thead th {\n",
       "        text-align: right;\n",
       "    }\n",
       "</style>\n",
       "<table border=\"1\" class=\"dataframe\">\n",
       "  <thead>\n",
       "    <tr style=\"text-align: right;\">\n",
       "      <th></th>\n",
       "      <th>title</th>\n",
       "      <th>category</th>\n",
       "    </tr>\n",
       "  </thead>\n",
       "  <tbody>\n",
       "    <tr>\n",
       "      <th>0</th>\n",
       "      <td>Farm Gold Australia Carrot</td>\n",
       "      <td>Vegetable</td>\n",
       "    </tr>\n",
       "    <tr>\n",
       "      <th>1</th>\n",
       "      <td>China Broccoli</td>\n",
       "      <td>Vegetable</td>\n",
       "    </tr>\n",
       "    <tr>\n",
       "      <th>2</th>\n",
       "      <td>Segar2go Small Pak Choy</td>\n",
       "      <td>Vegetable</td>\n",
       "    </tr>\n",
       "    <tr>\n",
       "      <th>3</th>\n",
       "      <td>Segar2go Japanese Cucumber 2pcs</td>\n",
       "      <td>Vegetable</td>\n",
       "    </tr>\n",
       "    <tr>\n",
       "      <th>4</th>\n",
       "      <td>Segar2go Tomato In Pack</td>\n",
       "      <td>Vegetable</td>\n",
       "    </tr>\n",
       "    <tr>\n",
       "      <th>...</th>\n",
       "      <td>...</td>\n",
       "      <td>...</td>\n",
       "    </tr>\n",
       "    <tr>\n",
       "      <th>14255</th>\n",
       "      <td>Mission Wrap Salt Reduced Wholemeal</td>\n",
       "      <td>Bread</td>\n",
       "    </tr>\n",
       "    <tr>\n",
       "      <th>14256</th>\n",
       "      <td>Mission Wrap Protein Wholemeal</td>\n",
       "      <td>Bread</td>\n",
       "    </tr>\n",
       "    <tr>\n",
       "      <th>14257</th>\n",
       "      <td>Mission Mini Wraps Wholemeal</td>\n",
       "      <td>Bread</td>\n",
       "    </tr>\n",
       "    <tr>\n",
       "      <th>14258</th>\n",
       "      <td>Mission Naan - Plain</td>\n",
       "      <td>Bread</td>\n",
       "    </tr>\n",
       "    <tr>\n",
       "      <th>14259</th>\n",
       "      <td>Mission Mini Wraps Tomato</td>\n",
       "      <td>Bread</td>\n",
       "    </tr>\n",
       "  </tbody>\n",
       "</table>\n",
       "<p>14260 rows × 2 columns</p>\n",
       "</div>"
      ],
      "text/plain": [
       "                                     title   category\n",
       "0               Farm Gold Australia Carrot  Vegetable\n",
       "1                           China Broccoli  Vegetable\n",
       "2                  Segar2go Small Pak Choy  Vegetable\n",
       "3          Segar2go Japanese Cucumber 2pcs  Vegetable\n",
       "4                  Segar2go Tomato In Pack  Vegetable\n",
       "...                                    ...        ...\n",
       "14255  Mission Wrap Salt Reduced Wholemeal      Bread\n",
       "14256       Mission Wrap Protein Wholemeal      Bread\n",
       "14257         Mission Mini Wraps Wholemeal      Bread\n",
       "14258                 Mission Naan - Plain      Bread\n",
       "14259            Mission Mini Wraps Tomato      Bread\n",
       "\n",
       "[14260 rows x 2 columns]"
      ]
     },
     "execution_count": 83,
     "metadata": {},
     "output_type": "execute_result"
    }
   ],
   "source": [
    "data"
   ]
  },
  {
   "cell_type": "markdown",
   "id": "c49055e3-4a26-4261-8284-b8197b02f747",
   "metadata": {},
   "source": [
    "# Data Definition"
   ]
  },
  {
   "cell_type": "markdown",
   "id": "d941e44d-1176-4a1d-8062-004ad423e509",
   "metadata": {},
   "source": [
    "The data used in this analysis includes information about product names and product categories, sourced from the following dataset:\n",
    "\n",
    "Data Source: [Predict Categories of Items using NLP](https://www.kaggle.com/datasets/shivam1298/predict-categories-of-items-using-nlp)\n",
    "\n",
    "This dataset consists of 20,188 rows of data with two main columns:\n",
    "\n",
    "1. **title**: This column contains the names of the products sold on the e-commerce platform.\n",
    "2. **category**: This column contains the categories or classifications that correspond to the products."
   ]
  },
  {
   "cell_type": "raw",
   "id": "b0a111c0-2470-4f3d-9ee2-8ec1d6f28db9",
   "metadata": {
    "vscode": {
     "languageId": "raw"
    }
   },
   "source": [
    "title            :\n",
    "    [object]\n",
    "    [overall product names sold on the e-commerce platform]\n",
    "    This column contains the names of the products sold on the e-commerce platform.\n",
    "\n",
    "category         :\n",
    "    [object]\n",
    "    ['None', 'Home & Kitchen', 'Tools & Home Improvement', \n",
    "    'Office Products', 'Grocery & Gourmet Food', 'Electronics', \n",
    "    'Industrial & Scientific']\n",
    "    This column contains the categories of the products sold on the e-commerce platform."
   ]
  },
  {
   "cell_type": "markdown",
   "id": "545bd350-d128-4575-919a-226659ab598a",
   "metadata": {},
   "source": [
    "# Data Validation"
   ]
  },
  {
   "cell_type": "code",
   "execution_count": 84,
   "id": "bd15d36b-2c46-406f-b630-74e1bfd2ec32",
   "metadata": {},
   "outputs": [
    {
     "name": "stdout",
     "output_type": "stream",
     "text": [
      "<class 'pandas.core.frame.DataFrame'>\n",
      "RangeIndex: 14260 entries, 0 to 14259\n",
      "Data columns (total 2 columns):\n",
      " #   Column    Non-Null Count  Dtype \n",
      "---  ------    --------------  ----- \n",
      " 0   title     14260 non-null  object\n",
      " 1   category  14260 non-null  object\n",
      "dtypes: object(2)\n",
      "memory usage: 222.9+ KB\n"
     ]
    }
   ],
   "source": [
    "data.info()"
   ]
  },
  {
   "cell_type": "code",
   "execution_count": 51,
   "id": "bb7c30a8-33ac-474b-b12f-62bfb7593cd9",
   "metadata": {},
   "outputs": [
    {
     "data": {
      "text/plain": [
       "Product     0\n",
       "Category    0\n",
       "dtype: int64"
      ]
     },
     "execution_count": 51,
     "metadata": {},
     "output_type": "execute_result"
    }
   ],
   "source": [
    "data.isnull().sum()"
   ]
  },
  {
   "cell_type": "code",
   "execution_count": 52,
   "id": "d407d65e-3539-4ccf-a99f-e67a701b6d7a",
   "metadata": {},
   "outputs": [
    {
     "data": {
      "text/plain": [
       "0"
      ]
     },
     "execution_count": 52,
     "metadata": {},
     "output_type": "execute_result"
    }
   ],
   "source": [
    "data.duplicated().sum()"
   ]
  },
  {
   "cell_type": "code",
   "execution_count": 53,
   "id": "0efeb4c4-3517-4b2d-843c-56d7232ade55",
   "metadata": {},
   "outputs": [
    {
     "data": {
      "text/plain": [
       "Sauce & Paste        764\n",
       "Stationery           653\n",
       "Frozen food          636\n",
       "Chocolate & Candy    626\n",
       "Noodles & Pasta      500\n",
       "                    ... \n",
       "Tofu                  32\n",
       "Cutlery               31\n",
       "Eggs                  25\n",
       "Water                 25\n",
       "Noodles               24\n",
       "Name: Category, Length: 77, dtype: int64"
      ]
     },
     "execution_count": 53,
     "metadata": {},
     "output_type": "execute_result"
    }
   ],
   "source": [
    "data['category'].value_counts()"
   ]
  },
  {
   "cell_type": "markdown",
   "id": "3336c213-922a-4070-aa6b-7d2ef7b146cc",
   "metadata": {},
   "source": [
    "# Data Splitting\n",
    "Perform data splitting to separate the dataset into training set, validation set, and test set, divided into variables x and y."
   ]
  },
  {
   "cell_type": "code",
   "execution_count": 55,
   "id": "3a81306b-765a-496a-9cad-5f86406be618",
   "metadata": {},
   "outputs": [
    {
     "data": {
      "text/plain": [
       "(14260, 2)"
      ]
     },
     "execution_count": 55,
     "metadata": {},
     "output_type": "execute_result"
    }
   ],
   "source": [
    "data.shape"
   ]
  },
  {
   "cell_type": "code",
   "execution_count": 86,
   "id": "a206d8e1-0128-469f-a880-20d179cd4162",
   "metadata": {},
   "outputs": [],
   "source": [
    "X = data.drop(columns = \"category\")\n",
    "y = data[\"category\"]"
   ]
  },
  {
   "cell_type": "code",
   "execution_count": 87,
   "id": "267ecaa1-c0c3-4cd2-8651-f8cae454ca9d",
   "metadata": {},
   "outputs": [],
   "source": [
    "#Split Data 80% training 20% testing\n",
    "X_train, X_test, y_train, y_test = train_test_split(X, y,\n",
    "                                                    test_size = 0.2,\n",
    "                                                    random_state = 42)"
   ]
  },
  {
   "cell_type": "code",
   "execution_count": 88,
   "id": "e393ac47-2ad2-41e0-bf07-9012754f8aee",
   "metadata": {},
   "outputs": [],
   "source": [
    "# Split the training data into training and validation sets\n",
    "X_test, X_valid, y_test, y_valid = train_test_split(X_test, y_test, \n",
    "                                                    test_size=0.4, \n",
    "                                                    random_state=42,\n",
    "                                                    stratify = y_test\n",
    "                                                   )"
   ]
  },
  {
   "cell_type": "markdown",
   "id": "d2fa75a2-ff0d-4a7a-a0a4-deff364cb372",
   "metadata": {},
   "source": [
    "## Final Result - Data Preparation\n",
    "\n",
    "Export the results of data preparation as a pickle file."
   ]
  },
  {
   "cell_type": "code",
   "execution_count": 89,
   "id": "818b9b7c-14fb-4f07-ab8e-3dbb01f7048f",
   "metadata": {},
   "outputs": [
    {
     "data": {
      "text/plain": [
       "['C:\\\\Users\\\\penguin\\\\code\\\\product-classification\\\\dataset\\\\2 - processed\\\\y_test.pkl']"
      ]
     },
     "execution_count": 89,
     "metadata": {},
     "output_type": "execute_result"
    }
   ],
   "source": [
    "joblib.dump(X_train, \"C:\\\\Users\\\\penguin\\\\code\\\\product-classification\\\\dataset\\\\2 - processed\\\\X_train.pkl\")\n",
    "joblib.dump(y_train, \"C:\\\\Users\\\\penguin\\\\code\\\\product-classification\\\\dataset\\\\2 - processed\\\\y_train.pkl\")\n",
    "joblib.dump(X_valid, \"C:\\\\Users\\\\penguin\\\\code\\\\product-classification\\\\dataset\\\\2 - processed\\\\X_valid.pkl\")\n",
    "joblib.dump(y_valid, \"C:\\\\Users\\\\penguin\\\\code\\\\product-classification\\\\dataset\\\\2 - processed\\\\y_valid.pkl\")\n",
    "joblib.dump(X_test, \"C:\\\\Users\\\\penguin\\\\code\\\\product-classification\\\\dataset\\\\2 - processed\\\\X_test.pkl\")\n",
    "joblib.dump(y_test, \"C:\\\\Users\\\\penguin\\\\code\\\\product-classification\\\\dataset\\\\2 - processed\\\\y_test.pkl\")"
   ]
  }
 ],
 "metadata": {
  "kernelspec": {
   "display_name": "Python 3 (ipykernel)",
   "language": "python",
   "name": "python3"
  },
  "language_info": {
   "codemirror_mode": {
    "name": "ipython",
    "version": 3
   },
   "file_extension": ".py",
   "mimetype": "text/x-python",
   "name": "python",
   "nbconvert_exporter": "python",
   "pygments_lexer": "ipython3",
   "version": "3.11.9"
  }
 },
 "nbformat": 4,
 "nbformat_minor": 5
}
