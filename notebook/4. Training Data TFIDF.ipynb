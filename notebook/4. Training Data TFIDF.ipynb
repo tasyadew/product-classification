{
 "cells": [
  {
   "cell_type": "markdown",
   "id": "586e0e61",
   "metadata": {},
   "source": [
    "# Training Model - Unbalance Data"
   ]
  },
  {
   "cell_type": "markdown",
   "id": "6e146939",
   "metadata": {},
   "source": [
    "# Import Library"
   ]
  },
  {
   "cell_type": "code",
   "execution_count": 4,
   "id": "e86bcca6",
   "metadata": {},
   "outputs": [],
   "source": [
    "#import all realated libraries\n",
    "#import libraries for data analysis\n",
    "import numpy as np\n",
    "import pandas as pd\n",
    "\n",
    "# import library for visualization\n",
    "import seaborn as sns\n",
    "import matplotlib.pyplot as plt\n",
    "\n",
    "# import pickle and json file for columns and model file\n",
    "import pickle\n",
    "import json\n",
    "import joblib\n",
    "\n",
    "# import warnings for ignore the warnings\n",
    "import warnings \n",
    "warnings.filterwarnings(\"ignore\")\n",
    "\n",
    "# library for model selection and models\n",
    "from sklearn.model_selection import train_test_split\n",
    "from sklearn.linear_model import LogisticRegression\n",
    "from sklearn.neighbors import KNeighborsClassifier\n",
    "from sklearn.tree import DecisionTreeClassifier\n",
    "from sklearn.ensemble import RandomForestClassifier\n",
    "from sklearn.ensemble import AdaBoostClassifier\n",
    "from xgboost import XGBClassifier\n",
    "from sklearn.svm import SVC\n",
    "from sklearn.linear_model import RidgeClassifier\n",
    "from sklearn.ensemble import BaggingClassifier\n",
    "from sklearn.ensemble import GradientBoostingClassifier\n",
    "from sklearn.ensemble import ExtraTreesClassifier\n",
    "import xgboost as xgb\n",
    "import lightgbm as lgb\n",
    "from lightgbm import LGBMClassifier\n",
    "\n",
    "# evaluation metrics for classification model\n",
    "from sklearn.metrics import accuracy_score,classification_report,confusion_matrix\n",
    "from sklearn.metrics import classification_report, ConfusionMatrixDisplay\n",
    "from sklearn.metrics import accuracy_score, roc_auc_score\n",
    "\n",
    "from sklearn.model_selection import GridSearchCV\n",
    "from sklearn.model_selection import RepeatedStratifiedKFold\n",
    "\n",
    "\n",
    "import tensorflow as tf\n",
    "#from tensorflow.keras.models import Sequential\n",
    "#from tensorflow.keras.layers import Dense, Dropout\n",
    "from scikeras.wrappers import KerasClassifier\n",
    "from tensorflow import keras\n",
    "#from tensorflow.keras.wrappers.scikit_learn import KerasClassifier"
   ]
  },
  {
   "cell_type": "markdown",
   "id": "254cb49d",
   "metadata": {},
   "source": [
    "## Read Data"
   ]
  },
  {
   "cell_type": "code",
   "execution_count": 5,
   "id": "1af710e2",
   "metadata": {},
   "outputs": [],
   "source": [
    "#Read data X_train dan y_train hasil dari data preparation\n",
    "X_train_clean = joblib.load(\"C:\\\\Users\\\\penguin\\\\code\\\\product-classification\\\\dataset\\\\2 - processed\\\\X_train_tfidf.pkl\") \n",
    "y_train = joblib.load(\"C:\\\\Users\\\\penguin\\\\code\\\\product-classification\\\\dataset\\\\2 - processed\\\\y_train_encoded.pkl\")\n",
    "\n",
    "#Read data X_valid dan y_valid hasil dari data preparation\n",
    "X_valid_clean = joblib.load(\"C:\\\\Users\\\\penguin\\\\code\\\\product-classification\\\\dataset\\\\2 - processed\\\\X_valid_tfidf.pkl\")\n",
    "y_valid = joblib.load(\"C:\\\\Users\\\\penguin\\\\code\\\\product-classification\\\\dataset\\\\2 - processed\\\\y_valid_encoded.pkl\")\n",
    "\n",
    "#Read data X_test dan y_test hasil dari data preparation\n",
    "X_test_clean = joblib.load(\"C:\\\\Users\\\\penguin\\\\code\\\\product-classification\\\\dataset\\\\2 - processed\\\\X_test_tfidf.pkl\")\n",
    "y_test = joblib.load(\"C:\\\\Users\\\\penguin\\\\code\\\\product-classification\\\\dataset\\\\2 - processed\\\\y_test_encoded.pkl\")"
   ]
  },
  {
   "cell_type": "markdown",
   "id": "945d7cd6",
   "metadata": {},
   "source": [
    "## Baseline Model"
   ]
  },
  {
   "cell_type": "code",
   "execution_count": 6,
   "id": "d9d769a6",
   "metadata": {},
   "outputs": [
    {
     "data": {
      "text/plain": [
       "36.69828190743338"
      ]
     },
     "execution_count": 6,
     "metadata": {},
     "output_type": "execute_result"
    }
   ],
   "source": [
    "y_baseline_predict = y_train.mean()\n",
    "y_baseline_predict"
   ]
  },
  {
   "cell_type": "markdown",
   "id": "d24cde69",
   "metadata": {},
   "source": [
    "## Logistic Regression"
   ]
  },
  {
   "cell_type": "code",
   "execution_count": 7,
   "id": "19ebdcc8",
   "metadata": {},
   "outputs": [],
   "source": [
    "# Build Logistic Regression\n",
    "logreg_awal = LogisticRegression(random_state = 123)"
   ]
  },
  {
   "cell_type": "code",
   "execution_count": 8,
   "id": "6c58f364",
   "metadata": {},
   "outputs": [
    {
     "data": {
      "text/html": [
       "<style>#sk-container-id-1 {\n",
       "  /* Definition of color scheme common for light and dark mode */\n",
       "  --sklearn-color-text: black;\n",
       "  --sklearn-color-line: gray;\n",
       "  /* Definition of color scheme for unfitted estimators */\n",
       "  --sklearn-color-unfitted-level-0: #fff5e6;\n",
       "  --sklearn-color-unfitted-level-1: #f6e4d2;\n",
       "  --sklearn-color-unfitted-level-2: #ffe0b3;\n",
       "  --sklearn-color-unfitted-level-3: chocolate;\n",
       "  /* Definition of color scheme for fitted estimators */\n",
       "  --sklearn-color-fitted-level-0: #f0f8ff;\n",
       "  --sklearn-color-fitted-level-1: #d4ebff;\n",
       "  --sklearn-color-fitted-level-2: #b3dbfd;\n",
       "  --sklearn-color-fitted-level-3: cornflowerblue;\n",
       "\n",
       "  /* Specific color for light theme */\n",
       "  --sklearn-color-text-on-default-background: var(--sg-text-color, var(--theme-code-foreground, var(--jp-content-font-color1, black)));\n",
       "  --sklearn-color-background: var(--sg-background-color, var(--theme-background, var(--jp-layout-color0, white)));\n",
       "  --sklearn-color-border-box: var(--sg-text-color, var(--theme-code-foreground, var(--jp-content-font-color1, black)));\n",
       "  --sklearn-color-icon: #696969;\n",
       "\n",
       "  @media (prefers-color-scheme: dark) {\n",
       "    /* Redefinition of color scheme for dark theme */\n",
       "    --sklearn-color-text-on-default-background: var(--sg-text-color, var(--theme-code-foreground, var(--jp-content-font-color1, white)));\n",
       "    --sklearn-color-background: var(--sg-background-color, var(--theme-background, var(--jp-layout-color0, #111)));\n",
       "    --sklearn-color-border-box: var(--sg-text-color, var(--theme-code-foreground, var(--jp-content-font-color1, white)));\n",
       "    --sklearn-color-icon: #878787;\n",
       "  }\n",
       "}\n",
       "\n",
       "#sk-container-id-1 {\n",
       "  color: var(--sklearn-color-text);\n",
       "}\n",
       "\n",
       "#sk-container-id-1 pre {\n",
       "  padding: 0;\n",
       "}\n",
       "\n",
       "#sk-container-id-1 input.sk-hidden--visually {\n",
       "  border: 0;\n",
       "  clip: rect(1px 1px 1px 1px);\n",
       "  clip: rect(1px, 1px, 1px, 1px);\n",
       "  height: 1px;\n",
       "  margin: -1px;\n",
       "  overflow: hidden;\n",
       "  padding: 0;\n",
       "  position: absolute;\n",
       "  width: 1px;\n",
       "}\n",
       "\n",
       "#sk-container-id-1 div.sk-dashed-wrapped {\n",
       "  border: 1px dashed var(--sklearn-color-line);\n",
       "  margin: 0 0.4em 0.5em 0.4em;\n",
       "  box-sizing: border-box;\n",
       "  padding-bottom: 0.4em;\n",
       "  background-color: var(--sklearn-color-background);\n",
       "}\n",
       "\n",
       "#sk-container-id-1 div.sk-container {\n",
       "  /* jupyter's `normalize.less` sets `[hidden] { display: none; }`\n",
       "     but bootstrap.min.css set `[hidden] { display: none !important; }`\n",
       "     so we also need the `!important` here to be able to override the\n",
       "     default hidden behavior on the sphinx rendered scikit-learn.org.\n",
       "     See: https://github.com/scikit-learn/scikit-learn/issues/21755 */\n",
       "  display: inline-block !important;\n",
       "  position: relative;\n",
       "}\n",
       "\n",
       "#sk-container-id-1 div.sk-text-repr-fallback {\n",
       "  display: none;\n",
       "}\n",
       "\n",
       "div.sk-parallel-item,\n",
       "div.sk-serial,\n",
       "div.sk-item {\n",
       "  /* draw centered vertical line to link estimators */\n",
       "  background-image: linear-gradient(var(--sklearn-color-text-on-default-background), var(--sklearn-color-text-on-default-background));\n",
       "  background-size: 2px 100%;\n",
       "  background-repeat: no-repeat;\n",
       "  background-position: center center;\n",
       "}\n",
       "\n",
       "/* Parallel-specific style estimator block */\n",
       "\n",
       "#sk-container-id-1 div.sk-parallel-item::after {\n",
       "  content: \"\";\n",
       "  width: 100%;\n",
       "  border-bottom: 2px solid var(--sklearn-color-text-on-default-background);\n",
       "  flex-grow: 1;\n",
       "}\n",
       "\n",
       "#sk-container-id-1 div.sk-parallel {\n",
       "  display: flex;\n",
       "  align-items: stretch;\n",
       "  justify-content: center;\n",
       "  background-color: var(--sklearn-color-background);\n",
       "  position: relative;\n",
       "}\n",
       "\n",
       "#sk-container-id-1 div.sk-parallel-item {\n",
       "  display: flex;\n",
       "  flex-direction: column;\n",
       "}\n",
       "\n",
       "#sk-container-id-1 div.sk-parallel-item:first-child::after {\n",
       "  align-self: flex-end;\n",
       "  width: 50%;\n",
       "}\n",
       "\n",
       "#sk-container-id-1 div.sk-parallel-item:last-child::after {\n",
       "  align-self: flex-start;\n",
       "  width: 50%;\n",
       "}\n",
       "\n",
       "#sk-container-id-1 div.sk-parallel-item:only-child::after {\n",
       "  width: 0;\n",
       "}\n",
       "\n",
       "/* Serial-specific style estimator block */\n",
       "\n",
       "#sk-container-id-1 div.sk-serial {\n",
       "  display: flex;\n",
       "  flex-direction: column;\n",
       "  align-items: center;\n",
       "  background-color: var(--sklearn-color-background);\n",
       "  padding-right: 1em;\n",
       "  padding-left: 1em;\n",
       "}\n",
       "\n",
       "\n",
       "/* Toggleable style: style used for estimator/Pipeline/ColumnTransformer box that is\n",
       "clickable and can be expanded/collapsed.\n",
       "- Pipeline and ColumnTransformer use this feature and define the default style\n",
       "- Estimators will overwrite some part of the style using the `sk-estimator` class\n",
       "*/\n",
       "\n",
       "/* Pipeline and ColumnTransformer style (default) */\n",
       "\n",
       "#sk-container-id-1 div.sk-toggleable {\n",
       "  /* Default theme specific background. It is overwritten whether we have a\n",
       "  specific estimator or a Pipeline/ColumnTransformer */\n",
       "  background-color: var(--sklearn-color-background);\n",
       "}\n",
       "\n",
       "/* Toggleable label */\n",
       "#sk-container-id-1 label.sk-toggleable__label {\n",
       "  cursor: pointer;\n",
       "  display: block;\n",
       "  width: 100%;\n",
       "  margin-bottom: 0;\n",
       "  padding: 0.5em;\n",
       "  box-sizing: border-box;\n",
       "  text-align: center;\n",
       "}\n",
       "\n",
       "#sk-container-id-1 label.sk-toggleable__label-arrow:before {\n",
       "  /* Arrow on the left of the label */\n",
       "  content: \"▸\";\n",
       "  float: left;\n",
       "  margin-right: 0.25em;\n",
       "  color: var(--sklearn-color-icon);\n",
       "}\n",
       "\n",
       "#sk-container-id-1 label.sk-toggleable__label-arrow:hover:before {\n",
       "  color: var(--sklearn-color-text);\n",
       "}\n",
       "\n",
       "/* Toggleable content - dropdown */\n",
       "\n",
       "#sk-container-id-1 div.sk-toggleable__content {\n",
       "  max-height: 0;\n",
       "  max-width: 0;\n",
       "  overflow: hidden;\n",
       "  text-align: left;\n",
       "  /* unfitted */\n",
       "  background-color: var(--sklearn-color-unfitted-level-0);\n",
       "}\n",
       "\n",
       "#sk-container-id-1 div.sk-toggleable__content.fitted {\n",
       "  /* fitted */\n",
       "  background-color: var(--sklearn-color-fitted-level-0);\n",
       "}\n",
       "\n",
       "#sk-container-id-1 div.sk-toggleable__content pre {\n",
       "  margin: 0.2em;\n",
       "  border-radius: 0.25em;\n",
       "  color: var(--sklearn-color-text);\n",
       "  /* unfitted */\n",
       "  background-color: var(--sklearn-color-unfitted-level-0);\n",
       "}\n",
       "\n",
       "#sk-container-id-1 div.sk-toggleable__content.fitted pre {\n",
       "  /* unfitted */\n",
       "  background-color: var(--sklearn-color-fitted-level-0);\n",
       "}\n",
       "\n",
       "#sk-container-id-1 input.sk-toggleable__control:checked~div.sk-toggleable__content {\n",
       "  /* Expand drop-down */\n",
       "  max-height: 200px;\n",
       "  max-width: 100%;\n",
       "  overflow: auto;\n",
       "}\n",
       "\n",
       "#sk-container-id-1 input.sk-toggleable__control:checked~label.sk-toggleable__label-arrow:before {\n",
       "  content: \"▾\";\n",
       "}\n",
       "\n",
       "/* Pipeline/ColumnTransformer-specific style */\n",
       "\n",
       "#sk-container-id-1 div.sk-label input.sk-toggleable__control:checked~label.sk-toggleable__label {\n",
       "  color: var(--sklearn-color-text);\n",
       "  background-color: var(--sklearn-color-unfitted-level-2);\n",
       "}\n",
       "\n",
       "#sk-container-id-1 div.sk-label.fitted input.sk-toggleable__control:checked~label.sk-toggleable__label {\n",
       "  background-color: var(--sklearn-color-fitted-level-2);\n",
       "}\n",
       "\n",
       "/* Estimator-specific style */\n",
       "\n",
       "/* Colorize estimator box */\n",
       "#sk-container-id-1 div.sk-estimator input.sk-toggleable__control:checked~label.sk-toggleable__label {\n",
       "  /* unfitted */\n",
       "  background-color: var(--sklearn-color-unfitted-level-2);\n",
       "}\n",
       "\n",
       "#sk-container-id-1 div.sk-estimator.fitted input.sk-toggleable__control:checked~label.sk-toggleable__label {\n",
       "  /* fitted */\n",
       "  background-color: var(--sklearn-color-fitted-level-2);\n",
       "}\n",
       "\n",
       "#sk-container-id-1 div.sk-label label.sk-toggleable__label,\n",
       "#sk-container-id-1 div.sk-label label {\n",
       "  /* The background is the default theme color */\n",
       "  color: var(--sklearn-color-text-on-default-background);\n",
       "}\n",
       "\n",
       "/* On hover, darken the color of the background */\n",
       "#sk-container-id-1 div.sk-label:hover label.sk-toggleable__label {\n",
       "  color: var(--sklearn-color-text);\n",
       "  background-color: var(--sklearn-color-unfitted-level-2);\n",
       "}\n",
       "\n",
       "/* Label box, darken color on hover, fitted */\n",
       "#sk-container-id-1 div.sk-label.fitted:hover label.sk-toggleable__label.fitted {\n",
       "  color: var(--sklearn-color-text);\n",
       "  background-color: var(--sklearn-color-fitted-level-2);\n",
       "}\n",
       "\n",
       "/* Estimator label */\n",
       "\n",
       "#sk-container-id-1 div.sk-label label {\n",
       "  font-family: monospace;\n",
       "  font-weight: bold;\n",
       "  display: inline-block;\n",
       "  line-height: 1.2em;\n",
       "}\n",
       "\n",
       "#sk-container-id-1 div.sk-label-container {\n",
       "  text-align: center;\n",
       "}\n",
       "\n",
       "/* Estimator-specific */\n",
       "#sk-container-id-1 div.sk-estimator {\n",
       "  font-family: monospace;\n",
       "  border: 1px dotted var(--sklearn-color-border-box);\n",
       "  border-radius: 0.25em;\n",
       "  box-sizing: border-box;\n",
       "  margin-bottom: 0.5em;\n",
       "  /* unfitted */\n",
       "  background-color: var(--sklearn-color-unfitted-level-0);\n",
       "}\n",
       "\n",
       "#sk-container-id-1 div.sk-estimator.fitted {\n",
       "  /* fitted */\n",
       "  background-color: var(--sklearn-color-fitted-level-0);\n",
       "}\n",
       "\n",
       "/* on hover */\n",
       "#sk-container-id-1 div.sk-estimator:hover {\n",
       "  /* unfitted */\n",
       "  background-color: var(--sklearn-color-unfitted-level-2);\n",
       "}\n",
       "\n",
       "#sk-container-id-1 div.sk-estimator.fitted:hover {\n",
       "  /* fitted */\n",
       "  background-color: var(--sklearn-color-fitted-level-2);\n",
       "}\n",
       "\n",
       "/* Specification for estimator info (e.g. \"i\" and \"?\") */\n",
       "\n",
       "/* Common style for \"i\" and \"?\" */\n",
       "\n",
       ".sk-estimator-doc-link,\n",
       "a:link.sk-estimator-doc-link,\n",
       "a:visited.sk-estimator-doc-link {\n",
       "  float: right;\n",
       "  font-size: smaller;\n",
       "  line-height: 1em;\n",
       "  font-family: monospace;\n",
       "  background-color: var(--sklearn-color-background);\n",
       "  border-radius: 1em;\n",
       "  height: 1em;\n",
       "  width: 1em;\n",
       "  text-decoration: none !important;\n",
       "  margin-left: 1ex;\n",
       "  /* unfitted */\n",
       "  border: var(--sklearn-color-unfitted-level-1) 1pt solid;\n",
       "  color: var(--sklearn-color-unfitted-level-1);\n",
       "}\n",
       "\n",
       ".sk-estimator-doc-link.fitted,\n",
       "a:link.sk-estimator-doc-link.fitted,\n",
       "a:visited.sk-estimator-doc-link.fitted {\n",
       "  /* fitted */\n",
       "  border: var(--sklearn-color-fitted-level-1) 1pt solid;\n",
       "  color: var(--sklearn-color-fitted-level-1);\n",
       "}\n",
       "\n",
       "/* On hover */\n",
       "div.sk-estimator:hover .sk-estimator-doc-link:hover,\n",
       ".sk-estimator-doc-link:hover,\n",
       "div.sk-label-container:hover .sk-estimator-doc-link:hover,\n",
       ".sk-estimator-doc-link:hover {\n",
       "  /* unfitted */\n",
       "  background-color: var(--sklearn-color-unfitted-level-3);\n",
       "  color: var(--sklearn-color-background);\n",
       "  text-decoration: none;\n",
       "}\n",
       "\n",
       "div.sk-estimator.fitted:hover .sk-estimator-doc-link.fitted:hover,\n",
       ".sk-estimator-doc-link.fitted:hover,\n",
       "div.sk-label-container:hover .sk-estimator-doc-link.fitted:hover,\n",
       ".sk-estimator-doc-link.fitted:hover {\n",
       "  /* fitted */\n",
       "  background-color: var(--sklearn-color-fitted-level-3);\n",
       "  color: var(--sklearn-color-background);\n",
       "  text-decoration: none;\n",
       "}\n",
       "\n",
       "/* Span, style for the box shown on hovering the info icon */\n",
       ".sk-estimator-doc-link span {\n",
       "  display: none;\n",
       "  z-index: 9999;\n",
       "  position: relative;\n",
       "  font-weight: normal;\n",
       "  right: .2ex;\n",
       "  padding: .5ex;\n",
       "  margin: .5ex;\n",
       "  width: min-content;\n",
       "  min-width: 20ex;\n",
       "  max-width: 50ex;\n",
       "  color: var(--sklearn-color-text);\n",
       "  box-shadow: 2pt 2pt 4pt #999;\n",
       "  /* unfitted */\n",
       "  background: var(--sklearn-color-unfitted-level-0);\n",
       "  border: .5pt solid var(--sklearn-color-unfitted-level-3);\n",
       "}\n",
       "\n",
       ".sk-estimator-doc-link.fitted span {\n",
       "  /* fitted */\n",
       "  background: var(--sklearn-color-fitted-level-0);\n",
       "  border: var(--sklearn-color-fitted-level-3);\n",
       "}\n",
       "\n",
       ".sk-estimator-doc-link:hover span {\n",
       "  display: block;\n",
       "}\n",
       "\n",
       "/* \"?\"-specific style due to the `<a>` HTML tag */\n",
       "\n",
       "#sk-container-id-1 a.estimator_doc_link {\n",
       "  float: right;\n",
       "  font-size: 1rem;\n",
       "  line-height: 1em;\n",
       "  font-family: monospace;\n",
       "  background-color: var(--sklearn-color-background);\n",
       "  border-radius: 1rem;\n",
       "  height: 1rem;\n",
       "  width: 1rem;\n",
       "  text-decoration: none;\n",
       "  /* unfitted */\n",
       "  color: var(--sklearn-color-unfitted-level-1);\n",
       "  border: var(--sklearn-color-unfitted-level-1) 1pt solid;\n",
       "}\n",
       "\n",
       "#sk-container-id-1 a.estimator_doc_link.fitted {\n",
       "  /* fitted */\n",
       "  border: var(--sklearn-color-fitted-level-1) 1pt solid;\n",
       "  color: var(--sklearn-color-fitted-level-1);\n",
       "}\n",
       "\n",
       "/* On hover */\n",
       "#sk-container-id-1 a.estimator_doc_link:hover {\n",
       "  /* unfitted */\n",
       "  background-color: var(--sklearn-color-unfitted-level-3);\n",
       "  color: var(--sklearn-color-background);\n",
       "  text-decoration: none;\n",
       "}\n",
       "\n",
       "#sk-container-id-1 a.estimator_doc_link.fitted:hover {\n",
       "  /* fitted */\n",
       "  background-color: var(--sklearn-color-fitted-level-3);\n",
       "}\n",
       "</style><div id=\"sk-container-id-1\" class=\"sk-top-container\"><div class=\"sk-text-repr-fallback\"><pre>LogisticRegression(random_state=123)</pre><b>In a Jupyter environment, please rerun this cell to show the HTML representation or trust the notebook. <br />On GitHub, the HTML representation is unable to render, please try loading this page with nbviewer.org.</b></div><div class=\"sk-container\" hidden><div class=\"sk-item\"><div class=\"sk-estimator fitted sk-toggleable\"><input class=\"sk-toggleable__control sk-hidden--visually\" id=\"sk-estimator-id-1\" type=\"checkbox\" checked><label for=\"sk-estimator-id-1\" class=\"sk-toggleable__label fitted sk-toggleable__label-arrow fitted\">&nbsp;&nbsp;LogisticRegression<a class=\"sk-estimator-doc-link fitted\" rel=\"noreferrer\" target=\"_blank\" href=\"https://scikit-learn.org/1.5/modules/generated/sklearn.linear_model.LogisticRegression.html\">?<span>Documentation for LogisticRegression</span></a><span class=\"sk-estimator-doc-link fitted\">i<span>Fitted</span></span></label><div class=\"sk-toggleable__content fitted\"><pre>LogisticRegression(random_state=123)</pre></div> </div></div></div></div>"
      ],
      "text/plain": [
       "LogisticRegression(random_state=123)"
      ]
     },
     "execution_count": 8,
     "metadata": {},
     "output_type": "execute_result"
    }
   ],
   "source": [
    "# fit Logistic Regression\n",
    "logreg_awal.fit(X_train_clean, y_train)"
   ]
  },
  {
   "cell_type": "code",
   "execution_count": 9,
   "id": "3faffac6",
   "metadata": {},
   "outputs": [
    {
     "data": {
      "text/plain": [
       "0.9228611500701263"
      ]
     },
     "execution_count": 9,
     "metadata": {},
     "output_type": "execute_result"
    }
   ],
   "source": [
    "# Melihat Score dari model logreg\n",
    "logreg_awal.score(X_train_clean, y_train)"
   ]
  },
  {
   "cell_type": "code",
   "execution_count": 10,
   "id": "e333ed5b",
   "metadata": {},
   "outputs": [],
   "source": [
    "#Prediksi Logreg\n",
    "logreg_pred = logreg_awal.predict(X_test_clean)"
   ]
  },
  {
   "cell_type": "code",
   "execution_count": 11,
   "id": "e8391495",
   "metadata": {},
   "outputs": [
    {
     "name": "stdout",
     "output_type": "stream",
     "text": [
      "              precision    recall  f1-score   support\n",
      "\n",
      "           0       1.00      0.92      0.96        24\n",
      "           1       0.86      0.92      0.89        13\n",
      "           2       0.96      0.96      0.96        25\n",
      "           3       1.00      0.75      0.86         8\n",
      "           4       1.00      0.96      0.98        27\n",
      "           5       1.00      1.00      1.00        10\n",
      "           6       0.84      0.92      0.88        53\n",
      "           7       0.93      0.90      0.92        42\n",
      "           8       1.00      1.00      1.00         8\n",
      "           9       0.90      0.75      0.82        12\n",
      "          10       1.00      0.82      0.90        11\n",
      "          11       0.70      0.76      0.73        41\n",
      "          12       0.92      0.90      0.91        50\n",
      "          13       1.00      1.00      1.00        17\n",
      "          14       0.95      0.89      0.92        47\n",
      "          15       0.84      0.91      0.88        82\n",
      "          16       0.75      0.27      0.40        11\n",
      "          17       0.75      0.90      0.82        48\n",
      "          18       0.79      0.92      0.85        36\n",
      "          19       0.80      0.93      0.86        30\n",
      "          20       0.84      1.00      0.91        16\n",
      "          21       1.00      0.50      0.67         4\n",
      "          22       0.00      0.00      0.00         4\n",
      "          23       0.80      0.67      0.73        12\n",
      "          24       1.00      0.86      0.92        21\n",
      "          25       1.00      1.00      1.00        16\n",
      "          26       1.00      0.90      0.95        21\n",
      "          27       1.00      0.75      0.86         8\n",
      "          28       1.00      0.96      0.98        28\n",
      "          29       0.89      0.87      0.88        39\n",
      "          30       1.00      0.50      0.67         4\n",
      "          31       0.00      0.00      0.00         3\n",
      "          32       1.00      0.86      0.92         7\n",
      "          33       0.93      0.93      0.93        14\n",
      "          34       0.66      0.97      0.78        71\n",
      "          35       1.00      0.62      0.77         8\n",
      "          36       1.00      0.80      0.89         5\n",
      "          37       0.86      0.96      0.91        25\n",
      "          38       1.00      1.00      1.00         7\n",
      "          39       1.00      0.67      0.80         9\n",
      "          40       1.00      0.17      0.29         6\n",
      "          41       0.00      0.00      0.00         9\n",
      "          42       0.97      0.97      0.97        31\n",
      "          43       1.00      0.57      0.73         7\n",
      "          44       0.71      0.75      0.73        16\n",
      "          45       0.56      0.71      0.62         7\n",
      "          46       0.82      0.82      0.82        17\n",
      "          47       0.88      0.95      0.91        38\n",
      "          48       1.00      0.20      0.33         5\n",
      "          49       0.83      0.62      0.71         8\n",
      "          50       0.82      0.93      0.87        29\n",
      "          51       0.90      0.83      0.86        23\n",
      "          52       1.00      0.27      0.43        11\n",
      "          53       0.00      0.00      0.00         1\n",
      "          54       0.93      0.98      0.95        63\n",
      "          55       0.95      0.82      0.88        22\n",
      "          56       0.92      0.94      0.93        35\n",
      "          57       1.00      0.81      0.90        16\n",
      "          58       1.00      0.97      0.98        30\n",
      "          59       0.80      0.50      0.62         8\n",
      "          60       1.00      0.57      0.73         7\n",
      "          61       1.00      0.62      0.77         8\n",
      "          62       0.97      1.00      0.98        29\n",
      "          63       0.82      0.96      0.88        90\n",
      "          64       0.60      0.55      0.57        11\n",
      "          65       0.91      0.91      0.91        34\n",
      "          66       0.89      0.86      0.88        49\n",
      "          67       1.00      0.50      0.67         4\n",
      "          68       0.85      0.99      0.92        71\n",
      "          69       1.00      0.83      0.91         6\n",
      "          70       0.80      0.80      0.80        25\n",
      "          71       1.00      1.00      1.00        14\n",
      "          72       1.00      1.00      1.00         2\n",
      "          73       0.89      0.67      0.76        12\n",
      "          74       0.79      0.65      0.71        17\n",
      "          75       0.00      0.00      0.00         2\n",
      "          76       1.00      0.90      0.95        31\n",
      "\n",
      "    accuracy                           0.87      1711\n",
      "   macro avg       0.85      0.75      0.78      1711\n",
      "weighted avg       0.87      0.87      0.86      1711\n",
      "\n"
     ]
    }
   ],
   "source": [
    "#Melihat Classification report\n",
    "print(classification_report(y_test, logreg_pred))"
   ]
  },
  {
   "cell_type": "code",
   "execution_count": 12,
   "id": "29d5e96c",
   "metadata": {},
   "outputs": [
    {
     "name": "stdout",
     "output_type": "stream",
     "text": [
      "Train_Score =  0.9228611500701263 Valid_Score =  0.8448729184925504 Test_Score =  0.8714202220923437\n"
     ]
    }
   ],
   "source": [
    "#Melihat score data train, validation dan test\n",
    "print(\"Train_Score = \", logreg_awal.score(X_train_clean, y_train), \n",
    "      \"Valid_Score = \",logreg_awal.score(X_valid_clean, y_valid),\n",
    "      \"Test_Score = \", logreg_awal.score(X_test_clean, y_test))"
   ]
  },
  {
   "cell_type": "markdown",
   "id": "996c0816",
   "metadata": {},
   "source": [
    "## Tuning Parameter Logistic Regression"
   ]
  },
  {
   "cell_type": "code",
   "execution_count": 13,
   "id": "4660f164",
   "metadata": {},
   "outputs": [],
   "source": [
    "logreg = LogisticRegression(random_state = 123)"
   ]
  },
  {
   "cell_type": "code",
   "execution_count": 14,
   "id": "280f9f73",
   "metadata": {},
   "outputs": [],
   "source": [
    "# Membentuk parameter untuk eksperimentasi\n",
    "lr_param_grid = {\n",
    "    'C' : [0.01, 0.05, 0.1, 0.5, 1, 5],\n",
    "    'solver' : ['liblinear', 'newton-cg', 'lbfgs', 'sag', 'saga'],\n",
    "    'penalty' : ['l1', 'l2', 'elasticnet','none']\n",
    "}"
   ]
  },
  {
   "cell_type": "code",
   "execution_count": 15,
   "id": "00f8d485",
   "metadata": {},
   "outputs": [],
   "source": [
    "# Cross Validation menggunakan GridsearchCV\n",
    "lr_grid = GridSearchCV(LogisticRegression(random_state = 123), lr_param_grid, verbose=3, cv= 5, scoring='accuracy')"
   ]
  },
  {
   "cell_type": "code",
   "execution_count": 16,
   "id": "0e29eb37",
   "metadata": {},
   "outputs": [
    {
     "name": "stdout",
     "output_type": "stream",
     "text": [
      "Fitting 5 folds for each of 120 candidates, totalling 600 fits\n",
      "[CV 1/5] END C=0.01, penalty=l1, solver=liblinear;, score=0.054 total time=   0.2s\n",
      "[CV 2/5] END C=0.01, penalty=l1, solver=liblinear;, score=0.053 total time=   0.2s\n",
      "[CV 3/5] END C=0.01, penalty=l1, solver=liblinear;, score=0.054 total time=   0.2s\n",
      "[CV 4/5] END C=0.01, penalty=l1, solver=liblinear;, score=0.054 total time=   0.2s\n",
      "[CV 5/5] END C=0.01, penalty=l1, solver=liblinear;, score=0.054 total time=   0.2s\n",
      "[CV 1/5] END C=0.01, penalty=l1, solver=newton-cg;, score=nan total time=   0.0s\n",
      "[CV 2/5] END C=0.01, penalty=l1, solver=newton-cg;, score=nan total time=   0.0s\n",
      "[CV 3/5] END C=0.01, penalty=l1, solver=newton-cg;, score=nan total time=   0.0s\n",
      "[CV 4/5] END C=0.01, penalty=l1, solver=newton-cg;, score=nan total time=   0.0s\n",
      "[CV 5/5] END C=0.01, penalty=l1, solver=newton-cg;, score=nan total time=   0.0s\n",
      "[CV 1/5] END ....C=0.01, penalty=l1, solver=lbfgs;, score=nan total time=   0.0s\n",
      "[CV 2/5] END ....C=0.01, penalty=l1, solver=lbfgs;, score=nan total time=   0.0s\n",
      "[CV 3/5] END ....C=0.01, penalty=l1, solver=lbfgs;, score=nan total time=   0.0s\n",
      "[CV 4/5] END ....C=0.01, penalty=l1, solver=lbfgs;, score=nan total time=   0.0s\n",
      "[CV 5/5] END ....C=0.01, penalty=l1, solver=lbfgs;, score=nan total time=   0.0s\n",
      "[CV 1/5] END ......C=0.01, penalty=l1, solver=sag;, score=nan total time=   0.0s\n",
      "[CV 2/5] END ......C=0.01, penalty=l1, solver=sag;, score=nan total time=   0.0s\n",
      "[CV 3/5] END ......C=0.01, penalty=l1, solver=sag;, score=nan total time=   0.0s\n",
      "[CV 4/5] END ......C=0.01, penalty=l1, solver=sag;, score=nan total time=   0.0s\n",
      "[CV 5/5] END ......C=0.01, penalty=l1, solver=sag;, score=nan total time=   0.0s\n",
      "[CV 1/5] END ...C=0.01, penalty=l1, solver=saga;, score=0.054 total time=   0.2s\n",
      "[CV 2/5] END ...C=0.01, penalty=l1, solver=saga;, score=0.053 total time=   0.2s\n",
      "[CV 3/5] END ...C=0.01, penalty=l1, solver=saga;, score=0.054 total time=   0.3s\n",
      "[CV 4/5] END ...C=0.01, penalty=l1, solver=saga;, score=0.054 total time=   0.1s\n",
      "[CV 5/5] END ...C=0.01, penalty=l1, solver=saga;, score=0.054 total time=   0.1s\n",
      "[CV 1/5] END C=0.01, penalty=l2, solver=liblinear;, score=0.117 total time=   0.3s\n",
      "[CV 2/5] END C=0.01, penalty=l2, solver=liblinear;, score=0.125 total time=   0.3s\n",
      "[CV 3/5] END C=0.01, penalty=l2, solver=liblinear;, score=0.121 total time=   0.4s\n",
      "[CV 4/5] END C=0.01, penalty=l2, solver=liblinear;, score=0.127 total time=   0.4s\n",
      "[CV 5/5] END C=0.01, penalty=l2, solver=liblinear;, score=0.120 total time=   0.4s\n",
      "[CV 1/5] END C=0.01, penalty=l2, solver=newton-cg;, score=0.095 total time=   0.8s\n",
      "[CV 2/5] END C=0.01, penalty=l2, solver=newton-cg;, score=0.097 total time=   0.9s\n",
      "[CV 3/5] END C=0.01, penalty=l2, solver=newton-cg;, score=0.094 total time=   0.8s\n",
      "[CV 4/5] END C=0.01, penalty=l2, solver=newton-cg;, score=0.098 total time=   0.9s\n",
      "[CV 5/5] END C=0.01, penalty=l2, solver=newton-cg;, score=0.096 total time=   1.0s\n",
      "[CV 1/5] END ..C=0.01, penalty=l2, solver=lbfgs;, score=0.096 total time=   2.0s\n",
      "[CV 2/5] END ..C=0.01, penalty=l2, solver=lbfgs;, score=0.097 total time=   1.7s\n",
      "[CV 3/5] END ..C=0.01, penalty=l2, solver=lbfgs;, score=0.094 total time=   1.8s\n",
      "[CV 4/5] END ..C=0.01, penalty=l2, solver=lbfgs;, score=0.099 total time=   1.8s\n",
      "[CV 5/5] END ..C=0.01, penalty=l2, solver=lbfgs;, score=0.097 total time=   1.9s\n",
      "[CV 1/5] END ....C=0.01, penalty=l2, solver=sag;, score=0.095 total time=   0.4s\n",
      "[CV 2/5] END ....C=0.01, penalty=l2, solver=sag;, score=0.097 total time=   0.4s\n",
      "[CV 3/5] END ....C=0.01, penalty=l2, solver=sag;, score=0.093 total time=   0.3s\n",
      "[CV 4/5] END ....C=0.01, penalty=l2, solver=sag;, score=0.098 total time=   0.3s\n",
      "[CV 5/5] END ....C=0.01, penalty=l2, solver=sag;, score=0.096 total time=   0.3s\n",
      "[CV 1/5] END ...C=0.01, penalty=l2, solver=saga;, score=0.095 total time=   0.4s\n",
      "[CV 2/5] END ...C=0.01, penalty=l2, solver=saga;, score=0.097 total time=   0.5s\n",
      "[CV 3/5] END ...C=0.01, penalty=l2, solver=saga;, score=0.093 total time=   0.5s\n",
      "[CV 4/5] END ...C=0.01, penalty=l2, solver=saga;, score=0.098 total time=   0.5s\n",
      "[CV 5/5] END ...C=0.01, penalty=l2, solver=saga;, score=0.096 total time=   0.4s\n",
      "[CV 1/5] END C=0.01, penalty=elasticnet, solver=liblinear;, score=nan total time=   0.0s\n",
      "[CV 2/5] END C=0.01, penalty=elasticnet, solver=liblinear;, score=nan total time=   0.0s\n",
      "[CV 3/5] END C=0.01, penalty=elasticnet, solver=liblinear;, score=nan total time=   0.0s\n",
      "[CV 4/5] END C=0.01, penalty=elasticnet, solver=liblinear;, score=nan total time=   0.0s\n",
      "[CV 5/5] END C=0.01, penalty=elasticnet, solver=liblinear;, score=nan total time=   0.0s\n",
      "[CV 1/5] END C=0.01, penalty=elasticnet, solver=newton-cg;, score=nan total time=   0.0s\n",
      "[CV 2/5] END C=0.01, penalty=elasticnet, solver=newton-cg;, score=nan total time=   0.0s\n",
      "[CV 3/5] END C=0.01, penalty=elasticnet, solver=newton-cg;, score=nan total time=   0.0s\n",
      "[CV 4/5] END C=0.01, penalty=elasticnet, solver=newton-cg;, score=nan total time=   0.0s\n",
      "[CV 5/5] END C=0.01, penalty=elasticnet, solver=newton-cg;, score=nan total time=   0.0s\n",
      "[CV 1/5] END C=0.01, penalty=elasticnet, solver=lbfgs;, score=nan total time=   0.0s\n",
      "[CV 2/5] END C=0.01, penalty=elasticnet, solver=lbfgs;, score=nan total time=   0.0s\n",
      "[CV 3/5] END C=0.01, penalty=elasticnet, solver=lbfgs;, score=nan total time=   0.0s\n",
      "[CV 4/5] END C=0.01, penalty=elasticnet, solver=lbfgs;, score=nan total time=   0.0s\n",
      "[CV 5/5] END C=0.01, penalty=elasticnet, solver=lbfgs;, score=nan total time=   0.0s\n",
      "[CV 1/5] END C=0.01, penalty=elasticnet, solver=sag;, score=nan total time=   0.0s\n",
      "[CV 2/5] END C=0.01, penalty=elasticnet, solver=sag;, score=nan total time=   0.0s\n",
      "[CV 3/5] END C=0.01, penalty=elasticnet, solver=sag;, score=nan total time=   0.0s\n",
      "[CV 4/5] END C=0.01, penalty=elasticnet, solver=sag;, score=nan total time=   0.0s\n",
      "[CV 5/5] END C=0.01, penalty=elasticnet, solver=sag;, score=nan total time=   0.0s\n",
      "[CV 1/5] END C=0.01, penalty=elasticnet, solver=saga;, score=nan total time=   0.0s\n",
      "[CV 2/5] END C=0.01, penalty=elasticnet, solver=saga;, score=nan total time=   0.0s\n",
      "[CV 3/5] END C=0.01, penalty=elasticnet, solver=saga;, score=nan total time=   0.0s\n",
      "[CV 4/5] END C=0.01, penalty=elasticnet, solver=saga;, score=nan total time=   0.0s\n",
      "[CV 5/5] END C=0.01, penalty=elasticnet, solver=saga;, score=nan total time=   0.0s\n",
      "[CV 1/5] END C=0.01, penalty=none, solver=liblinear;, score=nan total time=   0.0s\n",
      "[CV 2/5] END C=0.01, penalty=none, solver=liblinear;, score=nan total time=   0.0s\n",
      "[CV 3/5] END C=0.01, penalty=none, solver=liblinear;, score=nan total time=   0.0s\n",
      "[CV 4/5] END C=0.01, penalty=none, solver=liblinear;, score=nan total time=   0.0s\n",
      "[CV 5/5] END C=0.01, penalty=none, solver=liblinear;, score=nan total time=   0.0s\n",
      "[CV 1/5] END C=0.01, penalty=none, solver=newton-cg;, score=nan total time=   0.0s\n",
      "[CV 2/5] END C=0.01, penalty=none, solver=newton-cg;, score=nan total time=   0.0s\n",
      "[CV 3/5] END C=0.01, penalty=none, solver=newton-cg;, score=nan total time=   0.0s\n",
      "[CV 4/5] END C=0.01, penalty=none, solver=newton-cg;, score=nan total time=   0.0s\n",
      "[CV 5/5] END C=0.01, penalty=none, solver=newton-cg;, score=nan total time=   0.0s\n",
      "[CV 1/5] END ..C=0.01, penalty=none, solver=lbfgs;, score=nan total time=   0.0s\n",
      "[CV 2/5] END ..C=0.01, penalty=none, solver=lbfgs;, score=nan total time=   0.0s\n",
      "[CV 3/5] END ..C=0.01, penalty=none, solver=lbfgs;, score=nan total time=   0.0s\n",
      "[CV 4/5] END ..C=0.01, penalty=none, solver=lbfgs;, score=nan total time=   0.0s\n",
      "[CV 5/5] END ..C=0.01, penalty=none, solver=lbfgs;, score=nan total time=   0.0s\n",
      "[CV 1/5] END ....C=0.01, penalty=none, solver=sag;, score=nan total time=   0.0s\n",
      "[CV 2/5] END ....C=0.01, penalty=none, solver=sag;, score=nan total time=   0.0s\n",
      "[CV 3/5] END ....C=0.01, penalty=none, solver=sag;, score=nan total time=   0.0s\n",
      "[CV 4/5] END ....C=0.01, penalty=none, solver=sag;, score=nan total time=   0.0s\n",
      "[CV 5/5] END ....C=0.01, penalty=none, solver=sag;, score=nan total time=   0.0s\n",
      "[CV 1/5] END ...C=0.01, penalty=none, solver=saga;, score=nan total time=   0.0s\n",
      "[CV 2/5] END ...C=0.01, penalty=none, solver=saga;, score=nan total time=   0.0s\n",
      "[CV 3/5] END ...C=0.01, penalty=none, solver=saga;, score=nan total time=   0.0s\n",
      "[CV 4/5] END ...C=0.01, penalty=none, solver=saga;, score=nan total time=   0.0s\n",
      "[CV 5/5] END ...C=0.01, penalty=none, solver=saga;, score=nan total time=   0.0s\n",
      "[CV 1/5] END C=0.05, penalty=l1, solver=liblinear;, score=0.235 total time=   0.3s\n",
      "[CV 2/5] END C=0.05, penalty=l1, solver=liblinear;, score=0.238 total time=   0.3s\n",
      "[CV 3/5] END C=0.05, penalty=l1, solver=liblinear;, score=0.246 total time=   0.3s\n",
      "[CV 4/5] END C=0.05, penalty=l1, solver=liblinear;, score=0.243 total time=   0.3s\n",
      "[CV 5/5] END C=0.05, penalty=l1, solver=liblinear;, score=0.252 total time=   0.3s\n",
      "[CV 1/5] END C=0.05, penalty=l1, solver=newton-cg;, score=nan total time=   0.0s\n",
      "[CV 2/5] END C=0.05, penalty=l1, solver=newton-cg;, score=nan total time=   0.0s\n",
      "[CV 3/5] END C=0.05, penalty=l1, solver=newton-cg;, score=nan total time=   0.0s\n",
      "[CV 4/5] END C=0.05, penalty=l1, solver=newton-cg;, score=nan total time=   0.0s\n",
      "[CV 5/5] END C=0.05, penalty=l1, solver=newton-cg;, score=nan total time=   0.0s\n",
      "[CV 1/5] END ....C=0.05, penalty=l1, solver=lbfgs;, score=nan total time=   0.0s\n",
      "[CV 2/5] END ....C=0.05, penalty=l1, solver=lbfgs;, score=nan total time=   0.0s\n",
      "[CV 3/5] END ....C=0.05, penalty=l1, solver=lbfgs;, score=nan total time=   0.0s\n",
      "[CV 4/5] END ....C=0.05, penalty=l1, solver=lbfgs;, score=nan total time=   0.0s\n",
      "[CV 5/5] END ....C=0.05, penalty=l1, solver=lbfgs;, score=nan total time=   0.0s\n",
      "[CV 1/5] END ......C=0.05, penalty=l1, solver=sag;, score=nan total time=   0.0s\n",
      "[CV 2/5] END ......C=0.05, penalty=l1, solver=sag;, score=nan total time=   0.0s\n",
      "[CV 3/5] END ......C=0.05, penalty=l1, solver=sag;, score=nan total time=   0.0s\n",
      "[CV 4/5] END ......C=0.05, penalty=l1, solver=sag;, score=nan total time=   0.0s\n",
      "[CV 5/5] END ......C=0.05, penalty=l1, solver=sag;, score=nan total time=   0.0s\n",
      "[CV 1/5] END ...C=0.05, penalty=l1, solver=saga;, score=0.235 total time=   1.3s\n",
      "[CV 2/5] END ...C=0.05, penalty=l1, solver=saga;, score=0.237 total time=   1.0s\n",
      "[CV 3/5] END ...C=0.05, penalty=l1, solver=saga;, score=0.246 total time=   0.7s\n",
      "[CV 4/5] END ...C=0.05, penalty=l1, solver=saga;, score=0.242 total time=   1.1s\n",
      "[CV 5/5] END ...C=0.05, penalty=l1, solver=saga;, score=0.252 total time=   0.7s\n",
      "[CV 1/5] END C=0.05, penalty=l2, solver=liblinear;, score=0.317 total time=   0.4s\n",
      "[CV 2/5] END C=0.05, penalty=l2, solver=liblinear;, score=0.317 total time=   0.5s\n",
      "[CV 3/5] END C=0.05, penalty=l2, solver=liblinear;, score=0.321 total time=   0.5s\n",
      "[CV 4/5] END C=0.05, penalty=l2, solver=liblinear;, score=0.323 total time=   0.5s\n",
      "[CV 5/5] END C=0.05, penalty=l2, solver=liblinear;, score=0.311 total time=   0.5s\n",
      "[CV 1/5] END C=0.05, penalty=l2, solver=newton-cg;, score=0.270 total time=   1.2s\n",
      "[CV 2/5] END C=0.05, penalty=l2, solver=newton-cg;, score=0.262 total time=   1.5s\n",
      "[CV 3/5] END C=0.05, penalty=l2, solver=newton-cg;, score=0.270 total time=   1.3s\n",
      "[CV 4/5] END C=0.05, penalty=l2, solver=newton-cg;, score=0.270 total time=   1.2s\n",
      "[CV 5/5] END C=0.05, penalty=l2, solver=newton-cg;, score=0.263 total time=   0.9s\n",
      "[CV 1/5] END ..C=0.05, penalty=l2, solver=lbfgs;, score=0.270 total time=   2.1s\n",
      "[CV 2/5] END ..C=0.05, penalty=l2, solver=lbfgs;, score=0.262 total time=   2.1s\n",
      "[CV 3/5] END ..C=0.05, penalty=l2, solver=lbfgs;, score=0.270 total time=   2.3s\n",
      "[CV 4/5] END ..C=0.05, penalty=l2, solver=lbfgs;, score=0.270 total time=   1.8s\n",
      "[CV 5/5] END ..C=0.05, penalty=l2, solver=lbfgs;, score=0.264 total time=   2.1s\n",
      "[CV 1/5] END ....C=0.05, penalty=l2, solver=sag;, score=0.271 total time=   0.3s\n",
      "[CV 2/5] END ....C=0.05, penalty=l2, solver=sag;, score=0.263 total time=   0.3s\n",
      "[CV 3/5] END ....C=0.05, penalty=l2, solver=sag;, score=0.270 total time=   0.3s\n",
      "[CV 4/5] END ....C=0.05, penalty=l2, solver=sag;, score=0.270 total time=   0.3s\n",
      "[CV 5/5] END ....C=0.05, penalty=l2, solver=sag;, score=0.263 total time=   0.3s\n",
      "[CV 1/5] END ...C=0.05, penalty=l2, solver=saga;, score=0.270 total time=   0.4s\n",
      "[CV 2/5] END ...C=0.05, penalty=l2, solver=saga;, score=0.262 total time=   0.4s\n",
      "[CV 3/5] END ...C=0.05, penalty=l2, solver=saga;, score=0.270 total time=   0.5s\n",
      "[CV 4/5] END ...C=0.05, penalty=l2, solver=saga;, score=0.270 total time=   0.4s\n",
      "[CV 5/5] END ...C=0.05, penalty=l2, solver=saga;, score=0.262 total time=   0.4s\n",
      "[CV 1/5] END C=0.05, penalty=elasticnet, solver=liblinear;, score=nan total time=   0.0s\n",
      "[CV 2/5] END C=0.05, penalty=elasticnet, solver=liblinear;, score=nan total time=   0.0s\n",
      "[CV 3/5] END C=0.05, penalty=elasticnet, solver=liblinear;, score=nan total time=   0.0s\n",
      "[CV 4/5] END C=0.05, penalty=elasticnet, solver=liblinear;, score=nan total time=   0.0s\n",
      "[CV 5/5] END C=0.05, penalty=elasticnet, solver=liblinear;, score=nan total time=   0.0s\n",
      "[CV 1/5] END C=0.05, penalty=elasticnet, solver=newton-cg;, score=nan total time=   0.0s\n",
      "[CV 2/5] END C=0.05, penalty=elasticnet, solver=newton-cg;, score=nan total time=   0.0s\n",
      "[CV 3/5] END C=0.05, penalty=elasticnet, solver=newton-cg;, score=nan total time=   0.0s\n",
      "[CV 4/5] END C=0.05, penalty=elasticnet, solver=newton-cg;, score=nan total time=   0.0s\n",
      "[CV 5/5] END C=0.05, penalty=elasticnet, solver=newton-cg;, score=nan total time=   0.0s\n",
      "[CV 1/5] END C=0.05, penalty=elasticnet, solver=lbfgs;, score=nan total time=   0.0s\n",
      "[CV 2/5] END C=0.05, penalty=elasticnet, solver=lbfgs;, score=nan total time=   0.0s\n",
      "[CV 3/5] END C=0.05, penalty=elasticnet, solver=lbfgs;, score=nan total time=   0.0s\n",
      "[CV 4/5] END C=0.05, penalty=elasticnet, solver=lbfgs;, score=nan total time=   0.0s\n",
      "[CV 5/5] END C=0.05, penalty=elasticnet, solver=lbfgs;, score=nan total time=   0.0s\n",
      "[CV 1/5] END C=0.05, penalty=elasticnet, solver=sag;, score=nan total time=   0.0s\n",
      "[CV 2/5] END C=0.05, penalty=elasticnet, solver=sag;, score=nan total time=   0.0s\n",
      "[CV 3/5] END C=0.05, penalty=elasticnet, solver=sag;, score=nan total time=   0.0s\n",
      "[CV 4/5] END C=0.05, penalty=elasticnet, solver=sag;, score=nan total time=   0.0s\n",
      "[CV 5/5] END C=0.05, penalty=elasticnet, solver=sag;, score=nan total time=   0.0s\n",
      "[CV 1/5] END C=0.05, penalty=elasticnet, solver=saga;, score=nan total time=   0.0s\n",
      "[CV 2/5] END C=0.05, penalty=elasticnet, solver=saga;, score=nan total time=   0.0s\n",
      "[CV 3/5] END C=0.05, penalty=elasticnet, solver=saga;, score=nan total time=   0.0s\n",
      "[CV 4/5] END C=0.05, penalty=elasticnet, solver=saga;, score=nan total time=   0.0s\n",
      "[CV 5/5] END C=0.05, penalty=elasticnet, solver=saga;, score=nan total time=   0.0s\n",
      "[CV 1/5] END C=0.05, penalty=none, solver=liblinear;, score=nan total time=   0.0s\n",
      "[CV 2/5] END C=0.05, penalty=none, solver=liblinear;, score=nan total time=   0.0s\n",
      "[CV 3/5] END C=0.05, penalty=none, solver=liblinear;, score=nan total time=   0.0s\n",
      "[CV 4/5] END C=0.05, penalty=none, solver=liblinear;, score=nan total time=   0.0s\n",
      "[CV 5/5] END C=0.05, penalty=none, solver=liblinear;, score=nan total time=   0.0s\n",
      "[CV 1/5] END C=0.05, penalty=none, solver=newton-cg;, score=nan total time=   0.0s\n",
      "[CV 2/5] END C=0.05, penalty=none, solver=newton-cg;, score=nan total time=   0.0s\n",
      "[CV 3/5] END C=0.05, penalty=none, solver=newton-cg;, score=nan total time=   0.0s\n",
      "[CV 4/5] END C=0.05, penalty=none, solver=newton-cg;, score=nan total time=   0.0s\n",
      "[CV 5/5] END C=0.05, penalty=none, solver=newton-cg;, score=nan total time=   0.0s\n",
      "[CV 1/5] END ..C=0.05, penalty=none, solver=lbfgs;, score=nan total time=   0.0s\n",
      "[CV 2/5] END ..C=0.05, penalty=none, solver=lbfgs;, score=nan total time=   0.0s\n",
      "[CV 3/5] END ..C=0.05, penalty=none, solver=lbfgs;, score=nan total time=   0.0s\n",
      "[CV 4/5] END ..C=0.05, penalty=none, solver=lbfgs;, score=nan total time=   0.0s\n",
      "[CV 5/5] END ..C=0.05, penalty=none, solver=lbfgs;, score=nan total time=   0.0s\n",
      "[CV 1/5] END ....C=0.05, penalty=none, solver=sag;, score=nan total time=   0.0s\n",
      "[CV 2/5] END ....C=0.05, penalty=none, solver=sag;, score=nan total time=   0.0s\n",
      "[CV 3/5] END ....C=0.05, penalty=none, solver=sag;, score=nan total time=   0.0s\n",
      "[CV 4/5] END ....C=0.05, penalty=none, solver=sag;, score=nan total time=   0.0s\n",
      "[CV 5/5] END ....C=0.05, penalty=none, solver=sag;, score=nan total time=   0.0s\n",
      "[CV 1/5] END ...C=0.05, penalty=none, solver=saga;, score=nan total time=   0.0s\n",
      "[CV 2/5] END ...C=0.05, penalty=none, solver=saga;, score=nan total time=   0.0s\n",
      "[CV 3/5] END ...C=0.05, penalty=none, solver=saga;, score=nan total time=   0.0s\n",
      "[CV 4/5] END ...C=0.05, penalty=none, solver=saga;, score=nan total time=   0.0s\n",
      "[CV 5/5] END ...C=0.05, penalty=none, solver=saga;, score=nan total time=   0.0s\n",
      "[CV 1/5] END C=0.1, penalty=l1, solver=liblinear;, score=0.403 total time=   0.3s\n",
      "[CV 2/5] END C=0.1, penalty=l1, solver=liblinear;, score=0.400 total time=   0.4s\n",
      "[CV 3/5] END C=0.1, penalty=l1, solver=liblinear;, score=0.409 total time=   0.3s\n",
      "[CV 4/5] END C=0.1, penalty=l1, solver=liblinear;, score=0.405 total time=   0.3s\n",
      "[CV 5/5] END C=0.1, penalty=l1, solver=liblinear;, score=0.422 total time=   0.4s\n",
      "[CV 1/5] END .C=0.1, penalty=l1, solver=newton-cg;, score=nan total time=   0.0s\n",
      "[CV 2/5] END .C=0.1, penalty=l1, solver=newton-cg;, score=nan total time=   0.0s\n",
      "[CV 3/5] END .C=0.1, penalty=l1, solver=newton-cg;, score=nan total time=   0.0s\n",
      "[CV 4/5] END .C=0.1, penalty=l1, solver=newton-cg;, score=nan total time=   0.0s\n",
      "[CV 5/5] END .C=0.1, penalty=l1, solver=newton-cg;, score=nan total time=   0.0s\n",
      "[CV 1/5] END .....C=0.1, penalty=l1, solver=lbfgs;, score=nan total time=   0.0s\n",
      "[CV 2/5] END .....C=0.1, penalty=l1, solver=lbfgs;, score=nan total time=   0.0s\n",
      "[CV 3/5] END .....C=0.1, penalty=l1, solver=lbfgs;, score=nan total time=   0.0s\n",
      "[CV 4/5] END .....C=0.1, penalty=l1, solver=lbfgs;, score=nan total time=   0.0s\n",
      "[CV 5/5] END .....C=0.1, penalty=l1, solver=lbfgs;, score=nan total time=   0.0s\n",
      "[CV 1/5] END .......C=0.1, penalty=l1, solver=sag;, score=nan total time=   0.0s\n",
      "[CV 2/5] END .......C=0.1, penalty=l1, solver=sag;, score=nan total time=   0.0s\n",
      "[CV 3/5] END .......C=0.1, penalty=l1, solver=sag;, score=nan total time=   0.0s\n",
      "[CV 4/5] END .......C=0.1, penalty=l1, solver=sag;, score=nan total time=   0.0s\n",
      "[CV 5/5] END .......C=0.1, penalty=l1, solver=sag;, score=nan total time=   0.0s\n",
      "[CV 1/5] END ....C=0.1, penalty=l1, solver=saga;, score=0.400 total time=   2.6s\n",
      "[CV 2/5] END ....C=0.1, penalty=l1, solver=saga;, score=0.396 total time=   1.8s\n",
      "[CV 3/5] END ....C=0.1, penalty=l1, solver=saga;, score=0.407 total time=   1.5s\n",
      "[CV 4/5] END ....C=0.1, penalty=l1, solver=saga;, score=0.404 total time=   1.2s\n",
      "[CV 5/5] END ....C=0.1, penalty=l1, solver=saga;, score=0.420 total time=   1.1s\n",
      "[CV 1/5] END C=0.1, penalty=l2, solver=liblinear;, score=0.475 total time=   0.5s\n",
      "[CV 2/5] END C=0.1, penalty=l2, solver=liblinear;, score=0.482 total time=   0.5s\n",
      "[CV 3/5] END C=0.1, penalty=l2, solver=liblinear;, score=0.482 total time=   0.5s\n",
      "[CV 4/5] END C=0.1, penalty=l2, solver=liblinear;, score=0.477 total time=   0.7s\n",
      "[CV 5/5] END C=0.1, penalty=l2, solver=liblinear;, score=0.474 total time=   0.6s\n",
      "[CV 1/5] END C=0.1, penalty=l2, solver=newton-cg;, score=0.450 total time=   1.3s\n",
      "[CV 2/5] END C=0.1, penalty=l2, solver=newton-cg;, score=0.450 total time=   1.3s\n",
      "[CV 3/5] END C=0.1, penalty=l2, solver=newton-cg;, score=0.455 total time=   1.5s\n",
      "[CV 4/5] END C=0.1, penalty=l2, solver=newton-cg;, score=0.447 total time=   1.7s\n",
      "[CV 5/5] END C=0.1, penalty=l2, solver=newton-cg;, score=0.443 total time=   1.6s\n",
      "[CV 1/5] END ...C=0.1, penalty=l2, solver=lbfgs;, score=0.450 total time=   2.6s\n",
      "[CV 2/5] END ...C=0.1, penalty=l2, solver=lbfgs;, score=0.449 total time=   2.4s\n",
      "[CV 3/5] END ...C=0.1, penalty=l2, solver=lbfgs;, score=0.455 total time=   2.6s\n",
      "[CV 4/5] END ...C=0.1, penalty=l2, solver=lbfgs;, score=0.447 total time=   2.2s\n",
      "[CV 5/5] END ...C=0.1, penalty=l2, solver=lbfgs;, score=0.442 total time=   2.3s\n",
      "[CV 1/5] END .....C=0.1, penalty=l2, solver=sag;, score=0.450 total time=   0.3s\n",
      "[CV 2/5] END .....C=0.1, penalty=l2, solver=sag;, score=0.450 total time=   0.3s\n",
      "[CV 3/5] END .....C=0.1, penalty=l2, solver=sag;, score=0.455 total time=   0.3s\n",
      "[CV 4/5] END .....C=0.1, penalty=l2, solver=sag;, score=0.447 total time=   0.3s\n",
      "[CV 5/5] END .....C=0.1, penalty=l2, solver=sag;, score=0.443 total time=   0.3s\n",
      "[CV 1/5] END ....C=0.1, penalty=l2, solver=saga;, score=0.450 total time=   0.4s\n",
      "[CV 2/5] END ....C=0.1, penalty=l2, solver=saga;, score=0.450 total time=   0.4s\n",
      "[CV 3/5] END ....C=0.1, penalty=l2, solver=saga;, score=0.455 total time=   0.6s\n",
      "[CV 4/5] END ....C=0.1, penalty=l2, solver=saga;, score=0.447 total time=   0.8s\n",
      "[CV 5/5] END ....C=0.1, penalty=l2, solver=saga;, score=0.443 total time=   1.0s\n",
      "[CV 1/5] END C=0.1, penalty=elasticnet, solver=liblinear;, score=nan total time=   0.0s\n",
      "[CV 2/5] END C=0.1, penalty=elasticnet, solver=liblinear;, score=nan total time=   0.0s\n",
      "[CV 3/5] END C=0.1, penalty=elasticnet, solver=liblinear;, score=nan total time=   0.0s\n",
      "[CV 4/5] END C=0.1, penalty=elasticnet, solver=liblinear;, score=nan total time=   0.0s\n",
      "[CV 5/5] END C=0.1, penalty=elasticnet, solver=liblinear;, score=nan total time=   0.0s\n",
      "[CV 1/5] END C=0.1, penalty=elasticnet, solver=newton-cg;, score=nan total time=   0.0s\n",
      "[CV 2/5] END C=0.1, penalty=elasticnet, solver=newton-cg;, score=nan total time=   0.0s\n",
      "[CV 3/5] END C=0.1, penalty=elasticnet, solver=newton-cg;, score=nan total time=   0.0s\n",
      "[CV 4/5] END C=0.1, penalty=elasticnet, solver=newton-cg;, score=nan total time=   0.0s\n",
      "[CV 5/5] END C=0.1, penalty=elasticnet, solver=newton-cg;, score=nan total time=   0.0s\n",
      "[CV 1/5] END C=0.1, penalty=elasticnet, solver=lbfgs;, score=nan total time=   0.0s\n",
      "[CV 2/5] END C=0.1, penalty=elasticnet, solver=lbfgs;, score=nan total time=   0.0s\n",
      "[CV 3/5] END C=0.1, penalty=elasticnet, solver=lbfgs;, score=nan total time=   0.0s\n",
      "[CV 4/5] END C=0.1, penalty=elasticnet, solver=lbfgs;, score=nan total time=   0.0s\n",
      "[CV 5/5] END C=0.1, penalty=elasticnet, solver=lbfgs;, score=nan total time=   0.0s\n",
      "[CV 1/5] END C=0.1, penalty=elasticnet, solver=sag;, score=nan total time=   0.0s\n",
      "[CV 2/5] END C=0.1, penalty=elasticnet, solver=sag;, score=nan total time=   0.0s\n",
      "[CV 3/5] END C=0.1, penalty=elasticnet, solver=sag;, score=nan total time=   0.0s\n",
      "[CV 4/5] END C=0.1, penalty=elasticnet, solver=sag;, score=nan total time=   0.0s\n",
      "[CV 5/5] END C=0.1, penalty=elasticnet, solver=sag;, score=nan total time=   0.0s\n",
      "[CV 1/5] END C=0.1, penalty=elasticnet, solver=saga;, score=nan total time=   0.0s\n",
      "[CV 2/5] END C=0.1, penalty=elasticnet, solver=saga;, score=nan total time=   0.0s\n",
      "[CV 3/5] END C=0.1, penalty=elasticnet, solver=saga;, score=nan total time=   0.0s\n",
      "[CV 4/5] END C=0.1, penalty=elasticnet, solver=saga;, score=nan total time=   0.0s\n",
      "[CV 5/5] END C=0.1, penalty=elasticnet, solver=saga;, score=nan total time=   0.0s\n",
      "[CV 1/5] END C=0.1, penalty=none, solver=liblinear;, score=nan total time=   0.0s\n",
      "[CV 2/5] END C=0.1, penalty=none, solver=liblinear;, score=nan total time=   0.0s\n",
      "[CV 3/5] END C=0.1, penalty=none, solver=liblinear;, score=nan total time=   0.0s\n",
      "[CV 4/5] END C=0.1, penalty=none, solver=liblinear;, score=nan total time=   0.0s\n",
      "[CV 5/5] END C=0.1, penalty=none, solver=liblinear;, score=nan total time=   0.0s\n",
      "[CV 1/5] END C=0.1, penalty=none, solver=newton-cg;, score=nan total time=   0.0s\n",
      "[CV 2/5] END C=0.1, penalty=none, solver=newton-cg;, score=nan total time=   0.0s\n",
      "[CV 3/5] END C=0.1, penalty=none, solver=newton-cg;, score=nan total time=   0.0s\n",
      "[CV 4/5] END C=0.1, penalty=none, solver=newton-cg;, score=nan total time=   0.0s\n",
      "[CV 5/5] END C=0.1, penalty=none, solver=newton-cg;, score=nan total time=   0.0s\n",
      "[CV 1/5] END ...C=0.1, penalty=none, solver=lbfgs;, score=nan total time=   0.0s\n",
      "[CV 2/5] END ...C=0.1, penalty=none, solver=lbfgs;, score=nan total time=   0.0s\n",
      "[CV 3/5] END ...C=0.1, penalty=none, solver=lbfgs;, score=nan total time=   0.0s\n",
      "[CV 4/5] END ...C=0.1, penalty=none, solver=lbfgs;, score=nan total time=   0.0s\n",
      "[CV 5/5] END ...C=0.1, penalty=none, solver=lbfgs;, score=nan total time=   0.0s\n",
      "[CV 1/5] END .....C=0.1, penalty=none, solver=sag;, score=nan total time=   0.0s\n",
      "[CV 2/5] END .....C=0.1, penalty=none, solver=sag;, score=nan total time=   0.0s\n",
      "[CV 3/5] END .....C=0.1, penalty=none, solver=sag;, score=nan total time=   0.0s\n",
      "[CV 4/5] END .....C=0.1, penalty=none, solver=sag;, score=nan total time=   0.0s\n",
      "[CV 5/5] END .....C=0.1, penalty=none, solver=sag;, score=nan total time=   0.0s\n",
      "[CV 1/5] END ....C=0.1, penalty=none, solver=saga;, score=nan total time=   0.0s\n",
      "[CV 2/5] END ....C=0.1, penalty=none, solver=saga;, score=nan total time=   0.0s\n",
      "[CV 3/5] END ....C=0.1, penalty=none, solver=saga;, score=nan total time=   0.0s\n",
      "[CV 4/5] END ....C=0.1, penalty=none, solver=saga;, score=nan total time=   0.0s\n",
      "[CV 5/5] END ....C=0.1, penalty=none, solver=saga;, score=nan total time=   0.0s\n",
      "[CV 1/5] END C=0.5, penalty=l1, solver=liblinear;, score=0.766 total time=   0.8s\n",
      "[CV 2/5] END C=0.5, penalty=l1, solver=liblinear;, score=0.780 total time=   0.8s\n",
      "[CV 3/5] END C=0.5, penalty=l1, solver=liblinear;, score=0.755 total time=   0.6s\n",
      "[CV 4/5] END C=0.5, penalty=l1, solver=liblinear;, score=0.760 total time=   0.6s\n",
      "[CV 5/5] END C=0.5, penalty=l1, solver=liblinear;, score=0.758 total time=   0.7s\n",
      "[CV 1/5] END .C=0.5, penalty=l1, solver=newton-cg;, score=nan total time=   0.0s\n",
      "[CV 2/5] END .C=0.5, penalty=l1, solver=newton-cg;, score=nan total time=   0.0s\n",
      "[CV 3/5] END .C=0.5, penalty=l1, solver=newton-cg;, score=nan total time=   0.0s\n",
      "[CV 4/5] END .C=0.5, penalty=l1, solver=newton-cg;, score=nan total time=   0.0s\n",
      "[CV 5/5] END .C=0.5, penalty=l1, solver=newton-cg;, score=nan total time=   0.0s\n",
      "[CV 1/5] END .....C=0.5, penalty=l1, solver=lbfgs;, score=nan total time=   0.0s\n",
      "[CV 2/5] END .....C=0.5, penalty=l1, solver=lbfgs;, score=nan total time=   0.0s\n",
      "[CV 3/5] END .....C=0.5, penalty=l1, solver=lbfgs;, score=nan total time=   0.0s\n",
      "[CV 4/5] END .....C=0.5, penalty=l1, solver=lbfgs;, score=nan total time=   0.0s\n",
      "[CV 5/5] END .....C=0.5, penalty=l1, solver=lbfgs;, score=nan total time=   0.0s\n",
      "[CV 1/5] END .......C=0.5, penalty=l1, solver=sag;, score=nan total time=   0.0s\n",
      "[CV 2/5] END .......C=0.5, penalty=l1, solver=sag;, score=nan total time=   0.0s\n",
      "[CV 3/5] END .......C=0.5, penalty=l1, solver=sag;, score=nan total time=   0.0s\n",
      "[CV 4/5] END .......C=0.5, penalty=l1, solver=sag;, score=nan total time=   0.0s\n",
      "[CV 5/5] END .......C=0.5, penalty=l1, solver=sag;, score=nan total time=   0.0s\n",
      "[CV 1/5] END ....C=0.5, penalty=l1, solver=saga;, score=0.755 total time=   5.9s\n",
      "[CV 2/5] END ....C=0.5, penalty=l1, solver=saga;, score=0.762 total time=   5.6s\n",
      "[CV 3/5] END ....C=0.5, penalty=l1, solver=saga;, score=0.746 total time=   5.7s\n",
      "[CV 4/5] END ....C=0.5, penalty=l1, solver=saga;, score=0.748 total time=   5.5s\n",
      "[CV 5/5] END ....C=0.5, penalty=l1, solver=saga;, score=0.745 total time=   6.1s\n",
      "[CV 1/5] END C=0.5, penalty=l2, solver=liblinear;, score=0.760 total time=   0.7s\n",
      "[CV 2/5] END C=0.5, penalty=l2, solver=liblinear;, score=0.763 total time=   0.7s\n",
      "[CV 3/5] END C=0.5, penalty=l2, solver=liblinear;, score=0.765 total time=   0.7s\n",
      "[CV 4/5] END C=0.5, penalty=l2, solver=liblinear;, score=0.767 total time=   0.7s\n",
      "[CV 5/5] END C=0.5, penalty=l2, solver=liblinear;, score=0.762 total time=   0.7s\n",
      "[CV 1/5] END C=0.5, penalty=l2, solver=newton-cg;, score=0.759 total time=   2.6s\n",
      "[CV 2/5] END C=0.5, penalty=l2, solver=newton-cg;, score=0.761 total time=   2.3s\n",
      "[CV 3/5] END C=0.5, penalty=l2, solver=newton-cg;, score=0.761 total time=   2.4s\n",
      "[CV 4/5] END C=0.5, penalty=l2, solver=newton-cg;, score=0.764 total time=   2.6s\n",
      "[CV 5/5] END C=0.5, penalty=l2, solver=newton-cg;, score=0.759 total time=   2.2s\n",
      "[CV 1/5] END ...C=0.5, penalty=l2, solver=lbfgs;, score=0.759 total time=   4.0s\n",
      "[CV 2/5] END ...C=0.5, penalty=l2, solver=lbfgs;, score=0.761 total time=   3.9s\n",
      "[CV 3/5] END ...C=0.5, penalty=l2, solver=lbfgs;, score=0.761 total time=   4.3s\n",
      "[CV 4/5] END ...C=0.5, penalty=l2, solver=lbfgs;, score=0.764 total time=   4.2s\n",
      "[CV 5/5] END ...C=0.5, penalty=l2, solver=lbfgs;, score=0.760 total time=   4.1s\n",
      "[CV 1/5] END .....C=0.5, penalty=l2, solver=sag;, score=0.760 total time=   0.4s\n",
      "[CV 2/5] END .....C=0.5, penalty=l2, solver=sag;, score=0.761 total time=   0.5s\n",
      "[CV 3/5] END .....C=0.5, penalty=l2, solver=sag;, score=0.761 total time=   0.4s\n",
      "[CV 4/5] END .....C=0.5, penalty=l2, solver=sag;, score=0.764 total time=   0.4s\n",
      "[CV 5/5] END .....C=0.5, penalty=l2, solver=sag;, score=0.759 total time=   0.4s\n",
      "[CV 1/5] END ....C=0.5, penalty=l2, solver=saga;, score=0.760 total time=   0.6s\n",
      "[CV 2/5] END ....C=0.5, penalty=l2, solver=saga;, score=0.762 total time=   0.5s\n",
      "[CV 3/5] END ....C=0.5, penalty=l2, solver=saga;, score=0.763 total time=   0.6s\n",
      "[CV 4/5] END ....C=0.5, penalty=l2, solver=saga;, score=0.766 total time=   0.5s\n",
      "[CV 5/5] END ....C=0.5, penalty=l2, solver=saga;, score=0.762 total time=   0.6s\n",
      "[CV 1/5] END C=0.5, penalty=elasticnet, solver=liblinear;, score=nan total time=   0.0s\n",
      "[CV 2/5] END C=0.5, penalty=elasticnet, solver=liblinear;, score=nan total time=   0.0s\n",
      "[CV 3/5] END C=0.5, penalty=elasticnet, solver=liblinear;, score=nan total time=   0.0s\n",
      "[CV 4/5] END C=0.5, penalty=elasticnet, solver=liblinear;, score=nan total time=   0.0s\n",
      "[CV 5/5] END C=0.5, penalty=elasticnet, solver=liblinear;, score=nan total time=   0.0s\n",
      "[CV 1/5] END C=0.5, penalty=elasticnet, solver=newton-cg;, score=nan total time=   0.0s\n",
      "[CV 2/5] END C=0.5, penalty=elasticnet, solver=newton-cg;, score=nan total time=   0.0s\n",
      "[CV 3/5] END C=0.5, penalty=elasticnet, solver=newton-cg;, score=nan total time=   0.0s\n",
      "[CV 4/5] END C=0.5, penalty=elasticnet, solver=newton-cg;, score=nan total time=   0.0s\n",
      "[CV 5/5] END C=0.5, penalty=elasticnet, solver=newton-cg;, score=nan total time=   0.0s\n",
      "[CV 1/5] END C=0.5, penalty=elasticnet, solver=lbfgs;, score=nan total time=   0.0s\n",
      "[CV 2/5] END C=0.5, penalty=elasticnet, solver=lbfgs;, score=nan total time=   0.0s\n",
      "[CV 3/5] END C=0.5, penalty=elasticnet, solver=lbfgs;, score=nan total time=   0.0s\n",
      "[CV 4/5] END C=0.5, penalty=elasticnet, solver=lbfgs;, score=nan total time=   0.0s\n",
      "[CV 5/5] END C=0.5, penalty=elasticnet, solver=lbfgs;, score=nan total time=   0.0s\n",
      "[CV 1/5] END C=0.5, penalty=elasticnet, solver=sag;, score=nan total time=   0.0s\n",
      "[CV 2/5] END C=0.5, penalty=elasticnet, solver=sag;, score=nan total time=   0.0s\n",
      "[CV 3/5] END C=0.5, penalty=elasticnet, solver=sag;, score=nan total time=   0.0s\n",
      "[CV 4/5] END C=0.5, penalty=elasticnet, solver=sag;, score=nan total time=   0.0s\n",
      "[CV 5/5] END C=0.5, penalty=elasticnet, solver=sag;, score=nan total time=   0.0s\n",
      "[CV 1/5] END C=0.5, penalty=elasticnet, solver=saga;, score=nan total time=   0.0s\n",
      "[CV 2/5] END C=0.5, penalty=elasticnet, solver=saga;, score=nan total time=   0.0s\n",
      "[CV 3/5] END C=0.5, penalty=elasticnet, solver=saga;, score=nan total time=   0.0s\n",
      "[CV 4/5] END C=0.5, penalty=elasticnet, solver=saga;, score=nan total time=   0.0s\n",
      "[CV 5/5] END C=0.5, penalty=elasticnet, solver=saga;, score=nan total time=   0.0s\n",
      "[CV 1/5] END C=0.5, penalty=none, solver=liblinear;, score=nan total time=   0.0s\n",
      "[CV 2/5] END C=0.5, penalty=none, solver=liblinear;, score=nan total time=   0.0s\n",
      "[CV 3/5] END C=0.5, penalty=none, solver=liblinear;, score=nan total time=   0.0s\n",
      "[CV 4/5] END C=0.5, penalty=none, solver=liblinear;, score=nan total time=   0.0s\n",
      "[CV 5/5] END C=0.5, penalty=none, solver=liblinear;, score=nan total time=   0.0s\n",
      "[CV 1/5] END C=0.5, penalty=none, solver=newton-cg;, score=nan total time=   0.0s\n",
      "[CV 2/5] END C=0.5, penalty=none, solver=newton-cg;, score=nan total time=   0.0s\n",
      "[CV 3/5] END C=0.5, penalty=none, solver=newton-cg;, score=nan total time=   0.0s\n",
      "[CV 4/5] END C=0.5, penalty=none, solver=newton-cg;, score=nan total time=   0.0s\n",
      "[CV 5/5] END C=0.5, penalty=none, solver=newton-cg;, score=nan total time=   0.0s\n",
      "[CV 1/5] END ...C=0.5, penalty=none, solver=lbfgs;, score=nan total time=   0.0s\n",
      "[CV 2/5] END ...C=0.5, penalty=none, solver=lbfgs;, score=nan total time=   0.0s\n",
      "[CV 3/5] END ...C=0.5, penalty=none, solver=lbfgs;, score=nan total time=   0.0s\n",
      "[CV 4/5] END ...C=0.5, penalty=none, solver=lbfgs;, score=nan total time=   0.0s\n",
      "[CV 5/5] END ...C=0.5, penalty=none, solver=lbfgs;, score=nan total time=   0.0s\n",
      "[CV 1/5] END .....C=0.5, penalty=none, solver=sag;, score=nan total time=   0.0s\n",
      "[CV 2/5] END .....C=0.5, penalty=none, solver=sag;, score=nan total time=   0.0s\n",
      "[CV 3/5] END .....C=0.5, penalty=none, solver=sag;, score=nan total time=   0.0s\n",
      "[CV 4/5] END .....C=0.5, penalty=none, solver=sag;, score=nan total time=   0.0s\n",
      "[CV 5/5] END .....C=0.5, penalty=none, solver=sag;, score=nan total time=   0.0s\n",
      "[CV 1/5] END ....C=0.5, penalty=none, solver=saga;, score=nan total time=   0.0s\n",
      "[CV 2/5] END ....C=0.5, penalty=none, solver=saga;, score=nan total time=   0.0s\n",
      "[CV 3/5] END ....C=0.5, penalty=none, solver=saga;, score=nan total time=   0.0s\n",
      "[CV 4/5] END ....C=0.5, penalty=none, solver=saga;, score=nan total time=   0.0s\n",
      "[CV 5/5] END ....C=0.5, penalty=none, solver=saga;, score=nan total time=   0.0s\n",
      "[CV 1/5] END .C=1, penalty=l1, solver=liblinear;, score=0.833 total time=   0.7s\n",
      "[CV 2/5] END .C=1, penalty=l1, solver=liblinear;, score=0.850 total time=   0.8s\n",
      "[CV 3/5] END .C=1, penalty=l1, solver=liblinear;, score=0.832 total time=   0.7s\n",
      "[CV 4/5] END .C=1, penalty=l1, solver=liblinear;, score=0.829 total time=   0.8s\n",
      "[CV 5/5] END .C=1, penalty=l1, solver=liblinear;, score=0.831 total time=   0.7s\n",
      "[CV 1/5] END ...C=1, penalty=l1, solver=newton-cg;, score=nan total time=   0.0s\n",
      "[CV 2/5] END ...C=1, penalty=l1, solver=newton-cg;, score=nan total time=   0.0s\n",
      "[CV 3/5] END ...C=1, penalty=l1, solver=newton-cg;, score=nan total time=   0.0s\n",
      "[CV 4/5] END ...C=1, penalty=l1, solver=newton-cg;, score=nan total time=   0.0s\n",
      "[CV 5/5] END ...C=1, penalty=l1, solver=newton-cg;, score=nan total time=   0.0s\n",
      "[CV 1/5] END .......C=1, penalty=l1, solver=lbfgs;, score=nan total time=   0.0s\n",
      "[CV 2/5] END .......C=1, penalty=l1, solver=lbfgs;, score=nan total time=   0.0s\n",
      "[CV 3/5] END .......C=1, penalty=l1, solver=lbfgs;, score=nan total time=   0.0s\n",
      "[CV 4/5] END .......C=1, penalty=l1, solver=lbfgs;, score=nan total time=   0.0s\n",
      "[CV 5/5] END .......C=1, penalty=l1, solver=lbfgs;, score=nan total time=   0.0s\n",
      "[CV 1/5] END .........C=1, penalty=l1, solver=sag;, score=nan total time=   0.0s\n",
      "[CV 2/5] END .........C=1, penalty=l1, solver=sag;, score=nan total time=   0.0s\n",
      "[CV 3/5] END .........C=1, penalty=l1, solver=sag;, score=nan total time=   0.0s\n",
      "[CV 4/5] END .........C=1, penalty=l1, solver=sag;, score=nan total time=   0.0s\n",
      "[CV 5/5] END .........C=1, penalty=l1, solver=sag;, score=nan total time=   0.0s\n",
      "[CV 1/5] END ......C=1, penalty=l1, solver=saga;, score=0.824 total time=   6.8s\n",
      "[CV 2/5] END ......C=1, penalty=l1, solver=saga;, score=0.831 total time=   6.2s\n",
      "[CV 3/5] END ......C=1, penalty=l1, solver=saga;, score=0.816 total time=   7.1s\n",
      "[CV 4/5] END ......C=1, penalty=l1, solver=saga;, score=0.826 total time=   8.4s\n",
      "[CV 5/5] END ......C=1, penalty=l1, solver=saga;, score=0.817 total time=  10.1s\n",
      "[CV 1/5] END .C=1, penalty=l2, solver=liblinear;, score=0.819 total time=   0.9s\n",
      "[CV 2/5] END .C=1, penalty=l2, solver=liblinear;, score=0.839 total time=   0.9s\n",
      "[CV 3/5] END .C=1, penalty=l2, solver=liblinear;, score=0.829 total time=   1.1s\n",
      "[CV 4/5] END .C=1, penalty=l2, solver=liblinear;, score=0.833 total time=   0.9s\n",
      "[CV 5/5] END .C=1, penalty=l2, solver=liblinear;, score=0.823 total time=   1.1s\n",
      "[CV 1/5] END .C=1, penalty=l2, solver=newton-cg;, score=0.822 total time=   5.0s\n",
      "[CV 2/5] END .C=1, penalty=l2, solver=newton-cg;, score=0.841 total time=   3.4s\n",
      "[CV 3/5] END .C=1, penalty=l2, solver=newton-cg;, score=0.833 total time=   3.7s\n",
      "[CV 4/5] END .C=1, penalty=l2, solver=newton-cg;, score=0.833 total time=   3.5s\n",
      "[CV 5/5] END .C=1, penalty=l2, solver=newton-cg;, score=0.826 total time=   3.8s\n",
      "[CV 1/5] END .....C=1, penalty=l2, solver=lbfgs;, score=0.821 total time=   4.8s\n",
      "[CV 2/5] END .....C=1, penalty=l2, solver=lbfgs;, score=0.841 total time=   4.9s\n",
      "[CV 3/5] END .....C=1, penalty=l2, solver=lbfgs;, score=0.833 total time=   5.2s\n",
      "[CV 4/5] END .....C=1, penalty=l2, solver=lbfgs;, score=0.833 total time=   4.6s\n",
      "[CV 5/5] END .....C=1, penalty=l2, solver=lbfgs;, score=0.826 total time=   5.4s\n",
      "[CV 1/5] END .......C=1, penalty=l2, solver=sag;, score=0.822 total time=   0.5s\n",
      "[CV 2/5] END .......C=1, penalty=l2, solver=sag;, score=0.841 total time=   0.5s\n",
      "[CV 3/5] END .......C=1, penalty=l2, solver=sag;, score=0.833 total time=   0.4s\n",
      "[CV 4/5] END .......C=1, penalty=l2, solver=sag;, score=0.833 total time=   0.4s\n",
      "[CV 5/5] END .......C=1, penalty=l2, solver=sag;, score=0.826 total time=   0.4s\n",
      "[CV 1/5] END ......C=1, penalty=l2, solver=saga;, score=0.822 total time=   0.5s\n",
      "[CV 2/5] END ......C=1, penalty=l2, solver=saga;, score=0.842 total time=   0.6s\n",
      "[CV 3/5] END ......C=1, penalty=l2, solver=saga;, score=0.833 total time=   0.7s\n",
      "[CV 4/5] END ......C=1, penalty=l2, solver=saga;, score=0.834 total time=   0.7s\n",
      "[CV 5/5] END ......C=1, penalty=l2, solver=saga;, score=0.827 total time=   0.6s\n",
      "[CV 1/5] END C=1, penalty=elasticnet, solver=liblinear;, score=nan total time=   0.0s\n",
      "[CV 2/5] END C=1, penalty=elasticnet, solver=liblinear;, score=nan total time=   0.0s\n",
      "[CV 3/5] END C=1, penalty=elasticnet, solver=liblinear;, score=nan total time=   0.0s\n",
      "[CV 4/5] END C=1, penalty=elasticnet, solver=liblinear;, score=nan total time=   0.0s\n",
      "[CV 5/5] END C=1, penalty=elasticnet, solver=liblinear;, score=nan total time=   0.0s\n",
      "[CV 1/5] END C=1, penalty=elasticnet, solver=newton-cg;, score=nan total time=   0.0s\n",
      "[CV 2/5] END C=1, penalty=elasticnet, solver=newton-cg;, score=nan total time=   0.0s\n",
      "[CV 3/5] END C=1, penalty=elasticnet, solver=newton-cg;, score=nan total time=   0.0s\n",
      "[CV 4/5] END C=1, penalty=elasticnet, solver=newton-cg;, score=nan total time=   0.0s\n",
      "[CV 5/5] END C=1, penalty=elasticnet, solver=newton-cg;, score=nan total time=   0.0s\n",
      "[CV 1/5] END C=1, penalty=elasticnet, solver=lbfgs;, score=nan total time=   0.0s\n",
      "[CV 2/5] END C=1, penalty=elasticnet, solver=lbfgs;, score=nan total time=   0.0s\n",
      "[CV 3/5] END C=1, penalty=elasticnet, solver=lbfgs;, score=nan total time=   0.0s\n",
      "[CV 4/5] END C=1, penalty=elasticnet, solver=lbfgs;, score=nan total time=   0.0s\n",
      "[CV 5/5] END C=1, penalty=elasticnet, solver=lbfgs;, score=nan total time=   0.0s\n",
      "[CV 1/5] END .C=1, penalty=elasticnet, solver=sag;, score=nan total time=   0.0s\n",
      "[CV 2/5] END .C=1, penalty=elasticnet, solver=sag;, score=nan total time=   0.0s\n",
      "[CV 3/5] END .C=1, penalty=elasticnet, solver=sag;, score=nan total time=   0.0s\n",
      "[CV 4/5] END .C=1, penalty=elasticnet, solver=sag;, score=nan total time=   0.0s\n",
      "[CV 5/5] END .C=1, penalty=elasticnet, solver=sag;, score=nan total time=   0.0s\n",
      "[CV 1/5] END C=1, penalty=elasticnet, solver=saga;, score=nan total time=   0.0s\n",
      "[CV 2/5] END C=1, penalty=elasticnet, solver=saga;, score=nan total time=   0.0s\n",
      "[CV 3/5] END C=1, penalty=elasticnet, solver=saga;, score=nan total time=   0.0s\n",
      "[CV 4/5] END C=1, penalty=elasticnet, solver=saga;, score=nan total time=   0.0s\n",
      "[CV 5/5] END C=1, penalty=elasticnet, solver=saga;, score=nan total time=   0.0s\n",
      "[CV 1/5] END .C=1, penalty=none, solver=liblinear;, score=nan total time=   0.0s\n",
      "[CV 2/5] END .C=1, penalty=none, solver=liblinear;, score=nan total time=   0.0s\n",
      "[CV 3/5] END .C=1, penalty=none, solver=liblinear;, score=nan total time=   0.0s\n",
      "[CV 4/5] END .C=1, penalty=none, solver=liblinear;, score=nan total time=   0.0s\n",
      "[CV 5/5] END .C=1, penalty=none, solver=liblinear;, score=nan total time=   0.0s\n",
      "[CV 1/5] END .C=1, penalty=none, solver=newton-cg;, score=nan total time=   0.0s\n",
      "[CV 2/5] END .C=1, penalty=none, solver=newton-cg;, score=nan total time=   0.0s\n",
      "[CV 3/5] END .C=1, penalty=none, solver=newton-cg;, score=nan total time=   0.0s\n",
      "[CV 4/5] END .C=1, penalty=none, solver=newton-cg;, score=nan total time=   0.0s\n",
      "[CV 5/5] END .C=1, penalty=none, solver=newton-cg;, score=nan total time=   0.0s\n",
      "[CV 1/5] END .....C=1, penalty=none, solver=lbfgs;, score=nan total time=   0.0s\n",
      "[CV 2/5] END .....C=1, penalty=none, solver=lbfgs;, score=nan total time=   0.0s\n",
      "[CV 3/5] END .....C=1, penalty=none, solver=lbfgs;, score=nan total time=   0.0s\n",
      "[CV 4/5] END .....C=1, penalty=none, solver=lbfgs;, score=nan total time=   0.0s\n",
      "[CV 5/5] END .....C=1, penalty=none, solver=lbfgs;, score=nan total time=   0.0s\n",
      "[CV 1/5] END .......C=1, penalty=none, solver=sag;, score=nan total time=   0.0s\n",
      "[CV 2/5] END .......C=1, penalty=none, solver=sag;, score=nan total time=   0.0s\n",
      "[CV 3/5] END .......C=1, penalty=none, solver=sag;, score=nan total time=   0.0s\n",
      "[CV 4/5] END .......C=1, penalty=none, solver=sag;, score=nan total time=   0.0s\n",
      "[CV 5/5] END .......C=1, penalty=none, solver=sag;, score=nan total time=   0.0s\n",
      "[CV 1/5] END ......C=1, penalty=none, solver=saga;, score=nan total time=   0.0s\n",
      "[CV 2/5] END ......C=1, penalty=none, solver=saga;, score=nan total time=   0.0s\n",
      "[CV 3/5] END ......C=1, penalty=none, solver=saga;, score=nan total time=   0.0s\n",
      "[CV 4/5] END ......C=1, penalty=none, solver=saga;, score=nan total time=   0.0s\n",
      "[CV 5/5] END ......C=1, penalty=none, solver=saga;, score=nan total time=   0.0s\n",
      "[CV 1/5] END .C=5, penalty=l1, solver=liblinear;, score=0.876 total time=   2.6s\n",
      "[CV 2/5] END .C=5, penalty=l1, solver=liblinear;, score=0.890 total time=   2.8s\n",
      "[CV 3/5] END .C=5, penalty=l1, solver=liblinear;, score=0.882 total time=   2.9s\n",
      "[CV 4/5] END .C=5, penalty=l1, solver=liblinear;, score=0.884 total time=   3.0s\n",
      "[CV 5/5] END .C=5, penalty=l1, solver=liblinear;, score=0.873 total time=   2.6s\n",
      "[CV 1/5] END ...C=5, penalty=l1, solver=newton-cg;, score=nan total time=   0.0s\n",
      "[CV 2/5] END ...C=5, penalty=l1, solver=newton-cg;, score=nan total time=   0.0s\n",
      "[CV 3/5] END ...C=5, penalty=l1, solver=newton-cg;, score=nan total time=   0.0s\n",
      "[CV 4/5] END ...C=5, penalty=l1, solver=newton-cg;, score=nan total time=   0.0s\n",
      "[CV 5/5] END ...C=5, penalty=l1, solver=newton-cg;, score=nan total time=   0.0s\n",
      "[CV 1/5] END .......C=5, penalty=l1, solver=lbfgs;, score=nan total time=   0.0s\n",
      "[CV 2/5] END .......C=5, penalty=l1, solver=lbfgs;, score=nan total time=   0.0s\n",
      "[CV 3/5] END .......C=5, penalty=l1, solver=lbfgs;, score=nan total time=   0.0s\n",
      "[CV 4/5] END .......C=5, penalty=l1, solver=lbfgs;, score=nan total time=   0.0s\n",
      "[CV 5/5] END .......C=5, penalty=l1, solver=lbfgs;, score=nan total time=   0.0s\n",
      "[CV 1/5] END .........C=5, penalty=l1, solver=sag;, score=nan total time=   0.0s\n",
      "[CV 2/5] END .........C=5, penalty=l1, solver=sag;, score=nan total time=   0.0s\n",
      "[CV 3/5] END .........C=5, penalty=l1, solver=sag;, score=nan total time=   0.0s\n",
      "[CV 4/5] END .........C=5, penalty=l1, solver=sag;, score=nan total time=   0.0s\n",
      "[CV 5/5] END .........C=5, penalty=l1, solver=sag;, score=nan total time=   0.0s\n",
      "[CV 1/5] END ......C=5, penalty=l1, solver=saga;, score=0.883 total time=  12.5s\n",
      "[CV 2/5] END ......C=5, penalty=l1, solver=saga;, score=0.891 total time=  13.2s\n",
      "[CV 3/5] END ......C=5, penalty=l1, solver=saga;, score=0.875 total time=  12.7s\n",
      "[CV 4/5] END ......C=5, penalty=l1, solver=saga;, score=0.878 total time=  13.0s\n",
      "[CV 5/5] END ......C=5, penalty=l1, solver=saga;, score=0.867 total time=  14.9s\n",
      "[CV 1/5] END .C=5, penalty=l2, solver=liblinear;, score=0.889 total time=   1.2s\n",
      "[CV 2/5] END .C=5, penalty=l2, solver=liblinear;, score=0.908 total time=   1.3s\n",
      "[CV 3/5] END .C=5, penalty=l2, solver=liblinear;, score=0.890 total time=   1.3s\n",
      "[CV 4/5] END .C=5, penalty=l2, solver=liblinear;, score=0.897 total time=   1.3s\n",
      "[CV 5/5] END .C=5, penalty=l2, solver=liblinear;, score=0.887 total time=   1.3s\n",
      "[CV 1/5] END .C=5, penalty=l2, solver=newton-cg;, score=0.888 total time=   4.2s\n",
      "[CV 2/5] END .C=5, penalty=l2, solver=newton-cg;, score=0.907 total time=   3.9s\n",
      "[CV 3/5] END .C=5, penalty=l2, solver=newton-cg;, score=0.889 total time=   4.3s\n",
      "[CV 4/5] END .C=5, penalty=l2, solver=newton-cg;, score=0.897 total time=   4.4s\n",
      "[CV 5/5] END .C=5, penalty=l2, solver=newton-cg;, score=0.886 total time=   4.5s\n",
      "[CV 1/5] END .....C=5, penalty=l2, solver=lbfgs;, score=0.887 total time=   7.2s\n",
      "[CV 2/5] END .....C=5, penalty=l2, solver=lbfgs;, score=0.908 total time=   7.8s\n",
      "[CV 3/5] END .....C=5, penalty=l2, solver=lbfgs;, score=0.890 total time=  12.1s\n",
      "[CV 4/5] END .....C=5, penalty=l2, solver=lbfgs;, score=0.897 total time=  10.8s\n",
      "[CV 5/5] END .....C=5, penalty=l2, solver=lbfgs;, score=0.886 total time=   8.3s\n",
      "[CV 1/5] END .......C=5, penalty=l2, solver=sag;, score=0.887 total time=   1.6s\n",
      "[CV 2/5] END .......C=5, penalty=l2, solver=sag;, score=0.908 total time=   1.3s\n",
      "[CV 3/5] END .......C=5, penalty=l2, solver=sag;, score=0.890 total time=   1.6s\n",
      "[CV 4/5] END .......C=5, penalty=l2, solver=sag;, score=0.897 total time=   1.5s\n",
      "[CV 5/5] END .......C=5, penalty=l2, solver=sag;, score=0.887 total time=   2.0s\n",
      "[CV 1/5] END ......C=5, penalty=l2, solver=saga;, score=0.888 total time=   5.5s\n",
      "[CV 2/5] END ......C=5, penalty=l2, solver=saga;, score=0.908 total time=   3.0s\n",
      "[CV 3/5] END ......C=5, penalty=l2, solver=saga;, score=0.890 total time=   2.2s\n",
      "[CV 4/5] END ......C=5, penalty=l2, solver=saga;, score=0.898 total time=   2.7s\n",
      "[CV 5/5] END ......C=5, penalty=l2, solver=saga;, score=0.887 total time=   2.0s\n",
      "[CV 1/5] END C=5, penalty=elasticnet, solver=liblinear;, score=nan total time=   0.0s\n",
      "[CV 2/5] END C=5, penalty=elasticnet, solver=liblinear;, score=nan total time=   0.0s\n",
      "[CV 3/5] END C=5, penalty=elasticnet, solver=liblinear;, score=nan total time=   0.0s\n",
      "[CV 4/5] END C=5, penalty=elasticnet, solver=liblinear;, score=nan total time=   0.0s\n",
      "[CV 5/5] END C=5, penalty=elasticnet, solver=liblinear;, score=nan total time=   0.0s\n",
      "[CV 1/5] END C=5, penalty=elasticnet, solver=newton-cg;, score=nan total time=   0.0s\n",
      "[CV 2/5] END C=5, penalty=elasticnet, solver=newton-cg;, score=nan total time=   0.0s\n",
      "[CV 3/5] END C=5, penalty=elasticnet, solver=newton-cg;, score=nan total time=   0.0s\n",
      "[CV 4/5] END C=5, penalty=elasticnet, solver=newton-cg;, score=nan total time=   0.0s\n",
      "[CV 5/5] END C=5, penalty=elasticnet, solver=newton-cg;, score=nan total time=   0.0s\n",
      "[CV 1/5] END C=5, penalty=elasticnet, solver=lbfgs;, score=nan total time=   0.0s\n",
      "[CV 2/5] END C=5, penalty=elasticnet, solver=lbfgs;, score=nan total time=   0.0s\n",
      "[CV 3/5] END C=5, penalty=elasticnet, solver=lbfgs;, score=nan total time=   0.0s\n",
      "[CV 4/5] END C=5, penalty=elasticnet, solver=lbfgs;, score=nan total time=   0.0s\n",
      "[CV 5/5] END C=5, penalty=elasticnet, solver=lbfgs;, score=nan total time=   0.0s\n",
      "[CV 1/5] END .C=5, penalty=elasticnet, solver=sag;, score=nan total time=   0.0s\n",
      "[CV 2/5] END .C=5, penalty=elasticnet, solver=sag;, score=nan total time=   0.0s\n",
      "[CV 3/5] END .C=5, penalty=elasticnet, solver=sag;, score=nan total time=   0.0s\n",
      "[CV 4/5] END .C=5, penalty=elasticnet, solver=sag;, score=nan total time=   0.0s\n",
      "[CV 5/5] END .C=5, penalty=elasticnet, solver=sag;, score=nan total time=   0.0s\n",
      "[CV 1/5] END C=5, penalty=elasticnet, solver=saga;, score=nan total time=   0.0s\n",
      "[CV 2/5] END C=5, penalty=elasticnet, solver=saga;, score=nan total time=   0.0s\n",
      "[CV 3/5] END C=5, penalty=elasticnet, solver=saga;, score=nan total time=   0.0s\n",
      "[CV 4/5] END C=5, penalty=elasticnet, solver=saga;, score=nan total time=   0.0s\n",
      "[CV 5/5] END C=5, penalty=elasticnet, solver=saga;, score=nan total time=   0.0s\n",
      "[CV 1/5] END .C=5, penalty=none, solver=liblinear;, score=nan total time=   0.0s\n",
      "[CV 2/5] END .C=5, penalty=none, solver=liblinear;, score=nan total time=   0.0s\n",
      "[CV 3/5] END .C=5, penalty=none, solver=liblinear;, score=nan total time=   0.0s\n",
      "[CV 4/5] END .C=5, penalty=none, solver=liblinear;, score=nan total time=   0.0s\n",
      "[CV 5/5] END .C=5, penalty=none, solver=liblinear;, score=nan total time=   0.0s\n",
      "[CV 1/5] END .C=5, penalty=none, solver=newton-cg;, score=nan total time=   0.0s\n",
      "[CV 2/5] END .C=5, penalty=none, solver=newton-cg;, score=nan total time=   0.0s\n",
      "[CV 3/5] END .C=5, penalty=none, solver=newton-cg;, score=nan total time=   0.0s\n",
      "[CV 4/5] END .C=5, penalty=none, solver=newton-cg;, score=nan total time=   0.0s\n",
      "[CV 5/5] END .C=5, penalty=none, solver=newton-cg;, score=nan total time=   0.0s\n",
      "[CV 1/5] END .....C=5, penalty=none, solver=lbfgs;, score=nan total time=   0.0s\n",
      "[CV 2/5] END .....C=5, penalty=none, solver=lbfgs;, score=nan total time=   0.0s\n",
      "[CV 3/5] END .....C=5, penalty=none, solver=lbfgs;, score=nan total time=   0.0s\n",
      "[CV 4/5] END .....C=5, penalty=none, solver=lbfgs;, score=nan total time=   0.0s\n",
      "[CV 5/5] END .....C=5, penalty=none, solver=lbfgs;, score=nan total time=   0.0s\n",
      "[CV 1/5] END .......C=5, penalty=none, solver=sag;, score=nan total time=   0.0s\n",
      "[CV 2/5] END .......C=5, penalty=none, solver=sag;, score=nan total time=   0.0s\n",
      "[CV 3/5] END .......C=5, penalty=none, solver=sag;, score=nan total time=   0.0s\n",
      "[CV 4/5] END .......C=5, penalty=none, solver=sag;, score=nan total time=   0.0s\n",
      "[CV 5/5] END .......C=5, penalty=none, solver=sag;, score=nan total time=   0.0s\n",
      "[CV 1/5] END ......C=5, penalty=none, solver=saga;, score=nan total time=   0.0s\n",
      "[CV 2/5] END ......C=5, penalty=none, solver=saga;, score=nan total time=   0.0s\n",
      "[CV 3/5] END ......C=5, penalty=none, solver=saga;, score=nan total time=   0.0s\n",
      "[CV 4/5] END ......C=5, penalty=none, solver=saga;, score=nan total time=   0.0s\n",
      "[CV 5/5] END ......C=5, penalty=none, solver=saga;, score=nan total time=   0.0s\n"
     ]
    },
    {
     "data": {
      "text/html": [
       "<style>#sk-container-id-2 {\n",
       "  /* Definition of color scheme common for light and dark mode */\n",
       "  --sklearn-color-text: black;\n",
       "  --sklearn-color-line: gray;\n",
       "  /* Definition of color scheme for unfitted estimators */\n",
       "  --sklearn-color-unfitted-level-0: #fff5e6;\n",
       "  --sklearn-color-unfitted-level-1: #f6e4d2;\n",
       "  --sklearn-color-unfitted-level-2: #ffe0b3;\n",
       "  --sklearn-color-unfitted-level-3: chocolate;\n",
       "  /* Definition of color scheme for fitted estimators */\n",
       "  --sklearn-color-fitted-level-0: #f0f8ff;\n",
       "  --sklearn-color-fitted-level-1: #d4ebff;\n",
       "  --sklearn-color-fitted-level-2: #b3dbfd;\n",
       "  --sklearn-color-fitted-level-3: cornflowerblue;\n",
       "\n",
       "  /* Specific color for light theme */\n",
       "  --sklearn-color-text-on-default-background: var(--sg-text-color, var(--theme-code-foreground, var(--jp-content-font-color1, black)));\n",
       "  --sklearn-color-background: var(--sg-background-color, var(--theme-background, var(--jp-layout-color0, white)));\n",
       "  --sklearn-color-border-box: var(--sg-text-color, var(--theme-code-foreground, var(--jp-content-font-color1, black)));\n",
       "  --sklearn-color-icon: #696969;\n",
       "\n",
       "  @media (prefers-color-scheme: dark) {\n",
       "    /* Redefinition of color scheme for dark theme */\n",
       "    --sklearn-color-text-on-default-background: var(--sg-text-color, var(--theme-code-foreground, var(--jp-content-font-color1, white)));\n",
       "    --sklearn-color-background: var(--sg-background-color, var(--theme-background, var(--jp-layout-color0, #111)));\n",
       "    --sklearn-color-border-box: var(--sg-text-color, var(--theme-code-foreground, var(--jp-content-font-color1, white)));\n",
       "    --sklearn-color-icon: #878787;\n",
       "  }\n",
       "}\n",
       "\n",
       "#sk-container-id-2 {\n",
       "  color: var(--sklearn-color-text);\n",
       "}\n",
       "\n",
       "#sk-container-id-2 pre {\n",
       "  padding: 0;\n",
       "}\n",
       "\n",
       "#sk-container-id-2 input.sk-hidden--visually {\n",
       "  border: 0;\n",
       "  clip: rect(1px 1px 1px 1px);\n",
       "  clip: rect(1px, 1px, 1px, 1px);\n",
       "  height: 1px;\n",
       "  margin: -1px;\n",
       "  overflow: hidden;\n",
       "  padding: 0;\n",
       "  position: absolute;\n",
       "  width: 1px;\n",
       "}\n",
       "\n",
       "#sk-container-id-2 div.sk-dashed-wrapped {\n",
       "  border: 1px dashed var(--sklearn-color-line);\n",
       "  margin: 0 0.4em 0.5em 0.4em;\n",
       "  box-sizing: border-box;\n",
       "  padding-bottom: 0.4em;\n",
       "  background-color: var(--sklearn-color-background);\n",
       "}\n",
       "\n",
       "#sk-container-id-2 div.sk-container {\n",
       "  /* jupyter's `normalize.less` sets `[hidden] { display: none; }`\n",
       "     but bootstrap.min.css set `[hidden] { display: none !important; }`\n",
       "     so we also need the `!important` here to be able to override the\n",
       "     default hidden behavior on the sphinx rendered scikit-learn.org.\n",
       "     See: https://github.com/scikit-learn/scikit-learn/issues/21755 */\n",
       "  display: inline-block !important;\n",
       "  position: relative;\n",
       "}\n",
       "\n",
       "#sk-container-id-2 div.sk-text-repr-fallback {\n",
       "  display: none;\n",
       "}\n",
       "\n",
       "div.sk-parallel-item,\n",
       "div.sk-serial,\n",
       "div.sk-item {\n",
       "  /* draw centered vertical line to link estimators */\n",
       "  background-image: linear-gradient(var(--sklearn-color-text-on-default-background), var(--sklearn-color-text-on-default-background));\n",
       "  background-size: 2px 100%;\n",
       "  background-repeat: no-repeat;\n",
       "  background-position: center center;\n",
       "}\n",
       "\n",
       "/* Parallel-specific style estimator block */\n",
       "\n",
       "#sk-container-id-2 div.sk-parallel-item::after {\n",
       "  content: \"\";\n",
       "  width: 100%;\n",
       "  border-bottom: 2px solid var(--sklearn-color-text-on-default-background);\n",
       "  flex-grow: 1;\n",
       "}\n",
       "\n",
       "#sk-container-id-2 div.sk-parallel {\n",
       "  display: flex;\n",
       "  align-items: stretch;\n",
       "  justify-content: center;\n",
       "  background-color: var(--sklearn-color-background);\n",
       "  position: relative;\n",
       "}\n",
       "\n",
       "#sk-container-id-2 div.sk-parallel-item {\n",
       "  display: flex;\n",
       "  flex-direction: column;\n",
       "}\n",
       "\n",
       "#sk-container-id-2 div.sk-parallel-item:first-child::after {\n",
       "  align-self: flex-end;\n",
       "  width: 50%;\n",
       "}\n",
       "\n",
       "#sk-container-id-2 div.sk-parallel-item:last-child::after {\n",
       "  align-self: flex-start;\n",
       "  width: 50%;\n",
       "}\n",
       "\n",
       "#sk-container-id-2 div.sk-parallel-item:only-child::after {\n",
       "  width: 0;\n",
       "}\n",
       "\n",
       "/* Serial-specific style estimator block */\n",
       "\n",
       "#sk-container-id-2 div.sk-serial {\n",
       "  display: flex;\n",
       "  flex-direction: column;\n",
       "  align-items: center;\n",
       "  background-color: var(--sklearn-color-background);\n",
       "  padding-right: 1em;\n",
       "  padding-left: 1em;\n",
       "}\n",
       "\n",
       "\n",
       "/* Toggleable style: style used for estimator/Pipeline/ColumnTransformer box that is\n",
       "clickable and can be expanded/collapsed.\n",
       "- Pipeline and ColumnTransformer use this feature and define the default style\n",
       "- Estimators will overwrite some part of the style using the `sk-estimator` class\n",
       "*/\n",
       "\n",
       "/* Pipeline and ColumnTransformer style (default) */\n",
       "\n",
       "#sk-container-id-2 div.sk-toggleable {\n",
       "  /* Default theme specific background. It is overwritten whether we have a\n",
       "  specific estimator or a Pipeline/ColumnTransformer */\n",
       "  background-color: var(--sklearn-color-background);\n",
       "}\n",
       "\n",
       "/* Toggleable label */\n",
       "#sk-container-id-2 label.sk-toggleable__label {\n",
       "  cursor: pointer;\n",
       "  display: block;\n",
       "  width: 100%;\n",
       "  margin-bottom: 0;\n",
       "  padding: 0.5em;\n",
       "  box-sizing: border-box;\n",
       "  text-align: center;\n",
       "}\n",
       "\n",
       "#sk-container-id-2 label.sk-toggleable__label-arrow:before {\n",
       "  /* Arrow on the left of the label */\n",
       "  content: \"▸\";\n",
       "  float: left;\n",
       "  margin-right: 0.25em;\n",
       "  color: var(--sklearn-color-icon);\n",
       "}\n",
       "\n",
       "#sk-container-id-2 label.sk-toggleable__label-arrow:hover:before {\n",
       "  color: var(--sklearn-color-text);\n",
       "}\n",
       "\n",
       "/* Toggleable content - dropdown */\n",
       "\n",
       "#sk-container-id-2 div.sk-toggleable__content {\n",
       "  max-height: 0;\n",
       "  max-width: 0;\n",
       "  overflow: hidden;\n",
       "  text-align: left;\n",
       "  /* unfitted */\n",
       "  background-color: var(--sklearn-color-unfitted-level-0);\n",
       "}\n",
       "\n",
       "#sk-container-id-2 div.sk-toggleable__content.fitted {\n",
       "  /* fitted */\n",
       "  background-color: var(--sklearn-color-fitted-level-0);\n",
       "}\n",
       "\n",
       "#sk-container-id-2 div.sk-toggleable__content pre {\n",
       "  margin: 0.2em;\n",
       "  border-radius: 0.25em;\n",
       "  color: var(--sklearn-color-text);\n",
       "  /* unfitted */\n",
       "  background-color: var(--sklearn-color-unfitted-level-0);\n",
       "}\n",
       "\n",
       "#sk-container-id-2 div.sk-toggleable__content.fitted pre {\n",
       "  /* unfitted */\n",
       "  background-color: var(--sklearn-color-fitted-level-0);\n",
       "}\n",
       "\n",
       "#sk-container-id-2 input.sk-toggleable__control:checked~div.sk-toggleable__content {\n",
       "  /* Expand drop-down */\n",
       "  max-height: 200px;\n",
       "  max-width: 100%;\n",
       "  overflow: auto;\n",
       "}\n",
       "\n",
       "#sk-container-id-2 input.sk-toggleable__control:checked~label.sk-toggleable__label-arrow:before {\n",
       "  content: \"▾\";\n",
       "}\n",
       "\n",
       "/* Pipeline/ColumnTransformer-specific style */\n",
       "\n",
       "#sk-container-id-2 div.sk-label input.sk-toggleable__control:checked~label.sk-toggleable__label {\n",
       "  color: var(--sklearn-color-text);\n",
       "  background-color: var(--sklearn-color-unfitted-level-2);\n",
       "}\n",
       "\n",
       "#sk-container-id-2 div.sk-label.fitted input.sk-toggleable__control:checked~label.sk-toggleable__label {\n",
       "  background-color: var(--sklearn-color-fitted-level-2);\n",
       "}\n",
       "\n",
       "/* Estimator-specific style */\n",
       "\n",
       "/* Colorize estimator box */\n",
       "#sk-container-id-2 div.sk-estimator input.sk-toggleable__control:checked~label.sk-toggleable__label {\n",
       "  /* unfitted */\n",
       "  background-color: var(--sklearn-color-unfitted-level-2);\n",
       "}\n",
       "\n",
       "#sk-container-id-2 div.sk-estimator.fitted input.sk-toggleable__control:checked~label.sk-toggleable__label {\n",
       "  /* fitted */\n",
       "  background-color: var(--sklearn-color-fitted-level-2);\n",
       "}\n",
       "\n",
       "#sk-container-id-2 div.sk-label label.sk-toggleable__label,\n",
       "#sk-container-id-2 div.sk-label label {\n",
       "  /* The background is the default theme color */\n",
       "  color: var(--sklearn-color-text-on-default-background);\n",
       "}\n",
       "\n",
       "/* On hover, darken the color of the background */\n",
       "#sk-container-id-2 div.sk-label:hover label.sk-toggleable__label {\n",
       "  color: var(--sklearn-color-text);\n",
       "  background-color: var(--sklearn-color-unfitted-level-2);\n",
       "}\n",
       "\n",
       "/* Label box, darken color on hover, fitted */\n",
       "#sk-container-id-2 div.sk-label.fitted:hover label.sk-toggleable__label.fitted {\n",
       "  color: var(--sklearn-color-text);\n",
       "  background-color: var(--sklearn-color-fitted-level-2);\n",
       "}\n",
       "\n",
       "/* Estimator label */\n",
       "\n",
       "#sk-container-id-2 div.sk-label label {\n",
       "  font-family: monospace;\n",
       "  font-weight: bold;\n",
       "  display: inline-block;\n",
       "  line-height: 1.2em;\n",
       "}\n",
       "\n",
       "#sk-container-id-2 div.sk-label-container {\n",
       "  text-align: center;\n",
       "}\n",
       "\n",
       "/* Estimator-specific */\n",
       "#sk-container-id-2 div.sk-estimator {\n",
       "  font-family: monospace;\n",
       "  border: 1px dotted var(--sklearn-color-border-box);\n",
       "  border-radius: 0.25em;\n",
       "  box-sizing: border-box;\n",
       "  margin-bottom: 0.5em;\n",
       "  /* unfitted */\n",
       "  background-color: var(--sklearn-color-unfitted-level-0);\n",
       "}\n",
       "\n",
       "#sk-container-id-2 div.sk-estimator.fitted {\n",
       "  /* fitted */\n",
       "  background-color: var(--sklearn-color-fitted-level-0);\n",
       "}\n",
       "\n",
       "/* on hover */\n",
       "#sk-container-id-2 div.sk-estimator:hover {\n",
       "  /* unfitted */\n",
       "  background-color: var(--sklearn-color-unfitted-level-2);\n",
       "}\n",
       "\n",
       "#sk-container-id-2 div.sk-estimator.fitted:hover {\n",
       "  /* fitted */\n",
       "  background-color: var(--sklearn-color-fitted-level-2);\n",
       "}\n",
       "\n",
       "/* Specification for estimator info (e.g. \"i\" and \"?\") */\n",
       "\n",
       "/* Common style for \"i\" and \"?\" */\n",
       "\n",
       ".sk-estimator-doc-link,\n",
       "a:link.sk-estimator-doc-link,\n",
       "a:visited.sk-estimator-doc-link {\n",
       "  float: right;\n",
       "  font-size: smaller;\n",
       "  line-height: 1em;\n",
       "  font-family: monospace;\n",
       "  background-color: var(--sklearn-color-background);\n",
       "  border-radius: 1em;\n",
       "  height: 1em;\n",
       "  width: 1em;\n",
       "  text-decoration: none !important;\n",
       "  margin-left: 1ex;\n",
       "  /* unfitted */\n",
       "  border: var(--sklearn-color-unfitted-level-1) 1pt solid;\n",
       "  color: var(--sklearn-color-unfitted-level-1);\n",
       "}\n",
       "\n",
       ".sk-estimator-doc-link.fitted,\n",
       "a:link.sk-estimator-doc-link.fitted,\n",
       "a:visited.sk-estimator-doc-link.fitted {\n",
       "  /* fitted */\n",
       "  border: var(--sklearn-color-fitted-level-1) 1pt solid;\n",
       "  color: var(--sklearn-color-fitted-level-1);\n",
       "}\n",
       "\n",
       "/* On hover */\n",
       "div.sk-estimator:hover .sk-estimator-doc-link:hover,\n",
       ".sk-estimator-doc-link:hover,\n",
       "div.sk-label-container:hover .sk-estimator-doc-link:hover,\n",
       ".sk-estimator-doc-link:hover {\n",
       "  /* unfitted */\n",
       "  background-color: var(--sklearn-color-unfitted-level-3);\n",
       "  color: var(--sklearn-color-background);\n",
       "  text-decoration: none;\n",
       "}\n",
       "\n",
       "div.sk-estimator.fitted:hover .sk-estimator-doc-link.fitted:hover,\n",
       ".sk-estimator-doc-link.fitted:hover,\n",
       "div.sk-label-container:hover .sk-estimator-doc-link.fitted:hover,\n",
       ".sk-estimator-doc-link.fitted:hover {\n",
       "  /* fitted */\n",
       "  background-color: var(--sklearn-color-fitted-level-3);\n",
       "  color: var(--sklearn-color-background);\n",
       "  text-decoration: none;\n",
       "}\n",
       "\n",
       "/* Span, style for the box shown on hovering the info icon */\n",
       ".sk-estimator-doc-link span {\n",
       "  display: none;\n",
       "  z-index: 9999;\n",
       "  position: relative;\n",
       "  font-weight: normal;\n",
       "  right: .2ex;\n",
       "  padding: .5ex;\n",
       "  margin: .5ex;\n",
       "  width: min-content;\n",
       "  min-width: 20ex;\n",
       "  max-width: 50ex;\n",
       "  color: var(--sklearn-color-text);\n",
       "  box-shadow: 2pt 2pt 4pt #999;\n",
       "  /* unfitted */\n",
       "  background: var(--sklearn-color-unfitted-level-0);\n",
       "  border: .5pt solid var(--sklearn-color-unfitted-level-3);\n",
       "}\n",
       "\n",
       ".sk-estimator-doc-link.fitted span {\n",
       "  /* fitted */\n",
       "  background: var(--sklearn-color-fitted-level-0);\n",
       "  border: var(--sklearn-color-fitted-level-3);\n",
       "}\n",
       "\n",
       ".sk-estimator-doc-link:hover span {\n",
       "  display: block;\n",
       "}\n",
       "\n",
       "/* \"?\"-specific style due to the `<a>` HTML tag */\n",
       "\n",
       "#sk-container-id-2 a.estimator_doc_link {\n",
       "  float: right;\n",
       "  font-size: 1rem;\n",
       "  line-height: 1em;\n",
       "  font-family: monospace;\n",
       "  background-color: var(--sklearn-color-background);\n",
       "  border-radius: 1rem;\n",
       "  height: 1rem;\n",
       "  width: 1rem;\n",
       "  text-decoration: none;\n",
       "  /* unfitted */\n",
       "  color: var(--sklearn-color-unfitted-level-1);\n",
       "  border: var(--sklearn-color-unfitted-level-1) 1pt solid;\n",
       "}\n",
       "\n",
       "#sk-container-id-2 a.estimator_doc_link.fitted {\n",
       "  /* fitted */\n",
       "  border: var(--sklearn-color-fitted-level-1) 1pt solid;\n",
       "  color: var(--sklearn-color-fitted-level-1);\n",
       "}\n",
       "\n",
       "/* On hover */\n",
       "#sk-container-id-2 a.estimator_doc_link:hover {\n",
       "  /* unfitted */\n",
       "  background-color: var(--sklearn-color-unfitted-level-3);\n",
       "  color: var(--sklearn-color-background);\n",
       "  text-decoration: none;\n",
       "}\n",
       "\n",
       "#sk-container-id-2 a.estimator_doc_link.fitted:hover {\n",
       "  /* fitted */\n",
       "  background-color: var(--sklearn-color-fitted-level-3);\n",
       "}\n",
       "</style><div id=\"sk-container-id-2\" class=\"sk-top-container\"><div class=\"sk-text-repr-fallback\"><pre>GridSearchCV(cv=5, estimator=LogisticRegression(random_state=123),\n",
       "             param_grid={&#x27;C&#x27;: [0.01, 0.05, 0.1, 0.5, 1, 5],\n",
       "                         &#x27;penalty&#x27;: [&#x27;l1&#x27;, &#x27;l2&#x27;, &#x27;elasticnet&#x27;, &#x27;none&#x27;],\n",
       "                         &#x27;solver&#x27;: [&#x27;liblinear&#x27;, &#x27;newton-cg&#x27;, &#x27;lbfgs&#x27;, &#x27;sag&#x27;,\n",
       "                                    &#x27;saga&#x27;]},\n",
       "             scoring=&#x27;accuracy&#x27;, verbose=3)</pre><b>In a Jupyter environment, please rerun this cell to show the HTML representation or trust the notebook. <br />On GitHub, the HTML representation is unable to render, please try loading this page with nbviewer.org.</b></div><div class=\"sk-container\" hidden><div class=\"sk-item sk-dashed-wrapped\"><div class=\"sk-label-container\"><div class=\"sk-label fitted sk-toggleable\"><input class=\"sk-toggleable__control sk-hidden--visually\" id=\"sk-estimator-id-2\" type=\"checkbox\" ><label for=\"sk-estimator-id-2\" class=\"sk-toggleable__label fitted sk-toggleable__label-arrow fitted\">&nbsp;&nbsp;GridSearchCV<a class=\"sk-estimator-doc-link fitted\" rel=\"noreferrer\" target=\"_blank\" href=\"https://scikit-learn.org/1.5/modules/generated/sklearn.model_selection.GridSearchCV.html\">?<span>Documentation for GridSearchCV</span></a><span class=\"sk-estimator-doc-link fitted\">i<span>Fitted</span></span></label><div class=\"sk-toggleable__content fitted\"><pre>GridSearchCV(cv=5, estimator=LogisticRegression(random_state=123),\n",
       "             param_grid={&#x27;C&#x27;: [0.01, 0.05, 0.1, 0.5, 1, 5],\n",
       "                         &#x27;penalty&#x27;: [&#x27;l1&#x27;, &#x27;l2&#x27;, &#x27;elasticnet&#x27;, &#x27;none&#x27;],\n",
       "                         &#x27;solver&#x27;: [&#x27;liblinear&#x27;, &#x27;newton-cg&#x27;, &#x27;lbfgs&#x27;, &#x27;sag&#x27;,\n",
       "                                    &#x27;saga&#x27;]},\n",
       "             scoring=&#x27;accuracy&#x27;, verbose=3)</pre></div> </div></div><div class=\"sk-parallel\"><div class=\"sk-parallel-item\"><div class=\"sk-item\"><div class=\"sk-label-container\"><div class=\"sk-label fitted sk-toggleable\"><input class=\"sk-toggleable__control sk-hidden--visually\" id=\"sk-estimator-id-3\" type=\"checkbox\" ><label for=\"sk-estimator-id-3\" class=\"sk-toggleable__label fitted sk-toggleable__label-arrow fitted\">best_estimator_: LogisticRegression</label><div class=\"sk-toggleable__content fitted\"><pre>LogisticRegression(C=5, random_state=123, solver=&#x27;saga&#x27;)</pre></div> </div></div><div class=\"sk-serial\"><div class=\"sk-item\"><div class=\"sk-estimator fitted sk-toggleable\"><input class=\"sk-toggleable__control sk-hidden--visually\" id=\"sk-estimator-id-4\" type=\"checkbox\" ><label for=\"sk-estimator-id-4\" class=\"sk-toggleable__label fitted sk-toggleable__label-arrow fitted\">&nbsp;LogisticRegression<a class=\"sk-estimator-doc-link fitted\" rel=\"noreferrer\" target=\"_blank\" href=\"https://scikit-learn.org/1.5/modules/generated/sklearn.linear_model.LogisticRegression.html\">?<span>Documentation for LogisticRegression</span></a></label><div class=\"sk-toggleable__content fitted\"><pre>LogisticRegression(C=5, random_state=123, solver=&#x27;saga&#x27;)</pre></div> </div></div></div></div></div></div></div></div></div>"
      ],
      "text/plain": [
       "GridSearchCV(cv=5, estimator=LogisticRegression(random_state=123),\n",
       "             param_grid={'C': [0.01, 0.05, 0.1, 0.5, 1, 5],\n",
       "                         'penalty': ['l1', 'l2', 'elasticnet', 'none'],\n",
       "                         'solver': ['liblinear', 'newton-cg', 'lbfgs', 'sag',\n",
       "                                    'saga']},\n",
       "             scoring='accuracy', verbose=3)"
      ]
     },
     "execution_count": 16,
     "metadata": {},
     "output_type": "execute_result"
    }
   ],
   "source": [
    "#Fitting Model lr grid\n",
    "lr_grid.fit(X_train_clean, y_train)"
   ]
  },
  {
   "cell_type": "code",
   "execution_count": 14,
   "id": "c5fe0146",
   "metadata": {},
   "outputs": [
    {
     "name": "stdout",
     "output_type": "stream",
     "text": [
      "{'C': 0.01, 'penalty': 'none', 'solver': 'saga'}\n"
     ]
    }
   ],
   "source": [
    "#Melihat parameter terbaik untuk model\n",
    "print(lr_grid.best_params_)"
   ]
  },
  {
   "cell_type": "code",
   "execution_count": 15,
   "id": "1515c8a7",
   "metadata": {},
   "outputs": [
    {
     "data": {
      "text/html": [
       "<style>#sk-container-id-3 {color: black;background-color: white;}#sk-container-id-3 pre{padding: 0;}#sk-container-id-3 div.sk-toggleable {background-color: white;}#sk-container-id-3 label.sk-toggleable__label {cursor: pointer;display: block;width: 100%;margin-bottom: 0;padding: 0.3em;box-sizing: border-box;text-align: center;}#sk-container-id-3 label.sk-toggleable__label-arrow:before {content: \"▸\";float: left;margin-right: 0.25em;color: #696969;}#sk-container-id-3 label.sk-toggleable__label-arrow:hover:before {color: black;}#sk-container-id-3 div.sk-estimator:hover label.sk-toggleable__label-arrow:before {color: black;}#sk-container-id-3 div.sk-toggleable__content {max-height: 0;max-width: 0;overflow: hidden;text-align: left;background-color: #f0f8ff;}#sk-container-id-3 div.sk-toggleable__content pre {margin: 0.2em;color: black;border-radius: 0.25em;background-color: #f0f8ff;}#sk-container-id-3 input.sk-toggleable__control:checked~div.sk-toggleable__content {max-height: 200px;max-width: 100%;overflow: auto;}#sk-container-id-3 input.sk-toggleable__control:checked~label.sk-toggleable__label-arrow:before {content: \"▾\";}#sk-container-id-3 div.sk-estimator input.sk-toggleable__control:checked~label.sk-toggleable__label {background-color: #d4ebff;}#sk-container-id-3 div.sk-label input.sk-toggleable__control:checked~label.sk-toggleable__label {background-color: #d4ebff;}#sk-container-id-3 input.sk-hidden--visually {border: 0;clip: rect(1px 1px 1px 1px);clip: rect(1px, 1px, 1px, 1px);height: 1px;margin: -1px;overflow: hidden;padding: 0;position: absolute;width: 1px;}#sk-container-id-3 div.sk-estimator {font-family: monospace;background-color: #f0f8ff;border: 1px dotted black;border-radius: 0.25em;box-sizing: border-box;margin-bottom: 0.5em;}#sk-container-id-3 div.sk-estimator:hover {background-color: #d4ebff;}#sk-container-id-3 div.sk-parallel-item::after {content: \"\";width: 100%;border-bottom: 1px solid gray;flex-grow: 1;}#sk-container-id-3 div.sk-label:hover label.sk-toggleable__label {background-color: #d4ebff;}#sk-container-id-3 div.sk-serial::before {content: \"\";position: absolute;border-left: 1px solid gray;box-sizing: border-box;top: 0;bottom: 0;left: 50%;z-index: 0;}#sk-container-id-3 div.sk-serial {display: flex;flex-direction: column;align-items: center;background-color: white;padding-right: 0.2em;padding-left: 0.2em;position: relative;}#sk-container-id-3 div.sk-item {position: relative;z-index: 1;}#sk-container-id-3 div.sk-parallel {display: flex;align-items: stretch;justify-content: center;background-color: white;position: relative;}#sk-container-id-3 div.sk-item::before, #sk-container-id-3 div.sk-parallel-item::before {content: \"\";position: absolute;border-left: 1px solid gray;box-sizing: border-box;top: 0;bottom: 0;left: 50%;z-index: -1;}#sk-container-id-3 div.sk-parallel-item {display: flex;flex-direction: column;z-index: 1;position: relative;background-color: white;}#sk-container-id-3 div.sk-parallel-item:first-child::after {align-self: flex-end;width: 50%;}#sk-container-id-3 div.sk-parallel-item:last-child::after {align-self: flex-start;width: 50%;}#sk-container-id-3 div.sk-parallel-item:only-child::after {width: 0;}#sk-container-id-3 div.sk-dashed-wrapped {border: 1px dashed gray;margin: 0 0.4em 0.5em 0.4em;box-sizing: border-box;padding-bottom: 0.4em;background-color: white;}#sk-container-id-3 div.sk-label label {font-family: monospace;font-weight: bold;display: inline-block;line-height: 1.2em;}#sk-container-id-3 div.sk-label-container {text-align: center;}#sk-container-id-3 div.sk-container {/* jupyter's `normalize.less` sets `[hidden] { display: none; }` but bootstrap.min.css set `[hidden] { display: none !important; }` so we also need the `!important` here to be able to override the default hidden behavior on the sphinx rendered scikit-learn.org. See: https://github.com/scikit-learn/scikit-learn/issues/21755 */display: inline-block !important;position: relative;}#sk-container-id-3 div.sk-text-repr-fallback {display: none;}</style><div id=\"sk-container-id-3\" class=\"sk-top-container\"><div class=\"sk-text-repr-fallback\"><pre>LogisticRegression(C=0.01, penalty=&#x27;none&#x27;, solver=&#x27;saga&#x27;)</pre><b>In a Jupyter environment, please rerun this cell to show the HTML representation or trust the notebook. <br />On GitHub, the HTML representation is unable to render, please try loading this page with nbviewer.org.</b></div><div class=\"sk-container\" hidden><div class=\"sk-item\"><div class=\"sk-estimator sk-toggleable\"><input class=\"sk-toggleable__control sk-hidden--visually\" id=\"sk-estimator-id-5\" type=\"checkbox\" checked><label for=\"sk-estimator-id-5\" class=\"sk-toggleable__label sk-toggleable__label-arrow\">LogisticRegression</label><div class=\"sk-toggleable__content\"><pre>LogisticRegression(C=0.01, penalty=&#x27;none&#x27;, solver=&#x27;saga&#x27;)</pre></div></div></div></div></div>"
      ],
      "text/plain": [
       "LogisticRegression(C=0.01, penalty='none', solver='saga')"
      ]
     },
     "execution_count": 15,
     "metadata": {},
     "output_type": "execute_result"
    }
   ],
   "source": [
    "#Input parameter terbaik hasil GridsearchCV\n",
    "lr_grid_cv  = LogisticRegression(C = lr_grid.best_params_[\"C\"],\n",
    "                                 penalty = lr_grid.best_params_[\"penalty\"],\n",
    "                                 solver = lr_grid.best_params_[\"solver\"])\n",
    "\n",
    "#Kembali fitting model\n",
    "lr_grid_cv.fit(X_train_clean, y_train)"
   ]
  },
  {
   "cell_type": "code",
   "execution_count": 16,
   "id": "a612f2ec",
   "metadata": {},
   "outputs": [
    {
     "name": "stdout",
     "output_type": "stream",
     "text": [
      "Training Data Score: 0.9998758072528564\n",
      "Validating Data Score: 0.8337468982630273\n",
      "Testing Data Score: 0.8500414250207126\n"
     ]
    }
   ],
   "source": [
    "print(f\"Training Data Score: {lr_grid_cv.score(X_train_clean, y_train)}\")\n",
    "print(f\"Validating Data Score: {lr_grid_cv.score(X_valid_clean, y_valid)}\")\n",
    "print(f\"Testing Data Score: {lr_grid_cv.score(X_test_clean, y_test)}\")"
   ]
  },
  {
   "cell_type": "code",
   "execution_count": 17,
   "id": "cc86cd15",
   "metadata": {},
   "outputs": [],
   "source": [
    "#Prediksi dengan menggunakan data test\n",
    "logregtun_pred = lr_grid_cv.predict(X_test_clean)"
   ]
  },
  {
   "cell_type": "code",
   "execution_count": 18,
   "id": "ddcdcfb0",
   "metadata": {},
   "outputs": [
    {
     "name": "stdout",
     "output_type": "stream",
     "text": [
      "              precision    recall  f1-score   support\n",
      "\n",
      "           0       0.82      0.56      0.67        25\n",
      "           1       0.92      0.92      0.92       147\n",
      "           2       0.86      0.93      0.89       594\n",
      "           3       0.68      0.62      0.65        68\n",
      "           4       0.83      0.79      0.81       123\n",
      "           5       0.82      0.75      0.78       250\n",
      "\n",
      "    accuracy                           0.85      1207\n",
      "   macro avg       0.82      0.76      0.79      1207\n",
      "weighted avg       0.85      0.85      0.85      1207\n",
      "\n"
     ]
    }
   ],
   "source": [
    "#Melihat Classification report\n",
    "print(classification_report(y_test, logregtun_pred))"
   ]
  },
  {
   "cell_type": "code",
   "execution_count": 19,
   "id": "a1903b9c",
   "metadata": {},
   "outputs": [
    {
     "data": {
      "image/png": "[encoded data removed]",
      "text/plain": [
       "<Figure size 640x480 with 2 Axes>"
      ]
     },
     "metadata": {},
     "output_type": "display_data"
    }
   ],
   "source": [
    "unique_labels = np.unique(y_test)\n",
    "ConfusionMatrixDisplay.from_predictions(y_test, logregtun_pred, display_labels=unique_labels)\n",
    "plt.show()"
   ]
  },
  {
   "cell_type": "markdown",
   "id": "21d6311b",
   "metadata": {},
   "source": [
    "## Support Vector Classifier"
   ]
  },
  {
   "cell_type": "code",
   "execution_count": 20,
   "id": "867c56d2",
   "metadata": {},
   "outputs": [],
   "source": [
    "svc_ori = SVC(random_state = 123)"
   ]
  },
  {
   "cell_type": "code",
   "execution_count": 21,
   "id": "e5de88f3",
   "metadata": {},
   "outputs": [
    {
     "data": {
      "text/html": [
       "<style>#sk-container-id-4 {color: black;background-color: white;}#sk-container-id-4 pre{padding: 0;}#sk-container-id-4 div.sk-toggleable {background-color: white;}#sk-container-id-4 label.sk-toggleable__label {cursor: pointer;display: block;width: 100%;margin-bottom: 0;padding: 0.3em;box-sizing: border-box;text-align: center;}#sk-container-id-4 label.sk-toggleable__label-arrow:before {content: \"▸\";float: left;margin-right: 0.25em;color: #696969;}#sk-container-id-4 label.sk-toggleable__label-arrow:hover:before {color: black;}#sk-container-id-4 div.sk-estimator:hover label.sk-toggleable__label-arrow:before {color: black;}#sk-container-id-4 div.sk-toggleable__content {max-height: 0;max-width: 0;overflow: hidden;text-align: left;background-color: #f0f8ff;}#sk-container-id-4 div.sk-toggleable__content pre {margin: 0.2em;color: black;border-radius: 0.25em;background-color: #f0f8ff;}#sk-container-id-4 input.sk-toggleable__control:checked~div.sk-toggleable__content {max-height: 200px;max-width: 100%;overflow: auto;}#sk-container-id-4 input.sk-toggleable__control:checked~label.sk-toggleable__label-arrow:before {content: \"▾\";}#sk-container-id-4 div.sk-estimator input.sk-toggleable__control:checked~label.sk-toggleable__label {background-color: #d4ebff;}#sk-container-id-4 div.sk-label input.sk-toggleable__control:checked~label.sk-toggleable__label {background-color: #d4ebff;}#sk-container-id-4 input.sk-hidden--visually {border: 0;clip: rect(1px 1px 1px 1px);clip: rect(1px, 1px, 1px, 1px);height: 1px;margin: -1px;overflow: hidden;padding: 0;position: absolute;width: 1px;}#sk-container-id-4 div.sk-estimator {font-family: monospace;background-color: #f0f8ff;border: 1px dotted black;border-radius: 0.25em;box-sizing: border-box;margin-bottom: 0.5em;}#sk-container-id-4 div.sk-estimator:hover {background-color: #d4ebff;}#sk-container-id-4 div.sk-parallel-item::after {content: \"\";width: 100%;border-bottom: 1px solid gray;flex-grow: 1;}#sk-container-id-4 div.sk-label:hover label.sk-toggleable__label {background-color: #d4ebff;}#sk-container-id-4 div.sk-serial::before {content: \"\";position: absolute;border-left: 1px solid gray;box-sizing: border-box;top: 0;bottom: 0;left: 50%;z-index: 0;}#sk-container-id-4 div.sk-serial {display: flex;flex-direction: column;align-items: center;background-color: white;padding-right: 0.2em;padding-left: 0.2em;position: relative;}#sk-container-id-4 div.sk-item {position: relative;z-index: 1;}#sk-container-id-4 div.sk-parallel {display: flex;align-items: stretch;justify-content: center;background-color: white;position: relative;}#sk-container-id-4 div.sk-item::before, #sk-container-id-4 div.sk-parallel-item::before {content: \"\";position: absolute;border-left: 1px solid gray;box-sizing: border-box;top: 0;bottom: 0;left: 50%;z-index: -1;}#sk-container-id-4 div.sk-parallel-item {display: flex;flex-direction: column;z-index: 1;position: relative;background-color: white;}#sk-container-id-4 div.sk-parallel-item:first-child::after {align-self: flex-end;width: 50%;}#sk-container-id-4 div.sk-parallel-item:last-child::after {align-self: flex-start;width: 50%;}#sk-container-id-4 div.sk-parallel-item:only-child::after {width: 0;}#sk-container-id-4 div.sk-dashed-wrapped {border: 1px dashed gray;margin: 0 0.4em 0.5em 0.4em;box-sizing: border-box;padding-bottom: 0.4em;background-color: white;}#sk-container-id-4 div.sk-label label {font-family: monospace;font-weight: bold;display: inline-block;line-height: 1.2em;}#sk-container-id-4 div.sk-label-container {text-align: center;}#sk-container-id-4 div.sk-container {/* jupyter's `normalize.less` sets `[hidden] { display: none; }` but bootstrap.min.css set `[hidden] { display: none !important; }` so we also need the `!important` here to be able to override the default hidden behavior on the sphinx rendered scikit-learn.org. See: https://github.com/scikit-learn/scikit-learn/issues/21755 */display: inline-block !important;position: relative;}#sk-container-id-4 div.sk-text-repr-fallback {display: none;}</style><div id=\"sk-container-id-4\" class=\"sk-top-container\"><div class=\"sk-text-repr-fallback\"><pre>SVC(random_state=123)</pre><b>In a Jupyter environment, please rerun this cell to show the HTML representation or trust the notebook. <br />On GitHub, the HTML representation is unable to render, please try loading this page with nbviewer.org.</b></div><div class=\"sk-container\" hidden><div class=\"sk-item\"><div class=\"sk-estimator sk-toggleable\"><input class=\"sk-toggleable__control sk-hidden--visually\" id=\"sk-estimator-id-6\" type=\"checkbox\" checked><label for=\"sk-estimator-id-6\" class=\"sk-toggleable__label sk-toggleable__label-arrow\">SVC</label><div class=\"sk-toggleable__content\"><pre>SVC(random_state=123)</pre></div></div></div></div></div>"
      ],
      "text/plain": [
       "SVC(random_state=123)"
      ]
     },
     "execution_count": 21,
     "metadata": {},
     "output_type": "execute_result"
    }
   ],
   "source": [
    "# fit Support Vector Classifier\n",
    "svc_ori.fit(X_train_clean, y_train)"
   ]
  },
  {
   "cell_type": "code",
   "execution_count": 22,
   "id": "299535e7",
   "metadata": {},
   "outputs": [
    {
     "data": {
      "text/plain": [
       "0.9868355688027819"
      ]
     },
     "execution_count": 22,
     "metadata": {},
     "output_type": "execute_result"
    }
   ],
   "source": [
    "#Cek Score model SVC\n",
    "svc_ori.score(X_train_clean, y_train)"
   ]
  },
  {
   "cell_type": "code",
   "execution_count": 23,
   "id": "cd127cf3",
   "metadata": {},
   "outputs": [],
   "source": [
    "svc_predict = svc_ori.predict(X_test_clean)"
   ]
  },
  {
   "cell_type": "code",
   "execution_count": 24,
   "id": "bc2baaa0",
   "metadata": {},
   "outputs": [
    {
     "name": "stdout",
     "output_type": "stream",
     "text": [
      "              precision    recall  f1-score   support\n",
      "\n",
      "           0       1.00      0.04      0.08        25\n",
      "           1       0.94      0.80      0.87       147\n",
      "           2       0.74      0.96      0.84       594\n",
      "           3       0.95      0.26      0.41        68\n",
      "           4       0.93      0.64      0.76       123\n",
      "           5       0.80      0.64      0.71       250\n",
      "\n",
      "    accuracy                           0.79      1207\n",
      "   macro avg       0.89      0.56      0.61      1207\n",
      "weighted avg       0.81      0.79      0.77      1207\n",
      "\n"
     ]
    }
   ],
   "source": [
    "print(classification_report(y_test, svc_predict))"
   ]
  },
  {
   "cell_type": "code",
   "execution_count": 25,
   "id": "be978df3",
   "metadata": {},
   "outputs": [
    {
     "name": "stdout",
     "output_type": "stream",
     "text": [
      "Training Data Score: 0.9868355688027819\n",
      "Validating Data Score: 0.7952853598014888\n",
      "Testing Data Score: 0.7862468931234465\n"
     ]
    }
   ],
   "source": [
    "print(f\"Training Data Score: {svc_ori.score(X_train_clean, y_train)}\")\n",
    "print(f\"Validating Data Score: {svc_ori.score(X_valid_clean, y_valid)}\")\n",
    "print(f\"Testing Data Score: {svc_ori.score(X_test_clean, y_test)}\")"
   ]
  },
  {
   "cell_type": "markdown",
   "id": "1a26cdae",
   "metadata": {},
   "source": [
    "## Tuning Parameter SVC"
   ]
  },
  {
   "cell_type": "code",
   "execution_count": 26,
   "id": "5ce72ccc",
   "metadata": {},
   "outputs": [],
   "source": [
    "# Create the GridSearchCV model\n",
    "# Create the GridSearch estimator along with a parameter object containing the values to adjust\n",
    "param_grid = {'kernel' : ['linear', 'rbf', 'poly', 'sigmoid'],\n",
    "              'C': [0.0005,0.001, 0.01, 0.1, 0.5],\n",
    "              'gamma': ['scale', 'auto']\n",
    "             }"
   ]
  },
  {
   "cell_type": "code",
   "execution_count": 27,
   "id": "1b562945",
   "metadata": {},
   "outputs": [],
   "source": [
    "#Membentuk parameter untuk eksperimentasi\n",
    "svc_grid = GridSearchCV(SVC(random_state = 123), \n",
    "                        param_grid, \n",
    "                        verbose=3, \n",
    "                        cv= 5, \n",
    "                        n_jobs=4, \n",
    "                        scoring='accuracy')"
   ]
  },
  {
   "cell_type": "code",
   "execution_count": 28,
   "id": "9de15714",
   "metadata": {},
   "outputs": [
    {
     "name": "stdout",
     "output_type": "stream",
     "text": [
      "Fitting 5 folds for each of 40 candidates, totalling 200 fits\n"
     ]
    },
    {
     "data": {
      "text/html": [
       "<style>#sk-container-id-5 {color: black;background-color: white;}#sk-container-id-5 pre{padding: 0;}#sk-container-id-5 div.sk-toggleable {background-color: white;}#sk-container-id-5 label.sk-toggleable__label {cursor: pointer;display: block;width: 100%;margin-bottom: 0;padding: 0.3em;box-sizing: border-box;text-align: center;}#sk-container-id-5 label.sk-toggleable__label-arrow:before {content: \"▸\";float: left;margin-right: 0.25em;color: #696969;}#sk-container-id-5 label.sk-toggleable__label-arrow:hover:before {color: black;}#sk-container-id-5 div.sk-estimator:hover label.sk-toggleable__label-arrow:before {color: black;}#sk-container-id-5 div.sk-toggleable__content {max-height: 0;max-width: 0;overflow: hidden;text-align: left;background-color: #f0f8ff;}#sk-container-id-5 div.sk-toggleable__content pre {margin: 0.2em;color: black;border-radius: 0.25em;background-color: #f0f8ff;}#sk-container-id-5 input.sk-toggleable__control:checked~div.sk-toggleable__content {max-height: 200px;max-width: 100%;overflow: auto;}#sk-container-id-5 input.sk-toggleable__control:checked~label.sk-toggleable__label-arrow:before {content: \"▾\";}#sk-container-id-5 div.sk-estimator input.sk-toggleable__control:checked~label.sk-toggleable__label {background-color: #d4ebff;}#sk-container-id-5 div.sk-label input.sk-toggleable__control:checked~label.sk-toggleable__label {background-color: #d4ebff;}#sk-container-id-5 input.sk-hidden--visually {border: 0;clip: rect(1px 1px 1px 1px);clip: rect(1px, 1px, 1px, 1px);height: 1px;margin: -1px;overflow: hidden;padding: 0;position: absolute;width: 1px;}#sk-container-id-5 div.sk-estimator {font-family: monospace;background-color: #f0f8ff;border: 1px dotted black;border-radius: 0.25em;box-sizing: border-box;margin-bottom: 0.5em;}#sk-container-id-5 div.sk-estimator:hover {background-color: #d4ebff;}#sk-container-id-5 div.sk-parallel-item::after {content: \"\";width: 100%;border-bottom: 1px solid gray;flex-grow: 1;}#sk-container-id-5 div.sk-label:hover label.sk-toggleable__label {background-color: #d4ebff;}#sk-container-id-5 div.sk-serial::before {content: \"\";position: absolute;border-left: 1px solid gray;box-sizing: border-box;top: 0;bottom: 0;left: 50%;z-index: 0;}#sk-container-id-5 div.sk-serial {display: flex;flex-direction: column;align-items: center;background-color: white;padding-right: 0.2em;padding-left: 0.2em;position: relative;}#sk-container-id-5 div.sk-item {position: relative;z-index: 1;}#sk-container-id-5 div.sk-parallel {display: flex;align-items: stretch;justify-content: center;background-color: white;position: relative;}#sk-container-id-5 div.sk-item::before, #sk-container-id-5 div.sk-parallel-item::before {content: \"\";position: absolute;border-left: 1px solid gray;box-sizing: border-box;top: 0;bottom: 0;left: 50%;z-index: -1;}#sk-container-id-5 div.sk-parallel-item {display: flex;flex-direction: column;z-index: 1;position: relative;background-color: white;}#sk-container-id-5 div.sk-parallel-item:first-child::after {align-self: flex-end;width: 50%;}#sk-container-id-5 div.sk-parallel-item:last-child::after {align-self: flex-start;width: 50%;}#sk-container-id-5 div.sk-parallel-item:only-child::after {width: 0;}#sk-container-id-5 div.sk-dashed-wrapped {border: 1px dashed gray;margin: 0 0.4em 0.5em 0.4em;box-sizing: border-box;padding-bottom: 0.4em;background-color: white;}#sk-container-id-5 div.sk-label label {font-family: monospace;font-weight: bold;display: inline-block;line-height: 1.2em;}#sk-container-id-5 div.sk-label-container {text-align: center;}#sk-container-id-5 div.sk-container {/* jupyter's `normalize.less` sets `[hidden] { display: none; }` but bootstrap.min.css set `[hidden] { display: none !important; }` so we also need the `!important` here to be able to override the default hidden behavior on the sphinx rendered scikit-learn.org. See: https://github.com/scikit-learn/scikit-learn/issues/21755 */display: inline-block !important;position: relative;}#sk-container-id-5 div.sk-text-repr-fallback {display: none;}</style><div id=\"sk-container-id-5\" class=\"sk-top-container\"><div class=\"sk-text-repr-fallback\"><pre>GridSearchCV(cv=5, estimator=SVC(random_state=123), n_jobs=4,\n",
       "             param_grid={&#x27;C&#x27;: [0.0005, 0.001, 0.01, 0.1, 0.5],\n",
       "                         &#x27;gamma&#x27;: [&#x27;scale&#x27;, &#x27;auto&#x27;],\n",
       "                         &#x27;kernel&#x27;: [&#x27;linear&#x27;, &#x27;rbf&#x27;, &#x27;poly&#x27;, &#x27;sigmoid&#x27;]},\n",
       "             scoring=&#x27;accuracy&#x27;, verbose=3)</pre><b>In a Jupyter environment, please rerun this cell to show the HTML representation or trust the notebook. <br />On GitHub, the HTML representation is unable to render, please try loading this page with nbviewer.org.</b></div><div class=\"sk-container\" hidden><div class=\"sk-item sk-dashed-wrapped\"><div class=\"sk-label-container\"><div class=\"sk-label sk-toggleable\"><input class=\"sk-toggleable__control sk-hidden--visually\" id=\"sk-estimator-id-7\" type=\"checkbox\" ><label for=\"sk-estimator-id-7\" class=\"sk-toggleable__label sk-toggleable__label-arrow\">GridSearchCV</label><div class=\"sk-toggleable__content\"><pre>GridSearchCV(cv=5, estimator=SVC(random_state=123), n_jobs=4,\n",
       "             param_grid={&#x27;C&#x27;: [0.0005, 0.001, 0.01, 0.1, 0.5],\n",
       "                         &#x27;gamma&#x27;: [&#x27;scale&#x27;, &#x27;auto&#x27;],\n",
       "                         &#x27;kernel&#x27;: [&#x27;linear&#x27;, &#x27;rbf&#x27;, &#x27;poly&#x27;, &#x27;sigmoid&#x27;]},\n",
       "             scoring=&#x27;accuracy&#x27;, verbose=3)</pre></div></div></div><div class=\"sk-parallel\"><div class=\"sk-parallel-item\"><div class=\"sk-item\"><div class=\"sk-label-container\"><div class=\"sk-label sk-toggleable\"><input class=\"sk-toggleable__control sk-hidden--visually\" id=\"sk-estimator-id-8\" type=\"checkbox\" ><label for=\"sk-estimator-id-8\" class=\"sk-toggleable__label sk-toggleable__label-arrow\">estimator: SVC</label><div class=\"sk-toggleable__content\"><pre>SVC(random_state=123)</pre></div></div></div><div class=\"sk-serial\"><div class=\"sk-item\"><div class=\"sk-estimator sk-toggleable\"><input class=\"sk-toggleable__control sk-hidden--visually\" id=\"sk-estimator-id-9\" type=\"checkbox\" ><label for=\"sk-estimator-id-9\" class=\"sk-toggleable__label sk-toggleable__label-arrow\">SVC</label><div class=\"sk-toggleable__content\"><pre>SVC(random_state=123)</pre></div></div></div></div></div></div></div></div></div></div>"
      ],
      "text/plain": [
       "GridSearchCV(cv=5, estimator=SVC(random_state=123), n_jobs=4,\n",
       "             param_grid={'C': [0.0005, 0.001, 0.01, 0.1, 0.5],\n",
       "                         'gamma': ['scale', 'auto'],\n",
       "                         'kernel': ['linear', 'rbf', 'poly', 'sigmoid']},\n",
       "             scoring='accuracy', verbose=3)"
      ]
     },
     "execution_count": 28,
     "metadata": {},
     "output_type": "execute_result"
    }
   ],
   "source": [
    "#Melakukan fitting model gridsearchcv\n",
    "svc_grid.fit(X_train_clean, y_train)"
   ]
  },
  {
   "cell_type": "code",
   "execution_count": 29,
   "id": "2a1e17d3",
   "metadata": {},
   "outputs": [
    {
     "data": {
      "text/plain": [
       "{'C': 0.5, 'gamma': 'scale', 'kernel': 'linear'}"
      ]
     },
     "execution_count": 29,
     "metadata": {},
     "output_type": "execute_result"
    }
   ],
   "source": [
    "#Melihat parameter terbaik\n",
    "svc_grid.best_params_"
   ]
  },
  {
   "cell_type": "code",
   "execution_count": 30,
   "id": "7061c62f",
   "metadata": {},
   "outputs": [],
   "source": [
    "#Melakukan input parameter terbaik hasil gridsearch\n",
    "svc_grid_cv  = SVC(kernel = svc_grid.best_params_[\"kernel\"],\n",
    "                   gamma = svc_grid.best_params_[\"gamma\"],\n",
    "                   C = svc_grid.best_params_[\"C\"]\n",
    "                  )"
   ]
  },
  {
   "cell_type": "code",
   "execution_count": 31,
   "id": "237e3db8",
   "metadata": {},
   "outputs": [
    {
     "data": {
      "text/html": [
       "<style>#sk-container-id-6 {color: black;background-color: white;}#sk-container-id-6 pre{padding: 0;}#sk-container-id-6 div.sk-toggleable {background-color: white;}#sk-container-id-6 label.sk-toggleable__label {cursor: pointer;display: block;width: 100%;margin-bottom: 0;padding: 0.3em;box-sizing: border-box;text-align: center;}#sk-container-id-6 label.sk-toggleable__label-arrow:before {content: \"▸\";float: left;margin-right: 0.25em;color: #696969;}#sk-container-id-6 label.sk-toggleable__label-arrow:hover:before {color: black;}#sk-container-id-6 div.sk-estimator:hover label.sk-toggleable__label-arrow:before {color: black;}#sk-container-id-6 div.sk-toggleable__content {max-height: 0;max-width: 0;overflow: hidden;text-align: left;background-color: #f0f8ff;}#sk-container-id-6 div.sk-toggleable__content pre {margin: 0.2em;color: black;border-radius: 0.25em;background-color: #f0f8ff;}#sk-container-id-6 input.sk-toggleable__control:checked~div.sk-toggleable__content {max-height: 200px;max-width: 100%;overflow: auto;}#sk-container-id-6 input.sk-toggleable__control:checked~label.sk-toggleable__label-arrow:before {content: \"▾\";}#sk-container-id-6 div.sk-estimator input.sk-toggleable__control:checked~label.sk-toggleable__label {background-color: #d4ebff;}#sk-container-id-6 div.sk-label input.sk-toggleable__control:checked~label.sk-toggleable__label {background-color: #d4ebff;}#sk-container-id-6 input.sk-hidden--visually {border: 0;clip: rect(1px 1px 1px 1px);clip: rect(1px, 1px, 1px, 1px);height: 1px;margin: -1px;overflow: hidden;padding: 0;position: absolute;width: 1px;}#sk-container-id-6 div.sk-estimator {font-family: monospace;background-color: #f0f8ff;border: 1px dotted black;border-radius: 0.25em;box-sizing: border-box;margin-bottom: 0.5em;}#sk-container-id-6 div.sk-estimator:hover {background-color: #d4ebff;}#sk-container-id-6 div.sk-parallel-item::after {content: \"\";width: 100%;border-bottom: 1px solid gray;flex-grow: 1;}#sk-container-id-6 div.sk-label:hover label.sk-toggleable__label {background-color: #d4ebff;}#sk-container-id-6 div.sk-serial::before {content: \"\";position: absolute;border-left: 1px solid gray;box-sizing: border-box;top: 0;bottom: 0;left: 50%;z-index: 0;}#sk-container-id-6 div.sk-serial {display: flex;flex-direction: column;align-items: center;background-color: white;padding-right: 0.2em;padding-left: 0.2em;position: relative;}#sk-container-id-6 div.sk-item {position: relative;z-index: 1;}#sk-container-id-6 div.sk-parallel {display: flex;align-items: stretch;justify-content: center;background-color: white;position: relative;}#sk-container-id-6 div.sk-item::before, #sk-container-id-6 div.sk-parallel-item::before {content: \"\";position: absolute;border-left: 1px solid gray;box-sizing: border-box;top: 0;bottom: 0;left: 50%;z-index: -1;}#sk-container-id-6 div.sk-parallel-item {display: flex;flex-direction: column;z-index: 1;position: relative;background-color: white;}#sk-container-id-6 div.sk-parallel-item:first-child::after {align-self: flex-end;width: 50%;}#sk-container-id-6 div.sk-parallel-item:last-child::after {align-self: flex-start;width: 50%;}#sk-container-id-6 div.sk-parallel-item:only-child::after {width: 0;}#sk-container-id-6 div.sk-dashed-wrapped {border: 1px dashed gray;margin: 0 0.4em 0.5em 0.4em;box-sizing: border-box;padding-bottom: 0.4em;background-color: white;}#sk-container-id-6 div.sk-label label {font-family: monospace;font-weight: bold;display: inline-block;line-height: 1.2em;}#sk-container-id-6 div.sk-label-container {text-align: center;}#sk-container-id-6 div.sk-container {/* jupyter's `normalize.less` sets `[hidden] { display: none; }` but bootstrap.min.css set `[hidden] { display: none !important; }` so we also need the `!important` here to be able to override the default hidden behavior on the sphinx rendered scikit-learn.org. See: https://github.com/scikit-learn/scikit-learn/issues/21755 */display: inline-block !important;position: relative;}#sk-container-id-6 div.sk-text-repr-fallback {display: none;}</style><div id=\"sk-container-id-6\" class=\"sk-top-container\"><div class=\"sk-text-repr-fallback\"><pre>SVC(C=0.5, kernel=&#x27;linear&#x27;)</pre><b>In a Jupyter environment, please rerun this cell to show the HTML representation or trust the notebook. <br />On GitHub, the HTML representation is unable to render, please try loading this page with nbviewer.org.</b></div><div class=\"sk-container\" hidden><div class=\"sk-item\"><div class=\"sk-estimator sk-toggleable\"><input class=\"sk-toggleable__control sk-hidden--visually\" id=\"sk-estimator-id-10\" type=\"checkbox\" checked><label for=\"sk-estimator-id-10\" class=\"sk-toggleable__label sk-toggleable__label-arrow\">SVC</label><div class=\"sk-toggleable__content\"><pre>SVC(C=0.5, kernel=&#x27;linear&#x27;)</pre></div></div></div></div></div>"
      ],
      "text/plain": [
       "SVC(C=0.5, kernel='linear')"
      ]
     },
     "execution_count": 31,
     "metadata": {},
     "output_type": "execute_result"
    }
   ],
   "source": [
    "svc_grid_cv.fit(X_train_clean, y_train)"
   ]
  },
  {
   "cell_type": "code",
   "execution_count": 32,
   "id": "ed628a25",
   "metadata": {},
   "outputs": [
    {
     "name": "stdout",
     "output_type": "stream",
     "text": [
      "Training Data Score: 0.8826378539493294\n",
      "Validating Data Score: 0.8002481389578163\n",
      "Testing Data Score: 0.7953603976801988\n"
     ]
    }
   ],
   "source": [
    "print(f\"Training Data Score: {svc_grid_cv.score(X_train_clean, y_train)}\")\n",
    "print(f\"Validating Data Score: {svc_grid_cv.score(X_valid_clean, y_valid)}\")\n",
    "print(f\"Testing Data Score: {svc_grid_cv.score(X_test_clean, y_test)}\")"
   ]
  },
  {
   "cell_type": "code",
   "execution_count": 33,
   "id": "3acaeca5",
   "metadata": {},
   "outputs": [],
   "source": [
    "svc_pred_cv = svc_grid_cv.predict(X_test_clean)"
   ]
  },
  {
   "cell_type": "code",
   "execution_count": 34,
   "id": "e2af5b83",
   "metadata": {},
   "outputs": [
    {
     "name": "stdout",
     "output_type": "stream",
     "text": [
      "              precision    recall  f1-score   support\n",
      "\n",
      "           0       0.67      0.08      0.14        25\n",
      "           1       0.93      0.84      0.89       147\n",
      "           2       0.75      0.96      0.85       594\n",
      "           3       0.90      0.26      0.41        68\n",
      "           4       0.93      0.66      0.77       123\n",
      "           5       0.80      0.65      0.72       250\n",
      "\n",
      "    accuracy                           0.80      1207\n",
      "   macro avg       0.83      0.58      0.63      1207\n",
      "weighted avg       0.81      0.80      0.78      1207\n",
      "\n"
     ]
    }
   ],
   "source": [
    "print(classification_report(y_test, svc_pred_cv))"
   ]
  },
  {
   "cell_type": "code",
   "execution_count": 35,
   "id": "bc7ccdf8-cb46-4e82-b6d0-7a26061ef8cc",
   "metadata": {},
   "outputs": [
    {
     "data": {
      "image/png": "[encoded data removed]",
      "text/plain": [
       "<Figure size 640x480 with 2 Axes>"
      ]
     },
     "metadata": {},
     "output_type": "display_data"
    }
   ],
   "source": [
    "unique_labels = np.unique(y_test)\n",
    "ConfusionMatrixDisplay.from_predictions(y_test, svc_pred_cv, display_labels=unique_labels)\n",
    "plt.show()"
   ]
  },
  {
   "cell_type": "markdown",
   "id": "5828814a",
   "metadata": {},
   "source": [
    "## Decisiontree"
   ]
  },
  {
   "cell_type": "code",
   "execution_count": 3,
   "id": "b03b5770",
   "metadata": {},
   "outputs": [],
   "source": [
    "# Model Decision Tree\n",
    "decTree = DecisionTreeClassifier(random_state = 123)"
   ]
  },
  {
   "cell_type": "code",
   "execution_count": 4,
   "id": "b930980d",
   "metadata": {},
   "outputs": [
    {
     "data": {
      "text/html": [
       "<style>#sk-container-id-1 {color: black;background-color: white;}#sk-container-id-1 pre{padding: 0;}#sk-container-id-1 div.sk-toggleable {background-color: white;}#sk-container-id-1 label.sk-toggleable__label {cursor: pointer;display: block;width: 100%;margin-bottom: 0;padding: 0.3em;box-sizing: border-box;text-align: center;}#sk-container-id-1 label.sk-toggleable__label-arrow:before {content: \"▸\";float: left;margin-right: 0.25em;color: #696969;}#sk-container-id-1 label.sk-toggleable__label-arrow:hover:before {color: black;}#sk-container-id-1 div.sk-estimator:hover label.sk-toggleable__label-arrow:before {color: black;}#sk-container-id-1 div.sk-toggleable__content {max-height: 0;max-width: 0;overflow: hidden;text-align: left;background-color: #f0f8ff;}#sk-container-id-1 div.sk-toggleable__content pre {margin: 0.2em;color: black;border-radius: 0.25em;background-color: #f0f8ff;}#sk-container-id-1 input.sk-toggleable__control:checked~div.sk-toggleable__content {max-height: 200px;max-width: 100%;overflow: auto;}#sk-container-id-1 input.sk-toggleable__control:checked~label.sk-toggleable__label-arrow:before {content: \"▾\";}#sk-container-id-1 div.sk-estimator input.sk-toggleable__control:checked~label.sk-toggleable__label {background-color: #d4ebff;}#sk-container-id-1 div.sk-label input.sk-toggleable__control:checked~label.sk-toggleable__label {background-color: #d4ebff;}#sk-container-id-1 input.sk-hidden--visually {border: 0;clip: rect(1px 1px 1px 1px);clip: rect(1px, 1px, 1px, 1px);height: 1px;margin: -1px;overflow: hidden;padding: 0;position: absolute;width: 1px;}#sk-container-id-1 div.sk-estimator {font-family: monospace;background-color: #f0f8ff;border: 1px dotted black;border-radius: 0.25em;box-sizing: border-box;margin-bottom: 0.5em;}#sk-container-id-1 div.sk-estimator:hover {background-color: #d4ebff;}#sk-container-id-1 div.sk-parallel-item::after {content: \"\";width: 100%;border-bottom: 1px solid gray;flex-grow: 1;}#sk-container-id-1 div.sk-label:hover label.sk-toggleable__label {background-color: #d4ebff;}#sk-container-id-1 div.sk-serial::before {content: \"\";position: absolute;border-left: 1px solid gray;box-sizing: border-box;top: 0;bottom: 0;left: 50%;z-index: 0;}#sk-container-id-1 div.sk-serial {display: flex;flex-direction: column;align-items: center;background-color: white;padding-right: 0.2em;padding-left: 0.2em;position: relative;}#sk-container-id-1 div.sk-item {position: relative;z-index: 1;}#sk-container-id-1 div.sk-parallel {display: flex;align-items: stretch;justify-content: center;background-color: white;position: relative;}#sk-container-id-1 div.sk-item::before, #sk-container-id-1 div.sk-parallel-item::before {content: \"\";position: absolute;border-left: 1px solid gray;box-sizing: border-box;top: 0;bottom: 0;left: 50%;z-index: -1;}#sk-container-id-1 div.sk-parallel-item {display: flex;flex-direction: column;z-index: 1;position: relative;background-color: white;}#sk-container-id-1 div.sk-parallel-item:first-child::after {align-self: flex-end;width: 50%;}#sk-container-id-1 div.sk-parallel-item:last-child::after {align-self: flex-start;width: 50%;}#sk-container-id-1 div.sk-parallel-item:only-child::after {width: 0;}#sk-container-id-1 div.sk-dashed-wrapped {border: 1px dashed gray;margin: 0 0.4em 0.5em 0.4em;box-sizing: border-box;padding-bottom: 0.4em;background-color: white;}#sk-container-id-1 div.sk-label label {font-family: monospace;font-weight: bold;display: inline-block;line-height: 1.2em;}#sk-container-id-1 div.sk-label-container {text-align: center;}#sk-container-id-1 div.sk-container {/* jupyter's `normalize.less` sets `[hidden] { display: none; }` but bootstrap.min.css set `[hidden] { display: none !important; }` so we also need the `!important` here to be able to override the default hidden behavior on the sphinx rendered scikit-learn.org. See: https://github.com/scikit-learn/scikit-learn/issues/21755 */display: inline-block !important;position: relative;}#sk-container-id-1 div.sk-text-repr-fallback {display: none;}</style><div id=\"sk-container-id-1\" class=\"sk-top-container\"><div class=\"sk-text-repr-fallback\"><pre>DecisionTreeClassifier(random_state=123)</pre><b>In a Jupyter environment, please rerun this cell to show the HTML representation or trust the notebook. <br />On GitHub, the HTML representation is unable to render, please try loading this page with nbviewer.org.</b></div><div class=\"sk-container\" hidden><div class=\"sk-item\"><div class=\"sk-estimator sk-toggleable\"><input class=\"sk-toggleable__control sk-hidden--visually\" id=\"sk-estimator-id-1\" type=\"checkbox\" checked><label for=\"sk-estimator-id-1\" class=\"sk-toggleable__label sk-toggleable__label-arrow\">DecisionTreeClassifier</label><div class=\"sk-toggleable__content\"><pre>DecisionTreeClassifier(random_state=123)</pre></div></div></div></div></div>"
      ],
      "text/plain": [
       "DecisionTreeClassifier(random_state=123)"
      ]
     },
     "execution_count": 4,
     "metadata": {},
     "output_type": "execute_result"
    }
   ],
   "source": [
    "# Fitting model\n",
    "decTree.fit(X_train_clean, y_train)"
   ]
  },
  {
   "cell_type": "code",
   "execution_count": 5,
   "id": "a4b617b2",
   "metadata": {},
   "outputs": [
    {
     "data": {
      "text/plain": [
       "1.0"
      ]
     },
     "execution_count": 5,
     "metadata": {},
     "output_type": "execute_result"
    }
   ],
   "source": [
    "# Model score\n",
    "decTree.score(X_train_clean, y_train)"
   ]
  },
  {
   "cell_type": "code",
   "execution_count": 6,
   "id": "bbdc03ed",
   "metadata": {},
   "outputs": [],
   "source": [
    "#Prediksi data menggunakan data test\n",
    "dectree_predict = decTree.predict(X_test_clean)"
   ]
  },
  {
   "cell_type": "code",
   "execution_count": 7,
   "id": "8f677d5a",
   "metadata": {},
   "outputs": [
    {
     "name": "stdout",
     "output_type": "stream",
     "text": [
      "              precision    recall  f1-score   support\n",
      "\n",
      "           0       0.37      0.28      0.32        25\n",
      "           1       0.70      0.72      0.71       147\n",
      "           2       0.80      0.75      0.78       594\n",
      "           3       0.40      0.31      0.35        68\n",
      "           4       0.44      0.65      0.53       123\n",
      "           5       0.64      0.63      0.64       250\n",
      "\n",
      "    accuracy                           0.68      1207\n",
      "   macro avg       0.56      0.56      0.55      1207\n",
      "weighted avg       0.69      0.68      0.68      1207\n",
      "\n"
     ]
    }
   ],
   "source": [
    "#Melihat Classification report\n",
    "print(classification_report(y_test, dectree_predict))"
   ]
  },
  {
   "cell_type": "code",
   "execution_count": 8,
   "id": "b0e753d6",
   "metadata": {},
   "outputs": [
    {
     "name": "stdout",
     "output_type": "stream",
     "text": [
      "Training Data Score: 1.0\n",
      "Validating Data Score: 0.6985111662531017\n",
      "Testing Data Score: 0.6785418392709196\n"
     ]
    }
   ],
   "source": [
    "#Melihat score prediksi dari data train, valid dan test\n",
    "print(f\"Training Data Score: {decTree.score(X_train_clean, y_train)}\")\n",
    "print(f\"Validating Data Score: {decTree.score(X_valid_clean, y_valid)}\")\n",
    "print(f\"Testing Data Score: {decTree.score(X_test_clean, y_test)}\")"
   ]
  },
  {
   "cell_type": "markdown",
   "id": "11a5b44a",
   "metadata": {},
   "source": [
    "## Tuning Parameter Decisiontree"
   ]
  },
  {
   "cell_type": "code",
   "execution_count": 9,
   "id": "a74787e4",
   "metadata": {},
   "outputs": [],
   "source": [
    "# Buat parameter untuk eksperimen\n",
    "decTree_param = {\"max_depth\": [2, 3, 4, 5, 6, 7, 8, 9, 10, 11, 12],\n",
    "                \"criterion\": [\"gini\", \"entropy\", \"log_loss\"],\n",
    "                 'min_samples_split': [2, 5, 10],\n",
    "                 'min_samples_leaf': [1, 2, 4],}"
   ]
  },
  {
   "cell_type": "code",
   "execution_count": 10,
   "id": "93127a9f",
   "metadata": {},
   "outputs": [],
   "source": [
    "# Buat plan eksperimentasi\n",
    "random_decTree = GridSearchCV(estimator = DecisionTreeClassifier(random_state=123),\n",
    "                              param_grid = decTree_param,\n",
    "                              cv = 5,\n",
    "                              scoring = \"accuracy\") "
   ]
  },
  {
   "cell_type": "code",
   "execution_count": 11,
   "id": "5e46ac51",
   "metadata": {},
   "outputs": [
    {
     "data": {
      "text/html": [
       "<style>#sk-container-id-2 {color: black;background-color: white;}#sk-container-id-2 pre{padding: 0;}#sk-container-id-2 div.sk-toggleable {background-color: white;}#sk-container-id-2 label.sk-toggleable__label {cursor: pointer;display: block;width: 100%;margin-bottom: 0;padding: 0.3em;box-sizing: border-box;text-align: center;}#sk-container-id-2 label.sk-toggleable__label-arrow:before {content: \"▸\";float: left;margin-right: 0.25em;color: #696969;}#sk-container-id-2 label.sk-toggleable__label-arrow:hover:before {color: black;}#sk-container-id-2 div.sk-estimator:hover label.sk-toggleable__label-arrow:before {color: black;}#sk-container-id-2 div.sk-toggleable__content {max-height: 0;max-width: 0;overflow: hidden;text-align: left;background-color: #f0f8ff;}#sk-container-id-2 div.sk-toggleable__content pre {margin: 0.2em;color: black;border-radius: 0.25em;background-color: #f0f8ff;}#sk-container-id-2 input.sk-toggleable__control:checked~div.sk-toggleable__content {max-height: 200px;max-width: 100%;overflow: auto;}#sk-container-id-2 input.sk-toggleable__control:checked~label.sk-toggleable__label-arrow:before {content: \"▾\";}#sk-container-id-2 div.sk-estimator input.sk-toggleable__control:checked~label.sk-toggleable__label {background-color: #d4ebff;}#sk-container-id-2 div.sk-label input.sk-toggleable__control:checked~label.sk-toggleable__label {background-color: #d4ebff;}#sk-container-id-2 input.sk-hidden--visually {border: 0;clip: rect(1px 1px 1px 1px);clip: rect(1px, 1px, 1px, 1px);height: 1px;margin: -1px;overflow: hidden;padding: 0;position: absolute;width: 1px;}#sk-container-id-2 div.sk-estimator {font-family: monospace;background-color: #f0f8ff;border: 1px dotted black;border-radius: 0.25em;box-sizing: border-box;margin-bottom: 0.5em;}#sk-container-id-2 div.sk-estimator:hover {background-color: #d4ebff;}#sk-container-id-2 div.sk-parallel-item::after {content: \"\";width: 100%;border-bottom: 1px solid gray;flex-grow: 1;}#sk-container-id-2 div.sk-label:hover label.sk-toggleable__label {background-color: #d4ebff;}#sk-container-id-2 div.sk-serial::before {content: \"\";position: absolute;border-left: 1px solid gray;box-sizing: border-box;top: 0;bottom: 0;left: 50%;z-index: 0;}#sk-container-id-2 div.sk-serial {display: flex;flex-direction: column;align-items: center;background-color: white;padding-right: 0.2em;padding-left: 0.2em;position: relative;}#sk-container-id-2 div.sk-item {position: relative;z-index: 1;}#sk-container-id-2 div.sk-parallel {display: flex;align-items: stretch;justify-content: center;background-color: white;position: relative;}#sk-container-id-2 div.sk-item::before, #sk-container-id-2 div.sk-parallel-item::before {content: \"\";position: absolute;border-left: 1px solid gray;box-sizing: border-box;top: 0;bottom: 0;left: 50%;z-index: -1;}#sk-container-id-2 div.sk-parallel-item {display: flex;flex-direction: column;z-index: 1;position: relative;background-color: white;}#sk-container-id-2 div.sk-parallel-item:first-child::after {align-self: flex-end;width: 50%;}#sk-container-id-2 div.sk-parallel-item:last-child::after {align-self: flex-start;width: 50%;}#sk-container-id-2 div.sk-parallel-item:only-child::after {width: 0;}#sk-container-id-2 div.sk-dashed-wrapped {border: 1px dashed gray;margin: 0 0.4em 0.5em 0.4em;box-sizing: border-box;padding-bottom: 0.4em;background-color: white;}#sk-container-id-2 div.sk-label label {font-family: monospace;font-weight: bold;display: inline-block;line-height: 1.2em;}#sk-container-id-2 div.sk-label-container {text-align: center;}#sk-container-id-2 div.sk-container {/* jupyter's `normalize.less` sets `[hidden] { display: none; }` but bootstrap.min.css set `[hidden] { display: none !important; }` so we also need the `!important` here to be able to override the default hidden behavior on the sphinx rendered scikit-learn.org. See: https://github.com/scikit-learn/scikit-learn/issues/21755 */display: inline-block !important;position: relative;}#sk-container-id-2 div.sk-text-repr-fallback {display: none;}</style><div id=\"sk-container-id-2\" class=\"sk-top-container\"><div class=\"sk-text-repr-fallback\"><pre>GridSearchCV(cv=5, estimator=DecisionTreeClassifier(random_state=123),\n",
       "             param_grid={&#x27;criterion&#x27;: [&#x27;gini&#x27;, &#x27;entropy&#x27;, &#x27;log_loss&#x27;],\n",
       "                         &#x27;max_depth&#x27;: [2, 3, 4, 5, 6, 7, 8, 9, 10, 11, 12],\n",
       "                         &#x27;min_samples_leaf&#x27;: [1, 2, 4],\n",
       "                         &#x27;min_samples_split&#x27;: [2, 5, 10]},\n",
       "             scoring=&#x27;accuracy&#x27;)</pre><b>In a Jupyter environment, please rerun this cell to show the HTML representation or trust the notebook. <br />On GitHub, the HTML representation is unable to render, please try loading this page with nbviewer.org.</b></div><div class=\"sk-container\" hidden><div class=\"sk-item sk-dashed-wrapped\"><div class=\"sk-label-container\"><div class=\"sk-label sk-toggleable\"><input class=\"sk-toggleable__control sk-hidden--visually\" id=\"sk-estimator-id-2\" type=\"checkbox\" ><label for=\"sk-estimator-id-2\" class=\"sk-toggleable__label sk-toggleable__label-arrow\">GridSearchCV</label><div class=\"sk-toggleable__content\"><pre>GridSearchCV(cv=5, estimator=DecisionTreeClassifier(random_state=123),\n",
       "             param_grid={&#x27;criterion&#x27;: [&#x27;gini&#x27;, &#x27;entropy&#x27;, &#x27;log_loss&#x27;],\n",
       "                         &#x27;max_depth&#x27;: [2, 3, 4, 5, 6, 7, 8, 9, 10, 11, 12],\n",
       "                         &#x27;min_samples_leaf&#x27;: [1, 2, 4],\n",
       "                         &#x27;min_samples_split&#x27;: [2, 5, 10]},\n",
       "             scoring=&#x27;accuracy&#x27;)</pre></div></div></div><div class=\"sk-parallel\"><div class=\"sk-parallel-item\"><div class=\"sk-item\"><div class=\"sk-label-container\"><div class=\"sk-label sk-toggleable\"><input class=\"sk-toggleable__control sk-hidden--visually\" id=\"sk-estimator-id-3\" type=\"checkbox\" ><label for=\"sk-estimator-id-3\" class=\"sk-toggleable__label sk-toggleable__label-arrow\">estimator: DecisionTreeClassifier</label><div class=\"sk-toggleable__content\"><pre>DecisionTreeClassifier(random_state=123)</pre></div></div></div><div class=\"sk-serial\"><div class=\"sk-item\"><div class=\"sk-estimator sk-toggleable\"><input class=\"sk-toggleable__control sk-hidden--visually\" id=\"sk-estimator-id-4\" type=\"checkbox\" ><label for=\"sk-estimator-id-4\" class=\"sk-toggleable__label sk-toggleable__label-arrow\">DecisionTreeClassifier</label><div class=\"sk-toggleable__content\"><pre>DecisionTreeClassifier(random_state=123)</pre></div></div></div></div></div></div></div></div></div></div>"
      ],
      "text/plain": [
       "GridSearchCV(cv=5, estimator=DecisionTreeClassifier(random_state=123),\n",
       "             param_grid={'criterion': ['gini', 'entropy', 'log_loss'],\n",
       "                         'max_depth': [2, 3, 4, 5, 6, 7, 8, 9, 10, 11, 12],\n",
       "                         'min_samples_leaf': [1, 2, 4],\n",
       "                         'min_samples_split': [2, 5, 10]},\n",
       "             scoring='accuracy')"
      ]
     },
     "execution_count": 11,
     "metadata": {},
     "output_type": "execute_result"
    }
   ],
   "source": [
    "# Lakukan fitting eksperimentasi\n",
    "random_decTree.fit(X_train_clean, y_train)"
   ]
  },
  {
   "cell_type": "code",
   "execution_count": 12,
   "id": "48a790c9",
   "metadata": {},
   "outputs": [
    {
     "data": {
      "text/plain": [
       "{'criterion': 'gini',\n",
       " 'max_depth': 12,\n",
       " 'min_samples_leaf': 1,\n",
       " 'min_samples_split': 2}"
      ]
     },
     "execution_count": 12,
     "metadata": {},
     "output_type": "execute_result"
    }
   ],
   "source": [
    "random_decTree.best_params_"
   ]
  },
  {
   "cell_type": "code",
   "execution_count": 13,
   "id": "a4470ba4",
   "metadata": {},
   "outputs": [],
   "source": [
    "# Buat model\n",
    "best_decTree = DecisionTreeClassifier(max_depth = random_decTree.best_params_[\"max_depth\"],\n",
    "                                      criterion = random_decTree.best_params_[\"criterion\"],\n",
    "                                      min_samples_leaf = random_decTree.best_params_[\"min_samples_leaf\"],\n",
    "                                      min_samples_split = random_decTree.best_params_[\"min_samples_split\"],\n",
    "                                      random_state = 123)"
   ]
  },
  {
   "cell_type": "code",
   "execution_count": 14,
   "id": "79916272",
   "metadata": {},
   "outputs": [
    {
     "data": {
      "text/html": [
       "<style>#sk-container-id-3 {color: black;background-color: white;}#sk-container-id-3 pre{padding: 0;}#sk-container-id-3 div.sk-toggleable {background-color: white;}#sk-container-id-3 label.sk-toggleable__label {cursor: pointer;display: block;width: 100%;margin-bottom: 0;padding: 0.3em;box-sizing: border-box;text-align: center;}#sk-container-id-3 label.sk-toggleable__label-arrow:before {content: \"▸\";float: left;margin-right: 0.25em;color: #696969;}#sk-container-id-3 label.sk-toggleable__label-arrow:hover:before {color: black;}#sk-container-id-3 div.sk-estimator:hover label.sk-toggleable__label-arrow:before {color: black;}#sk-container-id-3 div.sk-toggleable__content {max-height: 0;max-width: 0;overflow: hidden;text-align: left;background-color: #f0f8ff;}#sk-container-id-3 div.sk-toggleable__content pre {margin: 0.2em;color: black;border-radius: 0.25em;background-color: #f0f8ff;}#sk-container-id-3 input.sk-toggleable__control:checked~div.sk-toggleable__content {max-height: 200px;max-width: 100%;overflow: auto;}#sk-container-id-3 input.sk-toggleable__control:checked~label.sk-toggleable__label-arrow:before {content: \"▾\";}#sk-container-id-3 div.sk-estimator input.sk-toggleable__control:checked~label.sk-toggleable__label {background-color: #d4ebff;}#sk-container-id-3 div.sk-label input.sk-toggleable__control:checked~label.sk-toggleable__label {background-color: #d4ebff;}#sk-container-id-3 input.sk-hidden--visually {border: 0;clip: rect(1px 1px 1px 1px);clip: rect(1px, 1px, 1px, 1px);height: 1px;margin: -1px;overflow: hidden;padding: 0;position: absolute;width: 1px;}#sk-container-id-3 div.sk-estimator {font-family: monospace;background-color: #f0f8ff;border: 1px dotted black;border-radius: 0.25em;box-sizing: border-box;margin-bottom: 0.5em;}#sk-container-id-3 div.sk-estimator:hover {background-color: #d4ebff;}#sk-container-id-3 div.sk-parallel-item::after {content: \"\";width: 100%;border-bottom: 1px solid gray;flex-grow: 1;}#sk-container-id-3 div.sk-label:hover label.sk-toggleable__label {background-color: #d4ebff;}#sk-container-id-3 div.sk-serial::before {content: \"\";position: absolute;border-left: 1px solid gray;box-sizing: border-box;top: 0;bottom: 0;left: 50%;z-index: 0;}#sk-container-id-3 div.sk-serial {display: flex;flex-direction: column;align-items: center;background-color: white;padding-right: 0.2em;padding-left: 0.2em;position: relative;}#sk-container-id-3 div.sk-item {position: relative;z-index: 1;}#sk-container-id-3 div.sk-parallel {display: flex;align-items: stretch;justify-content: center;background-color: white;position: relative;}#sk-container-id-3 div.sk-item::before, #sk-container-id-3 div.sk-parallel-item::before {content: \"\";position: absolute;border-left: 1px solid gray;box-sizing: border-box;top: 0;bottom: 0;left: 50%;z-index: -1;}#sk-container-id-3 div.sk-parallel-item {display: flex;flex-direction: column;z-index: 1;position: relative;background-color: white;}#sk-container-id-3 div.sk-parallel-item:first-child::after {align-self: flex-end;width: 50%;}#sk-container-id-3 div.sk-parallel-item:last-child::after {align-self: flex-start;width: 50%;}#sk-container-id-3 div.sk-parallel-item:only-child::after {width: 0;}#sk-container-id-3 div.sk-dashed-wrapped {border: 1px dashed gray;margin: 0 0.4em 0.5em 0.4em;box-sizing: border-box;padding-bottom: 0.4em;background-color: white;}#sk-container-id-3 div.sk-label label {font-family: monospace;font-weight: bold;display: inline-block;line-height: 1.2em;}#sk-container-id-3 div.sk-label-container {text-align: center;}#sk-container-id-3 div.sk-container {/* jupyter's `normalize.less` sets `[hidden] { display: none; }` but bootstrap.min.css set `[hidden] { display: none !important; }` so we also need the `!important` here to be able to override the default hidden behavior on the sphinx rendered scikit-learn.org. See: https://github.com/scikit-learn/scikit-learn/issues/21755 */display: inline-block !important;position: relative;}#sk-container-id-3 div.sk-text-repr-fallback {display: none;}</style><div id=\"sk-container-id-3\" class=\"sk-top-container\"><div class=\"sk-text-repr-fallback\"><pre>DecisionTreeClassifier(max_depth=12, random_state=123)</pre><b>In a Jupyter environment, please rerun this cell to show the HTML representation or trust the notebook. <br />On GitHub, the HTML representation is unable to render, please try loading this page with nbviewer.org.</b></div><div class=\"sk-container\" hidden><div class=\"sk-item\"><div class=\"sk-estimator sk-toggleable\"><input class=\"sk-toggleable__control sk-hidden--visually\" id=\"sk-estimator-id-5\" type=\"checkbox\" checked><label for=\"sk-estimator-id-5\" class=\"sk-toggleable__label sk-toggleable__label-arrow\">DecisionTreeClassifier</label><div class=\"sk-toggleable__content\"><pre>DecisionTreeClassifier(max_depth=12, random_state=123)</pre></div></div></div></div></div>"
      ],
      "text/plain": [
       "DecisionTreeClassifier(max_depth=12, random_state=123)"
      ]
     },
     "execution_count": 14,
     "metadata": {},
     "output_type": "execute_result"
    }
   ],
   "source": [
    "# Fit model\n",
    "best_decTree.fit(X_train_clean, y_train)"
   ]
  },
  {
   "cell_type": "code",
   "execution_count": 15,
   "id": "7724e94e",
   "metadata": {},
   "outputs": [
    {
     "data": {
      "text/plain": [
       "0.6092896174863388"
      ]
     },
     "execution_count": 15,
     "metadata": {},
     "output_type": "execute_result"
    }
   ],
   "source": [
    "# Cek Train data\n",
    "best_decTree.score(X_train_clean, y_train)"
   ]
  },
  {
   "cell_type": "code",
   "execution_count": 16,
   "id": "bb8ca1f2",
   "metadata": {},
   "outputs": [],
   "source": [
    "y_predict_dectree = best_decTree.predict(X_test_clean)"
   ]
  },
  {
   "cell_type": "code",
   "execution_count": 17,
   "id": "2e148f66",
   "metadata": {},
   "outputs": [
    {
     "name": "stdout",
     "output_type": "stream",
     "text": [
      "              precision    recall  f1-score   support\n",
      "\n",
      "           0       0.00      0.00      0.00        25\n",
      "           1       0.69      0.57      0.62       147\n",
      "           2       0.57      0.95      0.71       594\n",
      "           3       0.50      0.07      0.13        68\n",
      "           4       0.85      0.14      0.24       123\n",
      "           5       0.81      0.18      0.30       250\n",
      "\n",
      "    accuracy                           0.60      1207\n",
      "   macro avg       0.57      0.32      0.33      1207\n",
      "weighted avg       0.65      0.60      0.52      1207\n",
      "\n"
     ]
    }
   ],
   "source": [
    "print(classification_report(y_test, y_predict_dectree))"
   ]
  },
  {
   "cell_type": "code",
   "execution_count": 18,
   "id": "ede4e61b",
   "metadata": {},
   "outputs": [
    {
     "name": "stdout",
     "output_type": "stream",
     "text": [
      "Training Data Score: 0.6092896174863388\n",
      "Validating Data Score: 0.6166253101736973\n",
      "Testing Data Score: 0.5956917978458989\n"
     ]
    }
   ],
   "source": [
    "print(f\"Training Data Score: {best_decTree.score(X_train_clean, y_train)}\")\n",
    "print(f\"Validating Data Score: {best_decTree.score(X_valid_clean, y_valid)}\")\n",
    "print(f\"Testing Data Score: {best_decTree.score(X_test_clean, y_test)}\")"
   ]
  },
  {
   "cell_type": "code",
   "execution_count": 19,
   "id": "0738114e",
   "metadata": {},
   "outputs": [
    {
     "data": {
      "image/png": "[encoded data removed]",
      "text/plain": [
       "<Figure size 640x480 with 2 Axes>"
      ]
     },
     "metadata": {},
     "output_type": "display_data"
    }
   ],
   "source": [
    "unique_labels = np.unique(y_test)\n",
    "ConfusionMatrixDisplay.from_predictions(y_test, y_predict_dectree, display_labels=unique_labels)\n",
    "plt.show()"
   ]
  },
  {
   "cell_type": "markdown",
   "id": "2463ddab",
   "metadata": {},
   "source": [
    "## Randomforest Classifier"
   ]
  },
  {
   "cell_type": "code",
   "execution_count": 20,
   "id": "1187cbe5",
   "metadata": {},
   "outputs": [],
   "source": [
    "# Build random forest\n",
    "random_forest = RandomForestClassifier(n_estimators = 100, \n",
    "                                       criterion = \"gini\",\n",
    "                                       max_features = \"sqrt\",\n",
    "                                       max_depth=6, \n",
    "                                       min_samples_leaf=8,\n",
    "                                       random_state = 123)"
   ]
  },
  {
   "cell_type": "code",
   "execution_count": 21,
   "id": "8297613f",
   "metadata": {},
   "outputs": [
    {
     "data": {
      "text/html": [
       "<style>#sk-container-id-4 {color: black;background-color: white;}#sk-container-id-4 pre{padding: 0;}#sk-container-id-4 div.sk-toggleable {background-color: white;}#sk-container-id-4 label.sk-toggleable__label {cursor: pointer;display: block;width: 100%;margin-bottom: 0;padding: 0.3em;box-sizing: border-box;text-align: center;}#sk-container-id-4 label.sk-toggleable__label-arrow:before {content: \"▸\";float: left;margin-right: 0.25em;color: #696969;}#sk-container-id-4 label.sk-toggleable__label-arrow:hover:before {color: black;}#sk-container-id-4 div.sk-estimator:hover label.sk-toggleable__label-arrow:before {color: black;}#sk-container-id-4 div.sk-toggleable__content {max-height: 0;max-width: 0;overflow: hidden;text-align: left;background-color: #f0f8ff;}#sk-container-id-4 div.sk-toggleable__content pre {margin: 0.2em;color: black;border-radius: 0.25em;background-color: #f0f8ff;}#sk-container-id-4 input.sk-toggleable__control:checked~div.sk-toggleable__content {max-height: 200px;max-width: 100%;overflow: auto;}#sk-container-id-4 input.sk-toggleable__control:checked~label.sk-toggleable__label-arrow:before {content: \"▾\";}#sk-container-id-4 div.sk-estimator input.sk-toggleable__control:checked~label.sk-toggleable__label {background-color: #d4ebff;}#sk-container-id-4 div.sk-label input.sk-toggleable__control:checked~label.sk-toggleable__label {background-color: #d4ebff;}#sk-container-id-4 input.sk-hidden--visually {border: 0;clip: rect(1px 1px 1px 1px);clip: rect(1px, 1px, 1px, 1px);height: 1px;margin: -1px;overflow: hidden;padding: 0;position: absolute;width: 1px;}#sk-container-id-4 div.sk-estimator {font-family: monospace;background-color: #f0f8ff;border: 1px dotted black;border-radius: 0.25em;box-sizing: border-box;margin-bottom: 0.5em;}#sk-container-id-4 div.sk-estimator:hover {background-color: #d4ebff;}#sk-container-id-4 div.sk-parallel-item::after {content: \"\";width: 100%;border-bottom: 1px solid gray;flex-grow: 1;}#sk-container-id-4 div.sk-label:hover label.sk-toggleable__label {background-color: #d4ebff;}#sk-container-id-4 div.sk-serial::before {content: \"\";position: absolute;border-left: 1px solid gray;box-sizing: border-box;top: 0;bottom: 0;left: 50%;z-index: 0;}#sk-container-id-4 div.sk-serial {display: flex;flex-direction: column;align-items: center;background-color: white;padding-right: 0.2em;padding-left: 0.2em;position: relative;}#sk-container-id-4 div.sk-item {position: relative;z-index: 1;}#sk-container-id-4 div.sk-parallel {display: flex;align-items: stretch;justify-content: center;background-color: white;position: relative;}#sk-container-id-4 div.sk-item::before, #sk-container-id-4 div.sk-parallel-item::before {content: \"\";position: absolute;border-left: 1px solid gray;box-sizing: border-box;top: 0;bottom: 0;left: 50%;z-index: -1;}#sk-container-id-4 div.sk-parallel-item {display: flex;flex-direction: column;z-index: 1;position: relative;background-color: white;}#sk-container-id-4 div.sk-parallel-item:first-child::after {align-self: flex-end;width: 50%;}#sk-container-id-4 div.sk-parallel-item:last-child::after {align-self: flex-start;width: 50%;}#sk-container-id-4 div.sk-parallel-item:only-child::after {width: 0;}#sk-container-id-4 div.sk-dashed-wrapped {border: 1px dashed gray;margin: 0 0.4em 0.5em 0.4em;box-sizing: border-box;padding-bottom: 0.4em;background-color: white;}#sk-container-id-4 div.sk-label label {font-family: monospace;font-weight: bold;display: inline-block;line-height: 1.2em;}#sk-container-id-4 div.sk-label-container {text-align: center;}#sk-container-id-4 div.sk-container {/* jupyter's `normalize.less` sets `[hidden] { display: none; }` but bootstrap.min.css set `[hidden] { display: none !important; }` so we also need the `!important` here to be able to override the default hidden behavior on the sphinx rendered scikit-learn.org. See: https://github.com/scikit-learn/scikit-learn/issues/21755 */display: inline-block !important;position: relative;}#sk-container-id-4 div.sk-text-repr-fallback {display: none;}</style><div id=\"sk-container-id-4\" class=\"sk-top-container\"><div class=\"sk-text-repr-fallback\"><pre>RandomForestClassifier(max_depth=6, min_samples_leaf=8, random_state=123)</pre><b>In a Jupyter environment, please rerun this cell to show the HTML representation or trust the notebook. <br />On GitHub, the HTML representation is unable to render, please try loading this page with nbviewer.org.</b></div><div class=\"sk-container\" hidden><div class=\"sk-item\"><div class=\"sk-estimator sk-toggleable\"><input class=\"sk-toggleable__control sk-hidden--visually\" id=\"sk-estimator-id-6\" type=\"checkbox\" checked><label for=\"sk-estimator-id-6\" class=\"sk-toggleable__label sk-toggleable__label-arrow\">RandomForestClassifier</label><div class=\"sk-toggleable__content\"><pre>RandomForestClassifier(max_depth=6, min_samples_leaf=8, random_state=123)</pre></div></div></div></div></div>"
      ],
      "text/plain": [
       "RandomForestClassifier(max_depth=6, min_samples_leaf=8, random_state=123)"
      ]
     },
     "execution_count": 21,
     "metadata": {},
     "output_type": "execute_result"
    }
   ],
   "source": [
    "random_forest.fit(X_train_clean, y_train)"
   ]
  },
  {
   "cell_type": "code",
   "execution_count": 22,
   "id": "8c86acb4",
   "metadata": {},
   "outputs": [
    {
     "data": {
      "text/html": [
       "<style>#sk-container-id-5 {color: black;background-color: white;}#sk-container-id-5 pre{padding: 0;}#sk-container-id-5 div.sk-toggleable {background-color: white;}#sk-container-id-5 label.sk-toggleable__label {cursor: pointer;display: block;width: 100%;margin-bottom: 0;padding: 0.3em;box-sizing: border-box;text-align: center;}#sk-container-id-5 label.sk-toggleable__label-arrow:before {content: \"▸\";float: left;margin-right: 0.25em;color: #696969;}#sk-container-id-5 label.sk-toggleable__label-arrow:hover:before {color: black;}#sk-container-id-5 div.sk-estimator:hover label.sk-toggleable__label-arrow:before {color: black;}#sk-container-id-5 div.sk-toggleable__content {max-height: 0;max-width: 0;overflow: hidden;text-align: left;background-color: #f0f8ff;}#sk-container-id-5 div.sk-toggleable__content pre {margin: 0.2em;color: black;border-radius: 0.25em;background-color: #f0f8ff;}#sk-container-id-5 input.sk-toggleable__control:checked~div.sk-toggleable__content {max-height: 200px;max-width: 100%;overflow: auto;}#sk-container-id-5 input.sk-toggleable__control:checked~label.sk-toggleable__label-arrow:before {content: \"▾\";}#sk-container-id-5 div.sk-estimator input.sk-toggleable__control:checked~label.sk-toggleable__label {background-color: #d4ebff;}#sk-container-id-5 div.sk-label input.sk-toggleable__control:checked~label.sk-toggleable__label {background-color: #d4ebff;}#sk-container-id-5 input.sk-hidden--visually {border: 0;clip: rect(1px 1px 1px 1px);clip: rect(1px, 1px, 1px, 1px);height: 1px;margin: -1px;overflow: hidden;padding: 0;position: absolute;width: 1px;}#sk-container-id-5 div.sk-estimator {font-family: monospace;background-color: #f0f8ff;border: 1px dotted black;border-radius: 0.25em;box-sizing: border-box;margin-bottom: 0.5em;}#sk-container-id-5 div.sk-estimator:hover {background-color: #d4ebff;}#sk-container-id-5 div.sk-parallel-item::after {content: \"\";width: 100%;border-bottom: 1px solid gray;flex-grow: 1;}#sk-container-id-5 div.sk-label:hover label.sk-toggleable__label {background-color: #d4ebff;}#sk-container-id-5 div.sk-serial::before {content: \"\";position: absolute;border-left: 1px solid gray;box-sizing: border-box;top: 0;bottom: 0;left: 50%;z-index: 0;}#sk-container-id-5 div.sk-serial {display: flex;flex-direction: column;align-items: center;background-color: white;padding-right: 0.2em;padding-left: 0.2em;position: relative;}#sk-container-id-5 div.sk-item {position: relative;z-index: 1;}#sk-container-id-5 div.sk-parallel {display: flex;align-items: stretch;justify-content: center;background-color: white;position: relative;}#sk-container-id-5 div.sk-item::before, #sk-container-id-5 div.sk-parallel-item::before {content: \"\";position: absolute;border-left: 1px solid gray;box-sizing: border-box;top: 0;bottom: 0;left: 50%;z-index: -1;}#sk-container-id-5 div.sk-parallel-item {display: flex;flex-direction: column;z-index: 1;position: relative;background-color: white;}#sk-container-id-5 div.sk-parallel-item:first-child::after {align-self: flex-end;width: 50%;}#sk-container-id-5 div.sk-parallel-item:last-child::after {align-self: flex-start;width: 50%;}#sk-container-id-5 div.sk-parallel-item:only-child::after {width: 0;}#sk-container-id-5 div.sk-dashed-wrapped {border: 1px dashed gray;margin: 0 0.4em 0.5em 0.4em;box-sizing: border-box;padding-bottom: 0.4em;background-color: white;}#sk-container-id-5 div.sk-label label {font-family: monospace;font-weight: bold;display: inline-block;line-height: 1.2em;}#sk-container-id-5 div.sk-label-container {text-align: center;}#sk-container-id-5 div.sk-container {/* jupyter's `normalize.less` sets `[hidden] { display: none; }` but bootstrap.min.css set `[hidden] { display: none !important; }` so we also need the `!important` here to be able to override the default hidden behavior on the sphinx rendered scikit-learn.org. See: https://github.com/scikit-learn/scikit-learn/issues/21755 */display: inline-block !important;position: relative;}#sk-container-id-5 div.sk-text-repr-fallback {display: none;}</style><div id=\"sk-container-id-5\" class=\"sk-top-container\"><div class=\"sk-text-repr-fallback\"><pre>RandomForestClassifier(max_depth=6, min_samples_leaf=8, random_state=123)</pre><b>In a Jupyter environment, please rerun this cell to show the HTML representation or trust the notebook. <br />On GitHub, the HTML representation is unable to render, please try loading this page with nbviewer.org.</b></div><div class=\"sk-container\" hidden><div class=\"sk-item\"><div class=\"sk-estimator sk-toggleable\"><input class=\"sk-toggleable__control sk-hidden--visually\" id=\"sk-estimator-id-7\" type=\"checkbox\" checked><label for=\"sk-estimator-id-7\" class=\"sk-toggleable__label sk-toggleable__label-arrow\">RandomForestClassifier</label><div class=\"sk-toggleable__content\"><pre>RandomForestClassifier(max_depth=6, min_samples_leaf=8, random_state=123)</pre></div></div></div></div></div>"
      ],
      "text/plain": [
       "RandomForestClassifier(max_depth=6, min_samples_leaf=8, random_state=123)"
      ]
     },
     "execution_count": 22,
     "metadata": {},
     "output_type": "execute_result"
    }
   ],
   "source": [
    "random_forest.fit(X_train_clean, y_train)"
   ]
  },
  {
   "cell_type": "code",
   "execution_count": 23,
   "id": "0befb2e9",
   "metadata": {},
   "outputs": [
    {
     "data": {
      "text/plain": [
       "0.4930452061599603"
      ]
     },
     "execution_count": 23,
     "metadata": {},
     "output_type": "execute_result"
    }
   ],
   "source": [
    "# Model score\n",
    "random_forest.score(X_train_clean, y_train)"
   ]
  },
  {
   "cell_type": "code",
   "execution_count": 24,
   "id": "d6f54f8c",
   "metadata": {},
   "outputs": [],
   "source": [
    "y_pred_rf = random_forest.predict(X_test_clean)"
   ]
  },
  {
   "cell_type": "code",
   "execution_count": 25,
   "id": "e171133b",
   "metadata": {},
   "outputs": [
    {
     "name": "stdout",
     "output_type": "stream",
     "text": [
      "              precision    recall  f1-score   support\n",
      "\n",
      "           0       0.00      0.00      0.00        25\n",
      "           1       0.00      0.00      0.00       147\n",
      "           2       0.49      1.00      0.66       594\n",
      "           3       0.00      0.00      0.00        68\n",
      "           4       0.00      0.00      0.00       123\n",
      "           5       0.00      0.00      0.00       250\n",
      "\n",
      "    accuracy                           0.49      1207\n",
      "   macro avg       0.08      0.17      0.11      1207\n",
      "weighted avg       0.24      0.49      0.32      1207\n",
      "\n"
     ]
    }
   ],
   "source": [
    "print(classification_report(y_test, y_pred_rf))"
   ]
  },
  {
   "cell_type": "code",
   "execution_count": 26,
   "id": "bd28fb06",
   "metadata": {},
   "outputs": [
    {
     "data": {
      "image/png": "[encoded data removed]",
      "text/plain": [
       "<Figure size 640x480 with 2 Axes>"
      ]
     },
     "metadata": {},
     "output_type": "display_data"
    }
   ],
   "source": [
    "unique_labels = np.unique(y_test)\n",
    "ConfusionMatrixDisplay.from_predictions(y_test, y_pred_rf, display_labels=unique_labels)\n",
    "plt.show()"
   ]
  },
  {
   "cell_type": "markdown",
   "id": "85c8c9a1",
   "metadata": {},
   "source": [
    "## Tuning Parameter Randomforest"
   ]
  },
  {
   "cell_type": "code",
   "execution_count": 27,
   "id": "ad00f78b",
   "metadata": {},
   "outputs": [],
   "source": [
    "# Buat parameter untuk eksperimen\n",
    "random_param = {\"max_depth\": [2, 3, 4, 5, 6, 7, 8, 9, 10, 11, 12],\n",
    "                'n_estimators': [50, 100, 200],\n",
    "                'min_samples_leaf': [1, 2, 4],\n",
    "                'min_samples_split': [2, 5, 10],\n",
    "                \"criterion\": [\"gini\", \"entropy\"]\n",
    "                }"
   ]
  },
  {
   "cell_type": "code",
   "execution_count": 28,
   "id": "d40a7cec",
   "metadata": {},
   "outputs": [],
   "source": [
    "# Buat plan eksperimentasi\n",
    "random_forestcls = GridSearchCV(estimator = RandomForestClassifier(random_state=123),\n",
    "                                param_grid = random_param,\n",
    "                                cv = 5,\n",
    "                                scoring = \"accuracy\") "
   ]
  },
  {
   "cell_type": "code",
   "execution_count": null,
   "id": "b3d4b2e3",
   "metadata": {},
   "outputs": [],
   "source": [
    "# Lakukan fitting eksperimentasi\n",
    "random_forestcls.fit(X_train_clean, y_train)"
   ]
  },
  {
   "cell_type": "code",
   "execution_count": null,
   "id": "900462d3",
   "metadata": {},
   "outputs": [],
   "source": [
    "random_forestcls.best_params_"
   ]
  },
  {
   "cell_type": "code",
   "execution_count": null,
   "id": "8d1c89f9",
   "metadata": {},
   "outputs": [],
   "source": [
    "# Buat model\n",
    "random_forestcls_cv = RandomForestClassifier(max_depth = random_forestcls.best_params_[\"max_depth\"],\n",
    "                                             criterion = random_forestcls.best_params_[\"criterion\"],\n",
    "                                             n_estimators = random_forestcls.best_params_[\"n_estimators\"],\n",
    "                                             min_samples_leaf = random_forestcls.best_params_[\"min_samples_leaf\"],\n",
    "                                             min_samples_split = random_forestcls.best_params_[\"min_samples_split\"],\n",
    "                                             random_state = 123)"
   ]
  },
  {
   "cell_type": "code",
   "execution_count": null,
   "id": "881bcd92",
   "metadata": {},
   "outputs": [],
   "source": [
    "# Fit model\n",
    "random_forestcls_cv.fit(X_train_clean, y_train)"
   ]
  },
  {
   "cell_type": "code",
   "execution_count": null,
   "id": "b4b6bfe9",
   "metadata": {},
   "outputs": [],
   "source": [
    "predict_randomcls_cv = random_forestcls_cv.predict(X_test_clean)"
   ]
  },
  {
   "cell_type": "code",
   "execution_count": null,
   "id": "0674960b",
   "metadata": {},
   "outputs": [],
   "source": [
    "print(classification_report(y_test, predict_randomcls_cv))"
   ]
  },
  {
   "cell_type": "code",
   "execution_count": null,
   "id": "e98caf47",
   "metadata": {},
   "outputs": [],
   "source": [
    "print(f\"Training Data Score: {random_forestcls_cv.score(X_train_clean, y_train)}\")\n",
    "print(f\"Validating Data Score: {random_forestcls_cv.score(X_valid_clean, y_valid)}\")\n",
    "print(f\"Testing Data Score: {random_forestcls_cv.score(X_test_clean, y_test)}\")"
   ]
  },
  {
   "cell_type": "code",
   "execution_count": null,
   "id": "fbec3c0e",
   "metadata": {},
   "outputs": [],
   "source": [
    "unique_labels = np.unique(y_test)\n",
    "ConfusionMatrixDisplay.from_predictions(y_test, predict_randomcls_cv, display_labels=unique_labels)\n",
    "plt.show()"
   ]
  },
  {
   "cell_type": "markdown",
   "id": "99f4c2aa",
   "metadata": {},
   "source": [
    "## Ridge Classifier"
   ]
  },
  {
   "cell_type": "code",
   "execution_count": 36,
   "id": "8ff949d5",
   "metadata": {},
   "outputs": [],
   "source": [
    "ridge = RidgeClassifier(random_state = 123) #create a ridge classifier object"
   ]
  },
  {
   "cell_type": "code",
   "execution_count": 37,
   "id": "336549ab",
   "metadata": {},
   "outputs": [
    {
     "data": {
      "text/html": [
       "<style>#sk-container-id-7 {color: black;background-color: white;}#sk-container-id-7 pre{padding: 0;}#sk-container-id-7 div.sk-toggleable {background-color: white;}#sk-container-id-7 label.sk-toggleable__label {cursor: pointer;display: block;width: 100%;margin-bottom: 0;padding: 0.3em;box-sizing: border-box;text-align: center;}#sk-container-id-7 label.sk-toggleable__label-arrow:before {content: \"▸\";float: left;margin-right: 0.25em;color: #696969;}#sk-container-id-7 label.sk-toggleable__label-arrow:hover:before {color: black;}#sk-container-id-7 div.sk-estimator:hover label.sk-toggleable__label-arrow:before {color: black;}#sk-container-id-7 div.sk-toggleable__content {max-height: 0;max-width: 0;overflow: hidden;text-align: left;background-color: #f0f8ff;}#sk-container-id-7 div.sk-toggleable__content pre {margin: 0.2em;color: black;border-radius: 0.25em;background-color: #f0f8ff;}#sk-container-id-7 input.sk-toggleable__control:checked~div.sk-toggleable__content {max-height: 200px;max-width: 100%;overflow: auto;}#sk-container-id-7 input.sk-toggleable__control:checked~label.sk-toggleable__label-arrow:before {content: \"▾\";}#sk-container-id-7 div.sk-estimator input.sk-toggleable__control:checked~label.sk-toggleable__label {background-color: #d4ebff;}#sk-container-id-7 div.sk-label input.sk-toggleable__control:checked~label.sk-toggleable__label {background-color: #d4ebff;}#sk-container-id-7 input.sk-hidden--visually {border: 0;clip: rect(1px 1px 1px 1px);clip: rect(1px, 1px, 1px, 1px);height: 1px;margin: -1px;overflow: hidden;padding: 0;position: absolute;width: 1px;}#sk-container-id-7 div.sk-estimator {font-family: monospace;background-color: #f0f8ff;border: 1px dotted black;border-radius: 0.25em;box-sizing: border-box;margin-bottom: 0.5em;}#sk-container-id-7 div.sk-estimator:hover {background-color: #d4ebff;}#sk-container-id-7 div.sk-parallel-item::after {content: \"\";width: 100%;border-bottom: 1px solid gray;flex-grow: 1;}#sk-container-id-7 div.sk-label:hover label.sk-toggleable__label {background-color: #d4ebff;}#sk-container-id-7 div.sk-serial::before {content: \"\";position: absolute;border-left: 1px solid gray;box-sizing: border-box;top: 0;bottom: 0;left: 50%;z-index: 0;}#sk-container-id-7 div.sk-serial {display: flex;flex-direction: column;align-items: center;background-color: white;padding-right: 0.2em;padding-left: 0.2em;position: relative;}#sk-container-id-7 div.sk-item {position: relative;z-index: 1;}#sk-container-id-7 div.sk-parallel {display: flex;align-items: stretch;justify-content: center;background-color: white;position: relative;}#sk-container-id-7 div.sk-item::before, #sk-container-id-7 div.sk-parallel-item::before {content: \"\";position: absolute;border-left: 1px solid gray;box-sizing: border-box;top: 0;bottom: 0;left: 50%;z-index: -1;}#sk-container-id-7 div.sk-parallel-item {display: flex;flex-direction: column;z-index: 1;position: relative;background-color: white;}#sk-container-id-7 div.sk-parallel-item:first-child::after {align-self: flex-end;width: 50%;}#sk-container-id-7 div.sk-parallel-item:last-child::after {align-self: flex-start;width: 50%;}#sk-container-id-7 div.sk-parallel-item:only-child::after {width: 0;}#sk-container-id-7 div.sk-dashed-wrapped {border: 1px dashed gray;margin: 0 0.4em 0.5em 0.4em;box-sizing: border-box;padding-bottom: 0.4em;background-color: white;}#sk-container-id-7 div.sk-label label {font-family: monospace;font-weight: bold;display: inline-block;line-height: 1.2em;}#sk-container-id-7 div.sk-label-container {text-align: center;}#sk-container-id-7 div.sk-container {/* jupyter's `normalize.less` sets `[hidden] { display: none; }` but bootstrap.min.css set `[hidden] { display: none !important; }` so we also need the `!important` here to be able to override the default hidden behavior on the sphinx rendered scikit-learn.org. See: https://github.com/scikit-learn/scikit-learn/issues/21755 */display: inline-block !important;position: relative;}#sk-container-id-7 div.sk-text-repr-fallback {display: none;}</style><div id=\"sk-container-id-7\" class=\"sk-top-container\"><div class=\"sk-text-repr-fallback\"><pre>RidgeClassifier(random_state=123)</pre><b>In a Jupyter environment, please rerun this cell to show the HTML representation or trust the notebook. <br />On GitHub, the HTML representation is unable to render, please try loading this page with nbviewer.org.</b></div><div class=\"sk-container\" hidden><div class=\"sk-item\"><div class=\"sk-estimator sk-toggleable\"><input class=\"sk-toggleable__control sk-hidden--visually\" id=\"sk-estimator-id-11\" type=\"checkbox\" checked><label for=\"sk-estimator-id-11\" class=\"sk-toggleable__label sk-toggleable__label-arrow\">RidgeClassifier</label><div class=\"sk-toggleable__content\"><pre>RidgeClassifier(random_state=123)</pre></div></div></div></div></div>"
      ],
      "text/plain": [
       "RidgeClassifier(random_state=123)"
      ]
     },
     "execution_count": 37,
     "metadata": {},
     "output_type": "execute_result"
    }
   ],
   "source": [
    "ridge.fit(X_train_clean, y_train) #train the model"
   ]
  },
  {
   "cell_type": "code",
   "execution_count": 38,
   "id": "1676dcc4",
   "metadata": {},
   "outputs": [
    {
     "data": {
      "text/plain": [
       "0.9911823149528067"
      ]
     },
     "execution_count": 38,
     "metadata": {},
     "output_type": "execute_result"
    }
   ],
   "source": [
    "ridge.score(X_train_clean, y_train)"
   ]
  },
  {
   "cell_type": "code",
   "execution_count": 39,
   "id": "ee605ef2",
   "metadata": {},
   "outputs": [],
   "source": [
    "pred_ridge = ridge.predict(X_test_clean)"
   ]
  },
  {
   "cell_type": "code",
   "execution_count": 40,
   "id": "f0f33c3b",
   "metadata": {},
   "outputs": [
    {
     "name": "stdout",
     "output_type": "stream",
     "text": [
      "              precision    recall  f1-score   support\n",
      "\n",
      "           0       0.79      0.44      0.56        25\n",
      "           1       0.94      0.88      0.91       147\n",
      "           2       0.83      0.95      0.89       594\n",
      "           3       0.82      0.54      0.65        68\n",
      "           4       0.88      0.80      0.84       123\n",
      "           5       0.84      0.72      0.77       250\n",
      "\n",
      "    accuracy                           0.85      1207\n",
      "   macro avg       0.85      0.72      0.77      1207\n",
      "weighted avg       0.85      0.85      0.84      1207\n",
      "\n"
     ]
    }
   ],
   "source": [
    "print(classification_report(y_test, pred_ridge))"
   ]
  },
  {
   "cell_type": "code",
   "execution_count": 41,
   "id": "f600b577",
   "metadata": {},
   "outputs": [
    {
     "name": "stdout",
     "output_type": "stream",
     "text": [
      "Training Data Score: 0.9911823149528067\n",
      "Validating Data Score: 0.8486352357320099\n",
      "Testing Data Score: 0.8475559237779619\n"
     ]
    }
   ],
   "source": [
    "print(f\"Training Data Score: {ridge.score(X_train_clean, y_train)}\")\n",
    "print(f\"Validating Data Score: {ridge.score(X_valid_clean, y_valid)}\")\n",
    "print(f\"Testing Data Score: {ridge.score(X_test_clean, y_test)}\")"
   ]
  },
  {
   "cell_type": "markdown",
   "id": "aee31291",
   "metadata": {},
   "source": [
    "## Tuning Parameter Ridge Classifier"
   ]
  },
  {
   "cell_type": "code",
   "execution_count": 42,
   "id": "bd44e283",
   "metadata": {},
   "outputs": [],
   "source": [
    "clf_ridge = RidgeClassifier(random_state = 123)\n",
    "\n",
    "alpha = [0.1, 0.2, 0.3, 0.4, 0.5, 0.6, 0.7, 0.8, 0.9, 1.0]\n",
    "\n",
    "# define grid search\n",
    "grid = dict(alpha=alpha)\n",
    "\n",
    "cv = RepeatedStratifiedKFold(n_splits=10, n_repeats=3, random_state=1)\n",
    "\n",
    "ridge_cv = GridSearchCV(estimator=clf_ridge, param_grid=grid, n_jobs=-1, cv=cv, scoring='accuracy',error_score=0)"
   ]
  },
  {
   "cell_type": "code",
   "execution_count": 43,
   "id": "0b02a7cd",
   "metadata": {},
   "outputs": [
    {
     "data": {
      "text/html": [
       "<style>#sk-container-id-8 {color: black;background-color: white;}#sk-container-id-8 pre{padding: 0;}#sk-container-id-8 div.sk-toggleable {background-color: white;}#sk-container-id-8 label.sk-toggleable__label {cursor: pointer;display: block;width: 100%;margin-bottom: 0;padding: 0.3em;box-sizing: border-box;text-align: center;}#sk-container-id-8 label.sk-toggleable__label-arrow:before {content: \"▸\";float: left;margin-right: 0.25em;color: #696969;}#sk-container-id-8 label.sk-toggleable__label-arrow:hover:before {color: black;}#sk-container-id-8 div.sk-estimator:hover label.sk-toggleable__label-arrow:before {color: black;}#sk-container-id-8 div.sk-toggleable__content {max-height: 0;max-width: 0;overflow: hidden;text-align: left;background-color: #f0f8ff;}#sk-container-id-8 div.sk-toggleable__content pre {margin: 0.2em;color: black;border-radius: 0.25em;background-color: #f0f8ff;}#sk-container-id-8 input.sk-toggleable__control:checked~div.sk-toggleable__content {max-height: 200px;max-width: 100%;overflow: auto;}#sk-container-id-8 input.sk-toggleable__control:checked~label.sk-toggleable__label-arrow:before {content: \"▾\";}#sk-container-id-8 div.sk-estimator input.sk-toggleable__control:checked~label.sk-toggleable__label {background-color: #d4ebff;}#sk-container-id-8 div.sk-label input.sk-toggleable__control:checked~label.sk-toggleable__label {background-color: #d4ebff;}#sk-container-id-8 input.sk-hidden--visually {border: 0;clip: rect(1px 1px 1px 1px);clip: rect(1px, 1px, 1px, 1px);height: 1px;margin: -1px;overflow: hidden;padding: 0;position: absolute;width: 1px;}#sk-container-id-8 div.sk-estimator {font-family: monospace;background-color: #f0f8ff;border: 1px dotted black;border-radius: 0.25em;box-sizing: border-box;margin-bottom: 0.5em;}#sk-container-id-8 div.sk-estimator:hover {background-color: #d4ebff;}#sk-container-id-8 div.sk-parallel-item::after {content: \"\";width: 100%;border-bottom: 1px solid gray;flex-grow: 1;}#sk-container-id-8 div.sk-label:hover label.sk-toggleable__label {background-color: #d4ebff;}#sk-container-id-8 div.sk-serial::before {content: \"\";position: absolute;border-left: 1px solid gray;box-sizing: border-box;top: 0;bottom: 0;left: 50%;z-index: 0;}#sk-container-id-8 div.sk-serial {display: flex;flex-direction: column;align-items: center;background-color: white;padding-right: 0.2em;padding-left: 0.2em;position: relative;}#sk-container-id-8 div.sk-item {position: relative;z-index: 1;}#sk-container-id-8 div.sk-parallel {display: flex;align-items: stretch;justify-content: center;background-color: white;position: relative;}#sk-container-id-8 div.sk-item::before, #sk-container-id-8 div.sk-parallel-item::before {content: \"\";position: absolute;border-left: 1px solid gray;box-sizing: border-box;top: 0;bottom: 0;left: 50%;z-index: -1;}#sk-container-id-8 div.sk-parallel-item {display: flex;flex-direction: column;z-index: 1;position: relative;background-color: white;}#sk-container-id-8 div.sk-parallel-item:first-child::after {align-self: flex-end;width: 50%;}#sk-container-id-8 div.sk-parallel-item:last-child::after {align-self: flex-start;width: 50%;}#sk-container-id-8 div.sk-parallel-item:only-child::after {width: 0;}#sk-container-id-8 div.sk-dashed-wrapped {border: 1px dashed gray;margin: 0 0.4em 0.5em 0.4em;box-sizing: border-box;padding-bottom: 0.4em;background-color: white;}#sk-container-id-8 div.sk-label label {font-family: monospace;font-weight: bold;display: inline-block;line-height: 1.2em;}#sk-container-id-8 div.sk-label-container {text-align: center;}#sk-container-id-8 div.sk-container {/* jupyter's `normalize.less` sets `[hidden] { display: none; }` but bootstrap.min.css set `[hidden] { display: none !important; }` so we also need the `!important` here to be able to override the default hidden behavior on the sphinx rendered scikit-learn.org. See: https://github.com/scikit-learn/scikit-learn/issues/21755 */display: inline-block !important;position: relative;}#sk-container-id-8 div.sk-text-repr-fallback {display: none;}</style><div id=\"sk-container-id-8\" class=\"sk-top-container\"><div class=\"sk-text-repr-fallback\"><pre>GridSearchCV(cv=RepeatedStratifiedKFold(n_repeats=3, n_splits=10, random_state=1),\n",
       "             error_score=0, estimator=RidgeClassifier(random_state=123),\n",
       "             n_jobs=-1,\n",
       "             param_grid={&#x27;alpha&#x27;: [0.1, 0.2, 0.3, 0.4, 0.5, 0.6, 0.7, 0.8, 0.9,\n",
       "                                   1.0]},\n",
       "             scoring=&#x27;accuracy&#x27;)</pre><b>In a Jupyter environment, please rerun this cell to show the HTML representation or trust the notebook. <br />On GitHub, the HTML representation is unable to render, please try loading this page with nbviewer.org.</b></div><div class=\"sk-container\" hidden><div class=\"sk-item sk-dashed-wrapped\"><div class=\"sk-label-container\"><div class=\"sk-label sk-toggleable\"><input class=\"sk-toggleable__control sk-hidden--visually\" id=\"sk-estimator-id-12\" type=\"checkbox\" ><label for=\"sk-estimator-id-12\" class=\"sk-toggleable__label sk-toggleable__label-arrow\">GridSearchCV</label><div class=\"sk-toggleable__content\"><pre>GridSearchCV(cv=RepeatedStratifiedKFold(n_repeats=3, n_splits=10, random_state=1),\n",
       "             error_score=0, estimator=RidgeClassifier(random_state=123),\n",
       "             n_jobs=-1,\n",
       "             param_grid={&#x27;alpha&#x27;: [0.1, 0.2, 0.3, 0.4, 0.5, 0.6, 0.7, 0.8, 0.9,\n",
       "                                   1.0]},\n",
       "             scoring=&#x27;accuracy&#x27;)</pre></div></div></div><div class=\"sk-parallel\"><div class=\"sk-parallel-item\"><div class=\"sk-item\"><div class=\"sk-label-container\"><div class=\"sk-label sk-toggleable\"><input class=\"sk-toggleable__control sk-hidden--visually\" id=\"sk-estimator-id-13\" type=\"checkbox\" ><label for=\"sk-estimator-id-13\" class=\"sk-toggleable__label sk-toggleable__label-arrow\">estimator: RidgeClassifier</label><div class=\"sk-toggleable__content\"><pre>RidgeClassifier(random_state=123)</pre></div></div></div><div class=\"sk-serial\"><div class=\"sk-item\"><div class=\"sk-estimator sk-toggleable\"><input class=\"sk-toggleable__control sk-hidden--visually\" id=\"sk-estimator-id-14\" type=\"checkbox\" ><label for=\"sk-estimator-id-14\" class=\"sk-toggleable__label sk-toggleable__label-arrow\">RidgeClassifier</label><div class=\"sk-toggleable__content\"><pre>RidgeClassifier(random_state=123)</pre></div></div></div></div></div></div></div></div></div></div>"
      ],
      "text/plain": [
       "GridSearchCV(cv=RepeatedStratifiedKFold(n_repeats=3, n_splits=10, random_state=1),\n",
       "             error_score=0, estimator=RidgeClassifier(random_state=123),\n",
       "             n_jobs=-1,\n",
       "             param_grid={'alpha': [0.1, 0.2, 0.3, 0.4, 0.5, 0.6, 0.7, 0.8, 0.9,\n",
       "                                   1.0]},\n",
       "             scoring='accuracy')"
      ]
     },
     "execution_count": 43,
     "metadata": {},
     "output_type": "execute_result"
    }
   ],
   "source": [
    "ridge_cv.fit(X_train_clean, y_train)"
   ]
  },
  {
   "cell_type": "code",
   "execution_count": 44,
   "id": "c42fff83",
   "metadata": {},
   "outputs": [
    {
     "data": {
      "text/plain": [
       "{'alpha': 0.4}"
      ]
     },
     "execution_count": 44,
     "metadata": {},
     "output_type": "execute_result"
    }
   ],
   "source": [
    "ridge_cv.best_params_"
   ]
  },
  {
   "cell_type": "code",
   "execution_count": 45,
   "id": "462b1213",
   "metadata": {},
   "outputs": [],
   "source": [
    "# Buat model\n",
    "ridge_cv = RidgeClassifier(alpha = ridge_cv.best_params_[\"alpha\"],\n",
    "                           random_state = 123)"
   ]
  },
  {
   "cell_type": "code",
   "execution_count": 46,
   "id": "040baeda",
   "metadata": {},
   "outputs": [
    {
     "data": {
      "text/html": [
       "<style>#sk-container-id-9 {color: black;background-color: white;}#sk-container-id-9 pre{padding: 0;}#sk-container-id-9 div.sk-toggleable {background-color: white;}#sk-container-id-9 label.sk-toggleable__label {cursor: pointer;display: block;width: 100%;margin-bottom: 0;padding: 0.3em;box-sizing: border-box;text-align: center;}#sk-container-id-9 label.sk-toggleable__label-arrow:before {content: \"▸\";float: left;margin-right: 0.25em;color: #696969;}#sk-container-id-9 label.sk-toggleable__label-arrow:hover:before {color: black;}#sk-container-id-9 div.sk-estimator:hover label.sk-toggleable__label-arrow:before {color: black;}#sk-container-id-9 div.sk-toggleable__content {max-height: 0;max-width: 0;overflow: hidden;text-align: left;background-color: #f0f8ff;}#sk-container-id-9 div.sk-toggleable__content pre {margin: 0.2em;color: black;border-radius: 0.25em;background-color: #f0f8ff;}#sk-container-id-9 input.sk-toggleable__control:checked~div.sk-toggleable__content {max-height: 200px;max-width: 100%;overflow: auto;}#sk-container-id-9 input.sk-toggleable__control:checked~label.sk-toggleable__label-arrow:before {content: \"▾\";}#sk-container-id-9 div.sk-estimator input.sk-toggleable__control:checked~label.sk-toggleable__label {background-color: #d4ebff;}#sk-container-id-9 div.sk-label input.sk-toggleable__control:checked~label.sk-toggleable__label {background-color: #d4ebff;}#sk-container-id-9 input.sk-hidden--visually {border: 0;clip: rect(1px 1px 1px 1px);clip: rect(1px, 1px, 1px, 1px);height: 1px;margin: -1px;overflow: hidden;padding: 0;position: absolute;width: 1px;}#sk-container-id-9 div.sk-estimator {font-family: monospace;background-color: #f0f8ff;border: 1px dotted black;border-radius: 0.25em;box-sizing: border-box;margin-bottom: 0.5em;}#sk-container-id-9 div.sk-estimator:hover {background-color: #d4ebff;}#sk-container-id-9 div.sk-parallel-item::after {content: \"\";width: 100%;border-bottom: 1px solid gray;flex-grow: 1;}#sk-container-id-9 div.sk-label:hover label.sk-toggleable__label {background-color: #d4ebff;}#sk-container-id-9 div.sk-serial::before {content: \"\";position: absolute;border-left: 1px solid gray;box-sizing: border-box;top: 0;bottom: 0;left: 50%;z-index: 0;}#sk-container-id-9 div.sk-serial {display: flex;flex-direction: column;align-items: center;background-color: white;padding-right: 0.2em;padding-left: 0.2em;position: relative;}#sk-container-id-9 div.sk-item {position: relative;z-index: 1;}#sk-container-id-9 div.sk-parallel {display: flex;align-items: stretch;justify-content: center;background-color: white;position: relative;}#sk-container-id-9 div.sk-item::before, #sk-container-id-9 div.sk-parallel-item::before {content: \"\";position: absolute;border-left: 1px solid gray;box-sizing: border-box;top: 0;bottom: 0;left: 50%;z-index: -1;}#sk-container-id-9 div.sk-parallel-item {display: flex;flex-direction: column;z-index: 1;position: relative;background-color: white;}#sk-container-id-9 div.sk-parallel-item:first-child::after {align-self: flex-end;width: 50%;}#sk-container-id-9 div.sk-parallel-item:last-child::after {align-self: flex-start;width: 50%;}#sk-container-id-9 div.sk-parallel-item:only-child::after {width: 0;}#sk-container-id-9 div.sk-dashed-wrapped {border: 1px dashed gray;margin: 0 0.4em 0.5em 0.4em;box-sizing: border-box;padding-bottom: 0.4em;background-color: white;}#sk-container-id-9 div.sk-label label {font-family: monospace;font-weight: bold;display: inline-block;line-height: 1.2em;}#sk-container-id-9 div.sk-label-container {text-align: center;}#sk-container-id-9 div.sk-container {/* jupyter's `normalize.less` sets `[hidden] { display: none; }` but bootstrap.min.css set `[hidden] { display: none !important; }` so we also need the `!important` here to be able to override the default hidden behavior on the sphinx rendered scikit-learn.org. See: https://github.com/scikit-learn/scikit-learn/issues/21755 */display: inline-block !important;position: relative;}#sk-container-id-9 div.sk-text-repr-fallback {display: none;}</style><div id=\"sk-container-id-9\" class=\"sk-top-container\"><div class=\"sk-text-repr-fallback\"><pre>RidgeClassifier(alpha=0.4, random_state=123)</pre><b>In a Jupyter environment, please rerun this cell to show the HTML representation or trust the notebook. <br />On GitHub, the HTML representation is unable to render, please try loading this page with nbviewer.org.</b></div><div class=\"sk-container\" hidden><div class=\"sk-item\"><div class=\"sk-estimator sk-toggleable\"><input class=\"sk-toggleable__control sk-hidden--visually\" id=\"sk-estimator-id-15\" type=\"checkbox\" checked><label for=\"sk-estimator-id-15\" class=\"sk-toggleable__label sk-toggleable__label-arrow\">RidgeClassifier</label><div class=\"sk-toggleable__content\"><pre>RidgeClassifier(alpha=0.4, random_state=123)</pre></div></div></div></div></div>"
      ],
      "text/plain": [
       "RidgeClassifier(alpha=0.4, random_state=123)"
      ]
     },
     "execution_count": 46,
     "metadata": {},
     "output_type": "execute_result"
    }
   ],
   "source": [
    "# Fit model\n",
    "ridge_cv.fit(X_train_clean, y_train)"
   ]
  },
  {
   "cell_type": "code",
   "execution_count": 47,
   "id": "96d4efa2",
   "metadata": {},
   "outputs": [
    {
     "data": {
      "text/plain": [
       "0.9993790362642822"
      ]
     },
     "execution_count": 47,
     "metadata": {},
     "output_type": "execute_result"
    }
   ],
   "source": [
    "# Cek Test data\n",
    "ridge_cv.score(X_train_clean, y_train)"
   ]
  },
  {
   "cell_type": "code",
   "execution_count": 48,
   "id": "f2ac6d1a",
   "metadata": {},
   "outputs": [],
   "source": [
    "predict_ridgecv = ridge_cv.predict(X_test_clean)"
   ]
  },
  {
   "cell_type": "code",
   "execution_count": 49,
   "id": "2407b6be",
   "metadata": {},
   "outputs": [
    {
     "name": "stdout",
     "output_type": "stream",
     "text": [
      "              precision    recall  f1-score   support\n",
      "\n",
      "           0       0.76      0.52      0.62        25\n",
      "           1       0.94      0.90      0.92       147\n",
      "           2       0.84      0.94      0.89       594\n",
      "           3       0.76      0.57      0.66        68\n",
      "           4       0.85      0.81      0.83       123\n",
      "           5       0.83      0.73      0.78       250\n",
      "\n",
      "    accuracy                           0.85      1207\n",
      "   macro avg       0.83      0.75      0.78      1207\n",
      "weighted avg       0.85      0.85      0.84      1207\n",
      "\n"
     ]
    }
   ],
   "source": [
    "print(classification_report(y_test, predict_ridgecv))"
   ]
  },
  {
   "cell_type": "code",
   "execution_count": 50,
   "id": "23446aaa",
   "metadata": {},
   "outputs": [
    {
     "name": "stdout",
     "output_type": "stream",
     "text": [
      "Training Data Score: 0.9993790362642822\n",
      "Validating Data Score: 0.8387096774193549\n",
      "Testing Data Score: 0.8475559237779619\n"
     ]
    }
   ],
   "source": [
    "print(f\"Training Data Score: {ridge_cv.score(X_train_clean, y_train)}\")\n",
    "print(f\"Validating Data Score: {ridge_cv.score(X_valid_clean, y_valid)}\")\n",
    "print(f\"Testing Data Score: {ridge_cv.score(X_test_clean, y_test)}\")"
   ]
  },
  {
   "cell_type": "code",
   "execution_count": 51,
   "id": "034ad890",
   "metadata": {},
   "outputs": [
    {
     "data": {
      "image/png": "[encoded data removed]",
      "text/plain": [
       "<Figure size 640x480 with 2 Axes>"
      ]
     },
     "metadata": {},
     "output_type": "display_data"
    }
   ],
   "source": [
    "unique_labels = np.unique(y_test)\n",
    "ConfusionMatrixDisplay.from_predictions(y_test, predict_ridgecv, display_labels=unique_labels)\n",
    "plt.show()"
   ]
  },
  {
   "cell_type": "markdown",
   "id": "9a261060",
   "metadata": {},
   "source": [
    "## KNeighborsClassifier"
   ]
  },
  {
   "cell_type": "code",
   "execution_count": 3,
   "id": "9f0071ca",
   "metadata": {},
   "outputs": [],
   "source": [
    "# Build KNeighborsRegressor\n",
    "knn_awal = KNeighborsClassifier()"
   ]
  },
  {
   "cell_type": "code",
   "execution_count": 4,
   "id": "da0e675d",
   "metadata": {},
   "outputs": [
    {
     "data": {
      "text/html": [
       "<style>#sk-container-id-1 {color: black;background-color: white;}#sk-container-id-1 pre{padding: 0;}#sk-container-id-1 div.sk-toggleable {background-color: white;}#sk-container-id-1 label.sk-toggleable__label {cursor: pointer;display: block;width: 100%;margin-bottom: 0;padding: 0.3em;box-sizing: border-box;text-align: center;}#sk-container-id-1 label.sk-toggleable__label-arrow:before {content: \"▸\";float: left;margin-right: 0.25em;color: #696969;}#sk-container-id-1 label.sk-toggleable__label-arrow:hover:before {color: black;}#sk-container-id-1 div.sk-estimator:hover label.sk-toggleable__label-arrow:before {color: black;}#sk-container-id-1 div.sk-toggleable__content {max-height: 0;max-width: 0;overflow: hidden;text-align: left;background-color: #f0f8ff;}#sk-container-id-1 div.sk-toggleable__content pre {margin: 0.2em;color: black;border-radius: 0.25em;background-color: #f0f8ff;}#sk-container-id-1 input.sk-toggleable__control:checked~div.sk-toggleable__content {max-height: 200px;max-width: 100%;overflow: auto;}#sk-container-id-1 input.sk-toggleable__control:checked~label.sk-toggleable__label-arrow:before {content: \"▾\";}#sk-container-id-1 div.sk-estimator input.sk-toggleable__control:checked~label.sk-toggleable__label {background-color: #d4ebff;}#sk-container-id-1 div.sk-label input.sk-toggleable__control:checked~label.sk-toggleable__label {background-color: #d4ebff;}#sk-container-id-1 input.sk-hidden--visually {border: 0;clip: rect(1px 1px 1px 1px);clip: rect(1px, 1px, 1px, 1px);height: 1px;margin: -1px;overflow: hidden;padding: 0;position: absolute;width: 1px;}#sk-container-id-1 div.sk-estimator {font-family: monospace;background-color: #f0f8ff;border: 1px dotted black;border-radius: 0.25em;box-sizing: border-box;margin-bottom: 0.5em;}#sk-container-id-1 div.sk-estimator:hover {background-color: #d4ebff;}#sk-container-id-1 div.sk-parallel-item::after {content: \"\";width: 100%;border-bottom: 1px solid gray;flex-grow: 1;}#sk-container-id-1 div.sk-label:hover label.sk-toggleable__label {background-color: #d4ebff;}#sk-container-id-1 div.sk-serial::before {content: \"\";position: absolute;border-left: 1px solid gray;box-sizing: border-box;top: 0;bottom: 0;left: 50%;z-index: 0;}#sk-container-id-1 div.sk-serial {display: flex;flex-direction: column;align-items: center;background-color: white;padding-right: 0.2em;padding-left: 0.2em;position: relative;}#sk-container-id-1 div.sk-item {position: relative;z-index: 1;}#sk-container-id-1 div.sk-parallel {display: flex;align-items: stretch;justify-content: center;background-color: white;position: relative;}#sk-container-id-1 div.sk-item::before, #sk-container-id-1 div.sk-parallel-item::before {content: \"\";position: absolute;border-left: 1px solid gray;box-sizing: border-box;top: 0;bottom: 0;left: 50%;z-index: -1;}#sk-container-id-1 div.sk-parallel-item {display: flex;flex-direction: column;z-index: 1;position: relative;background-color: white;}#sk-container-id-1 div.sk-parallel-item:first-child::after {align-self: flex-end;width: 50%;}#sk-container-id-1 div.sk-parallel-item:last-child::after {align-self: flex-start;width: 50%;}#sk-container-id-1 div.sk-parallel-item:only-child::after {width: 0;}#sk-container-id-1 div.sk-dashed-wrapped {border: 1px dashed gray;margin: 0 0.4em 0.5em 0.4em;box-sizing: border-box;padding-bottom: 0.4em;background-color: white;}#sk-container-id-1 div.sk-label label {font-family: monospace;font-weight: bold;display: inline-block;line-height: 1.2em;}#sk-container-id-1 div.sk-label-container {text-align: center;}#sk-container-id-1 div.sk-container {/* jupyter's `normalize.less` sets `[hidden] { display: none; }` but bootstrap.min.css set `[hidden] { display: none !important; }` so we also need the `!important` here to be able to override the default hidden behavior on the sphinx rendered scikit-learn.org. See: https://github.com/scikit-learn/scikit-learn/issues/21755 */display: inline-block !important;position: relative;}#sk-container-id-1 div.sk-text-repr-fallback {display: none;}</style><div id=\"sk-container-id-1\" class=\"sk-top-container\"><div class=\"sk-text-repr-fallback\"><pre>KNeighborsClassifier()</pre><b>In a Jupyter environment, please rerun this cell to show the HTML representation or trust the notebook. <br />On GitHub, the HTML representation is unable to render, please try loading this page with nbviewer.org.</b></div><div class=\"sk-container\" hidden><div class=\"sk-item\"><div class=\"sk-estimator sk-toggleable\"><input class=\"sk-toggleable__control sk-hidden--visually\" id=\"sk-estimator-id-1\" type=\"checkbox\" checked><label for=\"sk-estimator-id-1\" class=\"sk-toggleable__label sk-toggleable__label-arrow\">KNeighborsClassifier</label><div class=\"sk-toggleable__content\"><pre>KNeighborsClassifier()</pre></div></div></div></div></div>"
      ],
      "text/plain": [
       "KNeighborsClassifier()"
      ]
     },
     "execution_count": 4,
     "metadata": {},
     "output_type": "execute_result"
    }
   ],
   "source": [
    "# fit KNeighborsRegressor\n",
    "knn_awal.fit(X_train_clean, y_train)"
   ]
  },
  {
   "cell_type": "code",
   "execution_count": 5,
   "id": "50add511",
   "metadata": {},
   "outputs": [
    {
     "data": {
      "text/plain": [
       "0.8731992051664182"
      ]
     },
     "execution_count": 5,
     "metadata": {},
     "output_type": "execute_result"
    }
   ],
   "source": [
    "knn_awal.score(X_train_clean, y_train)"
   ]
  },
  {
   "cell_type": "code",
   "execution_count": 6,
   "id": "336eada5",
   "metadata": {},
   "outputs": [],
   "source": [
    "knn_pred = knn_awal.predict(X_test_clean)"
   ]
  },
  {
   "cell_type": "code",
   "execution_count": 7,
   "id": "f80b4def",
   "metadata": {},
   "outputs": [
    {
     "name": "stdout",
     "output_type": "stream",
     "text": [
      "              precision    recall  f1-score   support\n",
      "\n",
      "           0       0.62      0.52      0.57        25\n",
      "           1       0.86      0.89      0.88       147\n",
      "           2       0.83      0.92      0.87       594\n",
      "           3       0.74      0.37      0.49        68\n",
      "           4       0.62      0.78      0.69       123\n",
      "           5       0.86      0.64      0.73       250\n",
      "\n",
      "    accuracy                           0.80      1207\n",
      "   macro avg       0.75      0.69      0.70      1207\n",
      "weighted avg       0.81      0.80      0.80      1207\n",
      "\n"
     ]
    }
   ],
   "source": [
    "print(classification_report(y_test, knn_pred))"
   ]
  },
  {
   "cell_type": "code",
   "execution_count": 8,
   "id": "1ff7ad8d",
   "metadata": {},
   "outputs": [
    {
     "name": "stdout",
     "output_type": "stream",
     "text": [
      "Training Data Score: 0.8731992051664182\n",
      "Validating Data Score: 0.7866004962779156\n",
      "Testing Data Score: 0.8036454018227009\n"
     ]
    }
   ],
   "source": [
    "print(f\"Training Data Score: {knn_awal.score(X_train_clean, y_train)}\")\n",
    "print(f\"Validating Data Score: {knn_awal.score(X_valid_clean, y_valid)}\")\n",
    "print(f\"Testing Data Score: {knn_awal.score(X_test_clean, y_test)}\")"
   ]
  },
  {
   "cell_type": "code",
   "execution_count": 9,
   "id": "c269e271",
   "metadata": {},
   "outputs": [
    {
     "data": {
      "image/png": "[encoded data removed]",
      "text/plain": [
       "<Figure size 640x480 with 2 Axes>"
      ]
     },
     "metadata": {},
     "output_type": "display_data"
    }
   ],
   "source": [
    "unique_labels = np.unique(y_test)\n",
    "ConfusionMatrixDisplay.from_predictions(y_test, knn_pred, display_labels=unique_labels)\n",
    "plt.show()"
   ]
  },
  {
   "cell_type": "markdown",
   "id": "7aeafd64",
   "metadata": {},
   "source": [
    "## Tuning Parameter KNeighborsClassifier"
   ]
  },
  {
   "cell_type": "code",
   "execution_count": 10,
   "id": "ede28947",
   "metadata": {},
   "outputs": [],
   "source": [
    "kn_param_grid = {\n",
    "    'n_neighbors' : [1, 2, 3, 4, 5, 6, 7, 8, 9, 10, 11, 12, 13, 14, 15, 16, 17, 18, 19, 20, 21, 22, 23, 24, 25, 26, 27, 28, 29, 30],\n",
    "    'weights' : ['uniform', 'distance'],\n",
    "    'algorithm' : ['auto', 'ball_tree', 'kd_tree', 'brute']\n",
    "}"
   ]
  },
  {
   "cell_type": "code",
   "execution_count": 11,
   "id": "a2bfead1",
   "metadata": {},
   "outputs": [],
   "source": [
    "knn = KNeighborsClassifier()"
   ]
  },
  {
   "cell_type": "code",
   "execution_count": 12,
   "id": "969ebd1e",
   "metadata": {},
   "outputs": [],
   "source": [
    "kn_grid = GridSearchCV(knn, kn_param_grid, verbose=3, cv= 5, scoring='accuracy')"
   ]
  },
  {
   "cell_type": "code",
   "execution_count": 13,
   "id": "426168f3",
   "metadata": {},
   "outputs": [
    {
     "name": "stdout",
     "output_type": "stream",
     "text": [
      "Fitting 5 folds for each of 240 candidates, totalling 1200 fits\n",
      "[CV 1/5] END algorithm=auto, n_neighbors=1, weights=uniform;, score=0.162 total time=   1.0s\n",
      "[CV 2/5] END algorithm=auto, n_neighbors=1, weights=uniform;, score=0.161 total time=   1.0s\n",
      "[CV 3/5] END algorithm=auto, n_neighbors=1, weights=uniform;, score=0.171 total time=   0.9s\n",
      "[CV 4/5] END algorithm=auto, n_neighbors=1, weights=uniform;, score=0.773 total time=   0.8s\n",
      "[CV 5/5] END algorithm=auto, n_neighbors=1, weights=uniform;, score=0.153 total time=   1.0s\n",
      "[CV 1/5] END algorithm=auto, n_neighbors=1, weights=distance;, score=0.162 total time=   0.7s\n",
      "[CV 2/5] END algorithm=auto, n_neighbors=1, weights=distance;, score=0.161 total time=   0.7s\n",
      "[CV 3/5] END algorithm=auto, n_neighbors=1, weights=distance;, score=0.171 total time=   0.7s\n",
      "[CV 4/5] END algorithm=auto, n_neighbors=1, weights=distance;, score=0.773 total time=   1.0s\n",
      "[CV 5/5] END algorithm=auto, n_neighbors=1, weights=distance;, score=0.153 total time=   0.9s\n",
      "[CV 1/5] END algorithm=auto, n_neighbors=2, weights=uniform;, score=0.628 total time=   1.0s\n",
      "[CV 2/5] END algorithm=auto, n_neighbors=2, weights=uniform;, score=0.630 total time=   0.9s\n",
      "[CV 3/5] END algorithm=auto, n_neighbors=2, weights=uniform;, score=0.626 total time=   1.0s\n",
      "[CV 4/5] END algorithm=auto, n_neighbors=2, weights=uniform;, score=0.758 total time=   0.9s\n",
      "[CV 5/5] END algorithm=auto, n_neighbors=2, weights=uniform;, score=0.640 total time=   1.0s\n",
      "[CV 1/5] END algorithm=auto, n_neighbors=2, weights=distance;, score=0.162 total time=   0.7s\n",
      "[CV 2/5] END algorithm=auto, n_neighbors=2, weights=distance;, score=0.161 total time=   0.7s\n",
      "[CV 3/5] END algorithm=auto, n_neighbors=2, weights=distance;, score=0.171 total time=   0.7s\n",
      "[CV 4/5] END algorithm=auto, n_neighbors=2, weights=distance;, score=0.773 total time=   1.0s\n",
      "[CV 5/5] END algorithm=auto, n_neighbors=2, weights=distance;, score=0.153 total time=   0.8s\n",
      "[CV 1/5] END algorithm=auto, n_neighbors=3, weights=uniform;, score=0.726 total time=   1.1s\n",
      "[CV 2/5] END algorithm=auto, n_neighbors=3, weights=uniform;, score=0.752 total time=   1.0s\n",
      "[CV 3/5] END algorithm=auto, n_neighbors=3, weights=uniform;, score=0.726 total time=   1.0s\n",
      "[CV 4/5] END algorithm=auto, n_neighbors=3, weights=uniform;, score=0.777 total time=   1.1s\n",
      "[CV 5/5] END algorithm=auto, n_neighbors=3, weights=uniform;, score=0.736 total time=   0.9s\n",
      "[CV 1/5] END algorithm=auto, n_neighbors=3, weights=distance;, score=0.649 total time=   1.0s\n",
      "[CV 2/5] END algorithm=auto, n_neighbors=3, weights=distance;, score=0.661 total time=   0.7s\n",
      "[CV 3/5] END algorithm=auto, n_neighbors=3, weights=distance;, score=0.634 total time=   0.6s\n",
      "[CV 4/5] END algorithm=auto, n_neighbors=3, weights=distance;, score=0.791 total time=   0.6s\n",
      "[CV 5/5] END algorithm=auto, n_neighbors=3, weights=distance;, score=0.653 total time=   0.7s\n",
      "[CV 1/5] END algorithm=auto, n_neighbors=4, weights=uniform;, score=0.760 total time=   0.9s\n",
      "[CV 2/5] END algorithm=auto, n_neighbors=4, weights=uniform;, score=0.777 total time=   0.9s\n",
      "[CV 3/5] END algorithm=auto, n_neighbors=4, weights=uniform;, score=0.755 total time=   0.9s\n",
      "[CV 4/5] END algorithm=auto, n_neighbors=4, weights=uniform;, score=0.793 total time=   0.9s\n",
      "[CV 5/5] END algorithm=auto, n_neighbors=4, weights=uniform;, score=0.771 total time=   0.8s\n",
      "[CV 1/5] END algorithm=auto, n_neighbors=4, weights=distance;, score=0.734 total time=   0.7s\n",
      "[CV 2/5] END algorithm=auto, n_neighbors=4, weights=distance;, score=0.753 total time=   0.6s\n",
      "[CV 3/5] END algorithm=auto, n_neighbors=4, weights=distance;, score=0.716 total time=   0.8s\n",
      "[CV 4/5] END algorithm=auto, n_neighbors=4, weights=distance;, score=0.802 total time=   0.8s\n",
      "[CV 5/5] END algorithm=auto, n_neighbors=4, weights=distance;, score=0.737 total time=   0.7s\n",
      "[CV 1/5] END algorithm=auto, n_neighbors=5, weights=uniform;, score=0.775 total time=   1.0s\n",
      "[CV 2/5] END algorithm=auto, n_neighbors=5, weights=uniform;, score=0.785 total time=   0.9s\n",
      "[CV 3/5] END algorithm=auto, n_neighbors=5, weights=uniform;, score=0.773 total time=   1.0s\n",
      "[CV 4/5] END algorithm=auto, n_neighbors=5, weights=uniform;, score=0.801 total time=   1.2s\n",
      "[CV 5/5] END algorithm=auto, n_neighbors=5, weights=uniform;, score=0.775 total time=   1.0s\n",
      "[CV 1/5] END algorithm=auto, n_neighbors=5, weights=distance;, score=0.756 total time=   0.9s\n",
      "[CV 2/5] END algorithm=auto, n_neighbors=5, weights=distance;, score=0.775 total time=   1.0s\n",
      "[CV 3/5] END algorithm=auto, n_neighbors=5, weights=distance;, score=0.760 total time=   0.9s\n",
      "[CV 4/5] END algorithm=auto, n_neighbors=5, weights=distance;, score=0.814 total time=   1.0s\n",
      "[CV 5/5] END algorithm=auto, n_neighbors=5, weights=distance;, score=0.773 total time=   1.0s\n",
      "[CV 1/5] END algorithm=auto, n_neighbors=6, weights=uniform;, score=0.785 total time=   1.0s\n",
      "[CV 2/5] END algorithm=auto, n_neighbors=6, weights=uniform;, score=0.790 total time=   1.0s\n",
      "[CV 3/5] END algorithm=auto, n_neighbors=6, weights=uniform;, score=0.778 total time=   1.0s\n",
      "[CV 4/5] END algorithm=auto, n_neighbors=6, weights=uniform;, score=0.795 total time=   1.2s\n",
      "[CV 5/5] END algorithm=auto, n_neighbors=6, weights=uniform;, score=0.781 total time=   0.9s\n",
      "[CV 1/5] END algorithm=auto, n_neighbors=6, weights=distance;, score=0.773 total time=   0.7s\n",
      "[CV 2/5] END algorithm=auto, n_neighbors=6, weights=distance;, score=0.784 total time=   0.8s\n",
      "[CV 3/5] END algorithm=auto, n_neighbors=6, weights=distance;, score=0.768 total time=   0.7s\n",
      "[CV 4/5] END algorithm=auto, n_neighbors=6, weights=distance;, score=0.810 total time=   0.7s\n",
      "[CV 5/5] END algorithm=auto, n_neighbors=6, weights=distance;, score=0.785 total time=   0.9s\n",
      "[CV 1/5] END algorithm=auto, n_neighbors=7, weights=uniform;, score=0.784 total time=   0.9s\n",
      "[CV 2/5] END algorithm=auto, n_neighbors=7, weights=uniform;, score=0.789 total time=   1.0s\n",
      "[CV 3/5] END algorithm=auto, n_neighbors=7, weights=uniform;, score=0.780 total time=   0.8s\n",
      "[CV 4/5] END algorithm=auto, n_neighbors=7, weights=uniform;, score=0.798 total time=   0.9s\n",
      "[CV 5/5] END algorithm=auto, n_neighbors=7, weights=uniform;, score=0.788 total time=   1.0s\n",
      "[CV 1/5] END algorithm=auto, n_neighbors=7, weights=distance;, score=0.783 total time=   1.3s\n",
      "[CV 2/5] END algorithm=auto, n_neighbors=7, weights=distance;, score=0.795 total time=   1.5s\n",
      "[CV 3/5] END algorithm=auto, n_neighbors=7, weights=distance;, score=0.776 total time=   1.8s\n",
      "[CV 4/5] END algorithm=auto, n_neighbors=7, weights=distance;, score=0.808 total time=   1.0s\n",
      "[CV 5/5] END algorithm=auto, n_neighbors=7, weights=distance;, score=0.793 total time=   1.0s\n",
      "[CV 1/5] END algorithm=auto, n_neighbors=8, weights=uniform;, score=0.781 total time=   1.3s\n",
      "[CV 2/5] END algorithm=auto, n_neighbors=8, weights=uniform;, score=0.803 total time=   1.1s\n",
      "[CV 3/5] END algorithm=auto, n_neighbors=8, weights=uniform;, score=0.783 total time=   1.2s\n",
      "[CV 4/5] END algorithm=auto, n_neighbors=8, weights=uniform;, score=0.801 total time=   1.0s\n",
      "[CV 5/5] END algorithm=auto, n_neighbors=8, weights=uniform;, score=0.789 total time=   1.7s\n",
      "[CV 1/5] END algorithm=auto, n_neighbors=8, weights=distance;, score=0.788 total time=   1.4s\n",
      "[CV 2/5] END algorithm=auto, n_neighbors=8, weights=distance;, score=0.799 total time=   1.1s\n",
      "[CV 3/5] END algorithm=auto, n_neighbors=8, weights=distance;, score=0.785 total time=   0.9s\n",
      "[CV 4/5] END algorithm=auto, n_neighbors=8, weights=distance;, score=0.810 total time=   0.7s\n",
      "[CV 5/5] END algorithm=auto, n_neighbors=8, weights=distance;, score=0.791 total time=   0.8s\n",
      "[CV 1/5] END algorithm=auto, n_neighbors=9, weights=uniform;, score=0.790 total time=   0.8s\n",
      "[CV 2/5] END algorithm=auto, n_neighbors=9, weights=uniform;, score=0.803 total time=   0.9s\n",
      "[CV 3/5] END algorithm=auto, n_neighbors=9, weights=uniform;, score=0.783 total time=   0.9s\n",
      "[CV 4/5] END algorithm=auto, n_neighbors=9, weights=uniform;, score=0.794 total time=   1.4s\n",
      "[CV 5/5] END algorithm=auto, n_neighbors=9, weights=uniform;, score=0.790 total time=   1.1s\n",
      "[CV 1/5] END algorithm=auto, n_neighbors=9, weights=distance;, score=0.790 total time=   0.9s\n",
      "[CV 2/5] END algorithm=auto, n_neighbors=9, weights=distance;, score=0.800 total time=   1.0s\n",
      "[CV 3/5] END algorithm=auto, n_neighbors=9, weights=distance;, score=0.788 total time=   1.0s\n",
      "[CV 4/5] END algorithm=auto, n_neighbors=9, weights=distance;, score=0.807 total time=   0.9s\n",
      "[CV 5/5] END algorithm=auto, n_neighbors=9, weights=distance;, score=0.795 total time=   0.8s\n",
      "[CV 1/5] END algorithm=auto, n_neighbors=10, weights=uniform;, score=0.787 total time=   0.9s\n",
      "[CV 2/5] END algorithm=auto, n_neighbors=10, weights=uniform;, score=0.799 total time=   0.8s\n",
      "[CV 3/5] END algorithm=auto, n_neighbors=10, weights=uniform;, score=0.781 total time=   0.9s\n",
      "[CV 4/5] END algorithm=auto, n_neighbors=10, weights=uniform;, score=0.799 total time=   1.0s\n",
      "[CV 5/5] END algorithm=auto, n_neighbors=10, weights=uniform;, score=0.793 total time=   1.1s\n",
      "[CV 1/5] END algorithm=auto, n_neighbors=10, weights=distance;, score=0.800 total time=   0.9s\n",
      "[CV 2/5] END algorithm=auto, n_neighbors=10, weights=distance;, score=0.801 total time=   0.9s\n",
      "[CV 3/5] END algorithm=auto, n_neighbors=10, weights=distance;, score=0.791 total time=   1.2s\n",
      "[CV 4/5] END algorithm=auto, n_neighbors=10, weights=distance;, score=0.809 total time=   0.9s\n",
      "[CV 5/5] END algorithm=auto, n_neighbors=10, weights=distance;, score=0.802 total time=   0.8s\n",
      "[CV 1/5] END algorithm=auto, n_neighbors=11, weights=uniform;, score=0.789 total time=   0.9s\n",
      "[CV 2/5] END algorithm=auto, n_neighbors=11, weights=uniform;, score=0.796 total time=   1.0s\n",
      "[CV 3/5] END algorithm=auto, n_neighbors=11, weights=uniform;, score=0.781 total time=   0.9s\n",
      "[CV 4/5] END algorithm=auto, n_neighbors=11, weights=uniform;, score=0.794 total time=   0.9s\n",
      "[CV 5/5] END algorithm=auto, n_neighbors=11, weights=uniform;, score=0.795 total time=   1.0s\n",
      "[CV 1/5] END algorithm=auto, n_neighbors=11, weights=distance;, score=0.795 total time=   1.1s\n",
      "[CV 2/5] END algorithm=auto, n_neighbors=11, weights=distance;, score=0.801 total time=   1.2s\n",
      "[CV 3/5] END algorithm=auto, n_neighbors=11, weights=distance;, score=0.792 total time=   0.6s\n",
      "[CV 4/5] END algorithm=auto, n_neighbors=11, weights=distance;, score=0.805 total time=   1.0s\n",
      "[CV 5/5] END algorithm=auto, n_neighbors=11, weights=distance;, score=0.804 total time=   1.0s\n",
      "[CV 1/5] END algorithm=auto, n_neighbors=12, weights=uniform;, score=0.783 total time=   1.6s\n",
      "[CV 2/5] END algorithm=auto, n_neighbors=12, weights=uniform;, score=0.803 total time=   1.4s\n",
      "[CV 3/5] END algorithm=auto, n_neighbors=12, weights=uniform;, score=0.782 total time=   1.5s\n",
      "[CV 4/5] END algorithm=auto, n_neighbors=12, weights=uniform;, score=0.791 total time=   1.2s\n",
      "[CV 5/5] END algorithm=auto, n_neighbors=12, weights=uniform;, score=0.791 total time=   1.5s\n",
      "[CV 1/5] END algorithm=auto, n_neighbors=12, weights=distance;, score=0.790 total time=   1.1s\n",
      "[CV 2/5] END algorithm=auto, n_neighbors=12, weights=distance;, score=0.804 total time=   0.8s\n",
      "[CV 3/5] END algorithm=auto, n_neighbors=12, weights=distance;, score=0.791 total time=   1.0s\n",
      "[CV 4/5] END algorithm=auto, n_neighbors=12, weights=distance;, score=0.802 total time=   1.0s\n",
      "[CV 5/5] END algorithm=auto, n_neighbors=12, weights=distance;, score=0.804 total time=   1.0s\n",
      "[CV 1/5] END algorithm=auto, n_neighbors=13, weights=uniform;, score=0.787 total time=   1.4s\n",
      "[CV 2/5] END algorithm=auto, n_neighbors=13, weights=uniform;, score=0.796 total time=   1.3s\n",
      "[CV 3/5] END algorithm=auto, n_neighbors=13, weights=uniform;, score=0.778 total time=   1.5s\n",
      "[CV 4/5] END algorithm=auto, n_neighbors=13, weights=uniform;, score=0.782 total time=   1.5s\n",
      "[CV 5/5] END algorithm=auto, n_neighbors=13, weights=uniform;, score=0.794 total time=   1.3s\n",
      "[CV 1/5] END algorithm=auto, n_neighbors=13, weights=distance;, score=0.796 total time=   1.5s\n",
      "[CV 2/5] END algorithm=auto, n_neighbors=13, weights=distance;, score=0.797 total time=   1.0s\n",
      "[CV 3/5] END algorithm=auto, n_neighbors=13, weights=distance;, score=0.786 total time=   0.9s\n",
      "[CV 4/5] END algorithm=auto, n_neighbors=13, weights=distance;, score=0.795 total time=   0.9s\n",
      "[CV 5/5] END algorithm=auto, n_neighbors=13, weights=distance;, score=0.804 total time=   0.9s\n",
      "[CV 1/5] END algorithm=auto, n_neighbors=14, weights=uniform;, score=0.780 total time=   0.9s\n",
      "[CV 2/5] END algorithm=auto, n_neighbors=14, weights=uniform;, score=0.796 total time=   1.0s\n",
      "[CV 3/5] END algorithm=auto, n_neighbors=14, weights=uniform;, score=0.778 total time=   0.9s\n",
      "[CV 4/5] END algorithm=auto, n_neighbors=14, weights=uniform;, score=0.776 total time=   1.0s\n",
      "[CV 5/5] END algorithm=auto, n_neighbors=14, weights=uniform;, score=0.796 total time=   0.9s\n",
      "[CV 1/5] END algorithm=auto, n_neighbors=14, weights=distance;, score=0.786 total time=   0.8s\n",
      "[CV 2/5] END algorithm=auto, n_neighbors=14, weights=distance;, score=0.800 total time=   0.7s\n",
      "[CV 3/5] END algorithm=auto, n_neighbors=14, weights=distance;, score=0.784 total time=   0.7s\n",
      "[CV 4/5] END algorithm=auto, n_neighbors=14, weights=distance;, score=0.793 total time=   0.7s\n",
      "[CV 5/5] END algorithm=auto, n_neighbors=14, weights=distance;, score=0.799 total time=   0.7s\n",
      "[CV 1/5] END algorithm=auto, n_neighbors=15, weights=uniform;, score=0.785 total time=   0.9s\n",
      "[CV 2/5] END algorithm=auto, n_neighbors=15, weights=uniform;, score=0.791 total time=   0.9s\n",
      "[CV 3/5] END algorithm=auto, n_neighbors=15, weights=uniform;, score=0.780 total time=   1.1s\n",
      "[CV 4/5] END algorithm=auto, n_neighbors=15, weights=uniform;, score=0.774 total time=   0.9s\n",
      "[CV 5/5] END algorithm=auto, n_neighbors=15, weights=uniform;, score=0.793 total time=   0.9s\n",
      "[CV 1/5] END algorithm=auto, n_neighbors=15, weights=distance;, score=0.789 total time=   0.9s\n",
      "[CV 2/5] END algorithm=auto, n_neighbors=15, weights=distance;, score=0.798 total time=   0.7s\n",
      "[CV 3/5] END algorithm=auto, n_neighbors=15, weights=distance;, score=0.789 total time=   0.6s\n",
      "[CV 4/5] END algorithm=auto, n_neighbors=15, weights=distance;, score=0.788 total time=   0.6s\n",
      "[CV 5/5] END algorithm=auto, n_neighbors=15, weights=distance;, score=0.803 total time=   0.7s\n",
      "[CV 1/5] END algorithm=auto, n_neighbors=16, weights=uniform;, score=0.778 total time=   0.9s\n",
      "[CV 2/5] END algorithm=auto, n_neighbors=16, weights=uniform;, score=0.785 total time=   0.8s\n",
      "[CV 3/5] END algorithm=auto, n_neighbors=16, weights=uniform;, score=0.786 total time=   0.8s\n",
      "[CV 4/5] END algorithm=auto, n_neighbors=16, weights=uniform;, score=0.765 total time=   0.8s\n",
      "[CV 5/5] END algorithm=auto, n_neighbors=16, weights=uniform;, score=0.786 total time=   0.8s\n",
      "[CV 1/5] END algorithm=auto, n_neighbors=16, weights=distance;, score=0.786 total time=   0.7s\n",
      "[CV 2/5] END algorithm=auto, n_neighbors=16, weights=distance;, score=0.788 total time=   0.6s\n",
      "[CV 3/5] END algorithm=auto, n_neighbors=16, weights=distance;, score=0.791 total time=   0.6s\n",
      "[CV 4/5] END algorithm=auto, n_neighbors=16, weights=distance;, score=0.778 total time=   0.6s\n",
      "[CV 5/5] END algorithm=auto, n_neighbors=16, weights=distance;, score=0.796 total time=   0.7s\n",
      "[CV 1/5] END algorithm=auto, n_neighbors=17, weights=uniform;, score=0.777 total time=   0.8s\n",
      "[CV 2/5] END algorithm=auto, n_neighbors=17, weights=uniform;, score=0.780 total time=   0.8s\n",
      "[CV 3/5] END algorithm=auto, n_neighbors=17, weights=uniform;, score=0.782 total time=   0.8s\n",
      "[CV 4/5] END algorithm=auto, n_neighbors=17, weights=uniform;, score=0.766 total time=   0.8s\n",
      "[CV 5/5] END algorithm=auto, n_neighbors=17, weights=uniform;, score=0.786 total time=   0.8s\n",
      "[CV 1/5] END algorithm=auto, n_neighbors=17, weights=distance;, score=0.789 total time=   0.7s\n",
      "[CV 2/5] END algorithm=auto, n_neighbors=17, weights=distance;, score=0.788 total time=   0.7s\n",
      "[CV 3/5] END algorithm=auto, n_neighbors=17, weights=distance;, score=0.790 total time=   0.6s\n",
      "[CV 4/5] END algorithm=auto, n_neighbors=17, weights=distance;, score=0.776 total time=   0.6s\n",
      "[CV 5/5] END algorithm=auto, n_neighbors=17, weights=distance;, score=0.794 total time=   0.7s\n",
      "[CV 1/5] END algorithm=auto, n_neighbors=18, weights=uniform;, score=0.777 total time=   0.8s\n",
      "[CV 2/5] END algorithm=auto, n_neighbors=18, weights=uniform;, score=0.780 total time=   0.8s\n",
      "[CV 3/5] END algorithm=auto, n_neighbors=18, weights=uniform;, score=0.781 total time=   0.9s\n",
      "[CV 4/5] END algorithm=auto, n_neighbors=18, weights=uniform;, score=0.768 total time=   0.8s\n",
      "[CV 5/5] END algorithm=auto, n_neighbors=18, weights=uniform;, score=0.783 total time=   0.8s\n",
      "[CV 1/5] END algorithm=auto, n_neighbors=18, weights=distance;, score=0.785 total time=   0.6s\n",
      "[CV 2/5] END algorithm=auto, n_neighbors=18, weights=distance;, score=0.790 total time=   0.7s\n",
      "[CV 3/5] END algorithm=auto, n_neighbors=18, weights=distance;, score=0.789 total time=   0.7s\n",
      "[CV 4/5] END algorithm=auto, n_neighbors=18, weights=distance;, score=0.777 total time=   0.6s\n",
      "[CV 5/5] END algorithm=auto, n_neighbors=18, weights=distance;, score=0.794 total time=   0.7s\n",
      "[CV 1/5] END algorithm=auto, n_neighbors=19, weights=uniform;, score=0.774 total time=   0.8s\n",
      "[CV 2/5] END algorithm=auto, n_neighbors=19, weights=uniform;, score=0.783 total time=   0.8s\n",
      "[CV 3/5] END algorithm=auto, n_neighbors=19, weights=uniform;, score=0.781 total time=   0.8s\n",
      "[CV 4/5] END algorithm=auto, n_neighbors=19, weights=uniform;, score=0.767 total time=   0.8s\n",
      "[CV 5/5] END algorithm=auto, n_neighbors=19, weights=uniform;, score=0.780 total time=   0.7s\n",
      "[CV 1/5] END algorithm=auto, n_neighbors=19, weights=distance;, score=0.785 total time=   0.7s\n",
      "[CV 2/5] END algorithm=auto, n_neighbors=19, weights=distance;, score=0.794 total time=   0.6s\n",
      "[CV 3/5] END algorithm=auto, n_neighbors=19, weights=distance;, score=0.788 total time=   0.6s\n",
      "[CV 4/5] END algorithm=auto, n_neighbors=19, weights=distance;, score=0.774 total time=   0.7s\n",
      "[CV 5/5] END algorithm=auto, n_neighbors=19, weights=distance;, score=0.793 total time=   0.6s\n",
      "[CV 1/5] END algorithm=auto, n_neighbors=20, weights=uniform;, score=0.772 total time=   0.8s\n",
      "[CV 2/5] END algorithm=auto, n_neighbors=20, weights=uniform;, score=0.784 total time=   0.8s\n",
      "[CV 3/5] END algorithm=auto, n_neighbors=20, weights=uniform;, score=0.779 total time=   0.7s\n",
      "[CV 4/5] END algorithm=auto, n_neighbors=20, weights=uniform;, score=0.763 total time=   0.8s\n",
      "[CV 5/5] END algorithm=auto, n_neighbors=20, weights=uniform;, score=0.779 total time=   0.8s\n",
      "[CV 1/5] END algorithm=auto, n_neighbors=20, weights=distance;, score=0.782 total time=   0.7s\n",
      "[CV 2/5] END algorithm=auto, n_neighbors=20, weights=distance;, score=0.788 total time=   0.6s\n",
      "[CV 3/5] END algorithm=auto, n_neighbors=20, weights=distance;, score=0.780 total time=   0.7s\n",
      "[CV 4/5] END algorithm=auto, n_neighbors=20, weights=distance;, score=0.771 total time=   0.6s\n",
      "[CV 5/5] END algorithm=auto, n_neighbors=20, weights=distance;, score=0.788 total time=   0.6s\n",
      "[CV 1/5] END algorithm=auto, n_neighbors=21, weights=uniform;, score=0.770 total time=   0.9s\n",
      "[CV 2/5] END algorithm=auto, n_neighbors=21, weights=uniform;, score=0.782 total time=   0.8s\n",
      "[CV 3/5] END algorithm=auto, n_neighbors=21, weights=uniform;, score=0.781 total time=   0.8s\n",
      "[CV 4/5] END algorithm=auto, n_neighbors=21, weights=uniform;, score=0.766 total time=   0.8s\n",
      "[CV 5/5] END algorithm=auto, n_neighbors=21, weights=uniform;, score=0.776 total time=   0.8s\n",
      "[CV 1/5] END algorithm=auto, n_neighbors=21, weights=distance;, score=0.783 total time=   0.7s\n",
      "[CV 2/5] END algorithm=auto, n_neighbors=21, weights=distance;, score=0.785 total time=   0.7s\n",
      "[CV 3/5] END algorithm=auto, n_neighbors=21, weights=distance;, score=0.784 total time=   0.6s\n",
      "[CV 4/5] END algorithm=auto, n_neighbors=21, weights=distance;, score=0.774 total time=   0.7s\n",
      "[CV 5/5] END algorithm=auto, n_neighbors=21, weights=distance;, score=0.784 total time=   0.7s\n",
      "[CV 1/5] END algorithm=auto, n_neighbors=22, weights=uniform;, score=0.765 total time=   0.8s\n",
      "[CV 2/5] END algorithm=auto, n_neighbors=22, weights=uniform;, score=0.780 total time=   0.8s\n",
      "[CV 3/5] END algorithm=auto, n_neighbors=22, weights=uniform;, score=0.779 total time=   0.8s\n",
      "[CV 4/5] END algorithm=auto, n_neighbors=22, weights=uniform;, score=0.768 total time=   0.8s\n",
      "[CV 5/5] END algorithm=auto, n_neighbors=22, weights=uniform;, score=0.775 total time=   0.8s\n",
      "[CV 1/5] END algorithm=auto, n_neighbors=22, weights=distance;, score=0.778 total time=   0.7s\n",
      "[CV 2/5] END algorithm=auto, n_neighbors=22, weights=distance;, score=0.787 total time=   0.7s\n",
      "[CV 3/5] END algorithm=auto, n_neighbors=22, weights=distance;, score=0.782 total time=   0.7s\n",
      "[CV 4/5] END algorithm=auto, n_neighbors=22, weights=distance;, score=0.776 total time=   0.7s\n",
      "[CV 5/5] END algorithm=auto, n_neighbors=22, weights=distance;, score=0.783 total time=   0.7s\n",
      "[CV 1/5] END algorithm=auto, n_neighbors=23, weights=uniform;, score=0.761 total time=   0.8s\n",
      "[CV 2/5] END algorithm=auto, n_neighbors=23, weights=uniform;, score=0.783 total time=   0.8s\n",
      "[CV 3/5] END algorithm=auto, n_neighbors=23, weights=uniform;, score=0.779 total time=   0.8s\n",
      "[CV 4/5] END algorithm=auto, n_neighbors=23, weights=uniform;, score=0.763 total time=   0.8s\n",
      "[CV 5/5] END algorithm=auto, n_neighbors=23, weights=uniform;, score=0.773 total time=   0.8s\n",
      "[CV 1/5] END algorithm=auto, n_neighbors=23, weights=distance;, score=0.774 total time=   0.7s\n",
      "[CV 2/5] END algorithm=auto, n_neighbors=23, weights=distance;, score=0.787 total time=   0.6s\n",
      "[CV 3/5] END algorithm=auto, n_neighbors=23, weights=distance;, score=0.785 total time=   0.7s\n",
      "[CV 4/5] END algorithm=auto, n_neighbors=23, weights=distance;, score=0.772 total time=   0.7s\n",
      "[CV 5/5] END algorithm=auto, n_neighbors=23, weights=distance;, score=0.780 total time=   0.6s\n",
      "[CV 1/5] END algorithm=auto, n_neighbors=24, weights=uniform;, score=0.764 total time=   0.8s\n",
      "[CV 2/5] END algorithm=auto, n_neighbors=24, weights=uniform;, score=0.778 total time=   0.8s\n",
      "[CV 3/5] END algorithm=auto, n_neighbors=24, weights=uniform;, score=0.778 total time=   0.8s\n",
      "[CV 4/5] END algorithm=auto, n_neighbors=24, weights=uniform;, score=0.762 total time=   0.8s\n",
      "[CV 5/5] END algorithm=auto, n_neighbors=24, weights=uniform;, score=0.775 total time=   0.8s\n",
      "[CV 1/5] END algorithm=auto, n_neighbors=24, weights=distance;, score=0.773 total time=   0.7s\n",
      "[CV 2/5] END algorithm=auto, n_neighbors=24, weights=distance;, score=0.787 total time=   0.7s\n",
      "[CV 3/5] END algorithm=auto, n_neighbors=24, weights=distance;, score=0.784 total time=   0.7s\n",
      "[CV 4/5] END algorithm=auto, n_neighbors=24, weights=distance;, score=0.771 total time=   0.7s\n",
      "[CV 5/5] END algorithm=auto, n_neighbors=24, weights=distance;, score=0.781 total time=   0.6s\n",
      "[CV 1/5] END algorithm=auto, n_neighbors=25, weights=uniform;, score=0.759 total time=   0.8s\n",
      "[CV 2/5] END algorithm=auto, n_neighbors=25, weights=uniform;, score=0.775 total time=   0.8s\n",
      "[CV 3/5] END algorithm=auto, n_neighbors=25, weights=uniform;, score=0.784 total time=   0.8s\n",
      "[CV 4/5] END algorithm=auto, n_neighbors=25, weights=uniform;, score=0.763 total time=   0.7s\n",
      "[CV 5/5] END algorithm=auto, n_neighbors=25, weights=uniform;, score=0.774 total time=   0.8s\n",
      "[CV 1/5] END algorithm=auto, n_neighbors=25, weights=distance;, score=0.770 total time=   0.7s\n",
      "[CV 2/5] END algorithm=auto, n_neighbors=25, weights=distance;, score=0.782 total time=   0.7s\n",
      "[CV 3/5] END algorithm=auto, n_neighbors=25, weights=distance;, score=0.787 total time=   0.6s\n",
      "[CV 4/5] END algorithm=auto, n_neighbors=25, weights=distance;, score=0.768 total time=   0.7s\n",
      "[CV 5/5] END algorithm=auto, n_neighbors=25, weights=distance;, score=0.782 total time=   0.6s\n",
      "[CV 1/5] END algorithm=auto, n_neighbors=26, weights=uniform;, score=0.759 total time=   0.8s\n",
      "[CV 2/5] END algorithm=auto, n_neighbors=26, weights=uniform;, score=0.773 total time=   0.8s\n",
      "[CV 3/5] END algorithm=auto, n_neighbors=26, weights=uniform;, score=0.776 total time=   0.8s\n",
      "[CV 4/5] END algorithm=auto, n_neighbors=26, weights=uniform;, score=0.760 total time=   1.0s\n",
      "[CV 5/5] END algorithm=auto, n_neighbors=26, weights=uniform;, score=0.773 total time=   0.7s\n",
      "[CV 1/5] END algorithm=auto, n_neighbors=26, weights=distance;, score=0.767 total time=   0.6s\n",
      "[CV 2/5] END algorithm=auto, n_neighbors=26, weights=distance;, score=0.783 total time=   0.6s\n",
      "[CV 3/5] END algorithm=auto, n_neighbors=26, weights=distance;, score=0.780 total time=   0.6s\n",
      "[CV 4/5] END algorithm=auto, n_neighbors=26, weights=distance;, score=0.768 total time=   0.6s\n",
      "[CV 5/5] END algorithm=auto, n_neighbors=26, weights=distance;, score=0.776 total time=   0.6s\n",
      "[CV 1/5] END algorithm=auto, n_neighbors=27, weights=uniform;, score=0.753 total time=   0.7s\n",
      "[CV 2/5] END algorithm=auto, n_neighbors=27, weights=uniform;, score=0.772 total time=   0.7s\n",
      "[CV 3/5] END algorithm=auto, n_neighbors=27, weights=uniform;, score=0.772 total time=   0.7s\n",
      "[CV 4/5] END algorithm=auto, n_neighbors=27, weights=uniform;, score=0.761 total time=   0.7s\n",
      "[CV 5/5] END algorithm=auto, n_neighbors=27, weights=uniform;, score=0.773 total time=   0.7s\n",
      "[CV 1/5] END algorithm=auto, n_neighbors=27, weights=distance;, score=0.760 total time=   0.6s\n",
      "[CV 2/5] END algorithm=auto, n_neighbors=27, weights=distance;, score=0.781 total time=   0.6s\n",
      "[CV 3/5] END algorithm=auto, n_neighbors=27, weights=distance;, score=0.780 total time=   0.6s\n",
      "[CV 4/5] END algorithm=auto, n_neighbors=27, weights=distance;, score=0.768 total time=   0.6s\n",
      "[CV 5/5] END algorithm=auto, n_neighbors=27, weights=distance;, score=0.778 total time=   0.6s\n",
      "[CV 1/5] END algorithm=auto, n_neighbors=28, weights=uniform;, score=0.747 total time=   0.7s\n",
      "[CV 2/5] END algorithm=auto, n_neighbors=28, weights=uniform;, score=0.772 total time=   0.7s\n",
      "[CV 3/5] END algorithm=auto, n_neighbors=28, weights=uniform;, score=0.773 total time=   0.7s\n",
      "[CV 4/5] END algorithm=auto, n_neighbors=28, weights=uniform;, score=0.759 total time=   0.7s\n",
      "[CV 5/5] END algorithm=auto, n_neighbors=28, weights=uniform;, score=0.771 total time=   0.7s\n",
      "[CV 1/5] END algorithm=auto, n_neighbors=28, weights=distance;, score=0.760 total time=   0.6s\n",
      "[CV 2/5] END algorithm=auto, n_neighbors=28, weights=distance;, score=0.775 total time=   0.6s\n",
      "[CV 3/5] END algorithm=auto, n_neighbors=28, weights=distance;, score=0.775 total time=   0.6s\n",
      "[CV 4/5] END algorithm=auto, n_neighbors=28, weights=distance;, score=0.770 total time=   0.6s\n",
      "[CV 5/5] END algorithm=auto, n_neighbors=28, weights=distance;, score=0.778 total time=   0.6s\n",
      "[CV 1/5] END algorithm=auto, n_neighbors=29, weights=uniform;, score=0.750 total time=   0.7s\n",
      "[CV 2/5] END algorithm=auto, n_neighbors=29, weights=uniform;, score=0.768 total time=   0.7s\n",
      "[CV 3/5] END algorithm=auto, n_neighbors=29, weights=uniform;, score=0.770 total time=   0.7s\n",
      "[CV 4/5] END algorithm=auto, n_neighbors=29, weights=uniform;, score=0.758 total time=   0.7s\n",
      "[CV 5/5] END algorithm=auto, n_neighbors=29, weights=uniform;, score=0.768 total time=   0.7s\n",
      "[CV 1/5] END algorithm=auto, n_neighbors=29, weights=distance;, score=0.755 total time=   0.6s\n",
      "[CV 2/5] END algorithm=auto, n_neighbors=29, weights=distance;, score=0.774 total time=   0.6s\n",
      "[CV 3/5] END algorithm=auto, n_neighbors=29, weights=distance;, score=0.776 total time=   0.6s\n",
      "[CV 4/5] END algorithm=auto, n_neighbors=29, weights=distance;, score=0.765 total time=   0.6s\n",
      "[CV 5/5] END algorithm=auto, n_neighbors=29, weights=distance;, score=0.775 total time=   0.6s\n",
      "[CV 1/5] END algorithm=auto, n_neighbors=30, weights=uniform;, score=0.748 total time=   0.7s\n",
      "[CV 2/5] END algorithm=auto, n_neighbors=30, weights=uniform;, score=0.767 total time=   0.7s\n",
      "[CV 3/5] END algorithm=auto, n_neighbors=30, weights=uniform;, score=0.768 total time=   0.7s\n",
      "[CV 4/5] END algorithm=auto, n_neighbors=30, weights=uniform;, score=0.756 total time=   0.7s\n",
      "[CV 5/5] END algorithm=auto, n_neighbors=30, weights=uniform;, score=0.767 total time=   0.7s\n",
      "[CV 1/5] END algorithm=auto, n_neighbors=30, weights=distance;, score=0.762 total time=   0.6s\n",
      "[CV 2/5] END algorithm=auto, n_neighbors=30, weights=distance;, score=0.771 total time=   0.6s\n",
      "[CV 3/5] END algorithm=auto, n_neighbors=30, weights=distance;, score=0.775 total time=   0.6s\n",
      "[CV 4/5] END algorithm=auto, n_neighbors=30, weights=distance;, score=0.763 total time=   0.6s\n",
      "[CV 5/5] END algorithm=auto, n_neighbors=30, weights=distance;, score=0.775 total time=   0.6s\n",
      "[CV 1/5] END algorithm=ball_tree, n_neighbors=1, weights=uniform;, score=0.162 total time=   0.7s\n",
      "[CV 2/5] END algorithm=ball_tree, n_neighbors=1, weights=uniform;, score=0.161 total time=   0.7s\n",
      "[CV 3/5] END algorithm=ball_tree, n_neighbors=1, weights=uniform;, score=0.171 total time=   0.7s\n",
      "[CV 4/5] END algorithm=ball_tree, n_neighbors=1, weights=uniform;, score=0.773 total time=   0.7s\n",
      "[CV 5/5] END algorithm=ball_tree, n_neighbors=1, weights=uniform;, score=0.153 total time=   0.7s\n",
      "[CV 1/5] END algorithm=ball_tree, n_neighbors=1, weights=distance;, score=0.162 total time=   0.6s\n",
      "[CV 2/5] END algorithm=ball_tree, n_neighbors=1, weights=distance;, score=0.161 total time=   0.6s\n",
      "[CV 3/5] END algorithm=ball_tree, n_neighbors=1, weights=distance;, score=0.171 total time=   0.6s\n",
      "[CV 4/5] END algorithm=ball_tree, n_neighbors=1, weights=distance;, score=0.773 total time=   0.6s\n",
      "[CV 5/5] END algorithm=ball_tree, n_neighbors=1, weights=distance;, score=0.153 total time=   0.6s\n",
      "[CV 1/5] END algorithm=ball_tree, n_neighbors=2, weights=uniform;, score=0.628 total time=   0.7s\n",
      "[CV 2/5] END algorithm=ball_tree, n_neighbors=2, weights=uniform;, score=0.630 total time=   0.7s\n",
      "[CV 3/5] END algorithm=ball_tree, n_neighbors=2, weights=uniform;, score=0.626 total time=   0.7s\n",
      "[CV 4/5] END algorithm=ball_tree, n_neighbors=2, weights=uniform;, score=0.758 total time=   0.7s\n",
      "[CV 5/5] END algorithm=ball_tree, n_neighbors=2, weights=uniform;, score=0.640 total time=   0.7s\n",
      "[CV 1/5] END algorithm=ball_tree, n_neighbors=2, weights=distance;, score=0.162 total time=   0.6s\n",
      "[CV 2/5] END algorithm=ball_tree, n_neighbors=2, weights=distance;, score=0.161 total time=   0.6s\n",
      "[CV 3/5] END algorithm=ball_tree, n_neighbors=2, weights=distance;, score=0.171 total time=   0.6s\n",
      "[CV 4/5] END algorithm=ball_tree, n_neighbors=2, weights=distance;, score=0.773 total time=   0.6s\n",
      "[CV 5/5] END algorithm=ball_tree, n_neighbors=2, weights=distance;, score=0.153 total time=   0.6s\n",
      "[CV 1/5] END algorithm=ball_tree, n_neighbors=3, weights=uniform;, score=0.726 total time=   0.7s\n",
      "[CV 2/5] END algorithm=ball_tree, n_neighbors=3, weights=uniform;, score=0.752 total time=   0.7s\n",
      "[CV 3/5] END algorithm=ball_tree, n_neighbors=3, weights=uniform;, score=0.726 total time=   0.7s\n",
      "[CV 4/5] END algorithm=ball_tree, n_neighbors=3, weights=uniform;, score=0.777 total time=   0.7s\n",
      "[CV 5/5] END algorithm=ball_tree, n_neighbors=3, weights=uniform;, score=0.736 total time=   0.7s\n",
      "[CV 1/5] END algorithm=ball_tree, n_neighbors=3, weights=distance;, score=0.649 total time=   0.5s\n",
      "[CV 2/5] END algorithm=ball_tree, n_neighbors=3, weights=distance;, score=0.661 total time=   0.6s\n",
      "[CV 3/5] END algorithm=ball_tree, n_neighbors=3, weights=distance;, score=0.634 total time=   0.6s\n",
      "[CV 4/5] END algorithm=ball_tree, n_neighbors=3, weights=distance;, score=0.791 total time=   0.6s\n",
      "[CV 5/5] END algorithm=ball_tree, n_neighbors=3, weights=distance;, score=0.653 total time=   0.6s\n",
      "[CV 1/5] END algorithm=ball_tree, n_neighbors=4, weights=uniform;, score=0.760 total time=   0.7s\n",
      "[CV 2/5] END algorithm=ball_tree, n_neighbors=4, weights=uniform;, score=0.777 total time=   0.7s\n",
      "[CV 3/5] END algorithm=ball_tree, n_neighbors=4, weights=uniform;, score=0.755 total time=   0.7s\n",
      "[CV 4/5] END algorithm=ball_tree, n_neighbors=4, weights=uniform;, score=0.793 total time=   0.7s\n",
      "[CV 5/5] END algorithm=ball_tree, n_neighbors=4, weights=uniform;, score=0.771 total time=   0.7s\n",
      "[CV 1/5] END algorithm=ball_tree, n_neighbors=4, weights=distance;, score=0.734 total time=   0.6s\n",
      "[CV 2/5] END algorithm=ball_tree, n_neighbors=4, weights=distance;, score=0.753 total time=   0.6s\n",
      "[CV 3/5] END algorithm=ball_tree, n_neighbors=4, weights=distance;, score=0.716 total time=   0.6s\n",
      "[CV 4/5] END algorithm=ball_tree, n_neighbors=4, weights=distance;, score=0.802 total time=   0.6s\n",
      "[CV 5/5] END algorithm=ball_tree, n_neighbors=4, weights=distance;, score=0.737 total time=   0.6s\n",
      "[CV 1/5] END algorithm=ball_tree, n_neighbors=5, weights=uniform;, score=0.775 total time=   0.7s\n",
      "[CV 2/5] END algorithm=ball_tree, n_neighbors=5, weights=uniform;, score=0.785 total time=   0.7s\n",
      "[CV 3/5] END algorithm=ball_tree, n_neighbors=5, weights=uniform;, score=0.773 total time=   0.7s\n",
      "[CV 4/5] END algorithm=ball_tree, n_neighbors=5, weights=uniform;, score=0.801 total time=   0.7s\n",
      "[CV 5/5] END algorithm=ball_tree, n_neighbors=5, weights=uniform;, score=0.775 total time=   0.7s\n",
      "[CV 1/5] END algorithm=ball_tree, n_neighbors=5, weights=distance;, score=0.756 total time=   0.6s\n",
      "[CV 2/5] END algorithm=ball_tree, n_neighbors=5, weights=distance;, score=0.775 total time=   0.6s\n",
      "[CV 3/5] END algorithm=ball_tree, n_neighbors=5, weights=distance;, score=0.760 total time=   0.6s\n",
      "[CV 4/5] END algorithm=ball_tree, n_neighbors=5, weights=distance;, score=0.814 total time=   0.6s\n",
      "[CV 5/5] END algorithm=ball_tree, n_neighbors=5, weights=distance;, score=0.773 total time=   0.6s\n",
      "[CV 1/5] END algorithm=ball_tree, n_neighbors=6, weights=uniform;, score=0.785 total time=   0.7s\n",
      "[CV 2/5] END algorithm=ball_tree, n_neighbors=6, weights=uniform;, score=0.790 total time=   0.7s\n",
      "[CV 3/5] END algorithm=ball_tree, n_neighbors=6, weights=uniform;, score=0.778 total time=   0.7s\n",
      "[CV 4/5] END algorithm=ball_tree, n_neighbors=6, weights=uniform;, score=0.795 total time=   0.7s\n",
      "[CV 5/5] END algorithm=ball_tree, n_neighbors=6, weights=uniform;, score=0.781 total time=   0.7s\n",
      "[CV 1/5] END algorithm=ball_tree, n_neighbors=6, weights=distance;, score=0.773 total time=   0.6s\n",
      "[CV 2/5] END algorithm=ball_tree, n_neighbors=6, weights=distance;, score=0.784 total time=   0.6s\n",
      "[CV 3/5] END algorithm=ball_tree, n_neighbors=6, weights=distance;, score=0.768 total time=   0.6s\n",
      "[CV 4/5] END algorithm=ball_tree, n_neighbors=6, weights=distance;, score=0.810 total time=   0.6s\n",
      "[CV 5/5] END algorithm=ball_tree, n_neighbors=6, weights=distance;, score=0.785 total time=   0.6s\n",
      "[CV 1/5] END algorithm=ball_tree, n_neighbors=7, weights=uniform;, score=0.784 total time=   0.7s\n",
      "[CV 2/5] END algorithm=ball_tree, n_neighbors=7, weights=uniform;, score=0.789 total time=   0.7s\n",
      "[CV 3/5] END algorithm=ball_tree, n_neighbors=7, weights=uniform;, score=0.780 total time=   0.7s\n",
      "[CV 4/5] END algorithm=ball_tree, n_neighbors=7, weights=uniform;, score=0.798 total time=   0.7s\n",
      "[CV 5/5] END algorithm=ball_tree, n_neighbors=7, weights=uniform;, score=0.788 total time=   0.7s\n",
      "[CV 1/5] END algorithm=ball_tree, n_neighbors=7, weights=distance;, score=0.783 total time=   0.6s\n",
      "[CV 2/5] END algorithm=ball_tree, n_neighbors=7, weights=distance;, score=0.795 total time=   0.6s\n",
      "[CV 3/5] END algorithm=ball_tree, n_neighbors=7, weights=distance;, score=0.776 total time=   0.6s\n",
      "[CV 4/5] END algorithm=ball_tree, n_neighbors=7, weights=distance;, score=0.808 total time=   0.6s\n",
      "[CV 5/5] END algorithm=ball_tree, n_neighbors=7, weights=distance;, score=0.793 total time=   0.6s\n",
      "[CV 1/5] END algorithm=ball_tree, n_neighbors=8, weights=uniform;, score=0.781 total time=   0.7s\n",
      "[CV 2/5] END algorithm=ball_tree, n_neighbors=8, weights=uniform;, score=0.803 total time=   0.7s\n",
      "[CV 3/5] END algorithm=ball_tree, n_neighbors=8, weights=uniform;, score=0.783 total time=   0.7s\n",
      "[CV 4/5] END algorithm=ball_tree, n_neighbors=8, weights=uniform;, score=0.801 total time=   0.7s\n",
      "[CV 5/5] END algorithm=ball_tree, n_neighbors=8, weights=uniform;, score=0.789 total time=   0.7s\n",
      "[CV 1/5] END algorithm=ball_tree, n_neighbors=8, weights=distance;, score=0.788 total time=   0.6s\n",
      "[CV 2/5] END algorithm=ball_tree, n_neighbors=8, weights=distance;, score=0.799 total time=   0.6s\n",
      "[CV 3/5] END algorithm=ball_tree, n_neighbors=8, weights=distance;, score=0.785 total time=   0.6s\n",
      "[CV 4/5] END algorithm=ball_tree, n_neighbors=8, weights=distance;, score=0.810 total time=   0.6s\n",
      "[CV 5/5] END algorithm=ball_tree, n_neighbors=8, weights=distance;, score=0.791 total time=   0.6s\n",
      "[CV 1/5] END algorithm=ball_tree, n_neighbors=9, weights=uniform;, score=0.790 total time=   0.7s\n",
      "[CV 2/5] END algorithm=ball_tree, n_neighbors=9, weights=uniform;, score=0.803 total time=   0.7s\n",
      "[CV 3/5] END algorithm=ball_tree, n_neighbors=9, weights=uniform;, score=0.783 total time=   0.7s\n",
      "[CV 4/5] END algorithm=ball_tree, n_neighbors=9, weights=uniform;, score=0.794 total time=   0.7s\n",
      "[CV 5/5] END algorithm=ball_tree, n_neighbors=9, weights=uniform;, score=0.790 total time=   0.7s\n",
      "[CV 1/5] END algorithm=ball_tree, n_neighbors=9, weights=distance;, score=0.790 total time=   0.6s\n",
      "[CV 2/5] END algorithm=ball_tree, n_neighbors=9, weights=distance;, score=0.800 total time=   0.6s\n",
      "[CV 3/5] END algorithm=ball_tree, n_neighbors=9, weights=distance;, score=0.788 total time=   0.6s\n",
      "[CV 4/5] END algorithm=ball_tree, n_neighbors=9, weights=distance;, score=0.807 total time=   0.6s\n",
      "[CV 5/5] END algorithm=ball_tree, n_neighbors=9, weights=distance;, score=0.795 total time=   0.6s\n",
      "[CV 1/5] END algorithm=ball_tree, n_neighbors=10, weights=uniform;, score=0.787 total time=   0.7s\n",
      "[CV 2/5] END algorithm=ball_tree, n_neighbors=10, weights=uniform;, score=0.799 total time=   0.7s\n",
      "[CV 3/5] END algorithm=ball_tree, n_neighbors=10, weights=uniform;, score=0.781 total time=   0.7s\n",
      "[CV 4/5] END algorithm=ball_tree, n_neighbors=10, weights=uniform;, score=0.799 total time=   0.7s\n",
      "[CV 5/5] END algorithm=ball_tree, n_neighbors=10, weights=uniform;, score=0.793 total time=   0.7s\n",
      "[CV 1/5] END algorithm=ball_tree, n_neighbors=10, weights=distance;, score=0.800 total time=   0.6s\n",
      "[CV 2/5] END algorithm=ball_tree, n_neighbors=10, weights=distance;, score=0.801 total time=   0.6s\n",
      "[CV 3/5] END algorithm=ball_tree, n_neighbors=10, weights=distance;, score=0.791 total time=   0.6s\n",
      "[CV 4/5] END algorithm=ball_tree, n_neighbors=10, weights=distance;, score=0.809 total time=   0.6s\n",
      "[CV 5/5] END algorithm=ball_tree, n_neighbors=10, weights=distance;, score=0.802 total time=   0.6s\n",
      "[CV 1/5] END algorithm=ball_tree, n_neighbors=11, weights=uniform;, score=0.789 total time=   0.7s\n",
      "[CV 2/5] END algorithm=ball_tree, n_neighbors=11, weights=uniform;, score=0.796 total time=   0.7s\n",
      "[CV 3/5] END algorithm=ball_tree, n_neighbors=11, weights=uniform;, score=0.781 total time=   0.7s\n",
      "[CV 4/5] END algorithm=ball_tree, n_neighbors=11, weights=uniform;, score=0.794 total time=   0.7s\n",
      "[CV 5/5] END algorithm=ball_tree, n_neighbors=11, weights=uniform;, score=0.795 total time=   0.7s\n",
      "[CV 1/5] END algorithm=ball_tree, n_neighbors=11, weights=distance;, score=0.795 total time=   0.6s\n",
      "[CV 2/5] END algorithm=ball_tree, n_neighbors=11, weights=distance;, score=0.801 total time=   0.6s\n",
      "[CV 3/5] END algorithm=ball_tree, n_neighbors=11, weights=distance;, score=0.792 total time=   0.6s\n",
      "[CV 4/5] END algorithm=ball_tree, n_neighbors=11, weights=distance;, score=0.805 total time=   0.6s\n",
      "[CV 5/5] END algorithm=ball_tree, n_neighbors=11, weights=distance;, score=0.804 total time=   0.6s\n",
      "[CV 1/5] END algorithm=ball_tree, n_neighbors=12, weights=uniform;, score=0.783 total time=   0.7s\n",
      "[CV 2/5] END algorithm=ball_tree, n_neighbors=12, weights=uniform;, score=0.803 total time=   0.7s\n",
      "[CV 3/5] END algorithm=ball_tree, n_neighbors=12, weights=uniform;, score=0.782 total time=   0.7s\n",
      "[CV 4/5] END algorithm=ball_tree, n_neighbors=12, weights=uniform;, score=0.791 total time=   0.7s\n",
      "[CV 5/5] END algorithm=ball_tree, n_neighbors=12, weights=uniform;, score=0.791 total time=   0.7s\n",
      "[CV 1/5] END algorithm=ball_tree, n_neighbors=12, weights=distance;, score=0.790 total time=   0.6s\n",
      "[CV 2/5] END algorithm=ball_tree, n_neighbors=12, weights=distance;, score=0.804 total time=   0.6s\n",
      "[CV 3/5] END algorithm=ball_tree, n_neighbors=12, weights=distance;, score=0.791 total time=   0.6s\n",
      "[CV 4/5] END algorithm=ball_tree, n_neighbors=12, weights=distance;, score=0.802 total time=   0.6s\n",
      "[CV 5/5] END algorithm=ball_tree, n_neighbors=12, weights=distance;, score=0.804 total time=   0.6s\n",
      "[CV 1/5] END algorithm=ball_tree, n_neighbors=13, weights=uniform;, score=0.787 total time=   0.7s\n",
      "[CV 2/5] END algorithm=ball_tree, n_neighbors=13, weights=uniform;, score=0.796 total time=   0.7s\n",
      "[CV 3/5] END algorithm=ball_tree, n_neighbors=13, weights=uniform;, score=0.778 total time=   0.7s\n",
      "[CV 4/5] END algorithm=ball_tree, n_neighbors=13, weights=uniform;, score=0.782 total time=   0.7s\n",
      "[CV 5/5] END algorithm=ball_tree, n_neighbors=13, weights=uniform;, score=0.794 total time=   0.7s\n",
      "[CV 1/5] END algorithm=ball_tree, n_neighbors=13, weights=distance;, score=0.796 total time=   0.6s\n",
      "[CV 2/5] END algorithm=ball_tree, n_neighbors=13, weights=distance;, score=0.797 total time=   0.6s\n",
      "[CV 3/5] END algorithm=ball_tree, n_neighbors=13, weights=distance;, score=0.786 total time=   0.6s\n",
      "[CV 4/5] END algorithm=ball_tree, n_neighbors=13, weights=distance;, score=0.795 total time=   0.6s\n",
      "[CV 5/5] END algorithm=ball_tree, n_neighbors=13, weights=distance;, score=0.804 total time=   0.6s\n",
      "[CV 1/5] END algorithm=ball_tree, n_neighbors=14, weights=uniform;, score=0.780 total time=   0.7s\n",
      "[CV 2/5] END algorithm=ball_tree, n_neighbors=14, weights=uniform;, score=0.796 total time=   0.7s\n",
      "[CV 3/5] END algorithm=ball_tree, n_neighbors=14, weights=uniform;, score=0.778 total time=   0.7s\n",
      "[CV 4/5] END algorithm=ball_tree, n_neighbors=14, weights=uniform;, score=0.776 total time=   0.7s\n",
      "[CV 5/5] END algorithm=ball_tree, n_neighbors=14, weights=uniform;, score=0.796 total time=   0.7s\n",
      "[CV 1/5] END algorithm=ball_tree, n_neighbors=14, weights=distance;, score=0.786 total time=   0.6s\n",
      "[CV 2/5] END algorithm=ball_tree, n_neighbors=14, weights=distance;, score=0.800 total time=   0.6s\n",
      "[CV 3/5] END algorithm=ball_tree, n_neighbors=14, weights=distance;, score=0.784 total time=   0.6s\n",
      "[CV 4/5] END algorithm=ball_tree, n_neighbors=14, weights=distance;, score=0.793 total time=   0.6s\n",
      "[CV 5/5] END algorithm=ball_tree, n_neighbors=14, weights=distance;, score=0.799 total time=   0.6s\n",
      "[CV 1/5] END algorithm=ball_tree, n_neighbors=15, weights=uniform;, score=0.785 total time=   0.7s\n",
      "[CV 2/5] END algorithm=ball_tree, n_neighbors=15, weights=uniform;, score=0.791 total time=   0.7s\n",
      "[CV 3/5] END algorithm=ball_tree, n_neighbors=15, weights=uniform;, score=0.780 total time=   0.7s\n",
      "[CV 4/5] END algorithm=ball_tree, n_neighbors=15, weights=uniform;, score=0.774 total time=   0.7s\n",
      "[CV 5/5] END algorithm=ball_tree, n_neighbors=15, weights=uniform;, score=0.793 total time=   0.7s\n",
      "[CV 1/5] END algorithm=ball_tree, n_neighbors=15, weights=distance;, score=0.789 total time=   0.6s\n",
      "[CV 2/5] END algorithm=ball_tree, n_neighbors=15, weights=distance;, score=0.798 total time=   0.6s\n",
      "[CV 3/5] END algorithm=ball_tree, n_neighbors=15, weights=distance;, score=0.789 total time=   0.6s\n",
      "[CV 4/5] END algorithm=ball_tree, n_neighbors=15, weights=distance;, score=0.788 total time=   0.6s\n",
      "[CV 5/5] END algorithm=ball_tree, n_neighbors=15, weights=distance;, score=0.803 total time=   0.6s\n",
      "[CV 1/5] END algorithm=ball_tree, n_neighbors=16, weights=uniform;, score=0.778 total time=   0.7s\n",
      "[CV 2/5] END algorithm=ball_tree, n_neighbors=16, weights=uniform;, score=0.785 total time=   0.7s\n",
      "[CV 3/5] END algorithm=ball_tree, n_neighbors=16, weights=uniform;, score=0.786 total time=   0.7s\n",
      "[CV 4/5] END algorithm=ball_tree, n_neighbors=16, weights=uniform;, score=0.765 total time=   0.7s\n",
      "[CV 5/5] END algorithm=ball_tree, n_neighbors=16, weights=uniform;, score=0.786 total time=   0.7s\n",
      "[CV 1/5] END algorithm=ball_tree, n_neighbors=16, weights=distance;, score=0.786 total time=   0.6s\n",
      "[CV 2/5] END algorithm=ball_tree, n_neighbors=16, weights=distance;, score=0.788 total time=   0.6s\n",
      "[CV 3/5] END algorithm=ball_tree, n_neighbors=16, weights=distance;, score=0.791 total time=   0.6s\n",
      "[CV 4/5] END algorithm=ball_tree, n_neighbors=16, weights=distance;, score=0.778 total time=   0.6s\n",
      "[CV 5/5] END algorithm=ball_tree, n_neighbors=16, weights=distance;, score=0.796 total time=   0.6s\n",
      "[CV 1/5] END algorithm=ball_tree, n_neighbors=17, weights=uniform;, score=0.777 total time=   0.7s\n",
      "[CV 2/5] END algorithm=ball_tree, n_neighbors=17, weights=uniform;, score=0.780 total time=   0.7s\n",
      "[CV 3/5] END algorithm=ball_tree, n_neighbors=17, weights=uniform;, score=0.782 total time=   0.7s\n",
      "[CV 4/5] END algorithm=ball_tree, n_neighbors=17, weights=uniform;, score=0.766 total time=   0.7s\n",
      "[CV 5/5] END algorithm=ball_tree, n_neighbors=17, weights=uniform;, score=0.786 total time=   0.7s\n",
      "[CV 1/5] END algorithm=ball_tree, n_neighbors=17, weights=distance;, score=0.789 total time=   0.6s\n",
      "[CV 2/5] END algorithm=ball_tree, n_neighbors=17, weights=distance;, score=0.788 total time=   0.7s\n",
      "[CV 3/5] END algorithm=ball_tree, n_neighbors=17, weights=distance;, score=0.790 total time=   0.6s\n",
      "[CV 4/5] END algorithm=ball_tree, n_neighbors=17, weights=distance;, score=0.776 total time=   0.6s\n",
      "[CV 5/5] END algorithm=ball_tree, n_neighbors=17, weights=distance;, score=0.794 total time=   0.6s\n",
      "[CV 1/5] END algorithm=ball_tree, n_neighbors=18, weights=uniform;, score=0.777 total time=   0.7s\n",
      "[CV 2/5] END algorithm=ball_tree, n_neighbors=18, weights=uniform;, score=0.780 total time=   0.7s\n",
      "[CV 3/5] END algorithm=ball_tree, n_neighbors=18, weights=uniform;, score=0.781 total time=   0.7s\n",
      "[CV 4/5] END algorithm=ball_tree, n_neighbors=18, weights=uniform;, score=0.768 total time=   0.7s\n",
      "[CV 5/5] END algorithm=ball_tree, n_neighbors=18, weights=uniform;, score=0.783 total time=   0.7s\n",
      "[CV 1/5] END algorithm=ball_tree, n_neighbors=18, weights=distance;, score=0.785 total time=   0.6s\n",
      "[CV 2/5] END algorithm=ball_tree, n_neighbors=18, weights=distance;, score=0.790 total time=   0.6s\n",
      "[CV 3/5] END algorithm=ball_tree, n_neighbors=18, weights=distance;, score=0.789 total time=   0.6s\n",
      "[CV 4/5] END algorithm=ball_tree, n_neighbors=18, weights=distance;, score=0.777 total time=   0.6s\n",
      "[CV 5/5] END algorithm=ball_tree, n_neighbors=18, weights=distance;, score=0.794 total time=   0.6s\n",
      "[CV 1/5] END algorithm=ball_tree, n_neighbors=19, weights=uniform;, score=0.774 total time=   0.7s\n",
      "[CV 2/5] END algorithm=ball_tree, n_neighbors=19, weights=uniform;, score=0.783 total time=   0.7s\n",
      "[CV 3/5] END algorithm=ball_tree, n_neighbors=19, weights=uniform;, score=0.781 total time=   0.7s\n",
      "[CV 4/5] END algorithm=ball_tree, n_neighbors=19, weights=uniform;, score=0.767 total time=   0.7s\n",
      "[CV 5/5] END algorithm=ball_tree, n_neighbors=19, weights=uniform;, score=0.780 total time=   0.7s\n",
      "[CV 1/5] END algorithm=ball_tree, n_neighbors=19, weights=distance;, score=0.785 total time=   0.6s\n",
      "[CV 2/5] END algorithm=ball_tree, n_neighbors=19, weights=distance;, score=0.794 total time=   0.6s\n",
      "[CV 3/5] END algorithm=ball_tree, n_neighbors=19, weights=distance;, score=0.788 total time=   0.6s\n",
      "[CV 4/5] END algorithm=ball_tree, n_neighbors=19, weights=distance;, score=0.774 total time=   0.6s\n",
      "[CV 5/5] END algorithm=ball_tree, n_neighbors=19, weights=distance;, score=0.793 total time=   0.6s\n",
      "[CV 1/5] END algorithm=ball_tree, n_neighbors=20, weights=uniform;, score=0.772 total time=   0.7s\n",
      "[CV 2/5] END algorithm=ball_tree, n_neighbors=20, weights=uniform;, score=0.784 total time=   0.7s\n",
      "[CV 3/5] END algorithm=ball_tree, n_neighbors=20, weights=uniform;, score=0.779 total time=   0.7s\n",
      "[CV 4/5] END algorithm=ball_tree, n_neighbors=20, weights=uniform;, score=0.763 total time=   0.7s\n",
      "[CV 5/5] END algorithm=ball_tree, n_neighbors=20, weights=uniform;, score=0.779 total time=   0.7s\n",
      "[CV 1/5] END algorithm=ball_tree, n_neighbors=20, weights=distance;, score=0.782 total time=   0.6s\n",
      "[CV 2/5] END algorithm=ball_tree, n_neighbors=20, weights=distance;, score=0.788 total time=   0.6s\n",
      "[CV 3/5] END algorithm=ball_tree, n_neighbors=20, weights=distance;, score=0.780 total time=   0.6s\n",
      "[CV 4/5] END algorithm=ball_tree, n_neighbors=20, weights=distance;, score=0.771 total time=   0.6s\n",
      "[CV 5/5] END algorithm=ball_tree, n_neighbors=20, weights=distance;, score=0.788 total time=   0.6s\n",
      "[CV 1/5] END algorithm=ball_tree, n_neighbors=21, weights=uniform;, score=0.770 total time=   0.7s\n",
      "[CV 2/5] END algorithm=ball_tree, n_neighbors=21, weights=uniform;, score=0.782 total time=   0.7s\n",
      "[CV 3/5] END algorithm=ball_tree, n_neighbors=21, weights=uniform;, score=0.781 total time=   0.7s\n",
      "[CV 4/5] END algorithm=ball_tree, n_neighbors=21, weights=uniform;, score=0.766 total time=   0.7s\n",
      "[CV 5/5] END algorithm=ball_tree, n_neighbors=21, weights=uniform;, score=0.776 total time=   0.7s\n",
      "[CV 1/5] END algorithm=ball_tree, n_neighbors=21, weights=distance;, score=0.783 total time=   0.6s\n",
      "[CV 2/5] END algorithm=ball_tree, n_neighbors=21, weights=distance;, score=0.785 total time=   0.6s\n",
      "[CV 3/5] END algorithm=ball_tree, n_neighbors=21, weights=distance;, score=0.784 total time=   0.6s\n",
      "[CV 4/5] END algorithm=ball_tree, n_neighbors=21, weights=distance;, score=0.774 total time=   0.6s\n",
      "[CV 5/5] END algorithm=ball_tree, n_neighbors=21, weights=distance;, score=0.784 total time=   0.6s\n",
      "[CV 1/5] END algorithm=ball_tree, n_neighbors=22, weights=uniform;, score=0.765 total time=   0.9s\n",
      "[CV 2/5] END algorithm=ball_tree, n_neighbors=22, weights=uniform;, score=0.780 total time=   0.7s\n",
      "[CV 3/5] END algorithm=ball_tree, n_neighbors=22, weights=uniform;, score=0.779 total time=   0.7s\n",
      "[CV 4/5] END algorithm=ball_tree, n_neighbors=22, weights=uniform;, score=0.768 total time=   0.7s\n",
      "[CV 5/5] END algorithm=ball_tree, n_neighbors=22, weights=uniform;, score=0.775 total time=   0.7s\n",
      "[CV 1/5] END algorithm=ball_tree, n_neighbors=22, weights=distance;, score=0.778 total time=   0.6s\n",
      "[CV 2/5] END algorithm=ball_tree, n_neighbors=22, weights=distance;, score=0.787 total time=   1.0s\n",
      "[CV 3/5] END algorithm=ball_tree, n_neighbors=22, weights=distance;, score=0.782 total time=   0.8s\n",
      "[CV 4/5] END algorithm=ball_tree, n_neighbors=22, weights=distance;, score=0.776 total time=   0.6s\n",
      "[CV 5/5] END algorithm=ball_tree, n_neighbors=22, weights=distance;, score=0.783 total time=   0.6s\n",
      "[CV 1/5] END algorithm=ball_tree, n_neighbors=23, weights=uniform;, score=0.761 total time=   0.7s\n",
      "[CV 2/5] END algorithm=ball_tree, n_neighbors=23, weights=uniform;, score=0.783 total time=   0.7s\n",
      "[CV 3/5] END algorithm=ball_tree, n_neighbors=23, weights=uniform;, score=0.779 total time=   0.7s\n",
      "[CV 4/5] END algorithm=ball_tree, n_neighbors=23, weights=uniform;, score=0.763 total time=   0.7s\n",
      "[CV 5/5] END algorithm=ball_tree, n_neighbors=23, weights=uniform;, score=0.773 total time=   1.0s\n",
      "[CV 1/5] END algorithm=ball_tree, n_neighbors=23, weights=distance;, score=0.774 total time=   0.5s\n",
      "[CV 2/5] END algorithm=ball_tree, n_neighbors=23, weights=distance;, score=0.787 total time=   0.5s\n",
      "[CV 3/5] END algorithm=ball_tree, n_neighbors=23, weights=distance;, score=0.785 total time=   0.5s\n",
      "[CV 4/5] END algorithm=ball_tree, n_neighbors=23, weights=distance;, score=0.772 total time=   0.5s\n",
      "[CV 5/5] END algorithm=ball_tree, n_neighbors=23, weights=distance;, score=0.780 total time=   0.4s\n",
      "[CV 1/5] END algorithm=ball_tree, n_neighbors=24, weights=uniform;, score=0.764 total time=   0.5s\n",
      "[CV 2/5] END algorithm=ball_tree, n_neighbors=24, weights=uniform;, score=0.778 total time=   0.6s\n",
      "[CV 3/5] END algorithm=ball_tree, n_neighbors=24, weights=uniform;, score=0.778 total time=   0.7s\n",
      "[CV 4/5] END algorithm=ball_tree, n_neighbors=24, weights=uniform;, score=0.762 total time=   0.9s\n",
      "[CV 5/5] END algorithm=ball_tree, n_neighbors=24, weights=uniform;, score=0.775 total time=   0.7s\n",
      "[CV 1/5] END algorithm=ball_tree, n_neighbors=24, weights=distance;, score=0.773 total time=   0.6s\n",
      "[CV 2/5] END algorithm=ball_tree, n_neighbors=24, weights=distance;, score=0.787 total time=   0.6s\n",
      "[CV 3/5] END algorithm=ball_tree, n_neighbors=24, weights=distance;, score=0.784 total time=   0.6s\n",
      "[CV 4/5] END algorithm=ball_tree, n_neighbors=24, weights=distance;, score=0.771 total time=   0.6s\n",
      "[CV 5/5] END algorithm=ball_tree, n_neighbors=24, weights=distance;, score=0.781 total time=   0.6s\n",
      "[CV 1/5] END algorithm=ball_tree, n_neighbors=25, weights=uniform;, score=0.759 total time=   0.7s\n",
      "[CV 2/5] END algorithm=ball_tree, n_neighbors=25, weights=uniform;, score=0.775 total time=   0.7s\n",
      "[CV 3/5] END algorithm=ball_tree, n_neighbors=25, weights=uniform;, score=0.784 total time=   0.7s\n",
      "[CV 4/5] END algorithm=ball_tree, n_neighbors=25, weights=uniform;, score=0.763 total time=   0.7s\n",
      "[CV 5/5] END algorithm=ball_tree, n_neighbors=25, weights=uniform;, score=0.774 total time=   0.7s\n",
      "[CV 1/5] END algorithm=ball_tree, n_neighbors=25, weights=distance;, score=0.770 total time=   0.6s\n",
      "[CV 2/5] END algorithm=ball_tree, n_neighbors=25, weights=distance;, score=0.782 total time=   0.6s\n",
      "[CV 3/5] END algorithm=ball_tree, n_neighbors=25, weights=distance;, score=0.787 total time=   0.6s\n",
      "[CV 4/5] END algorithm=ball_tree, n_neighbors=25, weights=distance;, score=0.768 total time=   0.6s\n",
      "[CV 5/5] END algorithm=ball_tree, n_neighbors=25, weights=distance;, score=0.782 total time=   0.6s\n",
      "[CV 1/5] END algorithm=ball_tree, n_neighbors=26, weights=uniform;, score=0.759 total time=   0.7s\n",
      "[CV 2/5] END algorithm=ball_tree, n_neighbors=26, weights=uniform;, score=0.773 total time=   0.7s\n",
      "[CV 3/5] END algorithm=ball_tree, n_neighbors=26, weights=uniform;, score=0.776 total time=   0.7s\n",
      "[CV 4/5] END algorithm=ball_tree, n_neighbors=26, weights=uniform;, score=0.760 total time=   0.7s\n",
      "[CV 5/5] END algorithm=ball_tree, n_neighbors=26, weights=uniform;, score=0.773 total time=   0.7s\n",
      "[CV 1/5] END algorithm=ball_tree, n_neighbors=26, weights=distance;, score=0.767 total time=   0.6s\n",
      "[CV 2/5] END algorithm=ball_tree, n_neighbors=26, weights=distance;, score=0.783 total time=   0.6s\n",
      "[CV 3/5] END algorithm=ball_tree, n_neighbors=26, weights=distance;, score=0.780 total time=   0.6s\n",
      "[CV 4/5] END algorithm=ball_tree, n_neighbors=26, weights=distance;, score=0.768 total time=   0.6s\n",
      "[CV 5/5] END algorithm=ball_tree, n_neighbors=26, weights=distance;, score=0.776 total time=   0.6s\n",
      "[CV 1/5] END algorithm=ball_tree, n_neighbors=27, weights=uniform;, score=0.753 total time=   0.7s\n",
      "[CV 2/5] END algorithm=ball_tree, n_neighbors=27, weights=uniform;, score=0.772 total time=   0.7s\n",
      "[CV 3/5] END algorithm=ball_tree, n_neighbors=27, weights=uniform;, score=0.772 total time=   0.7s\n",
      "[CV 4/5] END algorithm=ball_tree, n_neighbors=27, weights=uniform;, score=0.761 total time=   0.7s\n",
      "[CV 5/5] END algorithm=ball_tree, n_neighbors=27, weights=uniform;, score=0.773 total time=   0.7s\n",
      "[CV 1/5] END algorithm=ball_tree, n_neighbors=27, weights=distance;, score=0.760 total time=   0.6s\n",
      "[CV 2/5] END algorithm=ball_tree, n_neighbors=27, weights=distance;, score=0.781 total time=   0.6s\n",
      "[CV 3/5] END algorithm=ball_tree, n_neighbors=27, weights=distance;, score=0.780 total time=   0.6s\n",
      "[CV 4/5] END algorithm=ball_tree, n_neighbors=27, weights=distance;, score=0.768 total time=   0.6s\n",
      "[CV 5/5] END algorithm=ball_tree, n_neighbors=27, weights=distance;, score=0.778 total time=   0.6s\n",
      "[CV 1/5] END algorithm=ball_tree, n_neighbors=28, weights=uniform;, score=0.747 total time=   0.7s\n",
      "[CV 2/5] END algorithm=ball_tree, n_neighbors=28, weights=uniform;, score=0.772 total time=   0.7s\n",
      "[CV 3/5] END algorithm=ball_tree, n_neighbors=28, weights=uniform;, score=0.773 total time=   0.7s\n",
      "[CV 4/5] END algorithm=ball_tree, n_neighbors=28, weights=uniform;, score=0.759 total time=   0.7s\n",
      "[CV 5/5] END algorithm=ball_tree, n_neighbors=28, weights=uniform;, score=0.771 total time=   0.7s\n",
      "[CV 1/5] END algorithm=ball_tree, n_neighbors=28, weights=distance;, score=0.760 total time=   0.6s\n",
      "[CV 2/5] END algorithm=ball_tree, n_neighbors=28, weights=distance;, score=0.775 total time=   0.6s\n",
      "[CV 3/5] END algorithm=ball_tree, n_neighbors=28, weights=distance;, score=0.775 total time=   0.6s\n",
      "[CV 4/5] END algorithm=ball_tree, n_neighbors=28, weights=distance;, score=0.770 total time=   0.6s\n",
      "[CV 5/5] END algorithm=ball_tree, n_neighbors=28, weights=distance;, score=0.778 total time=   0.6s\n",
      "[CV 1/5] END algorithm=ball_tree, n_neighbors=29, weights=uniform;, score=0.750 total time=   0.7s\n",
      "[CV 2/5] END algorithm=ball_tree, n_neighbors=29, weights=uniform;, score=0.768 total time=   0.7s\n",
      "[CV 3/5] END algorithm=ball_tree, n_neighbors=29, weights=uniform;, score=0.770 total time=   0.7s\n",
      "[CV 4/5] END algorithm=ball_tree, n_neighbors=29, weights=uniform;, score=0.758 total time=   0.7s\n",
      "[CV 5/5] END algorithm=ball_tree, n_neighbors=29, weights=uniform;, score=0.768 total time=   0.7s\n",
      "[CV 1/5] END algorithm=ball_tree, n_neighbors=29, weights=distance;, score=0.755 total time=   0.6s\n",
      "[CV 2/5] END algorithm=ball_tree, n_neighbors=29, weights=distance;, score=0.774 total time=   0.6s\n",
      "[CV 3/5] END algorithm=ball_tree, n_neighbors=29, weights=distance;, score=0.776 total time=   0.6s\n",
      "[CV 4/5] END algorithm=ball_tree, n_neighbors=29, weights=distance;, score=0.765 total time=   0.6s\n",
      "[CV 5/5] END algorithm=ball_tree, n_neighbors=29, weights=distance;, score=0.775 total time=   0.6s\n",
      "[CV 1/5] END algorithm=ball_tree, n_neighbors=30, weights=uniform;, score=0.748 total time=   0.7s\n",
      "[CV 2/5] END algorithm=ball_tree, n_neighbors=30, weights=uniform;, score=0.767 total time=   0.7s\n",
      "[CV 3/5] END algorithm=ball_tree, n_neighbors=30, weights=uniform;, score=0.768 total time=   0.7s\n",
      "[CV 4/5] END algorithm=ball_tree, n_neighbors=30, weights=uniform;, score=0.756 total time=   0.7s\n",
      "[CV 5/5] END algorithm=ball_tree, n_neighbors=30, weights=uniform;, score=0.767 total time=   0.7s\n",
      "[CV 1/5] END algorithm=ball_tree, n_neighbors=30, weights=distance;, score=0.762 total time=   0.6s\n",
      "[CV 2/5] END algorithm=ball_tree, n_neighbors=30, weights=distance;, score=0.771 total time=   0.6s\n",
      "[CV 3/5] END algorithm=ball_tree, n_neighbors=30, weights=distance;, score=0.775 total time=   0.6s\n",
      "[CV 4/5] END algorithm=ball_tree, n_neighbors=30, weights=distance;, score=0.763 total time=   0.6s\n",
      "[CV 5/5] END algorithm=ball_tree, n_neighbors=30, weights=distance;, score=0.775 total time=   0.6s\n",
      "[CV 1/5] END algorithm=kd_tree, n_neighbors=1, weights=uniform;, score=0.162 total time=   0.7s\n",
      "[CV 2/5] END algorithm=kd_tree, n_neighbors=1, weights=uniform;, score=0.161 total time=   0.7s\n",
      "[CV 3/5] END algorithm=kd_tree, n_neighbors=1, weights=uniform;, score=0.171 total time=   0.8s\n",
      "[CV 4/5] END algorithm=kd_tree, n_neighbors=1, weights=uniform;, score=0.773 total time=   0.7s\n",
      "[CV 5/5] END algorithm=kd_tree, n_neighbors=1, weights=uniform;, score=0.153 total time=   0.7s\n",
      "[CV 1/5] END algorithm=kd_tree, n_neighbors=1, weights=distance;, score=0.162 total time=   0.6s\n",
      "[CV 2/5] END algorithm=kd_tree, n_neighbors=1, weights=distance;, score=0.161 total time=   0.6s\n",
      "[CV 3/5] END algorithm=kd_tree, n_neighbors=1, weights=distance;, score=0.171 total time=   0.6s\n",
      "[CV 4/5] END algorithm=kd_tree, n_neighbors=1, weights=distance;, score=0.773 total time=   0.6s\n",
      "[CV 5/5] END algorithm=kd_tree, n_neighbors=1, weights=distance;, score=0.153 total time=   0.6s\n",
      "[CV 1/5] END algorithm=kd_tree, n_neighbors=2, weights=uniform;, score=0.628 total time=   0.7s\n",
      "[CV 2/5] END algorithm=kd_tree, n_neighbors=2, weights=uniform;, score=0.630 total time=   0.7s\n",
      "[CV 3/5] END algorithm=kd_tree, n_neighbors=2, weights=uniform;, score=0.626 total time=   0.7s\n",
      "[CV 4/5] END algorithm=kd_tree, n_neighbors=2, weights=uniform;, score=0.758 total time=   0.9s\n",
      "[CV 5/5] END algorithm=kd_tree, n_neighbors=2, weights=uniform;, score=0.640 total time=   0.8s\n",
      "[CV 1/5] END algorithm=kd_tree, n_neighbors=2, weights=distance;, score=0.162 total time=   0.6s\n",
      "[CV 2/5] END algorithm=kd_tree, n_neighbors=2, weights=distance;, score=0.161 total time=   0.6s\n",
      "[CV 3/5] END algorithm=kd_tree, n_neighbors=2, weights=distance;, score=0.171 total time=   0.6s\n",
      "[CV 4/5] END algorithm=kd_tree, n_neighbors=2, weights=distance;, score=0.773 total time=   0.6s\n",
      "[CV 5/5] END algorithm=kd_tree, n_neighbors=2, weights=distance;, score=0.153 total time=   0.6s\n",
      "[CV 1/5] END algorithm=kd_tree, n_neighbors=3, weights=uniform;, score=0.726 total time=   0.7s\n",
      "[CV 2/5] END algorithm=kd_tree, n_neighbors=3, weights=uniform;, score=0.752 total time=   0.7s\n",
      "[CV 3/5] END algorithm=kd_tree, n_neighbors=3, weights=uniform;, score=0.726 total time=   0.7s\n",
      "[CV 4/5] END algorithm=kd_tree, n_neighbors=3, weights=uniform;, score=0.777 total time=   0.7s\n",
      "[CV 5/5] END algorithm=kd_tree, n_neighbors=3, weights=uniform;, score=0.736 total time=   0.7s\n",
      "[CV 1/5] END algorithm=kd_tree, n_neighbors=3, weights=distance;, score=0.649 total time=   0.6s\n",
      "[CV 2/5] END algorithm=kd_tree, n_neighbors=3, weights=distance;, score=0.661 total time=   0.6s\n",
      "[CV 3/5] END algorithm=kd_tree, n_neighbors=3, weights=distance;, score=0.634 total time=   0.6s\n",
      "[CV 4/5] END algorithm=kd_tree, n_neighbors=3, weights=distance;, score=0.791 total time=   0.6s\n",
      "[CV 5/5] END algorithm=kd_tree, n_neighbors=3, weights=distance;, score=0.653 total time=   0.6s\n",
      "[CV 1/5] END algorithm=kd_tree, n_neighbors=4, weights=uniform;, score=0.760 total time=   0.7s\n",
      "[CV 2/5] END algorithm=kd_tree, n_neighbors=4, weights=uniform;, score=0.777 total time=   0.7s\n",
      "[CV 3/5] END algorithm=kd_tree, n_neighbors=4, weights=uniform;, score=0.755 total time=   0.7s\n",
      "[CV 4/5] END algorithm=kd_tree, n_neighbors=4, weights=uniform;, score=0.793 total time=   0.7s\n",
      "[CV 5/5] END algorithm=kd_tree, n_neighbors=4, weights=uniform;, score=0.771 total time=   0.7s\n",
      "[CV 1/5] END algorithm=kd_tree, n_neighbors=4, weights=distance;, score=0.734 total time=   0.6s\n",
      "[CV 2/5] END algorithm=kd_tree, n_neighbors=4, weights=distance;, score=0.753 total time=   0.6s\n",
      "[CV 3/5] END algorithm=kd_tree, n_neighbors=4, weights=distance;, score=0.716 total time=   0.6s\n",
      "[CV 4/5] END algorithm=kd_tree, n_neighbors=4, weights=distance;, score=0.802 total time=   0.6s\n",
      "[CV 5/5] END algorithm=kd_tree, n_neighbors=4, weights=distance;, score=0.737 total time=   0.6s\n",
      "[CV 1/5] END algorithm=kd_tree, n_neighbors=5, weights=uniform;, score=0.775 total time=   0.7s\n",
      "[CV 2/5] END algorithm=kd_tree, n_neighbors=5, weights=uniform;, score=0.785 total time=   0.7s\n",
      "[CV 3/5] END algorithm=kd_tree, n_neighbors=5, weights=uniform;, score=0.773 total time=   0.7s\n",
      "[CV 4/5] END algorithm=kd_tree, n_neighbors=5, weights=uniform;, score=0.801 total time=   0.7s\n",
      "[CV 5/5] END algorithm=kd_tree, n_neighbors=5, weights=uniform;, score=0.775 total time=   0.7s\n",
      "[CV 1/5] END algorithm=kd_tree, n_neighbors=5, weights=distance;, score=0.756 total time=   0.6s\n",
      "[CV 2/5] END algorithm=kd_tree, n_neighbors=5, weights=distance;, score=0.775 total time=   0.6s\n",
      "[CV 3/5] END algorithm=kd_tree, n_neighbors=5, weights=distance;, score=0.760 total time=   0.6s\n",
      "[CV 4/5] END algorithm=kd_tree, n_neighbors=5, weights=distance;, score=0.814 total time=   0.6s\n",
      "[CV 5/5] END algorithm=kd_tree, n_neighbors=5, weights=distance;, score=0.773 total time=   0.6s\n",
      "[CV 1/5] END algorithm=kd_tree, n_neighbors=6, weights=uniform;, score=0.785 total time=   0.7s\n",
      "[CV 2/5] END algorithm=kd_tree, n_neighbors=6, weights=uniform;, score=0.790 total time=   0.7s\n",
      "[CV 3/5] END algorithm=kd_tree, n_neighbors=6, weights=uniform;, score=0.778 total time=   0.7s\n",
      "[CV 4/5] END algorithm=kd_tree, n_neighbors=6, weights=uniform;, score=0.795 total time=   0.7s\n",
      "[CV 5/5] END algorithm=kd_tree, n_neighbors=6, weights=uniform;, score=0.781 total time=   0.7s\n",
      "[CV 1/5] END algorithm=kd_tree, n_neighbors=6, weights=distance;, score=0.773 total time=   0.6s\n",
      "[CV 2/5] END algorithm=kd_tree, n_neighbors=6, weights=distance;, score=0.784 total time=   0.6s\n",
      "[CV 3/5] END algorithm=kd_tree, n_neighbors=6, weights=distance;, score=0.768 total time=   0.6s\n",
      "[CV 4/5] END algorithm=kd_tree, n_neighbors=6, weights=distance;, score=0.810 total time=   0.6s\n",
      "[CV 5/5] END algorithm=kd_tree, n_neighbors=6, weights=distance;, score=0.785 total time=   0.6s\n",
      "[CV 1/5] END algorithm=kd_tree, n_neighbors=7, weights=uniform;, score=0.784 total time=   0.7s\n",
      "[CV 2/5] END algorithm=kd_tree, n_neighbors=7, weights=uniform;, score=0.789 total time=   0.7s\n",
      "[CV 3/5] END algorithm=kd_tree, n_neighbors=7, weights=uniform;, score=0.780 total time=   0.8s\n",
      "[CV 4/5] END algorithm=kd_tree, n_neighbors=7, weights=uniform;, score=0.798 total time=   0.7s\n",
      "[CV 5/5] END algorithm=kd_tree, n_neighbors=7, weights=uniform;, score=0.788 total time=   0.7s\n",
      "[CV 1/5] END algorithm=kd_tree, n_neighbors=7, weights=distance;, score=0.783 total time=   0.6s\n",
      "[CV 2/5] END algorithm=kd_tree, n_neighbors=7, weights=distance;, score=0.795 total time=   0.6s\n",
      "[CV 3/5] END algorithm=kd_tree, n_neighbors=7, weights=distance;, score=0.776 total time=   0.6s\n",
      "[CV 4/5] END algorithm=kd_tree, n_neighbors=7, weights=distance;, score=0.808 total time=   0.6s\n",
      "[CV 5/5] END algorithm=kd_tree, n_neighbors=7, weights=distance;, score=0.793 total time=   0.6s\n",
      "[CV 1/5] END algorithm=kd_tree, n_neighbors=8, weights=uniform;, score=0.781 total time=   0.7s\n",
      "[CV 2/5] END algorithm=kd_tree, n_neighbors=8, weights=uniform;, score=0.803 total time=   0.7s\n",
      "[CV 3/5] END algorithm=kd_tree, n_neighbors=8, weights=uniform;, score=0.783 total time=   0.7s\n",
      "[CV 4/5] END algorithm=kd_tree, n_neighbors=8, weights=uniform;, score=0.801 total time=   0.7s\n",
      "[CV 5/5] END algorithm=kd_tree, n_neighbors=8, weights=uniform;, score=0.789 total time=   0.7s\n",
      "[CV 1/5] END algorithm=kd_tree, n_neighbors=8, weights=distance;, score=0.788 total time=   0.6s\n",
      "[CV 2/5] END algorithm=kd_tree, n_neighbors=8, weights=distance;, score=0.799 total time=   0.6s\n",
      "[CV 3/5] END algorithm=kd_tree, n_neighbors=8, weights=distance;, score=0.785 total time=   0.6s\n",
      "[CV 4/5] END algorithm=kd_tree, n_neighbors=8, weights=distance;, score=0.810 total time=   0.6s\n",
      "[CV 5/5] END algorithm=kd_tree, n_neighbors=8, weights=distance;, score=0.791 total time=   0.6s\n",
      "[CV 1/5] END algorithm=kd_tree, n_neighbors=9, weights=uniform;, score=0.790 total time=   0.7s\n",
      "[CV 2/5] END algorithm=kd_tree, n_neighbors=9, weights=uniform;, score=0.803 total time=   0.7s\n",
      "[CV 3/5] END algorithm=kd_tree, n_neighbors=9, weights=uniform;, score=0.783 total time=   0.7s\n",
      "[CV 4/5] END algorithm=kd_tree, n_neighbors=9, weights=uniform;, score=0.794 total time=   0.7s\n",
      "[CV 5/5] END algorithm=kd_tree, n_neighbors=9, weights=uniform;, score=0.790 total time=   0.7s\n",
      "[CV 1/5] END algorithm=kd_tree, n_neighbors=9, weights=distance;, score=0.790 total time=   0.6s\n",
      "[CV 2/5] END algorithm=kd_tree, n_neighbors=9, weights=distance;, score=0.800 total time=   0.6s\n",
      "[CV 3/5] END algorithm=kd_tree, n_neighbors=9, weights=distance;, score=0.788 total time=   0.6s\n",
      "[CV 4/5] END algorithm=kd_tree, n_neighbors=9, weights=distance;, score=0.807 total time=   0.6s\n",
      "[CV 5/5] END algorithm=kd_tree, n_neighbors=9, weights=distance;, score=0.795 total time=   0.6s\n",
      "[CV 1/5] END algorithm=kd_tree, n_neighbors=10, weights=uniform;, score=0.787 total time=   0.7s\n",
      "[CV 2/5] END algorithm=kd_tree, n_neighbors=10, weights=uniform;, score=0.799 total time=   0.7s\n",
      "[CV 3/5] END algorithm=kd_tree, n_neighbors=10, weights=uniform;, score=0.781 total time=   0.7s\n",
      "[CV 4/5] END algorithm=kd_tree, n_neighbors=10, weights=uniform;, score=0.799 total time=   0.7s\n",
      "[CV 5/5] END algorithm=kd_tree, n_neighbors=10, weights=uniform;, score=0.793 total time=   0.7s\n",
      "[CV 1/5] END algorithm=kd_tree, n_neighbors=10, weights=distance;, score=0.800 total time=   0.6s\n",
      "[CV 2/5] END algorithm=kd_tree, n_neighbors=10, weights=distance;, score=0.801 total time=   0.6s\n",
      "[CV 3/5] END algorithm=kd_tree, n_neighbors=10, weights=distance;, score=0.791 total time=   0.6s\n",
      "[CV 4/5] END algorithm=kd_tree, n_neighbors=10, weights=distance;, score=0.809 total time=   0.6s\n",
      "[CV 5/5] END algorithm=kd_tree, n_neighbors=10, weights=distance;, score=0.802 total time=   0.6s\n",
      "[CV 1/5] END algorithm=kd_tree, n_neighbors=11, weights=uniform;, score=0.789 total time=   0.7s\n",
      "[CV 2/5] END algorithm=kd_tree, n_neighbors=11, weights=uniform;, score=0.796 total time=   0.7s\n",
      "[CV 3/5] END algorithm=kd_tree, n_neighbors=11, weights=uniform;, score=0.781 total time=   0.7s\n",
      "[CV 4/5] END algorithm=kd_tree, n_neighbors=11, weights=uniform;, score=0.794 total time=   0.7s\n",
      "[CV 5/5] END algorithm=kd_tree, n_neighbors=11, weights=uniform;, score=0.795 total time=   0.7s\n",
      "[CV 1/5] END algorithm=kd_tree, n_neighbors=11, weights=distance;, score=0.795 total time=   0.6s\n",
      "[CV 2/5] END algorithm=kd_tree, n_neighbors=11, weights=distance;, score=0.801 total time=   0.6s\n",
      "[CV 3/5] END algorithm=kd_tree, n_neighbors=11, weights=distance;, score=0.792 total time=   0.6s\n",
      "[CV 4/5] END algorithm=kd_tree, n_neighbors=11, weights=distance;, score=0.805 total time=   0.6s\n",
      "[CV 5/5] END algorithm=kd_tree, n_neighbors=11, weights=distance;, score=0.804 total time=   0.6s\n",
      "[CV 1/5] END algorithm=kd_tree, n_neighbors=12, weights=uniform;, score=0.783 total time=   0.7s\n",
      "[CV 2/5] END algorithm=kd_tree, n_neighbors=12, weights=uniform;, score=0.803 total time=   0.7s\n",
      "[CV 3/5] END algorithm=kd_tree, n_neighbors=12, weights=uniform;, score=0.782 total time=   0.7s\n",
      "[CV 4/5] END algorithm=kd_tree, n_neighbors=12, weights=uniform;, score=0.791 total time=   0.7s\n",
      "[CV 5/5] END algorithm=kd_tree, n_neighbors=12, weights=uniform;, score=0.791 total time=   0.7s\n",
      "[CV 1/5] END algorithm=kd_tree, n_neighbors=12, weights=distance;, score=0.790 total time=   0.6s\n",
      "[CV 2/5] END algorithm=kd_tree, n_neighbors=12, weights=distance;, score=0.804 total time=   0.6s\n",
      "[CV 3/5] END algorithm=kd_tree, n_neighbors=12, weights=distance;, score=0.791 total time=   0.6s\n",
      "[CV 4/5] END algorithm=kd_tree, n_neighbors=12, weights=distance;, score=0.802 total time=   0.7s\n",
      "[CV 5/5] END algorithm=kd_tree, n_neighbors=12, weights=distance;, score=0.804 total time=   0.6s\n",
      "[CV 1/5] END algorithm=kd_tree, n_neighbors=13, weights=uniform;, score=0.787 total time=   0.7s\n",
      "[CV 2/5] END algorithm=kd_tree, n_neighbors=13, weights=uniform;, score=0.796 total time=   0.7s\n",
      "[CV 3/5] END algorithm=kd_tree, n_neighbors=13, weights=uniform;, score=0.778 total time=   0.7s\n",
      "[CV 4/5] END algorithm=kd_tree, n_neighbors=13, weights=uniform;, score=0.782 total time=   0.7s\n",
      "[CV 5/5] END algorithm=kd_tree, n_neighbors=13, weights=uniform;, score=0.794 total time=   0.7s\n",
      "[CV 1/5] END algorithm=kd_tree, n_neighbors=13, weights=distance;, score=0.796 total time=   0.6s\n",
      "[CV 2/5] END algorithm=kd_tree, n_neighbors=13, weights=distance;, score=0.797 total time=   0.6s\n",
      "[CV 3/5] END algorithm=kd_tree, n_neighbors=13, weights=distance;, score=0.786 total time=   0.6s\n",
      "[CV 4/5] END algorithm=kd_tree, n_neighbors=13, weights=distance;, score=0.795 total time=   0.6s\n",
      "[CV 5/5] END algorithm=kd_tree, n_neighbors=13, weights=distance;, score=0.804 total time=   0.6s\n",
      "[CV 1/5] END algorithm=kd_tree, n_neighbors=14, weights=uniform;, score=0.780 total time=   0.7s\n",
      "[CV 2/5] END algorithm=kd_tree, n_neighbors=14, weights=uniform;, score=0.796 total time=   0.7s\n",
      "[CV 3/5] END algorithm=kd_tree, n_neighbors=14, weights=uniform;, score=0.778 total time=   0.7s\n",
      "[CV 4/5] END algorithm=kd_tree, n_neighbors=14, weights=uniform;, score=0.776 total time=   0.7s\n",
      "[CV 5/5] END algorithm=kd_tree, n_neighbors=14, weights=uniform;, score=0.796 total time=   0.7s\n",
      "[CV 1/5] END algorithm=kd_tree, n_neighbors=14, weights=distance;, score=0.786 total time=   0.6s\n",
      "[CV 2/5] END algorithm=kd_tree, n_neighbors=14, weights=distance;, score=0.800 total time=   0.6s\n",
      "[CV 3/5] END algorithm=kd_tree, n_neighbors=14, weights=distance;, score=0.784 total time=   0.6s\n",
      "[CV 4/5] END algorithm=kd_tree, n_neighbors=14, weights=distance;, score=0.793 total time=   0.6s\n",
      "[CV 5/5] END algorithm=kd_tree, n_neighbors=14, weights=distance;, score=0.799 total time=   0.6s\n",
      "[CV 1/5] END algorithm=kd_tree, n_neighbors=15, weights=uniform;, score=0.785 total time=   0.7s\n",
      "[CV 2/5] END algorithm=kd_tree, n_neighbors=15, weights=uniform;, score=0.791 total time=   0.8s\n",
      "[CV 3/5] END algorithm=kd_tree, n_neighbors=15, weights=uniform;, score=0.780 total time=   0.8s\n",
      "[CV 4/5] END algorithm=kd_tree, n_neighbors=15, weights=uniform;, score=0.774 total time=   0.7s\n",
      "[CV 5/5] END algorithm=kd_tree, n_neighbors=15, weights=uniform;, score=0.793 total time=   0.7s\n",
      "[CV 1/5] END algorithm=kd_tree, n_neighbors=15, weights=distance;, score=0.789 total time=   0.6s\n",
      "[CV 2/5] END algorithm=kd_tree, n_neighbors=15, weights=distance;, score=0.798 total time=   0.6s\n",
      "[CV 3/5] END algorithm=kd_tree, n_neighbors=15, weights=distance;, score=0.789 total time=   0.6s\n",
      "[CV 4/5] END algorithm=kd_tree, n_neighbors=15, weights=distance;, score=0.788 total time=   0.6s\n",
      "[CV 5/5] END algorithm=kd_tree, n_neighbors=15, weights=distance;, score=0.803 total time=   0.6s\n",
      "[CV 1/5] END algorithm=kd_tree, n_neighbors=16, weights=uniform;, score=0.778 total time=   0.7s\n",
      "[CV 2/5] END algorithm=kd_tree, n_neighbors=16, weights=uniform;, score=0.785 total time=   0.7s\n",
      "[CV 3/5] END algorithm=kd_tree, n_neighbors=16, weights=uniform;, score=0.786 total time=   0.7s\n",
      "[CV 4/5] END algorithm=kd_tree, n_neighbors=16, weights=uniform;, score=0.765 total time=   0.7s\n",
      "[CV 5/5] END algorithm=kd_tree, n_neighbors=16, weights=uniform;, score=0.786 total time=   0.7s\n",
      "[CV 1/5] END algorithm=kd_tree, n_neighbors=16, weights=distance;, score=0.786 total time=   0.6s\n",
      "[CV 2/5] END algorithm=kd_tree, n_neighbors=16, weights=distance;, score=0.788 total time=   0.6s\n",
      "[CV 3/5] END algorithm=kd_tree, n_neighbors=16, weights=distance;, score=0.791 total time=   0.6s\n",
      "[CV 4/5] END algorithm=kd_tree, n_neighbors=16, weights=distance;, score=0.778 total time=   0.6s\n",
      "[CV 5/5] END algorithm=kd_tree, n_neighbors=16, weights=distance;, score=0.796 total time=   0.6s\n",
      "[CV 1/5] END algorithm=kd_tree, n_neighbors=17, weights=uniform;, score=0.777 total time=   0.7s\n",
      "[CV 2/5] END algorithm=kd_tree, n_neighbors=17, weights=uniform;, score=0.780 total time=   0.7s\n",
      "[CV 3/5] END algorithm=kd_tree, n_neighbors=17, weights=uniform;, score=0.782 total time=   0.7s\n",
      "[CV 4/5] END algorithm=kd_tree, n_neighbors=17, weights=uniform;, score=0.766 total time=   0.7s\n",
      "[CV 5/5] END algorithm=kd_tree, n_neighbors=17, weights=uniform;, score=0.786 total time=   0.7s\n",
      "[CV 1/5] END algorithm=kd_tree, n_neighbors=17, weights=distance;, score=0.789 total time=   0.6s\n",
      "[CV 2/5] END algorithm=kd_tree, n_neighbors=17, weights=distance;, score=0.788 total time=   0.6s\n",
      "[CV 3/5] END algorithm=kd_tree, n_neighbors=17, weights=distance;, score=0.790 total time=   0.6s\n",
      "[CV 4/5] END algorithm=kd_tree, n_neighbors=17, weights=distance;, score=0.776 total time=   0.6s\n",
      "[CV 5/5] END algorithm=kd_tree, n_neighbors=17, weights=distance;, score=0.794 total time=   0.7s\n",
      "[CV 1/5] END algorithm=kd_tree, n_neighbors=18, weights=uniform;, score=0.777 total time=   0.7s\n",
      "[CV 2/5] END algorithm=kd_tree, n_neighbors=18, weights=uniform;, score=0.780 total time=   0.7s\n",
      "[CV 3/5] END algorithm=kd_tree, n_neighbors=18, weights=uniform;, score=0.781 total time=   0.7s\n",
      "[CV 4/5] END algorithm=kd_tree, n_neighbors=18, weights=uniform;, score=0.768 total time=   0.7s\n",
      "[CV 5/5] END algorithm=kd_tree, n_neighbors=18, weights=uniform;, score=0.783 total time=   0.7s\n",
      "[CV 1/5] END algorithm=kd_tree, n_neighbors=18, weights=distance;, score=0.785 total time=   0.6s\n",
      "[CV 2/5] END algorithm=kd_tree, n_neighbors=18, weights=distance;, score=0.790 total time=   0.6s\n",
      "[CV 3/5] END algorithm=kd_tree, n_neighbors=18, weights=distance;, score=0.789 total time=   0.6s\n",
      "[CV 4/5] END algorithm=kd_tree, n_neighbors=18, weights=distance;, score=0.777 total time=   0.6s\n",
      "[CV 5/5] END algorithm=kd_tree, n_neighbors=18, weights=distance;, score=0.794 total time=   0.6s\n",
      "[CV 1/5] END algorithm=kd_tree, n_neighbors=19, weights=uniform;, score=0.774 total time=   0.7s\n",
      "[CV 2/5] END algorithm=kd_tree, n_neighbors=19, weights=uniform;, score=0.783 total time=   0.7s\n",
      "[CV 3/5] END algorithm=kd_tree, n_neighbors=19, weights=uniform;, score=0.781 total time=   0.7s\n",
      "[CV 4/5] END algorithm=kd_tree, n_neighbors=19, weights=uniform;, score=0.767 total time=   0.7s\n",
      "[CV 5/5] END algorithm=kd_tree, n_neighbors=19, weights=uniform;, score=0.780 total time=   0.7s\n",
      "[CV 1/5] END algorithm=kd_tree, n_neighbors=19, weights=distance;, score=0.785 total time=   0.6s\n",
      "[CV 2/5] END algorithm=kd_tree, n_neighbors=19, weights=distance;, score=0.794 total time=   0.6s\n",
      "[CV 3/5] END algorithm=kd_tree, n_neighbors=19, weights=distance;, score=0.788 total time=   0.6s\n",
      "[CV 4/5] END algorithm=kd_tree, n_neighbors=19, weights=distance;, score=0.774 total time=   0.6s\n",
      "[CV 5/5] END algorithm=kd_tree, n_neighbors=19, weights=distance;, score=0.793 total time=   0.6s\n",
      "[CV 1/5] END algorithm=kd_tree, n_neighbors=20, weights=uniform;, score=0.772 total time=   0.7s\n",
      "[CV 2/5] END algorithm=kd_tree, n_neighbors=20, weights=uniform;, score=0.784 total time=   0.7s\n",
      "[CV 3/5] END algorithm=kd_tree, n_neighbors=20, weights=uniform;, score=0.779 total time=   0.7s\n",
      "[CV 4/5] END algorithm=kd_tree, n_neighbors=20, weights=uniform;, score=0.763 total time=   0.7s\n",
      "[CV 5/5] END algorithm=kd_tree, n_neighbors=20, weights=uniform;, score=0.779 total time=   0.8s\n",
      "[CV 1/5] END algorithm=kd_tree, n_neighbors=20, weights=distance;, score=0.782 total time=   0.6s\n",
      "[CV 2/5] END algorithm=kd_tree, n_neighbors=20, weights=distance;, score=0.788 total time=   0.6s\n",
      "[CV 3/5] END algorithm=kd_tree, n_neighbors=20, weights=distance;, score=0.780 total time=   0.6s\n",
      "[CV 4/5] END algorithm=kd_tree, n_neighbors=20, weights=distance;, score=0.771 total time=   0.6s\n",
      "[CV 5/5] END algorithm=kd_tree, n_neighbors=20, weights=distance;, score=0.788 total time=   0.6s\n",
      "[CV 1/5] END algorithm=kd_tree, n_neighbors=21, weights=uniform;, score=0.770 total time=   0.8s\n",
      "[CV 2/5] END algorithm=kd_tree, n_neighbors=21, weights=uniform;, score=0.782 total time=   0.7s\n",
      "[CV 3/5] END algorithm=kd_tree, n_neighbors=21, weights=uniform;, score=0.781 total time=   0.7s\n",
      "[CV 4/5] END algorithm=kd_tree, n_neighbors=21, weights=uniform;, score=0.766 total time=   0.7s\n",
      "[CV 5/5] END algorithm=kd_tree, n_neighbors=21, weights=uniform;, score=0.776 total time=   0.7s\n",
      "[CV 1/5] END algorithm=kd_tree, n_neighbors=21, weights=distance;, score=0.783 total time=   0.6s\n",
      "[CV 2/5] END algorithm=kd_tree, n_neighbors=21, weights=distance;, score=0.785 total time=   0.6s\n",
      "[CV 3/5] END algorithm=kd_tree, n_neighbors=21, weights=distance;, score=0.784 total time=   0.6s\n",
      "[CV 4/5] END algorithm=kd_tree, n_neighbors=21, weights=distance;, score=0.774 total time=   0.6s\n",
      "[CV 5/5] END algorithm=kd_tree, n_neighbors=21, weights=distance;, score=0.784 total time=   0.6s\n",
      "[CV 1/5] END algorithm=kd_tree, n_neighbors=22, weights=uniform;, score=0.765 total time=   0.7s\n",
      "[CV 2/5] END algorithm=kd_tree, n_neighbors=22, weights=uniform;, score=0.780 total time=   0.7s\n",
      "[CV 3/5] END algorithm=kd_tree, n_neighbors=22, weights=uniform;, score=0.779 total time=   0.7s\n",
      "[CV 4/5] END algorithm=kd_tree, n_neighbors=22, weights=uniform;, score=0.768 total time=   0.9s\n",
      "[CV 5/5] END algorithm=kd_tree, n_neighbors=22, weights=uniform;, score=0.775 total time=   0.7s\n",
      "[CV 1/5] END algorithm=kd_tree, n_neighbors=22, weights=distance;, score=0.778 total time=   0.6s\n",
      "[CV 2/5] END algorithm=kd_tree, n_neighbors=22, weights=distance;, score=0.787 total time=   0.6s\n",
      "[CV 3/5] END algorithm=kd_tree, n_neighbors=22, weights=distance;, score=0.782 total time=   0.6s\n",
      "[CV 4/5] END algorithm=kd_tree, n_neighbors=22, weights=distance;, score=0.776 total time=   0.6s\n",
      "[CV 5/5] END algorithm=kd_tree, n_neighbors=22, weights=distance;, score=0.783 total time=   0.6s\n",
      "[CV 1/5] END algorithm=kd_tree, n_neighbors=23, weights=uniform;, score=0.761 total time=   0.7s\n",
      "[CV 2/5] END algorithm=kd_tree, n_neighbors=23, weights=uniform;, score=0.783 total time=   0.7s\n",
      "[CV 3/5] END algorithm=kd_tree, n_neighbors=23, weights=uniform;, score=0.779 total time=   0.7s\n",
      "[CV 4/5] END algorithm=kd_tree, n_neighbors=23, weights=uniform;, score=0.763 total time=   0.7s\n",
      "[CV 5/5] END algorithm=kd_tree, n_neighbors=23, weights=uniform;, score=0.773 total time=   0.7s\n",
      "[CV 1/5] END algorithm=kd_tree, n_neighbors=23, weights=distance;, score=0.774 total time=   0.6s\n",
      "[CV 2/5] END algorithm=kd_tree, n_neighbors=23, weights=distance;, score=0.787 total time=   0.6s\n",
      "[CV 3/5] END algorithm=kd_tree, n_neighbors=23, weights=distance;, score=0.785 total time=   0.6s\n",
      "[CV 4/5] END algorithm=kd_tree, n_neighbors=23, weights=distance;, score=0.772 total time=   0.6s\n",
      "[CV 5/5] END algorithm=kd_tree, n_neighbors=23, weights=distance;, score=0.780 total time=   0.6s\n",
      "[CV 1/5] END algorithm=kd_tree, n_neighbors=24, weights=uniform;, score=0.764 total time=   0.7s\n",
      "[CV 2/5] END algorithm=kd_tree, n_neighbors=24, weights=uniform;, score=0.778 total time=   0.7s\n",
      "[CV 3/5] END algorithm=kd_tree, n_neighbors=24, weights=uniform;, score=0.778 total time=   0.7s\n",
      "[CV 4/5] END algorithm=kd_tree, n_neighbors=24, weights=uniform;, score=0.762 total time=   0.7s\n",
      "[CV 5/5] END algorithm=kd_tree, n_neighbors=24, weights=uniform;, score=0.775 total time=   0.7s\n",
      "[CV 1/5] END algorithm=kd_tree, n_neighbors=24, weights=distance;, score=0.773 total time=   0.6s\n",
      "[CV 2/5] END algorithm=kd_tree, n_neighbors=24, weights=distance;, score=0.787 total time=   0.6s\n",
      "[CV 3/5] END algorithm=kd_tree, n_neighbors=24, weights=distance;, score=0.784 total time=   0.6s\n",
      "[CV 4/5] END algorithm=kd_tree, n_neighbors=24, weights=distance;, score=0.771 total time=   0.6s\n",
      "[CV 5/5] END algorithm=kd_tree, n_neighbors=24, weights=distance;, score=0.781 total time=   0.6s\n",
      "[CV 1/5] END algorithm=kd_tree, n_neighbors=25, weights=uniform;, score=0.759 total time=   0.7s\n",
      "[CV 2/5] END algorithm=kd_tree, n_neighbors=25, weights=uniform;, score=0.775 total time=   0.7s\n",
      "[CV 3/5] END algorithm=kd_tree, n_neighbors=25, weights=uniform;, score=0.784 total time=   0.7s\n",
      "[CV 4/5] END algorithm=kd_tree, n_neighbors=25, weights=uniform;, score=0.763 total time=   0.7s\n",
      "[CV 5/5] END algorithm=kd_tree, n_neighbors=25, weights=uniform;, score=0.774 total time=   0.8s\n",
      "[CV 1/5] END algorithm=kd_tree, n_neighbors=25, weights=distance;, score=0.770 total time=   0.7s\n",
      "[CV 2/5] END algorithm=kd_tree, n_neighbors=25, weights=distance;, score=0.782 total time=   0.6s\n",
      "[CV 3/5] END algorithm=kd_tree, n_neighbors=25, weights=distance;, score=0.787 total time=   0.6s\n",
      "[CV 4/5] END algorithm=kd_tree, n_neighbors=25, weights=distance;, score=0.768 total time=   0.6s\n",
      "[CV 5/5] END algorithm=kd_tree, n_neighbors=25, weights=distance;, score=0.782 total time=   0.6s\n",
      "[CV 1/5] END algorithm=kd_tree, n_neighbors=26, weights=uniform;, score=0.759 total time=   0.7s\n",
      "[CV 2/5] END algorithm=kd_tree, n_neighbors=26, weights=uniform;, score=0.773 total time=   0.7s\n",
      "[CV 3/5] END algorithm=kd_tree, n_neighbors=26, weights=uniform;, score=0.776 total time=   0.7s\n",
      "[CV 4/5] END algorithm=kd_tree, n_neighbors=26, weights=uniform;, score=0.760 total time=   0.7s\n",
      "[CV 5/5] END algorithm=kd_tree, n_neighbors=26, weights=uniform;, score=0.773 total time=   0.7s\n",
      "[CV 1/5] END algorithm=kd_tree, n_neighbors=26, weights=distance;, score=0.767 total time=   0.6s\n",
      "[CV 2/5] END algorithm=kd_tree, n_neighbors=26, weights=distance;, score=0.783 total time=   0.6s\n",
      "[CV 3/5] END algorithm=kd_tree, n_neighbors=26, weights=distance;, score=0.780 total time=   0.6s\n",
      "[CV 4/5] END algorithm=kd_tree, n_neighbors=26, weights=distance;, score=0.768 total time=   0.6s\n",
      "[CV 5/5] END algorithm=kd_tree, n_neighbors=26, weights=distance;, score=0.776 total time=   0.6s\n",
      "[CV 1/5] END algorithm=kd_tree, n_neighbors=27, weights=uniform;, score=0.753 total time=   0.7s\n",
      "[CV 2/5] END algorithm=kd_tree, n_neighbors=27, weights=uniform;, score=0.772 total time=   0.7s\n",
      "[CV 3/5] END algorithm=kd_tree, n_neighbors=27, weights=uniform;, score=0.772 total time=   0.8s\n",
      "[CV 4/5] END algorithm=kd_tree, n_neighbors=27, weights=uniform;, score=0.761 total time=   0.7s\n",
      "[CV 5/5] END algorithm=kd_tree, n_neighbors=27, weights=uniform;, score=0.773 total time=   0.7s\n",
      "[CV 1/5] END algorithm=kd_tree, n_neighbors=27, weights=distance;, score=0.760 total time=   0.6s\n",
      "[CV 2/5] END algorithm=kd_tree, n_neighbors=27, weights=distance;, score=0.781 total time=   0.6s\n",
      "[CV 3/5] END algorithm=kd_tree, n_neighbors=27, weights=distance;, score=0.780 total time=   0.6s\n",
      "[CV 4/5] END algorithm=kd_tree, n_neighbors=27, weights=distance;, score=0.768 total time=   0.6s\n",
      "[CV 5/5] END algorithm=kd_tree, n_neighbors=27, weights=distance;, score=0.778 total time=   0.6s\n",
      "[CV 1/5] END algorithm=kd_tree, n_neighbors=28, weights=uniform;, score=0.747 total time=   0.7s\n",
      "[CV 2/5] END algorithm=kd_tree, n_neighbors=28, weights=uniform;, score=0.772 total time=   0.7s\n",
      "[CV 3/5] END algorithm=kd_tree, n_neighbors=28, weights=uniform;, score=0.773 total time=   0.7s\n",
      "[CV 4/5] END algorithm=kd_tree, n_neighbors=28, weights=uniform;, score=0.759 total time=   0.7s\n",
      "[CV 5/5] END algorithm=kd_tree, n_neighbors=28, weights=uniform;, score=0.771 total time=   0.7s\n",
      "[CV 1/5] END algorithm=kd_tree, n_neighbors=28, weights=distance;, score=0.760 total time=   0.6s\n",
      "[CV 2/5] END algorithm=kd_tree, n_neighbors=28, weights=distance;, score=0.775 total time=   0.6s\n",
      "[CV 3/5] END algorithm=kd_tree, n_neighbors=28, weights=distance;, score=0.775 total time=   0.6s\n",
      "[CV 4/5] END algorithm=kd_tree, n_neighbors=28, weights=distance;, score=0.770 total time=   0.6s\n",
      "[CV 5/5] END algorithm=kd_tree, n_neighbors=28, weights=distance;, score=0.778 total time=   0.6s\n",
      "[CV 1/5] END algorithm=kd_tree, n_neighbors=29, weights=uniform;, score=0.750 total time=   0.7s\n",
      "[CV 2/5] END algorithm=kd_tree, n_neighbors=29, weights=uniform;, score=0.768 total time=   0.7s\n",
      "[CV 3/5] END algorithm=kd_tree, n_neighbors=29, weights=uniform;, score=0.770 total time=   0.7s\n",
      "[CV 4/5] END algorithm=kd_tree, n_neighbors=29, weights=uniform;, score=0.758 total time=   0.7s\n",
      "[CV 5/5] END algorithm=kd_tree, n_neighbors=29, weights=uniform;, score=0.768 total time=   0.7s\n",
      "[CV 1/5] END algorithm=kd_tree, n_neighbors=29, weights=distance;, score=0.755 total time=   0.6s\n",
      "[CV 2/5] END algorithm=kd_tree, n_neighbors=29, weights=distance;, score=0.774 total time=   0.6s\n",
      "[CV 3/5] END algorithm=kd_tree, n_neighbors=29, weights=distance;, score=0.776 total time=   0.6s\n",
      "[CV 4/5] END algorithm=kd_tree, n_neighbors=29, weights=distance;, score=0.765 total time=   0.6s\n",
      "[CV 5/5] END algorithm=kd_tree, n_neighbors=29, weights=distance;, score=0.775 total time=   0.6s\n",
      "[CV 1/5] END algorithm=kd_tree, n_neighbors=30, weights=uniform;, score=0.748 total time=   0.7s\n",
      "[CV 2/5] END algorithm=kd_tree, n_neighbors=30, weights=uniform;, score=0.767 total time=   0.7s\n",
      "[CV 3/5] END algorithm=kd_tree, n_neighbors=30, weights=uniform;, score=0.768 total time=   0.7s\n",
      "[CV 4/5] END algorithm=kd_tree, n_neighbors=30, weights=uniform;, score=0.756 total time=   0.7s\n",
      "[CV 5/5] END algorithm=kd_tree, n_neighbors=30, weights=uniform;, score=0.767 total time=   0.7s\n",
      "[CV 1/5] END algorithm=kd_tree, n_neighbors=30, weights=distance;, score=0.762 total time=   0.6s\n",
      "[CV 2/5] END algorithm=kd_tree, n_neighbors=30, weights=distance;, score=0.771 total time=   0.6s\n",
      "[CV 3/5] END algorithm=kd_tree, n_neighbors=30, weights=distance;, score=0.775 total time=   0.6s\n",
      "[CV 4/5] END algorithm=kd_tree, n_neighbors=30, weights=distance;, score=0.763 total time=   0.6s\n",
      "[CV 5/5] END algorithm=kd_tree, n_neighbors=30, weights=distance;, score=0.775 total time=   0.6s\n",
      "[CV 1/5] END algorithm=brute, n_neighbors=1, weights=uniform;, score=0.162 total time=   0.7s\n",
      "[CV 2/5] END algorithm=brute, n_neighbors=1, weights=uniform;, score=0.161 total time=   0.7s\n",
      "[CV 3/5] END algorithm=brute, n_neighbors=1, weights=uniform;, score=0.171 total time=   0.7s\n",
      "[CV 4/5] END algorithm=brute, n_neighbors=1, weights=uniform;, score=0.773 total time=   0.7s\n",
      "[CV 5/5] END algorithm=brute, n_neighbors=1, weights=uniform;, score=0.153 total time=   0.7s\n",
      "[CV 1/5] END algorithm=brute, n_neighbors=1, weights=distance;, score=0.162 total time=   0.6s\n",
      "[CV 2/5] END algorithm=brute, n_neighbors=1, weights=distance;, score=0.161 total time=   0.6s\n",
      "[CV 3/5] END algorithm=brute, n_neighbors=1, weights=distance;, score=0.171 total time=   0.5s\n",
      "[CV 4/5] END algorithm=brute, n_neighbors=1, weights=distance;, score=0.773 total time=   0.7s\n",
      "[CV 5/5] END algorithm=brute, n_neighbors=1, weights=distance;, score=0.153 total time=   0.6s\n",
      "[CV 1/5] END algorithm=brute, n_neighbors=2, weights=uniform;, score=0.628 total time=   0.7s\n",
      "[CV 2/5] END algorithm=brute, n_neighbors=2, weights=uniform;, score=0.630 total time=   0.7s\n",
      "[CV 3/5] END algorithm=brute, n_neighbors=2, weights=uniform;, score=0.626 total time=   0.7s\n",
      "[CV 4/5] END algorithm=brute, n_neighbors=2, weights=uniform;, score=0.758 total time=   0.8s\n",
      "[CV 5/5] END algorithm=brute, n_neighbors=2, weights=uniform;, score=0.640 total time=   0.8s\n",
      "[CV 1/5] END algorithm=brute, n_neighbors=2, weights=distance;, score=0.162 total time=   0.6s\n",
      "[CV 2/5] END algorithm=brute, n_neighbors=2, weights=distance;, score=0.161 total time=   0.6s\n",
      "[CV 3/5] END algorithm=brute, n_neighbors=2, weights=distance;, score=0.171 total time=   0.7s\n",
      "[CV 4/5] END algorithm=brute, n_neighbors=2, weights=distance;, score=0.773 total time=   0.6s\n",
      "[CV 5/5] END algorithm=brute, n_neighbors=2, weights=distance;, score=0.153 total time=   0.6s\n",
      "[CV 1/5] END algorithm=brute, n_neighbors=3, weights=uniform;, score=0.726 total time=   0.8s\n",
      "[CV 2/5] END algorithm=brute, n_neighbors=3, weights=uniform;, score=0.752 total time=   0.7s\n",
      "[CV 3/5] END algorithm=brute, n_neighbors=3, weights=uniform;, score=0.726 total time=   0.7s\n",
      "[CV 4/5] END algorithm=brute, n_neighbors=3, weights=uniform;, score=0.777 total time=   0.8s\n",
      "[CV 5/5] END algorithm=brute, n_neighbors=3, weights=uniform;, score=0.736 total time=   0.8s\n",
      "[CV 1/5] END algorithm=brute, n_neighbors=3, weights=distance;, score=0.649 total time=   0.6s\n",
      "[CV 2/5] END algorithm=brute, n_neighbors=3, weights=distance;, score=0.661 total time=   0.6s\n",
      "[CV 3/5] END algorithm=brute, n_neighbors=3, weights=distance;, score=0.634 total time=   0.6s\n",
      "[CV 4/5] END algorithm=brute, n_neighbors=3, weights=distance;, score=0.791 total time=   0.6s\n",
      "[CV 5/5] END algorithm=brute, n_neighbors=3, weights=distance;, score=0.653 total time=   0.6s\n",
      "[CV 1/5] END algorithm=brute, n_neighbors=4, weights=uniform;, score=0.760 total time=   0.7s\n",
      "[CV 2/5] END algorithm=brute, n_neighbors=4, weights=uniform;, score=0.777 total time=   0.7s\n",
      "[CV 3/5] END algorithm=brute, n_neighbors=4, weights=uniform;, score=0.755 total time=   0.7s\n",
      "[CV 4/5] END algorithm=brute, n_neighbors=4, weights=uniform;, score=0.793 total time=   0.7s\n",
      "[CV 5/5] END algorithm=brute, n_neighbors=4, weights=uniform;, score=0.771 total time=   0.7s\n",
      "[CV 1/5] END algorithm=brute, n_neighbors=4, weights=distance;, score=0.734 total time=   0.6s\n",
      "[CV 2/5] END algorithm=brute, n_neighbors=4, weights=distance;, score=0.753 total time=   0.6s\n",
      "[CV 3/5] END algorithm=brute, n_neighbors=4, weights=distance;, score=0.716 total time=   0.6s\n",
      "[CV 4/5] END algorithm=brute, n_neighbors=4, weights=distance;, score=0.802 total time=   0.6s\n",
      "[CV 5/5] END algorithm=brute, n_neighbors=4, weights=distance;, score=0.737 total time=   0.5s\n",
      "[CV 1/5] END algorithm=brute, n_neighbors=5, weights=uniform;, score=0.775 total time=   0.7s\n",
      "[CV 2/5] END algorithm=brute, n_neighbors=5, weights=uniform;, score=0.785 total time=   0.7s\n",
      "[CV 3/5] END algorithm=brute, n_neighbors=5, weights=uniform;, score=0.773 total time=   0.7s\n",
      "[CV 4/5] END algorithm=brute, n_neighbors=5, weights=uniform;, score=0.801 total time=   0.7s\n",
      "[CV 5/5] END algorithm=brute, n_neighbors=5, weights=uniform;, score=0.775 total time=   0.7s\n",
      "[CV 1/5] END algorithm=brute, n_neighbors=5, weights=distance;, score=0.756 total time=   0.6s\n",
      "[CV 2/5] END algorithm=brute, n_neighbors=5, weights=distance;, score=0.775 total time=   0.6s\n",
      "[CV 3/5] END algorithm=brute, n_neighbors=5, weights=distance;, score=0.760 total time=   0.6s\n",
      "[CV 4/5] END algorithm=brute, n_neighbors=5, weights=distance;, score=0.814 total time=   0.6s\n",
      "[CV 5/5] END algorithm=brute, n_neighbors=5, weights=distance;, score=0.773 total time=   0.5s\n",
      "[CV 1/5] END algorithm=brute, n_neighbors=6, weights=uniform;, score=0.785 total time=   0.7s\n",
      "[CV 2/5] END algorithm=brute, n_neighbors=6, weights=uniform;, score=0.790 total time=   0.7s\n",
      "[CV 3/5] END algorithm=brute, n_neighbors=6, weights=uniform;, score=0.778 total time=   0.7s\n",
      "[CV 4/5] END algorithm=brute, n_neighbors=6, weights=uniform;, score=0.795 total time=   0.7s\n",
      "[CV 5/5] END algorithm=brute, n_neighbors=6, weights=uniform;, score=0.781 total time=   0.7s\n",
      "[CV 1/5] END algorithm=brute, n_neighbors=6, weights=distance;, score=0.773 total time=   0.6s\n",
      "[CV 2/5] END algorithm=brute, n_neighbors=6, weights=distance;, score=0.784 total time=   0.6s\n",
      "[CV 3/5] END algorithm=brute, n_neighbors=6, weights=distance;, score=0.768 total time=   0.5s\n",
      "[CV 4/5] END algorithm=brute, n_neighbors=6, weights=distance;, score=0.810 total time=   0.6s\n",
      "[CV 5/5] END algorithm=brute, n_neighbors=6, weights=distance;, score=0.785 total time=   0.6s\n",
      "[CV 1/5] END algorithm=brute, n_neighbors=7, weights=uniform;, score=0.784 total time=   0.7s\n",
      "[CV 2/5] END algorithm=brute, n_neighbors=7, weights=uniform;, score=0.789 total time=   0.7s\n",
      "[CV 3/5] END algorithm=brute, n_neighbors=7, weights=uniform;, score=0.780 total time=   0.7s\n",
      "[CV 4/5] END algorithm=brute, n_neighbors=7, weights=uniform;, score=0.798 total time=   0.7s\n",
      "[CV 5/5] END algorithm=brute, n_neighbors=7, weights=uniform;, score=0.788 total time=   0.7s\n",
      "[CV 1/5] END algorithm=brute, n_neighbors=7, weights=distance;, score=0.783 total time=   0.6s\n",
      "[CV 2/5] END algorithm=brute, n_neighbors=7, weights=distance;, score=0.795 total time=   0.6s\n",
      "[CV 3/5] END algorithm=brute, n_neighbors=7, weights=distance;, score=0.776 total time=   0.6s\n",
      "[CV 4/5] END algorithm=brute, n_neighbors=7, weights=distance;, score=0.808 total time=   0.6s\n",
      "[CV 5/5] END algorithm=brute, n_neighbors=7, weights=distance;, score=0.793 total time=   0.6s\n",
      "[CV 1/5] END algorithm=brute, n_neighbors=8, weights=uniform;, score=0.781 total time=   0.7s\n",
      "[CV 2/5] END algorithm=brute, n_neighbors=8, weights=uniform;, score=0.803 total time=   0.7s\n",
      "[CV 3/5] END algorithm=brute, n_neighbors=8, weights=uniform;, score=0.783 total time=   0.7s\n",
      "[CV 4/5] END algorithm=brute, n_neighbors=8, weights=uniform;, score=0.801 total time=   0.7s\n",
      "[CV 5/5] END algorithm=brute, n_neighbors=8, weights=uniform;, score=0.789 total time=   0.7s\n",
      "[CV 1/5] END algorithm=brute, n_neighbors=8, weights=distance;, score=0.788 total time=   0.6s\n",
      "[CV 2/5] END algorithm=brute, n_neighbors=8, weights=distance;, score=0.799 total time=   0.6s\n",
      "[CV 3/5] END algorithm=brute, n_neighbors=8, weights=distance;, score=0.785 total time=   0.6s\n",
      "[CV 4/5] END algorithm=brute, n_neighbors=8, weights=distance;, score=0.810 total time=   0.6s\n",
      "[CV 5/5] END algorithm=brute, n_neighbors=8, weights=distance;, score=0.791 total time=   0.6s\n",
      "[CV 1/5] END algorithm=brute, n_neighbors=9, weights=uniform;, score=0.790 total time=   0.7s\n",
      "[CV 2/5] END algorithm=brute, n_neighbors=9, weights=uniform;, score=0.803 total time=   0.7s\n",
      "[CV 3/5] END algorithm=brute, n_neighbors=9, weights=uniform;, score=0.783 total time=   0.7s\n",
      "[CV 4/5] END algorithm=brute, n_neighbors=9, weights=uniform;, score=0.794 total time=   0.7s\n",
      "[CV 5/5] END algorithm=brute, n_neighbors=9, weights=uniform;, score=0.790 total time=   0.7s\n",
      "[CV 1/5] END algorithm=brute, n_neighbors=9, weights=distance;, score=0.790 total time=   0.6s\n",
      "[CV 2/5] END algorithm=brute, n_neighbors=9, weights=distance;, score=0.800 total time=   0.6s\n",
      "[CV 3/5] END algorithm=brute, n_neighbors=9, weights=distance;, score=0.788 total time=   0.6s\n",
      "[CV 4/5] END algorithm=brute, n_neighbors=9, weights=distance;, score=0.807 total time=   0.6s\n",
      "[CV 5/5] END algorithm=brute, n_neighbors=9, weights=distance;, score=0.795 total time=   0.6s\n",
      "[CV 1/5] END algorithm=brute, n_neighbors=10, weights=uniform;, score=0.787 total time=   0.7s\n",
      "[CV 2/5] END algorithm=brute, n_neighbors=10, weights=uniform;, score=0.799 total time=   0.7s\n",
      "[CV 3/5] END algorithm=brute, n_neighbors=10, weights=uniform;, score=0.781 total time=   0.7s\n",
      "[CV 4/5] END algorithm=brute, n_neighbors=10, weights=uniform;, score=0.799 total time=   0.7s\n",
      "[CV 5/5] END algorithm=brute, n_neighbors=10, weights=uniform;, score=0.793 total time=   0.7s\n",
      "[CV 1/5] END algorithm=brute, n_neighbors=10, weights=distance;, score=0.800 total time=   0.6s\n",
      "[CV 2/5] END algorithm=brute, n_neighbors=10, weights=distance;, score=0.801 total time=   0.6s\n",
      "[CV 3/5] END algorithm=brute, n_neighbors=10, weights=distance;, score=0.791 total time=   0.6s\n",
      "[CV 4/5] END algorithm=brute, n_neighbors=10, weights=distance;, score=0.809 total time=   0.6s\n",
      "[CV 5/5] END algorithm=brute, n_neighbors=10, weights=distance;, score=0.802 total time=   0.5s\n",
      "[CV 1/5] END algorithm=brute, n_neighbors=11, weights=uniform;, score=0.789 total time=   0.7s\n",
      "[CV 2/5] END algorithm=brute, n_neighbors=11, weights=uniform;, score=0.796 total time=   0.7s\n",
      "[CV 3/5] END algorithm=brute, n_neighbors=11, weights=uniform;, score=0.781 total time=   0.7s\n",
      "[CV 4/5] END algorithm=brute, n_neighbors=11, weights=uniform;, score=0.794 total time=   0.7s\n",
      "[CV 5/5] END algorithm=brute, n_neighbors=11, weights=uniform;, score=0.795 total time=   0.7s\n",
      "[CV 1/5] END algorithm=brute, n_neighbors=11, weights=distance;, score=0.795 total time=   0.6s\n",
      "[CV 2/5] END algorithm=brute, n_neighbors=11, weights=distance;, score=0.801 total time=   0.6s\n",
      "[CV 3/5] END algorithm=brute, n_neighbors=11, weights=distance;, score=0.792 total time=   0.6s\n",
      "[CV 4/5] END algorithm=brute, n_neighbors=11, weights=distance;, score=0.805 total time=   0.6s\n",
      "[CV 5/5] END algorithm=brute, n_neighbors=11, weights=distance;, score=0.804 total time=   0.6s\n",
      "[CV 1/5] END algorithm=brute, n_neighbors=12, weights=uniform;, score=0.783 total time=   0.7s\n",
      "[CV 2/5] END algorithm=brute, n_neighbors=12, weights=uniform;, score=0.803 total time=   0.7s\n",
      "[CV 3/5] END algorithm=brute, n_neighbors=12, weights=uniform;, score=0.782 total time=   0.7s\n",
      "[CV 4/5] END algorithm=brute, n_neighbors=12, weights=uniform;, score=0.791 total time=   0.7s\n",
      "[CV 5/5] END algorithm=brute, n_neighbors=12, weights=uniform;, score=0.791 total time=   0.7s\n",
      "[CV 1/5] END algorithm=brute, n_neighbors=12, weights=distance;, score=0.790 total time=   0.6s\n",
      "[CV 2/5] END algorithm=brute, n_neighbors=12, weights=distance;, score=0.804 total time=   0.6s\n",
      "[CV 3/5] END algorithm=brute, n_neighbors=12, weights=distance;, score=0.791 total time=   0.6s\n",
      "[CV 4/5] END algorithm=brute, n_neighbors=12, weights=distance;, score=0.802 total time=   0.6s\n",
      "[CV 5/5] END algorithm=brute, n_neighbors=12, weights=distance;, score=0.804 total time=   0.6s\n",
      "[CV 1/5] END algorithm=brute, n_neighbors=13, weights=uniform;, score=0.787 total time=   0.7s\n",
      "[CV 2/5] END algorithm=brute, n_neighbors=13, weights=uniform;, score=0.796 total time=   0.7s\n",
      "[CV 3/5] END algorithm=brute, n_neighbors=13, weights=uniform;, score=0.778 total time=   0.7s\n",
      "[CV 4/5] END algorithm=brute, n_neighbors=13, weights=uniform;, score=0.782 total time=   0.7s\n",
      "[CV 5/5] END algorithm=brute, n_neighbors=13, weights=uniform;, score=0.794 total time=   0.7s\n",
      "[CV 1/5] END algorithm=brute, n_neighbors=13, weights=distance;, score=0.796 total time=   0.6s\n",
      "[CV 2/5] END algorithm=brute, n_neighbors=13, weights=distance;, score=0.797 total time=   0.6s\n",
      "[CV 3/5] END algorithm=brute, n_neighbors=13, weights=distance;, score=0.786 total time=   0.6s\n",
      "[CV 4/5] END algorithm=brute, n_neighbors=13, weights=distance;, score=0.795 total time=   0.6s\n",
      "[CV 5/5] END algorithm=brute, n_neighbors=13, weights=distance;, score=0.804 total time=   0.5s\n",
      "[CV 1/5] END algorithm=brute, n_neighbors=14, weights=uniform;, score=0.780 total time=   0.7s\n",
      "[CV 2/5] END algorithm=brute, n_neighbors=14, weights=uniform;, score=0.796 total time=   0.7s\n",
      "[CV 3/5] END algorithm=brute, n_neighbors=14, weights=uniform;, score=0.778 total time=   0.7s\n",
      "[CV 4/5] END algorithm=brute, n_neighbors=14, weights=uniform;, score=0.776 total time=   0.7s\n",
      "[CV 5/5] END algorithm=brute, n_neighbors=14, weights=uniform;, score=0.796 total time=   0.7s\n",
      "[CV 1/5] END algorithm=brute, n_neighbors=14, weights=distance;, score=0.786 total time=   0.6s\n",
      "[CV 2/5] END algorithm=brute, n_neighbors=14, weights=distance;, score=0.800 total time=   0.6s\n",
      "[CV 3/5] END algorithm=brute, n_neighbors=14, weights=distance;, score=0.784 total time=   0.6s\n",
      "[CV 4/5] END algorithm=brute, n_neighbors=14, weights=distance;, score=0.793 total time=   0.6s\n",
      "[CV 5/5] END algorithm=brute, n_neighbors=14, weights=distance;, score=0.799 total time=   0.6s\n",
      "[CV 1/5] END algorithm=brute, n_neighbors=15, weights=uniform;, score=0.785 total time=   0.7s\n",
      "[CV 2/5] END algorithm=brute, n_neighbors=15, weights=uniform;, score=0.791 total time=   0.7s\n",
      "[CV 3/5] END algorithm=brute, n_neighbors=15, weights=uniform;, score=0.780 total time=   0.7s\n",
      "[CV 4/5] END algorithm=brute, n_neighbors=15, weights=uniform;, score=0.774 total time=   0.7s\n",
      "[CV 5/5] END algorithm=brute, n_neighbors=15, weights=uniform;, score=0.793 total time=   0.7s\n",
      "[CV 1/5] END algorithm=brute, n_neighbors=15, weights=distance;, score=0.789 total time=   0.6s\n",
      "[CV 2/5] END algorithm=brute, n_neighbors=15, weights=distance;, score=0.798 total time=   0.6s\n",
      "[CV 3/5] END algorithm=brute, n_neighbors=15, weights=distance;, score=0.789 total time=   0.6s\n",
      "[CV 4/5] END algorithm=brute, n_neighbors=15, weights=distance;, score=0.788 total time=   0.6s\n",
      "[CV 5/5] END algorithm=brute, n_neighbors=15, weights=distance;, score=0.803 total time=   0.6s\n",
      "[CV 1/5] END algorithm=brute, n_neighbors=16, weights=uniform;, score=0.778 total time=   0.7s\n",
      "[CV 2/5] END algorithm=brute, n_neighbors=16, weights=uniform;, score=0.785 total time=   0.7s\n",
      "[CV 3/5] END algorithm=brute, n_neighbors=16, weights=uniform;, score=0.786 total time=   0.7s\n",
      "[CV 4/5] END algorithm=brute, n_neighbors=16, weights=uniform;, score=0.765 total time=   0.7s\n",
      "[CV 5/5] END algorithm=brute, n_neighbors=16, weights=uniform;, score=0.786 total time=   0.7s\n",
      "[CV 1/5] END algorithm=brute, n_neighbors=16, weights=distance;, score=0.786 total time=   0.6s\n",
      "[CV 2/5] END algorithm=brute, n_neighbors=16, weights=distance;, score=0.788 total time=   0.6s\n",
      "[CV 3/5] END algorithm=brute, n_neighbors=16, weights=distance;, score=0.791 total time=   0.6s\n",
      "[CV 4/5] END algorithm=brute, n_neighbors=16, weights=distance;, score=0.778 total time=   0.6s\n",
      "[CV 5/5] END algorithm=brute, n_neighbors=16, weights=distance;, score=0.796 total time=   0.6s\n",
      "[CV 1/5] END algorithm=brute, n_neighbors=17, weights=uniform;, score=0.777 total time=   0.7s\n",
      "[CV 2/5] END algorithm=brute, n_neighbors=17, weights=uniform;, score=0.780 total time=   0.7s\n",
      "[CV 3/5] END algorithm=brute, n_neighbors=17, weights=uniform;, score=0.782 total time=   0.7s\n",
      "[CV 4/5] END algorithm=brute, n_neighbors=17, weights=uniform;, score=0.766 total time=   0.7s\n",
      "[CV 5/5] END algorithm=brute, n_neighbors=17, weights=uniform;, score=0.786 total time=   0.7s\n",
      "[CV 1/5] END algorithm=brute, n_neighbors=17, weights=distance;, score=0.789 total time=   0.6s\n",
      "[CV 2/5] END algorithm=brute, n_neighbors=17, weights=distance;, score=0.788 total time=   0.6s\n",
      "[CV 3/5] END algorithm=brute, n_neighbors=17, weights=distance;, score=0.790 total time=   0.6s\n",
      "[CV 4/5] END algorithm=brute, n_neighbors=17, weights=distance;, score=0.776 total time=   0.6s\n",
      "[CV 5/5] END algorithm=brute, n_neighbors=17, weights=distance;, score=0.794 total time=   0.6s\n",
      "[CV 1/5] END algorithm=brute, n_neighbors=18, weights=uniform;, score=0.777 total time=   0.7s\n",
      "[CV 2/5] END algorithm=brute, n_neighbors=18, weights=uniform;, score=0.780 total time=   0.7s\n",
      "[CV 3/5] END algorithm=brute, n_neighbors=18, weights=uniform;, score=0.781 total time=   0.7s\n",
      "[CV 4/5] END algorithm=brute, n_neighbors=18, weights=uniform;, score=0.768 total time=   0.7s\n",
      "[CV 5/5] END algorithm=brute, n_neighbors=18, weights=uniform;, score=0.783 total time=   0.7s\n",
      "[CV 1/5] END algorithm=brute, n_neighbors=18, weights=distance;, score=0.785 total time=   0.6s\n",
      "[CV 2/5] END algorithm=brute, n_neighbors=18, weights=distance;, score=0.790 total time=   0.6s\n",
      "[CV 3/5] END algorithm=brute, n_neighbors=18, weights=distance;, score=0.789 total time=   0.6s\n",
      "[CV 4/5] END algorithm=brute, n_neighbors=18, weights=distance;, score=0.777 total time=   0.6s\n",
      "[CV 5/5] END algorithm=brute, n_neighbors=18, weights=distance;, score=0.794 total time=   0.6s\n",
      "[CV 1/5] END algorithm=brute, n_neighbors=19, weights=uniform;, score=0.774 total time=   0.7s\n",
      "[CV 2/5] END algorithm=brute, n_neighbors=19, weights=uniform;, score=0.783 total time=   0.7s\n",
      "[CV 3/5] END algorithm=brute, n_neighbors=19, weights=uniform;, score=0.781 total time=   0.7s\n",
      "[CV 4/5] END algorithm=brute, n_neighbors=19, weights=uniform;, score=0.767 total time=   0.8s\n",
      "[CV 5/5] END algorithm=brute, n_neighbors=19, weights=uniform;, score=0.780 total time=   0.7s\n",
      "[CV 1/5] END algorithm=brute, n_neighbors=19, weights=distance;, score=0.785 total time=   0.6s\n",
      "[CV 2/5] END algorithm=brute, n_neighbors=19, weights=distance;, score=0.794 total time=   0.6s\n",
      "[CV 3/5] END algorithm=brute, n_neighbors=19, weights=distance;, score=0.788 total time=   0.6s\n",
      "[CV 4/5] END algorithm=brute, n_neighbors=19, weights=distance;, score=0.774 total time=   0.7s\n",
      "[CV 5/5] END algorithm=brute, n_neighbors=19, weights=distance;, score=0.793 total time=   0.7s\n",
      "[CV 1/5] END algorithm=brute, n_neighbors=20, weights=uniform;, score=0.772 total time=   0.7s\n",
      "[CV 2/5] END algorithm=brute, n_neighbors=20, weights=uniform;, score=0.784 total time=   0.5s\n",
      "[CV 3/5] END algorithm=brute, n_neighbors=20, weights=uniform;, score=0.779 total time=   0.5s\n",
      "[CV 4/5] END algorithm=brute, n_neighbors=20, weights=uniform;, score=0.763 total time=   0.5s\n",
      "[CV 5/5] END algorithm=brute, n_neighbors=20, weights=uniform;, score=0.779 total time=   0.5s\n",
      "[CV 1/5] END algorithm=brute, n_neighbors=20, weights=distance;, score=0.782 total time=   0.4s\n",
      "[CV 2/5] END algorithm=brute, n_neighbors=20, weights=distance;, score=0.788 total time=   0.4s\n",
      "[CV 3/5] END algorithm=brute, n_neighbors=20, weights=distance;, score=0.780 total time=   0.6s\n",
      "[CV 4/5] END algorithm=brute, n_neighbors=20, weights=distance;, score=0.771 total time=   0.7s\n",
      "[CV 5/5] END algorithm=brute, n_neighbors=20, weights=distance;, score=0.788 total time=   0.7s\n",
      "[CV 1/5] END algorithm=brute, n_neighbors=21, weights=uniform;, score=0.770 total time=   0.9s\n",
      "[CV 2/5] END algorithm=brute, n_neighbors=21, weights=uniform;, score=0.782 total time=   0.8s\n",
      "[CV 3/5] END algorithm=brute, n_neighbors=21, weights=uniform;, score=0.781 total time=   0.7s\n",
      "[CV 4/5] END algorithm=brute, n_neighbors=21, weights=uniform;, score=0.766 total time=   0.7s\n",
      "[CV 5/5] END algorithm=brute, n_neighbors=21, weights=uniform;, score=0.776 total time=   0.7s\n",
      "[CV 1/5] END algorithm=brute, n_neighbors=21, weights=distance;, score=0.783 total time=   0.6s\n",
      "[CV 2/5] END algorithm=brute, n_neighbors=21, weights=distance;, score=0.785 total time=   0.7s\n",
      "[CV 3/5] END algorithm=brute, n_neighbors=21, weights=distance;, score=0.784 total time=   0.8s\n",
      "[CV 4/5] END algorithm=brute, n_neighbors=21, weights=distance;, score=0.774 total time=   0.8s\n",
      "[CV 5/5] END algorithm=brute, n_neighbors=21, weights=distance;, score=0.784 total time=   0.7s\n",
      "[CV 1/5] END algorithm=brute, n_neighbors=22, weights=uniform;, score=0.765 total time=   0.7s\n",
      "[CV 2/5] END algorithm=brute, n_neighbors=22, weights=uniform;, score=0.780 total time=   0.8s\n",
      "[CV 3/5] END algorithm=brute, n_neighbors=22, weights=uniform;, score=0.779 total time=   0.8s\n",
      "[CV 4/5] END algorithm=brute, n_neighbors=22, weights=uniform;, score=0.768 total time=   0.8s\n",
      "[CV 5/5] END algorithm=brute, n_neighbors=22, weights=uniform;, score=0.775 total time=   1.0s\n",
      "[CV 1/5] END algorithm=brute, n_neighbors=22, weights=distance;, score=0.778 total time=   0.7s\n",
      "[CV 2/5] END algorithm=brute, n_neighbors=22, weights=distance;, score=0.787 total time=   0.8s\n",
      "[CV 3/5] END algorithm=brute, n_neighbors=22, weights=distance;, score=0.782 total time=   0.8s\n",
      "[CV 4/5] END algorithm=brute, n_neighbors=22, weights=distance;, score=0.776 total time=   0.7s\n",
      "[CV 5/5] END algorithm=brute, n_neighbors=22, weights=distance;, score=0.783 total time=   0.6s\n",
      "[CV 1/5] END algorithm=brute, n_neighbors=23, weights=uniform;, score=0.761 total time=   0.8s\n",
      "[CV 2/5] END algorithm=brute, n_neighbors=23, weights=uniform;, score=0.783 total time=   0.8s\n",
      "[CV 3/5] END algorithm=brute, n_neighbors=23, weights=uniform;, score=0.779 total time=   0.8s\n",
      "[CV 4/5] END algorithm=brute, n_neighbors=23, weights=uniform;, score=0.763 total time=   0.8s\n",
      "[CV 5/5] END algorithm=brute, n_neighbors=23, weights=uniform;, score=0.773 total time=   0.7s\n",
      "[CV 1/5] END algorithm=brute, n_neighbors=23, weights=distance;, score=0.774 total time=   0.7s\n",
      "[CV 2/5] END algorithm=brute, n_neighbors=23, weights=distance;, score=0.787 total time=   0.7s\n",
      "[CV 3/5] END algorithm=brute, n_neighbors=23, weights=distance;, score=0.785 total time=   0.8s\n",
      "[CV 4/5] END algorithm=brute, n_neighbors=23, weights=distance;, score=0.772 total time=   0.7s\n",
      "[CV 5/5] END algorithm=brute, n_neighbors=23, weights=distance;, score=0.780 total time=   0.6s\n",
      "[CV 1/5] END algorithm=brute, n_neighbors=24, weights=uniform;, score=0.764 total time=   0.7s\n",
      "[CV 2/5] END algorithm=brute, n_neighbors=24, weights=uniform;, score=0.778 total time=   0.9s\n",
      "[CV 3/5] END algorithm=brute, n_neighbors=24, weights=uniform;, score=0.778 total time=   0.8s\n",
      "[CV 4/5] END algorithm=brute, n_neighbors=24, weights=uniform;, score=0.762 total time=   0.8s\n",
      "[CV 5/5] END algorithm=brute, n_neighbors=24, weights=uniform;, score=0.775 total time=   0.8s\n",
      "[CV 1/5] END algorithm=brute, n_neighbors=24, weights=distance;, score=0.773 total time=   0.7s\n",
      "[CV 2/5] END algorithm=brute, n_neighbors=24, weights=distance;, score=0.787 total time=   0.6s\n",
      "[CV 3/5] END algorithm=brute, n_neighbors=24, weights=distance;, score=0.784 total time=   0.7s\n",
      "[CV 4/5] END algorithm=brute, n_neighbors=24, weights=distance;, score=0.771 total time=   0.6s\n",
      "[CV 5/5] END algorithm=brute, n_neighbors=24, weights=distance;, score=0.781 total time=   0.8s\n",
      "[CV 1/5] END algorithm=brute, n_neighbors=25, weights=uniform;, score=0.759 total time=   1.0s\n",
      "[CV 2/5] END algorithm=brute, n_neighbors=25, weights=uniform;, score=0.775 total time=   0.9s\n",
      "[CV 3/5] END algorithm=brute, n_neighbors=25, weights=uniform;, score=0.784 total time=   0.7s\n",
      "[CV 4/5] END algorithm=brute, n_neighbors=25, weights=uniform;, score=0.763 total time=   0.8s\n",
      "[CV 5/5] END algorithm=brute, n_neighbors=25, weights=uniform;, score=0.774 total time=   0.9s\n",
      "[CV 1/5] END algorithm=brute, n_neighbors=25, weights=distance;, score=0.770 total time=   1.0s\n",
      "[CV 2/5] END algorithm=brute, n_neighbors=25, weights=distance;, score=0.782 total time=   1.0s\n",
      "[CV 3/5] END algorithm=brute, n_neighbors=25, weights=distance;, score=0.787 total time=   0.9s\n",
      "[CV 4/5] END algorithm=brute, n_neighbors=25, weights=distance;, score=0.768 total time=   1.0s\n",
      "[CV 5/5] END algorithm=brute, n_neighbors=25, weights=distance;, score=0.782 total time=   0.9s\n",
      "[CV 1/5] END algorithm=brute, n_neighbors=26, weights=uniform;, score=0.759 total time=   1.1s\n",
      "[CV 2/5] END algorithm=brute, n_neighbors=26, weights=uniform;, score=0.773 total time=   1.1s\n",
      "[CV 3/5] END algorithm=brute, n_neighbors=26, weights=uniform;, score=0.776 total time=   0.9s\n",
      "[CV 4/5] END algorithm=brute, n_neighbors=26, weights=uniform;, score=0.760 total time=   1.0s\n",
      "[CV 5/5] END algorithm=brute, n_neighbors=26, weights=uniform;, score=0.773 total time=   1.0s\n",
      "[CV 1/5] END algorithm=brute, n_neighbors=26, weights=distance;, score=0.767 total time=   0.9s\n",
      "[CV 2/5] END algorithm=brute, n_neighbors=26, weights=distance;, score=0.783 total time=   1.0s\n",
      "[CV 3/5] END algorithm=brute, n_neighbors=26, weights=distance;, score=0.780 total time=   0.9s\n",
      "[CV 4/5] END algorithm=brute, n_neighbors=26, weights=distance;, score=0.768 total time=   1.0s\n",
      "[CV 5/5] END algorithm=brute, n_neighbors=26, weights=distance;, score=0.776 total time=   0.7s\n",
      "[CV 1/5] END algorithm=brute, n_neighbors=27, weights=uniform;, score=0.753 total time=   0.8s\n",
      "[CV 2/5] END algorithm=brute, n_neighbors=27, weights=uniform;, score=0.772 total time=   0.9s\n",
      "[CV 3/5] END algorithm=brute, n_neighbors=27, weights=uniform;, score=0.772 total time=   0.9s\n",
      "[CV 4/5] END algorithm=brute, n_neighbors=27, weights=uniform;, score=0.761 total time=   0.8s\n",
      "[CV 5/5] END algorithm=brute, n_neighbors=27, weights=uniform;, score=0.773 total time=   0.8s\n",
      "[CV 1/5] END algorithm=brute, n_neighbors=27, weights=distance;, score=0.760 total time=   0.8s\n",
      "[CV 2/5] END algorithm=brute, n_neighbors=27, weights=distance;, score=0.781 total time=   0.8s\n",
      "[CV 3/5] END algorithm=brute, n_neighbors=27, weights=distance;, score=0.780 total time=   0.9s\n",
      "[CV 4/5] END algorithm=brute, n_neighbors=27, weights=distance;, score=0.768 total time=   0.7s\n",
      "[CV 5/5] END algorithm=brute, n_neighbors=27, weights=distance;, score=0.778 total time=   0.7s\n",
      "[CV 1/5] END algorithm=brute, n_neighbors=28, weights=uniform;, score=0.747 total time=   0.9s\n",
      "[CV 2/5] END algorithm=brute, n_neighbors=28, weights=uniform;, score=0.772 total time=   0.8s\n",
      "[CV 3/5] END algorithm=brute, n_neighbors=28, weights=uniform;, score=0.773 total time=   0.8s\n",
      "[CV 4/5] END algorithm=brute, n_neighbors=28, weights=uniform;, score=0.759 total time=   0.9s\n",
      "[CV 5/5] END algorithm=brute, n_neighbors=28, weights=uniform;, score=0.771 total time=   0.8s\n",
      "[CV 1/5] END algorithm=brute, n_neighbors=28, weights=distance;, score=0.760 total time=   1.1s\n",
      "[CV 2/5] END algorithm=brute, n_neighbors=28, weights=distance;, score=0.775 total time=   0.7s\n",
      "[CV 3/5] END algorithm=brute, n_neighbors=28, weights=distance;, score=0.775 total time=   0.8s\n",
      "[CV 4/5] END algorithm=brute, n_neighbors=28, weights=distance;, score=0.770 total time=   0.8s\n",
      "[CV 5/5] END algorithm=brute, n_neighbors=28, weights=distance;, score=0.778 total time=   0.7s\n",
      "[CV 1/5] END algorithm=brute, n_neighbors=29, weights=uniform;, score=0.750 total time=   1.0s\n",
      "[CV 2/5] END algorithm=brute, n_neighbors=29, weights=uniform;, score=0.768 total time=   0.8s\n",
      "[CV 3/5] END algorithm=brute, n_neighbors=29, weights=uniform;, score=0.770 total time=   0.9s\n",
      "[CV 4/5] END algorithm=brute, n_neighbors=29, weights=uniform;, score=0.758 total time=   1.1s\n",
      "[CV 5/5] END algorithm=brute, n_neighbors=29, weights=uniform;, score=0.768 total time=   1.0s\n",
      "[CV 1/5] END algorithm=brute, n_neighbors=29, weights=distance;, score=0.755 total time=   0.9s\n",
      "[CV 2/5] END algorithm=brute, n_neighbors=29, weights=distance;, score=0.774 total time=   0.7s\n",
      "[CV 3/5] END algorithm=brute, n_neighbors=29, weights=distance;, score=0.776 total time=   0.9s\n",
      "[CV 4/5] END algorithm=brute, n_neighbors=29, weights=distance;, score=0.765 total time=   0.8s\n",
      "[CV 5/5] END algorithm=brute, n_neighbors=29, weights=distance;, score=0.775 total time=   0.9s\n",
      "[CV 1/5] END algorithm=brute, n_neighbors=30, weights=uniform;, score=0.748 total time=   1.3s\n",
      "[CV 2/5] END algorithm=brute, n_neighbors=30, weights=uniform;, score=0.767 total time=   0.8s\n",
      "[CV 3/5] END algorithm=brute, n_neighbors=30, weights=uniform;, score=0.768 total time=   0.9s\n",
      "[CV 4/5] END algorithm=brute, n_neighbors=30, weights=uniform;, score=0.756 total time=   0.8s\n",
      "[CV 5/5] END algorithm=brute, n_neighbors=30, weights=uniform;, score=0.767 total time=   0.9s\n",
      "[CV 1/5] END algorithm=brute, n_neighbors=30, weights=distance;, score=0.762 total time=   0.8s\n",
      "[CV 2/5] END algorithm=brute, n_neighbors=30, weights=distance;, score=0.771 total time=   0.8s\n",
      "[CV 3/5] END algorithm=brute, n_neighbors=30, weights=distance;, score=0.775 total time=   0.7s\n",
      "[CV 4/5] END algorithm=brute, n_neighbors=30, weights=distance;, score=0.763 total time=   0.7s\n",
      "[CV 5/5] END algorithm=brute, n_neighbors=30, weights=distance;, score=0.775 total time=   0.8s\n"
     ]
    },
    {
     "data": {
      "text/html": [
       "<style>#sk-container-id-2 {color: black;background-color: white;}#sk-container-id-2 pre{padding: 0;}#sk-container-id-2 div.sk-toggleable {background-color: white;}#sk-container-id-2 label.sk-toggleable__label {cursor: pointer;display: block;width: 100%;margin-bottom: 0;padding: 0.3em;box-sizing: border-box;text-align: center;}#sk-container-id-2 label.sk-toggleable__label-arrow:before {content: \"▸\";float: left;margin-right: 0.25em;color: #696969;}#sk-container-id-2 label.sk-toggleable__label-arrow:hover:before {color: black;}#sk-container-id-2 div.sk-estimator:hover label.sk-toggleable__label-arrow:before {color: black;}#sk-container-id-2 div.sk-toggleable__content {max-height: 0;max-width: 0;overflow: hidden;text-align: left;background-color: #f0f8ff;}#sk-container-id-2 div.sk-toggleable__content pre {margin: 0.2em;color: black;border-radius: 0.25em;background-color: #f0f8ff;}#sk-container-id-2 input.sk-toggleable__control:checked~div.sk-toggleable__content {max-height: 200px;max-width: 100%;overflow: auto;}#sk-container-id-2 input.sk-toggleable__control:checked~label.sk-toggleable__label-arrow:before {content: \"▾\";}#sk-container-id-2 div.sk-estimator input.sk-toggleable__control:checked~label.sk-toggleable__label {background-color: #d4ebff;}#sk-container-id-2 div.sk-label input.sk-toggleable__control:checked~label.sk-toggleable__label {background-color: #d4ebff;}#sk-container-id-2 input.sk-hidden--visually {border: 0;clip: rect(1px 1px 1px 1px);clip: rect(1px, 1px, 1px, 1px);height: 1px;margin: -1px;overflow: hidden;padding: 0;position: absolute;width: 1px;}#sk-container-id-2 div.sk-estimator {font-family: monospace;background-color: #f0f8ff;border: 1px dotted black;border-radius: 0.25em;box-sizing: border-box;margin-bottom: 0.5em;}#sk-container-id-2 div.sk-estimator:hover {background-color: #d4ebff;}#sk-container-id-2 div.sk-parallel-item::after {content: \"\";width: 100%;border-bottom: 1px solid gray;flex-grow: 1;}#sk-container-id-2 div.sk-label:hover label.sk-toggleable__label {background-color: #d4ebff;}#sk-container-id-2 div.sk-serial::before {content: \"\";position: absolute;border-left: 1px solid gray;box-sizing: border-box;top: 0;bottom: 0;left: 50%;z-index: 0;}#sk-container-id-2 div.sk-serial {display: flex;flex-direction: column;align-items: center;background-color: white;padding-right: 0.2em;padding-left: 0.2em;position: relative;}#sk-container-id-2 div.sk-item {position: relative;z-index: 1;}#sk-container-id-2 div.sk-parallel {display: flex;align-items: stretch;justify-content: center;background-color: white;position: relative;}#sk-container-id-2 div.sk-item::before, #sk-container-id-2 div.sk-parallel-item::before {content: \"\";position: absolute;border-left: 1px solid gray;box-sizing: border-box;top: 0;bottom: 0;left: 50%;z-index: -1;}#sk-container-id-2 div.sk-parallel-item {display: flex;flex-direction: column;z-index: 1;position: relative;background-color: white;}#sk-container-id-2 div.sk-parallel-item:first-child::after {align-self: flex-end;width: 50%;}#sk-container-id-2 div.sk-parallel-item:last-child::after {align-self: flex-start;width: 50%;}#sk-container-id-2 div.sk-parallel-item:only-child::after {width: 0;}#sk-container-id-2 div.sk-dashed-wrapped {border: 1px dashed gray;margin: 0 0.4em 0.5em 0.4em;box-sizing: border-box;padding-bottom: 0.4em;background-color: white;}#sk-container-id-2 div.sk-label label {font-family: monospace;font-weight: bold;display: inline-block;line-height: 1.2em;}#sk-container-id-2 div.sk-label-container {text-align: center;}#sk-container-id-2 div.sk-container {/* jupyter's `normalize.less` sets `[hidden] { display: none; }` but bootstrap.min.css set `[hidden] { display: none !important; }` so we also need the `!important` here to be able to override the default hidden behavior on the sphinx rendered scikit-learn.org. See: https://github.com/scikit-learn/scikit-learn/issues/21755 */display: inline-block !important;position: relative;}#sk-container-id-2 div.sk-text-repr-fallback {display: none;}</style><div id=\"sk-container-id-2\" class=\"sk-top-container\"><div class=\"sk-text-repr-fallback\"><pre>GridSearchCV(cv=5, estimator=KNeighborsClassifier(),\n",
       "             param_grid={&#x27;algorithm&#x27;: [&#x27;auto&#x27;, &#x27;ball_tree&#x27;, &#x27;kd_tree&#x27;, &#x27;brute&#x27;],\n",
       "                         &#x27;n_neighbors&#x27;: [1, 2, 3, 4, 5, 6, 7, 8, 9, 10, 11, 12,\n",
       "                                         13, 14, 15, 16, 17, 18, 19, 20, 21, 22,\n",
       "                                         23, 24, 25, 26, 27, 28, 29, 30],\n",
       "                         &#x27;weights&#x27;: [&#x27;uniform&#x27;, &#x27;distance&#x27;]},\n",
       "             scoring=&#x27;accuracy&#x27;, verbose=3)</pre><b>In a Jupyter environment, please rerun this cell to show the HTML representation or trust the notebook. <br />On GitHub, the HTML representation is unable to render, please try loading this page with nbviewer.org.</b></div><div class=\"sk-container\" hidden><div class=\"sk-item sk-dashed-wrapped\"><div class=\"sk-label-container\"><div class=\"sk-label sk-toggleable\"><input class=\"sk-toggleable__control sk-hidden--visually\" id=\"sk-estimator-id-2\" type=\"checkbox\" ><label for=\"sk-estimator-id-2\" class=\"sk-toggleable__label sk-toggleable__label-arrow\">GridSearchCV</label><div class=\"sk-toggleable__content\"><pre>GridSearchCV(cv=5, estimator=KNeighborsClassifier(),\n",
       "             param_grid={&#x27;algorithm&#x27;: [&#x27;auto&#x27;, &#x27;ball_tree&#x27;, &#x27;kd_tree&#x27;, &#x27;brute&#x27;],\n",
       "                         &#x27;n_neighbors&#x27;: [1, 2, 3, 4, 5, 6, 7, 8, 9, 10, 11, 12,\n",
       "                                         13, 14, 15, 16, 17, 18, 19, 20, 21, 22,\n",
       "                                         23, 24, 25, 26, 27, 28, 29, 30],\n",
       "                         &#x27;weights&#x27;: [&#x27;uniform&#x27;, &#x27;distance&#x27;]},\n",
       "             scoring=&#x27;accuracy&#x27;, verbose=3)</pre></div></div></div><div class=\"sk-parallel\"><div class=\"sk-parallel-item\"><div class=\"sk-item\"><div class=\"sk-label-container\"><div class=\"sk-label sk-toggleable\"><input class=\"sk-toggleable__control sk-hidden--visually\" id=\"sk-estimator-id-3\" type=\"checkbox\" ><label for=\"sk-estimator-id-3\" class=\"sk-toggleable__label sk-toggleable__label-arrow\">estimator: KNeighborsClassifier</label><div class=\"sk-toggleable__content\"><pre>KNeighborsClassifier()</pre></div></div></div><div class=\"sk-serial\"><div class=\"sk-item\"><div class=\"sk-estimator sk-toggleable\"><input class=\"sk-toggleable__control sk-hidden--visually\" id=\"sk-estimator-id-4\" type=\"checkbox\" ><label for=\"sk-estimator-id-4\" class=\"sk-toggleable__label sk-toggleable__label-arrow\">KNeighborsClassifier</label><div class=\"sk-toggleable__content\"><pre>KNeighborsClassifier()</pre></div></div></div></div></div></div></div></div></div></div>"
      ],
      "text/plain": [
       "GridSearchCV(cv=5, estimator=KNeighborsClassifier(),\n",
       "             param_grid={'algorithm': ['auto', 'ball_tree', 'kd_tree', 'brute'],\n",
       "                         'n_neighbors': [1, 2, 3, 4, 5, 6, 7, 8, 9, 10, 11, 12,\n",
       "                                         13, 14, 15, 16, 17, 18, 19, 20, 21, 22,\n",
       "                                         23, 24, 25, 26, 27, 28, 29, 30],\n",
       "                         'weights': ['uniform', 'distance']},\n",
       "             scoring='accuracy', verbose=3)"
      ]
     },
     "execution_count": 13,
     "metadata": {},
     "output_type": "execute_result"
    }
   ],
   "source": [
    "kn_grid.fit(X_train_clean, y_train)"
   ]
  },
  {
   "cell_type": "code",
   "execution_count": 14,
   "id": "5f7eaf8a",
   "metadata": {},
   "outputs": [
    {
     "name": "stdout",
     "output_type": "stream",
     "text": [
      "{'algorithm': 'auto', 'n_neighbors': 10, 'weights': 'distance'}\n"
     ]
    }
   ],
   "source": [
    "print(kn_grid.best_params_)"
   ]
  },
  {
   "cell_type": "code",
   "execution_count": 15,
   "id": "f7c36235",
   "metadata": {},
   "outputs": [],
   "source": [
    "# Refit the KNeighborsRegressor\n",
    "kn_grid = KNeighborsClassifier(n_neighbors = kn_grid.best_params_[\"n_neighbors\"],\n",
    "                               weights = kn_grid.best_params_[\"weights\"],\n",
    "                               algorithm = kn_grid.best_params_[\"algorithm\"]\n",
    "                              )"
   ]
  },
  {
   "cell_type": "code",
   "execution_count": 16,
   "id": "0157bff0",
   "metadata": {},
   "outputs": [
    {
     "data": {
      "text/html": [
       "<style>#sk-container-id-3 {color: black;background-color: white;}#sk-container-id-3 pre{padding: 0;}#sk-container-id-3 div.sk-toggleable {background-color: white;}#sk-container-id-3 label.sk-toggleable__label {cursor: pointer;display: block;width: 100%;margin-bottom: 0;padding: 0.3em;box-sizing: border-box;text-align: center;}#sk-container-id-3 label.sk-toggleable__label-arrow:before {content: \"▸\";float: left;margin-right: 0.25em;color: #696969;}#sk-container-id-3 label.sk-toggleable__label-arrow:hover:before {color: black;}#sk-container-id-3 div.sk-estimator:hover label.sk-toggleable__label-arrow:before {color: black;}#sk-container-id-3 div.sk-toggleable__content {max-height: 0;max-width: 0;overflow: hidden;text-align: left;background-color: #f0f8ff;}#sk-container-id-3 div.sk-toggleable__content pre {margin: 0.2em;color: black;border-radius: 0.25em;background-color: #f0f8ff;}#sk-container-id-3 input.sk-toggleable__control:checked~div.sk-toggleable__content {max-height: 200px;max-width: 100%;overflow: auto;}#sk-container-id-3 input.sk-toggleable__control:checked~label.sk-toggleable__label-arrow:before {content: \"▾\";}#sk-container-id-3 div.sk-estimator input.sk-toggleable__control:checked~label.sk-toggleable__label {background-color: #d4ebff;}#sk-container-id-3 div.sk-label input.sk-toggleable__control:checked~label.sk-toggleable__label {background-color: #d4ebff;}#sk-container-id-3 input.sk-hidden--visually {border: 0;clip: rect(1px 1px 1px 1px);clip: rect(1px, 1px, 1px, 1px);height: 1px;margin: -1px;overflow: hidden;padding: 0;position: absolute;width: 1px;}#sk-container-id-3 div.sk-estimator {font-family: monospace;background-color: #f0f8ff;border: 1px dotted black;border-radius: 0.25em;box-sizing: border-box;margin-bottom: 0.5em;}#sk-container-id-3 div.sk-estimator:hover {background-color: #d4ebff;}#sk-container-id-3 div.sk-parallel-item::after {content: \"\";width: 100%;border-bottom: 1px solid gray;flex-grow: 1;}#sk-container-id-3 div.sk-label:hover label.sk-toggleable__label {background-color: #d4ebff;}#sk-container-id-3 div.sk-serial::before {content: \"\";position: absolute;border-left: 1px solid gray;box-sizing: border-box;top: 0;bottom: 0;left: 50%;z-index: 0;}#sk-container-id-3 div.sk-serial {display: flex;flex-direction: column;align-items: center;background-color: white;padding-right: 0.2em;padding-left: 0.2em;position: relative;}#sk-container-id-3 div.sk-item {position: relative;z-index: 1;}#sk-container-id-3 div.sk-parallel {display: flex;align-items: stretch;justify-content: center;background-color: white;position: relative;}#sk-container-id-3 div.sk-item::before, #sk-container-id-3 div.sk-parallel-item::before {content: \"\";position: absolute;border-left: 1px solid gray;box-sizing: border-box;top: 0;bottom: 0;left: 50%;z-index: -1;}#sk-container-id-3 div.sk-parallel-item {display: flex;flex-direction: column;z-index: 1;position: relative;background-color: white;}#sk-container-id-3 div.sk-parallel-item:first-child::after {align-self: flex-end;width: 50%;}#sk-container-id-3 div.sk-parallel-item:last-child::after {align-self: flex-start;width: 50%;}#sk-container-id-3 div.sk-parallel-item:only-child::after {width: 0;}#sk-container-id-3 div.sk-dashed-wrapped {border: 1px dashed gray;margin: 0 0.4em 0.5em 0.4em;box-sizing: border-box;padding-bottom: 0.4em;background-color: white;}#sk-container-id-3 div.sk-label label {font-family: monospace;font-weight: bold;display: inline-block;line-height: 1.2em;}#sk-container-id-3 div.sk-label-container {text-align: center;}#sk-container-id-3 div.sk-container {/* jupyter's `normalize.less` sets `[hidden] { display: none; }` but bootstrap.min.css set `[hidden] { display: none !important; }` so we also need the `!important` here to be able to override the default hidden behavior on the sphinx rendered scikit-learn.org. See: https://github.com/scikit-learn/scikit-learn/issues/21755 */display: inline-block !important;position: relative;}#sk-container-id-3 div.sk-text-repr-fallback {display: none;}</style><div id=\"sk-container-id-3\" class=\"sk-top-container\"><div class=\"sk-text-repr-fallback\"><pre>KNeighborsClassifier(n_neighbors=10, weights=&#x27;distance&#x27;)</pre><b>In a Jupyter environment, please rerun this cell to show the HTML representation or trust the notebook. <br />On GitHub, the HTML representation is unable to render, please try loading this page with nbviewer.org.</b></div><div class=\"sk-container\" hidden><div class=\"sk-item\"><div class=\"sk-estimator sk-toggleable\"><input class=\"sk-toggleable__control sk-hidden--visually\" id=\"sk-estimator-id-5\" type=\"checkbox\" checked><label for=\"sk-estimator-id-5\" class=\"sk-toggleable__label sk-toggleable__label-arrow\">KNeighborsClassifier</label><div class=\"sk-toggleable__content\"><pre>KNeighborsClassifier(n_neighbors=10, weights=&#x27;distance&#x27;)</pre></div></div></div></div></div>"
      ],
      "text/plain": [
       "KNeighborsClassifier(n_neighbors=10, weights='distance')"
      ]
     },
     "execution_count": 16,
     "metadata": {},
     "output_type": "execute_result"
    }
   ],
   "source": [
    "kn_grid.fit(X_train_clean, y_train)"
   ]
  },
  {
   "cell_type": "code",
   "execution_count": 17,
   "id": "a5369a15",
   "metadata": {},
   "outputs": [],
   "source": [
    "knn_cvpred = kn_grid.predict(X_test_clean)"
   ]
  },
  {
   "cell_type": "code",
   "execution_count": 18,
   "id": "5977fdcf",
   "metadata": {},
   "outputs": [
    {
     "name": "stdout",
     "output_type": "stream",
     "text": [
      "              precision    recall  f1-score   support\n",
      "\n",
      "           0       0.67      0.24      0.35        25\n",
      "           1       0.92      0.83      0.87       147\n",
      "           2       0.82      0.94      0.88       594\n",
      "           3       0.79      0.32      0.46        68\n",
      "           4       0.72      0.81      0.76       123\n",
      "           5       0.80      0.69      0.74       250\n",
      "\n",
      "    accuracy                           0.81      1207\n",
      "   macro avg       0.78      0.64      0.68      1207\n",
      "weighted avg       0.81      0.81      0.80      1207\n",
      "\n"
     ]
    }
   ],
   "source": [
    "print(classification_report(y_test, knn_cvpred))"
   ]
  },
  {
   "cell_type": "code",
   "execution_count": 19,
   "id": "f935b737",
   "metadata": {},
   "outputs": [
    {
     "name": "stdout",
     "output_type": "stream",
     "text": [
      "Training Data Score: 1.0\n",
      "Validating Data Score: 0.8076923076923077\n",
      "Testing Data Score: 0.8135874067937034\n"
     ]
    }
   ],
   "source": [
    "print(f\"Training Data Score: {kn_grid.score(X_train_clean, y_train)}\")\n",
    "print(f\"Validating Data Score: {kn_grid.score(X_valid_clean, y_valid)}\")\n",
    "print(f\"Testing Data Score: {kn_grid.score(X_test_clean, y_test)}\")"
   ]
  },
  {
   "cell_type": "code",
   "execution_count": 20,
   "id": "228d0eaa",
   "metadata": {},
   "outputs": [
    {
     "data": {
      "image/png": "[encoded data removed]",
      "text/plain": [
       "<Figure size 640x480 with 2 Axes>"
      ]
     },
     "metadata": {},
     "output_type": "display_data"
    }
   ],
   "source": [
    "unique_labels = np.unique(y_test)\n",
    "ConfusionMatrixDisplay.from_predictions(y_test, knn_cvpred, display_labels=unique_labels)\n",
    "plt.show()"
   ]
  },
  {
   "cell_type": "markdown",
   "id": "12087f66",
   "metadata": {},
   "source": [
    "### Bagging Classifier"
   ]
  },
  {
   "cell_type": "code",
   "execution_count": 21,
   "id": "e57ddd24",
   "metadata": {},
   "outputs": [],
   "source": [
    "dec_tree = DecisionTreeClassifier(random_state=123)"
   ]
  },
  {
   "cell_type": "code",
   "execution_count": 22,
   "id": "d9b56e80",
   "metadata": {},
   "outputs": [],
   "source": [
    "bagging_cls = BaggingClassifier(base_estimator=dec_tree, n_estimators=10, random_state=123)"
   ]
  },
  {
   "cell_type": "code",
   "execution_count": 23,
   "id": "dfae829d",
   "metadata": {},
   "outputs": [
    {
     "data": {
      "text/html": [
       "<style>#sk-container-id-4 {color: black;background-color: white;}#sk-container-id-4 pre{padding: 0;}#sk-container-id-4 div.sk-toggleable {background-color: white;}#sk-container-id-4 label.sk-toggleable__label {cursor: pointer;display: block;width: 100%;margin-bottom: 0;padding: 0.3em;box-sizing: border-box;text-align: center;}#sk-container-id-4 label.sk-toggleable__label-arrow:before {content: \"▸\";float: left;margin-right: 0.25em;color: #696969;}#sk-container-id-4 label.sk-toggleable__label-arrow:hover:before {color: black;}#sk-container-id-4 div.sk-estimator:hover label.sk-toggleable__label-arrow:before {color: black;}#sk-container-id-4 div.sk-toggleable__content {max-height: 0;max-width: 0;overflow: hidden;text-align: left;background-color: #f0f8ff;}#sk-container-id-4 div.sk-toggleable__content pre {margin: 0.2em;color: black;border-radius: 0.25em;background-color: #f0f8ff;}#sk-container-id-4 input.sk-toggleable__control:checked~div.sk-toggleable__content {max-height: 200px;max-width: 100%;overflow: auto;}#sk-container-id-4 input.sk-toggleable__control:checked~label.sk-toggleable__label-arrow:before {content: \"▾\";}#sk-container-id-4 div.sk-estimator input.sk-toggleable__control:checked~label.sk-toggleable__label {background-color: #d4ebff;}#sk-container-id-4 div.sk-label input.sk-toggleable__control:checked~label.sk-toggleable__label {background-color: #d4ebff;}#sk-container-id-4 input.sk-hidden--visually {border: 0;clip: rect(1px 1px 1px 1px);clip: rect(1px, 1px, 1px, 1px);height: 1px;margin: -1px;overflow: hidden;padding: 0;position: absolute;width: 1px;}#sk-container-id-4 div.sk-estimator {font-family: monospace;background-color: #f0f8ff;border: 1px dotted black;border-radius: 0.25em;box-sizing: border-box;margin-bottom: 0.5em;}#sk-container-id-4 div.sk-estimator:hover {background-color: #d4ebff;}#sk-container-id-4 div.sk-parallel-item::after {content: \"\";width: 100%;border-bottom: 1px solid gray;flex-grow: 1;}#sk-container-id-4 div.sk-label:hover label.sk-toggleable__label {background-color: #d4ebff;}#sk-container-id-4 div.sk-serial::before {content: \"\";position: absolute;border-left: 1px solid gray;box-sizing: border-box;top: 0;bottom: 0;left: 50%;z-index: 0;}#sk-container-id-4 div.sk-serial {display: flex;flex-direction: column;align-items: center;background-color: white;padding-right: 0.2em;padding-left: 0.2em;position: relative;}#sk-container-id-4 div.sk-item {position: relative;z-index: 1;}#sk-container-id-4 div.sk-parallel {display: flex;align-items: stretch;justify-content: center;background-color: white;position: relative;}#sk-container-id-4 div.sk-item::before, #sk-container-id-4 div.sk-parallel-item::before {content: \"\";position: absolute;border-left: 1px solid gray;box-sizing: border-box;top: 0;bottom: 0;left: 50%;z-index: -1;}#sk-container-id-4 div.sk-parallel-item {display: flex;flex-direction: column;z-index: 1;position: relative;background-color: white;}#sk-container-id-4 div.sk-parallel-item:first-child::after {align-self: flex-end;width: 50%;}#sk-container-id-4 div.sk-parallel-item:last-child::after {align-self: flex-start;width: 50%;}#sk-container-id-4 div.sk-parallel-item:only-child::after {width: 0;}#sk-container-id-4 div.sk-dashed-wrapped {border: 1px dashed gray;margin: 0 0.4em 0.5em 0.4em;box-sizing: border-box;padding-bottom: 0.4em;background-color: white;}#sk-container-id-4 div.sk-label label {font-family: monospace;font-weight: bold;display: inline-block;line-height: 1.2em;}#sk-container-id-4 div.sk-label-container {text-align: center;}#sk-container-id-4 div.sk-container {/* jupyter's `normalize.less` sets `[hidden] { display: none; }` but bootstrap.min.css set `[hidden] { display: none !important; }` so we also need the `!important` here to be able to override the default hidden behavior on the sphinx rendered scikit-learn.org. See: https://github.com/scikit-learn/scikit-learn/issues/21755 */display: inline-block !important;position: relative;}#sk-container-id-4 div.sk-text-repr-fallback {display: none;}</style><div id=\"sk-container-id-4\" class=\"sk-top-container\"><div class=\"sk-text-repr-fallback\"><pre>BaggingClassifier(base_estimator=DecisionTreeClassifier(random_state=123),\n",
       "                  random_state=123)</pre><b>In a Jupyter environment, please rerun this cell to show the HTML representation or trust the notebook. <br />On GitHub, the HTML representation is unable to render, please try loading this page with nbviewer.org.</b></div><div class=\"sk-container\" hidden><div class=\"sk-item sk-dashed-wrapped\"><div class=\"sk-label-container\"><div class=\"sk-label sk-toggleable\"><input class=\"sk-toggleable__control sk-hidden--visually\" id=\"sk-estimator-id-6\" type=\"checkbox\" ><label for=\"sk-estimator-id-6\" class=\"sk-toggleable__label sk-toggleable__label-arrow\">BaggingClassifier</label><div class=\"sk-toggleable__content\"><pre>BaggingClassifier(base_estimator=DecisionTreeClassifier(random_state=123),\n",
       "                  random_state=123)</pre></div></div></div><div class=\"sk-parallel\"><div class=\"sk-parallel-item\"><div class=\"sk-item\"><div class=\"sk-label-container\"><div class=\"sk-label sk-toggleable\"><input class=\"sk-toggleable__control sk-hidden--visually\" id=\"sk-estimator-id-7\" type=\"checkbox\" ><label for=\"sk-estimator-id-7\" class=\"sk-toggleable__label sk-toggleable__label-arrow\">base_estimator: DecisionTreeClassifier</label><div class=\"sk-toggleable__content\"><pre>DecisionTreeClassifier(random_state=123)</pre></div></div></div><div class=\"sk-serial\"><div class=\"sk-item\"><div class=\"sk-estimator sk-toggleable\"><input class=\"sk-toggleable__control sk-hidden--visually\" id=\"sk-estimator-id-8\" type=\"checkbox\" ><label for=\"sk-estimator-id-8\" class=\"sk-toggleable__label sk-toggleable__label-arrow\">DecisionTreeClassifier</label><div class=\"sk-toggleable__content\"><pre>DecisionTreeClassifier(random_state=123)</pre></div></div></div></div></div></div></div></div></div></div>"
      ],
      "text/plain": [
       "BaggingClassifier(base_estimator=DecisionTreeClassifier(random_state=123),\n",
       "                  random_state=123)"
      ]
     },
     "execution_count": 23,
     "metadata": {},
     "output_type": "execute_result"
    }
   ],
   "source": [
    "# fit KNeighborsRegressor\n",
    "bagging_cls.fit(X_train_clean, y_train)"
   ]
  },
  {
   "cell_type": "code",
   "execution_count": 24,
   "id": "fe150b20",
   "metadata": {},
   "outputs": [
    {
     "data": {
      "text/plain": [
       "0.977645305514158"
      ]
     },
     "execution_count": 24,
     "metadata": {},
     "output_type": "execute_result"
    }
   ],
   "source": [
    "bagging_cls.score(X_train_clean, y_train)"
   ]
  },
  {
   "cell_type": "code",
   "execution_count": 25,
   "id": "52b54821",
   "metadata": {},
   "outputs": [],
   "source": [
    "bagging_predict = bagging_cls.predict(X_test_clean)"
   ]
  },
  {
   "cell_type": "code",
   "execution_count": 26,
   "id": "0744610f",
   "metadata": {},
   "outputs": [
    {
     "name": "stdout",
     "output_type": "stream",
     "text": [
      "              precision    recall  f1-score   support\n",
      "\n",
      "           0       0.43      0.24      0.31        25\n",
      "           1       0.69      0.83      0.75       147\n",
      "           2       0.81      0.82      0.81       594\n",
      "           3       0.48      0.31      0.38        68\n",
      "           4       0.49      0.66      0.56       123\n",
      "           5       0.73      0.60      0.66       250\n",
      "\n",
      "    accuracy                           0.72      1207\n",
      "   macro avg       0.60      0.58      0.58      1207\n",
      "weighted avg       0.72      0.72      0.71      1207\n",
      "\n"
     ]
    }
   ],
   "source": [
    "print(classification_report(y_test, bagging_predict))"
   ]
  },
  {
   "cell_type": "code",
   "execution_count": 27,
   "id": "704b539b",
   "metadata": {},
   "outputs": [
    {
     "name": "stdout",
     "output_type": "stream",
     "text": [
      "Training Data Score: 0.977645305514158\n",
      "Validating Data Score: 0.7307692307692307\n",
      "Testing Data Score: 0.7166528583264291\n"
     ]
    }
   ],
   "source": [
    "print(f\"Training Data Score: {bagging_cls.score(X_train_clean, y_train)}\")\n",
    "print(f\"Validating Data Score: {bagging_cls.score(X_valid_clean, y_valid)}\")\n",
    "print(f\"Testing Data Score: {bagging_cls.score(X_test_clean, y_test)}\")"
   ]
  },
  {
   "cell_type": "markdown",
   "id": "9f4c8d33",
   "metadata": {},
   "source": [
    "## Tuning Parameter Bagging Classifier"
   ]
  },
  {
   "cell_type": "code",
   "execution_count": 21,
   "id": "91e4ba2b",
   "metadata": {},
   "outputs": [],
   "source": [
    "cv = RepeatedStratifiedKFold(n_splits=10, n_repeats=3, random_state=123)\n",
    "bagging_param_grid = {'n_estimators' : [10, 100, 1000]}"
   ]
  },
  {
   "cell_type": "code",
   "execution_count": 22,
   "id": "d7d95eaa",
   "metadata": {},
   "outputs": [],
   "source": [
    "bagging_grid_cv = GridSearchCV(estimator=BaggingClassifier(random_state=123), \n",
    "                               param_grid=bagging_param_grid, \n",
    "                               n_jobs=-1, \n",
    "                               cv=cv, \n",
    "                               scoring='accuracy',\n",
    "                               error_score=0)"
   ]
  },
  {
   "cell_type": "code",
   "execution_count": null,
   "id": "3fd18f4a",
   "metadata": {},
   "outputs": [],
   "source": [
    "bagging_grid_cv.fit(X_train_clean, y_train)"
   ]
  },
  {
   "cell_type": "code",
   "execution_count": null,
   "id": "2ad6a852",
   "metadata": {},
   "outputs": [],
   "source": [
    "bagging_grid_cv.best_params_"
   ]
  },
  {
   "cell_type": "code",
   "execution_count": null,
   "id": "a13e5e40",
   "metadata": {},
   "outputs": [],
   "source": [
    "bagging_cv  = BaggingClassifier(n_estimators = bagging_grid_cv.best_params_[\"n_estimators\"])"
   ]
  },
  {
   "cell_type": "code",
   "execution_count": null,
   "id": "56c6956a",
   "metadata": {},
   "outputs": [],
   "source": [
    "bagging_cv.fit(X_train_clean, y_train)"
   ]
  },
  {
   "cell_type": "code",
   "execution_count": null,
   "id": "4b5db73c",
   "metadata": {},
   "outputs": [],
   "source": [
    "baggingcv_predict = bagging_cv.predict(X_test_clean)"
   ]
  },
  {
   "cell_type": "code",
   "execution_count": null,
   "id": "9760210a",
   "metadata": {},
   "outputs": [],
   "source": [
    "print(classification_report(y_test, baggingcv_predict))"
   ]
  },
  {
   "cell_type": "code",
   "execution_count": null,
   "id": "4d6409a2",
   "metadata": {},
   "outputs": [],
   "source": [
    "print(f\"Training Data Score: {bagging_cv.score(X_train_clean, y_train)}\")\n",
    "print(f\"Validating Data Score: {bagging_cv.score(X_valid_clean, y_valid)}\")\n",
    "print(f\"Testing Data Score: {bagging_cv.score(X_test_clean, y_test)}\")"
   ]
  },
  {
   "cell_type": "code",
   "execution_count": null,
   "id": "78db6ac7",
   "metadata": {},
   "outputs": [],
   "source": [
    "unique_labels = np.unique(y_test)\n",
    "ConfusionMatrixDisplay.from_predictions(y_test, baggingcv_predict, display_labels=unique_labels)\n",
    "plt.show()"
   ]
  },
  {
   "cell_type": "markdown",
   "id": "15e3239e",
   "metadata": {},
   "source": [
    "## Gradient Boosting"
   ]
  },
  {
   "cell_type": "code",
   "execution_count": 52,
   "id": "05f3ac86",
   "metadata": {},
   "outputs": [],
   "source": [
    "# Build GradientBoosting\n",
    "grad_boost = GradientBoostingClassifier(random_state = 123)"
   ]
  },
  {
   "cell_type": "code",
   "execution_count": 53,
   "id": "14134990",
   "metadata": {},
   "outputs": [
    {
     "data": {
      "text/html": [
       "<style>#sk-container-id-10 {color: black;background-color: white;}#sk-container-id-10 pre{padding: 0;}#sk-container-id-10 div.sk-toggleable {background-color: white;}#sk-container-id-10 label.sk-toggleable__label {cursor: pointer;display: block;width: 100%;margin-bottom: 0;padding: 0.3em;box-sizing: border-box;text-align: center;}#sk-container-id-10 label.sk-toggleable__label-arrow:before {content: \"▸\";float: left;margin-right: 0.25em;color: #696969;}#sk-container-id-10 label.sk-toggleable__label-arrow:hover:before {color: black;}#sk-container-id-10 div.sk-estimator:hover label.sk-toggleable__label-arrow:before {color: black;}#sk-container-id-10 div.sk-toggleable__content {max-height: 0;max-width: 0;overflow: hidden;text-align: left;background-color: #f0f8ff;}#sk-container-id-10 div.sk-toggleable__content pre {margin: 0.2em;color: black;border-radius: 0.25em;background-color: #f0f8ff;}#sk-container-id-10 input.sk-toggleable__control:checked~div.sk-toggleable__content {max-height: 200px;max-width: 100%;overflow: auto;}#sk-container-id-10 input.sk-toggleable__control:checked~label.sk-toggleable__label-arrow:before {content: \"▾\";}#sk-container-id-10 div.sk-estimator input.sk-toggleable__control:checked~label.sk-toggleable__label {background-color: #d4ebff;}#sk-container-id-10 div.sk-label input.sk-toggleable__control:checked~label.sk-toggleable__label {background-color: #d4ebff;}#sk-container-id-10 input.sk-hidden--visually {border: 0;clip: rect(1px 1px 1px 1px);clip: rect(1px, 1px, 1px, 1px);height: 1px;margin: -1px;overflow: hidden;padding: 0;position: absolute;width: 1px;}#sk-container-id-10 div.sk-estimator {font-family: monospace;background-color: #f0f8ff;border: 1px dotted black;border-radius: 0.25em;box-sizing: border-box;margin-bottom: 0.5em;}#sk-container-id-10 div.sk-estimator:hover {background-color: #d4ebff;}#sk-container-id-10 div.sk-parallel-item::after {content: \"\";width: 100%;border-bottom: 1px solid gray;flex-grow: 1;}#sk-container-id-10 div.sk-label:hover label.sk-toggleable__label {background-color: #d4ebff;}#sk-container-id-10 div.sk-serial::before {content: \"\";position: absolute;border-left: 1px solid gray;box-sizing: border-box;top: 0;bottom: 0;left: 50%;z-index: 0;}#sk-container-id-10 div.sk-serial {display: flex;flex-direction: column;align-items: center;background-color: white;padding-right: 0.2em;padding-left: 0.2em;position: relative;}#sk-container-id-10 div.sk-item {position: relative;z-index: 1;}#sk-container-id-10 div.sk-parallel {display: flex;align-items: stretch;justify-content: center;background-color: white;position: relative;}#sk-container-id-10 div.sk-item::before, #sk-container-id-10 div.sk-parallel-item::before {content: \"\";position: absolute;border-left: 1px solid gray;box-sizing: border-box;top: 0;bottom: 0;left: 50%;z-index: -1;}#sk-container-id-10 div.sk-parallel-item {display: flex;flex-direction: column;z-index: 1;position: relative;background-color: white;}#sk-container-id-10 div.sk-parallel-item:first-child::after {align-self: flex-end;width: 50%;}#sk-container-id-10 div.sk-parallel-item:last-child::after {align-self: flex-start;width: 50%;}#sk-container-id-10 div.sk-parallel-item:only-child::after {width: 0;}#sk-container-id-10 div.sk-dashed-wrapped {border: 1px dashed gray;margin: 0 0.4em 0.5em 0.4em;box-sizing: border-box;padding-bottom: 0.4em;background-color: white;}#sk-container-id-10 div.sk-label label {font-family: monospace;font-weight: bold;display: inline-block;line-height: 1.2em;}#sk-container-id-10 div.sk-label-container {text-align: center;}#sk-container-id-10 div.sk-container {/* jupyter's `normalize.less` sets `[hidden] { display: none; }` but bootstrap.min.css set `[hidden] { display: none !important; }` so we also need the `!important` here to be able to override the default hidden behavior on the sphinx rendered scikit-learn.org. See: https://github.com/scikit-learn/scikit-learn/issues/21755 */display: inline-block !important;position: relative;}#sk-container-id-10 div.sk-text-repr-fallback {display: none;}</style><div id=\"sk-container-id-10\" class=\"sk-top-container\"><div class=\"sk-text-repr-fallback\"><pre>GradientBoostingClassifier(random_state=123)</pre><b>In a Jupyter environment, please rerun this cell to show the HTML representation or trust the notebook. <br />On GitHub, the HTML representation is unable to render, please try loading this page with nbviewer.org.</b></div><div class=\"sk-container\" hidden><div class=\"sk-item\"><div class=\"sk-estimator sk-toggleable\"><input class=\"sk-toggleable__control sk-hidden--visually\" id=\"sk-estimator-id-16\" type=\"checkbox\" checked><label for=\"sk-estimator-id-16\" class=\"sk-toggleable__label sk-toggleable__label-arrow\">GradientBoostingClassifier</label><div class=\"sk-toggleable__content\"><pre>GradientBoostingClassifier(random_state=123)</pre></div></div></div></div></div>"
      ],
      "text/plain": [
       "GradientBoostingClassifier(random_state=123)"
      ]
     },
     "execution_count": 53,
     "metadata": {},
     "output_type": "execute_result"
    }
   ],
   "source": [
    "# Fit GradientBoosting\n",
    "grad_boost.fit(X_train_clean, y_train)"
   ]
  },
  {
   "cell_type": "code",
   "execution_count": 54,
   "id": "0dba7df4",
   "metadata": {},
   "outputs": [
    {
     "data": {
      "text/plain": [
       "0.7822901142573274"
      ]
     },
     "execution_count": 54,
     "metadata": {},
     "output_type": "execute_result"
    }
   ],
   "source": [
    "grad_boost.score(X_train_clean, y_train)"
   ]
  },
  {
   "cell_type": "code",
   "execution_count": 55,
   "id": "4965fe34",
   "metadata": {},
   "outputs": [],
   "source": [
    "gradboost_predict = grad_boost.predict(X_test_clean)"
   ]
  },
  {
   "cell_type": "code",
   "execution_count": 56,
   "id": "668f3610",
   "metadata": {},
   "outputs": [
    {
     "name": "stdout",
     "output_type": "stream",
     "text": [
      "              precision    recall  f1-score   support\n",
      "\n",
      "           0       0.58      0.28      0.38        25\n",
      "           1       0.83      0.71      0.77       147\n",
      "           2       0.68      0.96      0.79       594\n",
      "           3       0.91      0.31      0.46        68\n",
      "           4       0.91      0.58      0.71       123\n",
      "           5       0.87      0.44      0.58       250\n",
      "\n",
      "    accuracy                           0.73      1207\n",
      "   macro avg       0.80      0.55      0.61      1207\n",
      "weighted avg       0.77      0.73      0.71      1207\n",
      "\n"
     ]
    }
   ],
   "source": [
    "print(classification_report(y_test, gradboost_predict))"
   ]
  },
  {
   "cell_type": "code",
   "execution_count": 57,
   "id": "b6e967f3",
   "metadata": {},
   "outputs": [
    {
     "name": "stdout",
     "output_type": "stream",
     "text": [
      "Training Data Score: 0.7822901142573274\n",
      "Validating Data Score: 0.728287841191067\n",
      "Testing Data Score: 0.7315658657829329\n"
     ]
    }
   ],
   "source": [
    "print(f\"Training Data Score: {grad_boost.score(X_train_clean, y_train)}\")\n",
    "print(f\"Validating Data Score: {grad_boost.score(X_valid_clean, y_valid)}\")\n",
    "print(f\"Testing Data Score: {grad_boost.score(X_test_clean, y_test)}\")"
   ]
  },
  {
   "cell_type": "markdown",
   "id": "9ea3d9fe",
   "metadata": {},
   "source": [
    "### Tuning Parameter Gradient Boosting"
   ]
  },
  {
   "cell_type": "code",
   "execution_count": 28,
   "id": "3de4bb3b",
   "metadata": {},
   "outputs": [],
   "source": [
    "grad_param_grid = {\n",
    "    'n_estimators' : [10, 50, 100],\n",
    "    'learning_rate' : [0.001, 0.01, 0.1],\n",
    "    'subsample' : [0.5, 0.7, 1.0],\n",
    "    'max_depth' : [3, 7, 9]\n",
    "}"
   ]
  },
  {
   "cell_type": "code",
   "execution_count": 29,
   "id": "a15b72ae",
   "metadata": {},
   "outputs": [],
   "source": [
    "grad_grid_cv = GridSearchCV(estimator=GradientBoostingClassifier(), \n",
    "                           param_grid=grad_param_grid,\n",
    "                           cv=5, \n",
    "                           scoring='accuracy',\n",
    "                           error_score=0)"
   ]
  },
  {
   "cell_type": "code",
   "execution_count": null,
   "id": "40e08780",
   "metadata": {},
   "outputs": [],
   "source": [
    "grad_grid_cv.fit(X_train_clean, y_train)"
   ]
  },
  {
   "cell_type": "code",
   "execution_count": null,
   "id": "267f1b81",
   "metadata": {},
   "outputs": [],
   "source": [
    "grad_grid_cv.best_params_"
   ]
  },
  {
   "cell_type": "code",
   "execution_count": null,
   "id": "ea9e3dd3",
   "metadata": {},
   "outputs": [],
   "source": [
    "gradboost_cv  = GradientBoostingClassifier(n_estimators = grad_grid_cv.best_params_[\"n_estimators\"],\n",
    "                                           learning_rate = grad_grid_cv.best_params_[\"learning_rate\"],\n",
    "                                           subsample = grad_grid_cv.best_params_[\"subsample\"],\n",
    "                                           max_depth = grad_grid_cv.best_params_[\"max_depth\"],\n",
    "                                           random_state = 123)"
   ]
  },
  {
   "cell_type": "code",
   "execution_count": null,
   "id": "66ae01e5",
   "metadata": {},
   "outputs": [],
   "source": [
    "gradboost_cv.fit(X_train_clean, y_train)"
   ]
  },
  {
   "cell_type": "code",
   "execution_count": null,
   "id": "94a07cde",
   "metadata": {},
   "outputs": [],
   "source": [
    "gradboost_pred_cv = gradboost_cv.predict(X_test_clean)"
   ]
  },
  {
   "cell_type": "code",
   "execution_count": null,
   "id": "cb90802f",
   "metadata": {},
   "outputs": [],
   "source": [
    "print(classification_report(y_test, gradboost_pred_cv))"
   ]
  },
  {
   "cell_type": "code",
   "execution_count": null,
   "id": "2d3aafe8",
   "metadata": {},
   "outputs": [],
   "source": [
    "unique_labels = np.unique(y_test)\n",
    "ConfusionMatrixDisplay.from_predictions(y_test, gradboost_pred_cv, display_labels=unique_labels)\n",
    "plt.show()"
   ]
  },
  {
   "cell_type": "markdown",
   "id": "aeaffbdd",
   "metadata": {},
   "source": [
    "## Adaboost Classifier"
   ]
  },
  {
   "cell_type": "markdown",
   "id": "eb6b8ba7",
   "metadata": {},
   "source": [
    "### Adaboost SVC"
   ]
  },
  {
   "cell_type": "code",
   "execution_count": null,
   "id": "004cb105",
   "metadata": {},
   "outputs": [],
   "source": [
    "svc = SVC(probability=True, kernel='linear', random_state = 123)\n",
    "\n",
    "# Create adaboost classifer object\n",
    "adaboost_svc = AdaBoostClassifier(n_estimators=50, \n",
    "                                  base_estimator=svc,\n",
    "                                  learning_rate=1)"
   ]
  },
  {
   "cell_type": "code",
   "execution_count": null,
   "id": "7a209d0a",
   "metadata": {},
   "outputs": [],
   "source": [
    "# Train Adaboost Classifer\n",
    "adaboost_svc.fit(X_train_clean, y_train)"
   ]
  },
  {
   "cell_type": "code",
   "execution_count": null,
   "id": "1fa8614d",
   "metadata": {},
   "outputs": [],
   "source": [
    "adaboost_svc.score(X_train_clean, y_train)"
   ]
  },
  {
   "cell_type": "code",
   "execution_count": null,
   "id": "a7419135",
   "metadata": {},
   "outputs": [],
   "source": [
    "ada_predict = adaboost_svc.predict(X_test_clean)"
   ]
  },
  {
   "cell_type": "code",
   "execution_count": null,
   "id": "756dc431",
   "metadata": {},
   "outputs": [],
   "source": [
    "print(classification_report(y_test, ada_predict))"
   ]
  },
  {
   "cell_type": "code",
   "execution_count": null,
   "id": "f582f5a8",
   "metadata": {},
   "outputs": [],
   "source": [
    "print(f\"Training Data Score: {adaboost_svc.score(X_train_clean, y_train)}\")\n",
    "print(f\"Validating Data Score: {adaboost_svc.score(X_valid_clean, y_valid)}\")\n",
    "print(f\"Testing Data Score: {adaboost_svc.score(X_test_clean, y_test)}\")"
   ]
  },
  {
   "cell_type": "markdown",
   "id": "4f551ec0",
   "metadata": {},
   "source": [
    "### Adaboost Original"
   ]
  },
  {
   "cell_type": "code",
   "execution_count": 28,
   "id": "1e46259b",
   "metadata": {},
   "outputs": [],
   "source": [
    "# Create adaboost classifer object\n",
    "abc = AdaBoostClassifier(n_estimators=50,\n",
    "                         learning_rate=1,\n",
    "                         random_state = 123)"
   ]
  },
  {
   "cell_type": "code",
   "execution_count": 29,
   "id": "4a38eee2",
   "metadata": {},
   "outputs": [],
   "source": [
    "# Train Adaboost Classifer\n",
    "abc_ori = abc.fit(X_train_clean, y_train)"
   ]
  },
  {
   "cell_type": "code",
   "execution_count": 30,
   "id": "928c8ea9",
   "metadata": {},
   "outputs": [
    {
     "data": {
      "text/plain": [
       "0.5848236462990561"
      ]
     },
     "execution_count": 30,
     "metadata": {},
     "output_type": "execute_result"
    }
   ],
   "source": [
    "abc_ori.score(X_train_clean, y_train)"
   ]
  },
  {
   "cell_type": "code",
   "execution_count": 31,
   "id": "39e0e63b",
   "metadata": {},
   "outputs": [],
   "source": [
    "adaboost_pred_ori = abc_ori.predict(X_test_clean)"
   ]
  },
  {
   "cell_type": "code",
   "execution_count": 32,
   "id": "7be930ab",
   "metadata": {},
   "outputs": [
    {
     "name": "stdout",
     "output_type": "stream",
     "text": [
      "              precision    recall  f1-score   support\n",
      "\n",
      "           0       0.50      0.24      0.32        25\n",
      "           1       0.64      0.65      0.65       147\n",
      "           2       0.58      0.93      0.71       594\n",
      "           3       0.53      0.12      0.19        68\n",
      "           4       0.89      0.13      0.23       123\n",
      "           5       0.63      0.15      0.24       250\n",
      "\n",
      "    accuracy                           0.59      1207\n",
      "   macro avg       0.63      0.37      0.39      1207\n",
      "weighted avg       0.62      0.59      0.52      1207\n",
      "\n"
     ]
    }
   ],
   "source": [
    "print(classification_report(y_test, adaboost_pred_ori))"
   ]
  },
  {
   "cell_type": "code",
   "execution_count": 33,
   "id": "cc0aba55",
   "metadata": {},
   "outputs": [
    {
     "name": "stdout",
     "output_type": "stream",
     "text": [
      "Training Data Score: 0.5848236462990561\n",
      "Validating Data Score: 0.6066997518610422\n",
      "Testing Data Score: 0.5907207953603977\n"
     ]
    }
   ],
   "source": [
    "print(f\"Training Data Score: {abc_ori.score(X_train_clean, y_train)}\")\n",
    "print(f\"Validating Data Score: {abc_ori.score(X_valid_clean, y_valid)}\")\n",
    "print(f\"Testing Data Score: {abc_ori.score(X_test_clean, y_test)}\")"
   ]
  },
  {
   "cell_type": "markdown",
   "id": "44e8d2d9",
   "metadata": {},
   "source": [
    "## Tuning Parameter Adaboost"
   ]
  },
  {
   "cell_type": "code",
   "execution_count": null,
   "id": "f62b0b38",
   "metadata": {},
   "outputs": [],
   "source": [
    "adaboost = AdaBoostClassifier(random_state = 123)"
   ]
  },
  {
   "cell_type": "code",
   "execution_count": null,
   "id": "63041a6e",
   "metadata": {},
   "outputs": [],
   "source": [
    "param_grid = {\n",
    "    'n_estimators': [50, 100, 200],\n",
    "    'learning_rate': [0.1, 0.5, 1.0],\n",
    "    'algorithm': ['SAMME', 'SAMME.R']\n",
    "}"
   ]
  },
  {
   "cell_type": "code",
   "execution_count": null,
   "id": "25c6263d",
   "metadata": {},
   "outputs": [],
   "source": [
    "grid_search_adaboost = GridSearchCV(adaboost, param_grid, scoring='accuracy', cv=5)"
   ]
  },
  {
   "cell_type": "code",
   "execution_count": null,
   "id": "39f82a50",
   "metadata": {},
   "outputs": [],
   "source": [
    "grid_search_adaboost.fit(X_train_clean, y_train)"
   ]
  },
  {
   "cell_type": "code",
   "execution_count": null,
   "id": "293f6f86",
   "metadata": {},
   "outputs": [],
   "source": [
    "print(grid_search_adaboost.best_params_)"
   ]
  },
  {
   "cell_type": "code",
   "execution_count": null,
   "id": "917ab65c",
   "metadata": {},
   "outputs": [],
   "source": [
    "adaboost_best = AdaBoostClassifier(n_estimators = grid_search_adaboost.best_params_[\"n_estimators\"],\n",
    "                                   learning_rate = grid_search_adaboost.best_params_[\"learning_rate\"],\n",
    "                                   algorithm = grid_search_adaboost.best_params_[\"algorithm\"]\n",
    "                                  )"
   ]
  },
  {
   "cell_type": "code",
   "execution_count": null,
   "id": "e8226954",
   "metadata": {},
   "outputs": [],
   "source": [
    "adaboost_best.fit(X_train_clean, y_train)"
   ]
  },
  {
   "cell_type": "code",
   "execution_count": null,
   "id": "03619c8a",
   "metadata": {},
   "outputs": [],
   "source": [
    "adaboost_pred_cv = adaboost_best.predict(X_test_clean)"
   ]
  },
  {
   "cell_type": "code",
   "execution_count": null,
   "id": "9321c089",
   "metadata": {},
   "outputs": [],
   "source": [
    "print(classification_report(y_test, adaboost_pred_cv))"
   ]
  },
  {
   "cell_type": "code",
   "execution_count": null,
   "id": "b6a3dda1",
   "metadata": {},
   "outputs": [],
   "source": [
    "print(f\"Training Data Score: {adaboost_best.score(X_train_clean, y_train)}\")\n",
    "print(f\"Validating Data Score: {adaboost_best.score(X_valid_clean, y_valid)}\")\n",
    "print(f\"Testing Data Score: {adaboost_best.score(X_test_clean, y_test)}\")"
   ]
  },
  {
   "cell_type": "code",
   "execution_count": null,
   "id": "98105025",
   "metadata": {},
   "outputs": [],
   "source": [
    "unique_labels = np.unique(y_test)\n",
    "ConfusionMatrixDisplay.from_predictions(y_test, adaboost_pred_cv, display_labels=unique_labels)\n",
    "plt.show()"
   ]
  },
  {
   "cell_type": "markdown",
   "id": "ce8e40e5",
   "metadata": {},
   "source": [
    "## Extratrees Classifier"
   ]
  },
  {
   "cell_type": "code",
   "execution_count": 34,
   "id": "4a837c56",
   "metadata": {},
   "outputs": [],
   "source": [
    "extra_trees_awal = ExtraTreesClassifier(random_state = 123)"
   ]
  },
  {
   "cell_type": "code",
   "execution_count": 35,
   "id": "3afc86c1",
   "metadata": {},
   "outputs": [
    {
     "data": {
      "text/html": [
       "<style>#sk-container-id-5 {color: black;background-color: white;}#sk-container-id-5 pre{padding: 0;}#sk-container-id-5 div.sk-toggleable {background-color: white;}#sk-container-id-5 label.sk-toggleable__label {cursor: pointer;display: block;width: 100%;margin-bottom: 0;padding: 0.3em;box-sizing: border-box;text-align: center;}#sk-container-id-5 label.sk-toggleable__label-arrow:before {content: \"▸\";float: left;margin-right: 0.25em;color: #696969;}#sk-container-id-5 label.sk-toggleable__label-arrow:hover:before {color: black;}#sk-container-id-5 div.sk-estimator:hover label.sk-toggleable__label-arrow:before {color: black;}#sk-container-id-5 div.sk-toggleable__content {max-height: 0;max-width: 0;overflow: hidden;text-align: left;background-color: #f0f8ff;}#sk-container-id-5 div.sk-toggleable__content pre {margin: 0.2em;color: black;border-radius: 0.25em;background-color: #f0f8ff;}#sk-container-id-5 input.sk-toggleable__control:checked~div.sk-toggleable__content {max-height: 200px;max-width: 100%;overflow: auto;}#sk-container-id-5 input.sk-toggleable__control:checked~label.sk-toggleable__label-arrow:before {content: \"▾\";}#sk-container-id-5 div.sk-estimator input.sk-toggleable__control:checked~label.sk-toggleable__label {background-color: #d4ebff;}#sk-container-id-5 div.sk-label input.sk-toggleable__control:checked~label.sk-toggleable__label {background-color: #d4ebff;}#sk-container-id-5 input.sk-hidden--visually {border: 0;clip: rect(1px 1px 1px 1px);clip: rect(1px, 1px, 1px, 1px);height: 1px;margin: -1px;overflow: hidden;padding: 0;position: absolute;width: 1px;}#sk-container-id-5 div.sk-estimator {font-family: monospace;background-color: #f0f8ff;border: 1px dotted black;border-radius: 0.25em;box-sizing: border-box;margin-bottom: 0.5em;}#sk-container-id-5 div.sk-estimator:hover {background-color: #d4ebff;}#sk-container-id-5 div.sk-parallel-item::after {content: \"\";width: 100%;border-bottom: 1px solid gray;flex-grow: 1;}#sk-container-id-5 div.sk-label:hover label.sk-toggleable__label {background-color: #d4ebff;}#sk-container-id-5 div.sk-serial::before {content: \"\";position: absolute;border-left: 1px solid gray;box-sizing: border-box;top: 0;bottom: 0;left: 50%;z-index: 0;}#sk-container-id-5 div.sk-serial {display: flex;flex-direction: column;align-items: center;background-color: white;padding-right: 0.2em;padding-left: 0.2em;position: relative;}#sk-container-id-5 div.sk-item {position: relative;z-index: 1;}#sk-container-id-5 div.sk-parallel {display: flex;align-items: stretch;justify-content: center;background-color: white;position: relative;}#sk-container-id-5 div.sk-item::before, #sk-container-id-5 div.sk-parallel-item::before {content: \"\";position: absolute;border-left: 1px solid gray;box-sizing: border-box;top: 0;bottom: 0;left: 50%;z-index: -1;}#sk-container-id-5 div.sk-parallel-item {display: flex;flex-direction: column;z-index: 1;position: relative;background-color: white;}#sk-container-id-5 div.sk-parallel-item:first-child::after {align-self: flex-end;width: 50%;}#sk-container-id-5 div.sk-parallel-item:last-child::after {align-self: flex-start;width: 50%;}#sk-container-id-5 div.sk-parallel-item:only-child::after {width: 0;}#sk-container-id-5 div.sk-dashed-wrapped {border: 1px dashed gray;margin: 0 0.4em 0.5em 0.4em;box-sizing: border-box;padding-bottom: 0.4em;background-color: white;}#sk-container-id-5 div.sk-label label {font-family: monospace;font-weight: bold;display: inline-block;line-height: 1.2em;}#sk-container-id-5 div.sk-label-container {text-align: center;}#sk-container-id-5 div.sk-container {/* jupyter's `normalize.less` sets `[hidden] { display: none; }` but bootstrap.min.css set `[hidden] { display: none !important; }` so we also need the `!important` here to be able to override the default hidden behavior on the sphinx rendered scikit-learn.org. See: https://github.com/scikit-learn/scikit-learn/issues/21755 */display: inline-block !important;position: relative;}#sk-container-id-5 div.sk-text-repr-fallback {display: none;}</style><div id=\"sk-container-id-5\" class=\"sk-top-container\"><div class=\"sk-text-repr-fallback\"><pre>ExtraTreesClassifier(random_state=123)</pre><b>In a Jupyter environment, please rerun this cell to show the HTML representation or trust the notebook. <br />On GitHub, the HTML representation is unable to render, please try loading this page with nbviewer.org.</b></div><div class=\"sk-container\" hidden><div class=\"sk-item\"><div class=\"sk-estimator sk-toggleable\"><input class=\"sk-toggleable__control sk-hidden--visually\" id=\"sk-estimator-id-9\" type=\"checkbox\" checked><label for=\"sk-estimator-id-9\" class=\"sk-toggleable__label sk-toggleable__label-arrow\">ExtraTreesClassifier</label><div class=\"sk-toggleable__content\"><pre>ExtraTreesClassifier(random_state=123)</pre></div></div></div></div></div>"
      ],
      "text/plain": [
       "ExtraTreesClassifier(random_state=123)"
      ]
     },
     "execution_count": 35,
     "metadata": {},
     "output_type": "execute_result"
    }
   ],
   "source": [
    "extra_trees_awal.fit(X_train_clean, y_train)"
   ]
  },
  {
   "cell_type": "code",
   "execution_count": 36,
   "id": "cedf77cb",
   "metadata": {},
   "outputs": [
    {
     "data": {
      "text/plain": [
       "1.0"
      ]
     },
     "execution_count": 36,
     "metadata": {},
     "output_type": "execute_result"
    }
   ],
   "source": [
    "extra_trees_awal.score(X_train_clean, y_train)"
   ]
  },
  {
   "cell_type": "code",
   "execution_count": 37,
   "id": "4d797c65",
   "metadata": {},
   "outputs": [],
   "source": [
    "y_extratress_pred = extra_trees_awal.predict(X_test_clean)"
   ]
  },
  {
   "cell_type": "code",
   "execution_count": 42,
   "id": "3956b34c",
   "metadata": {},
   "outputs": [
    {
     "name": "stdout",
     "output_type": "stream",
     "text": [
      "              precision    recall  f1-score   support\n",
      "\n",
      "           0       0.50      0.12      0.19        25\n",
      "           1       0.84      0.88      0.86       147\n",
      "           2       0.83      0.90      0.86       594\n",
      "           3       0.81      0.31      0.45        68\n",
      "           4       0.54      0.72      0.62       123\n",
      "           5       0.77      0.68      0.72       250\n",
      "\n",
      "    accuracy                           0.78      1207\n",
      "   macro avg       0.72      0.60      0.62      1207\n",
      "weighted avg       0.78      0.78      0.77      1207\n",
      "\n"
     ]
    }
   ],
   "source": [
    "print(classification_report(y_test, y_extratress_pred))"
   ]
  },
  {
   "cell_type": "code",
   "execution_count": 39,
   "id": "ab4e1da8",
   "metadata": {},
   "outputs": [
    {
     "name": "stdout",
     "output_type": "stream",
     "text": [
      "Training Data Score: 1.0\n",
      "Validating Data Score: 0.8052109181141439\n",
      "Testing Data Score: 0.7804473902236951\n"
     ]
    }
   ],
   "source": [
    "print(f\"Training Data Score: {extra_trees_awal.score(X_train_clean, y_train)}\")\n",
    "print(f\"Validating Data Score: {extra_trees_awal.score(X_valid_clean, y_valid)}\")\n",
    "print(f\"Testing Data Score: {extra_trees_awal.score(X_test_clean, y_test)}\")"
   ]
  },
  {
   "cell_type": "markdown",
   "id": "710885fe",
   "metadata": {},
   "source": [
    "## Tuning Parameter Extratrees Classifier"
   ]
  },
  {
   "cell_type": "code",
   "execution_count": null,
   "id": "416a6be3",
   "metadata": {},
   "outputs": [],
   "source": [
    "extra_trees = ExtraTreesClassifier(random_state = 123)"
   ]
  },
  {
   "cell_type": "code",
   "execution_count": null,
   "id": "f42ffb66",
   "metadata": {},
   "outputs": [],
   "source": [
    "param_grid = {\n",
    "    'n_estimators': [50, 100, 200],\n",
    "    'max_depth': [10, 20, 30, None],\n",
    "    'min_samples_split': [2, 5, 10],\n",
    "    'min_samples_leaf': [1, 2, 4]\n",
    "}"
   ]
  },
  {
   "cell_type": "code",
   "execution_count": null,
   "id": "289440b5",
   "metadata": {},
   "outputs": [],
   "source": [
    "grid_search_et = GridSearchCV(extra_trees, param_grid, scoring='accuracy', cv=5)"
   ]
  },
  {
   "cell_type": "code",
   "execution_count": null,
   "id": "e9aa04cf",
   "metadata": {},
   "outputs": [],
   "source": [
    "grid_search_et.fit(X_train_clean, y_train)"
   ]
  },
  {
   "cell_type": "code",
   "execution_count": null,
   "id": "5df36345",
   "metadata": {},
   "outputs": [],
   "source": [
    "print(grid_search_et.best_params_)"
   ]
  },
  {
   "cell_type": "code",
   "execution_count": null,
   "id": "face1715",
   "metadata": {},
   "outputs": [],
   "source": [
    "extra_trees_best = ExtraTreesClassifier(n_estimators = grid_search_et.best_params_[\"n_estimators\"], \n",
    "                                        max_depth = grid_search_et.best_params_[\"max_depth\"], \n",
    "                                        min_samples_split= grid_search_et.best_params_[\"min_samples_split\"], \n",
    "                                        min_samples_leaf=grid_search_et.best_params_[\"min_samples_leaf\"])"
   ]
  },
  {
   "cell_type": "code",
   "execution_count": null,
   "id": "1e321a09",
   "metadata": {},
   "outputs": [],
   "source": [
    "extra_trees_best.fit(X_train_clean, y_train)"
   ]
  },
  {
   "cell_type": "code",
   "execution_count": null,
   "id": "654ceca1",
   "metadata": {},
   "outputs": [],
   "source": [
    "extratreescv_pred = extra_trees_best.predict(X_test_clean)"
   ]
  },
  {
   "cell_type": "code",
   "execution_count": null,
   "id": "cda1cd1b",
   "metadata": {},
   "outputs": [],
   "source": [
    "print(classification_report(y_test, extratreescv_pred))"
   ]
  },
  {
   "cell_type": "code",
   "execution_count": null,
   "id": "e42a76ba",
   "metadata": {},
   "outputs": [],
   "source": [
    "print(f\"Training Data Score: {extra_trees_best.score(X_train_clean, y_train)}\")\n",
    "print(f\"Validating Data Score: {extra_trees_best.score(X_valid_clean, y_valid)}\")\n",
    "print(f\"Testing Data Score: {extra_trees_best.score(X_test_clean, y_test)}\")"
   ]
  },
  {
   "cell_type": "code",
   "execution_count": null,
   "id": "ff88c810",
   "metadata": {},
   "outputs": [],
   "source": [
    "unique_labels = np.unique(y_test)\n",
    "ConfusionMatrixDisplay.from_predictions(y_test, extratreescv_pred, display_labels=unique_labels)\n",
    "plt.show()"
   ]
  },
  {
   "cell_type": "markdown",
   "id": "5bb686f7",
   "metadata": {},
   "source": [
    "## XGboost Classifier"
   ]
  },
  {
   "cell_type": "code",
   "execution_count": 43,
   "id": "b9aa0e2f",
   "metadata": {},
   "outputs": [],
   "source": [
    "xgb_classifier = xgb.XGBClassifier(random_state = 123)"
   ]
  },
  {
   "cell_type": "code",
   "execution_count": 59,
   "id": "2b6b62bb",
   "metadata": {},
   "outputs": [
    {
     "data": {
      "text/html": [
       "<style>#sk-container-id-11 {color: black;background-color: white;}#sk-container-id-11 pre{padding: 0;}#sk-container-id-11 div.sk-toggleable {background-color: white;}#sk-container-id-11 label.sk-toggleable__label {cursor: pointer;display: block;width: 100%;margin-bottom: 0;padding: 0.3em;box-sizing: border-box;text-align: center;}#sk-container-id-11 label.sk-toggleable__label-arrow:before {content: \"▸\";float: left;margin-right: 0.25em;color: #696969;}#sk-container-id-11 label.sk-toggleable__label-arrow:hover:before {color: black;}#sk-container-id-11 div.sk-estimator:hover label.sk-toggleable__label-arrow:before {color: black;}#sk-container-id-11 div.sk-toggleable__content {max-height: 0;max-width: 0;overflow: hidden;text-align: left;background-color: #f0f8ff;}#sk-container-id-11 div.sk-toggleable__content pre {margin: 0.2em;color: black;border-radius: 0.25em;background-color: #f0f8ff;}#sk-container-id-11 input.sk-toggleable__control:checked~div.sk-toggleable__content {max-height: 200px;max-width: 100%;overflow: auto;}#sk-container-id-11 input.sk-toggleable__control:checked~label.sk-toggleable__label-arrow:before {content: \"▾\";}#sk-container-id-11 div.sk-estimator input.sk-toggleable__control:checked~label.sk-toggleable__label {background-color: #d4ebff;}#sk-container-id-11 div.sk-label input.sk-toggleable__control:checked~label.sk-toggleable__label {background-color: #d4ebff;}#sk-container-id-11 input.sk-hidden--visually {border: 0;clip: rect(1px 1px 1px 1px);clip: rect(1px, 1px, 1px, 1px);height: 1px;margin: -1px;overflow: hidden;padding: 0;position: absolute;width: 1px;}#sk-container-id-11 div.sk-estimator {font-family: monospace;background-color: #f0f8ff;border: 1px dotted black;border-radius: 0.25em;box-sizing: border-box;margin-bottom: 0.5em;}#sk-container-id-11 div.sk-estimator:hover {background-color: #d4ebff;}#sk-container-id-11 div.sk-parallel-item::after {content: \"\";width: 100%;border-bottom: 1px solid gray;flex-grow: 1;}#sk-container-id-11 div.sk-label:hover label.sk-toggleable__label {background-color: #d4ebff;}#sk-container-id-11 div.sk-serial::before {content: \"\";position: absolute;border-left: 1px solid gray;box-sizing: border-box;top: 0;bottom: 0;left: 50%;z-index: 0;}#sk-container-id-11 div.sk-serial {display: flex;flex-direction: column;align-items: center;background-color: white;padding-right: 0.2em;padding-left: 0.2em;position: relative;}#sk-container-id-11 div.sk-item {position: relative;z-index: 1;}#sk-container-id-11 div.sk-parallel {display: flex;align-items: stretch;justify-content: center;background-color: white;position: relative;}#sk-container-id-11 div.sk-item::before, #sk-container-id-11 div.sk-parallel-item::before {content: \"\";position: absolute;border-left: 1px solid gray;box-sizing: border-box;top: 0;bottom: 0;left: 50%;z-index: -1;}#sk-container-id-11 div.sk-parallel-item {display: flex;flex-direction: column;z-index: 1;position: relative;background-color: white;}#sk-container-id-11 div.sk-parallel-item:first-child::after {align-self: flex-end;width: 50%;}#sk-container-id-11 div.sk-parallel-item:last-child::after {align-self: flex-start;width: 50%;}#sk-container-id-11 div.sk-parallel-item:only-child::after {width: 0;}#sk-container-id-11 div.sk-dashed-wrapped {border: 1px dashed gray;margin: 0 0.4em 0.5em 0.4em;box-sizing: border-box;padding-bottom: 0.4em;background-color: white;}#sk-container-id-11 div.sk-label label {font-family: monospace;font-weight: bold;display: inline-block;line-height: 1.2em;}#sk-container-id-11 div.sk-label-container {text-align: center;}#sk-container-id-11 div.sk-container {/* jupyter's `normalize.less` sets `[hidden] { display: none; }` but bootstrap.min.css set `[hidden] { display: none !important; }` so we also need the `!important` here to be able to override the default hidden behavior on the sphinx rendered scikit-learn.org. See: https://github.com/scikit-learn/scikit-learn/issues/21755 */display: inline-block !important;position: relative;}#sk-container-id-11 div.sk-text-repr-fallback {display: none;}</style><div id=\"sk-container-id-11\" class=\"sk-top-container\"><div class=\"sk-text-repr-fallback\"><pre>XGBClassifier(base_score=None, booster=None, callbacks=None,\n",
       "              colsample_bylevel=None, colsample_bynode=None,\n",
       "              colsample_bytree=None, early_stopping_rounds=None,\n",
       "              enable_categorical=False, eval_metric=None, feature_types=None,\n",
       "              gamma=None, gpu_id=None, grow_policy=None, importance_type=None,\n",
       "              interaction_constraints=None, learning_rate=None, max_bin=None,\n",
       "              max_cat_threshold=None, max_cat_to_onehot=None,\n",
       "              max_delta_step=None, max_depth=None, max_leaves=None,\n",
       "              min_child_weight=None, missing=nan, monotone_constraints=None,\n",
       "              n_estimators=100, n_jobs=None, num_parallel_tree=None,\n",
       "              objective=&#x27;multi:softprob&#x27;, predictor=None, ...)</pre><b>In a Jupyter environment, please rerun this cell to show the HTML representation or trust the notebook. <br />On GitHub, the HTML representation is unable to render, please try loading this page with nbviewer.org.</b></div><div class=\"sk-container\" hidden><div class=\"sk-item\"><div class=\"sk-estimator sk-toggleable\"><input class=\"sk-toggleable__control sk-hidden--visually\" id=\"sk-estimator-id-17\" type=\"checkbox\" checked><label for=\"sk-estimator-id-17\" class=\"sk-toggleable__label sk-toggleable__label-arrow\">XGBClassifier</label><div class=\"sk-toggleable__content\"><pre>XGBClassifier(base_score=None, booster=None, callbacks=None,\n",
       "              colsample_bylevel=None, colsample_bynode=None,\n",
       "              colsample_bytree=None, early_stopping_rounds=None,\n",
       "              enable_categorical=False, eval_metric=None, feature_types=None,\n",
       "              gamma=None, gpu_id=None, grow_policy=None, importance_type=None,\n",
       "              interaction_constraints=None, learning_rate=None, max_bin=None,\n",
       "              max_cat_threshold=None, max_cat_to_onehot=None,\n",
       "              max_delta_step=None, max_depth=None, max_leaves=None,\n",
       "              min_child_weight=None, missing=nan, monotone_constraints=None,\n",
       "              n_estimators=100, n_jobs=None, num_parallel_tree=None,\n",
       "              objective=&#x27;multi:softprob&#x27;, predictor=None, ...)</pre></div></div></div></div></div>"
      ],
      "text/plain": [
       "XGBClassifier(base_score=None, booster=None, callbacks=None,\n",
       "              colsample_bylevel=None, colsample_bynode=None,\n",
       "              colsample_bytree=None, early_stopping_rounds=None,\n",
       "              enable_categorical=False, eval_metric=None, feature_types=None,\n",
       "              gamma=None, gpu_id=None, grow_policy=None, importance_type=None,\n",
       "              interaction_constraints=None, learning_rate=None, max_bin=None,\n",
       "              max_cat_threshold=None, max_cat_to_onehot=None,\n",
       "              max_delta_step=None, max_depth=None, max_leaves=None,\n",
       "              min_child_weight=None, missing=nan, monotone_constraints=None,\n",
       "              n_estimators=100, n_jobs=None, num_parallel_tree=None,\n",
       "              objective='multi:softprob', predictor=None, ...)"
      ]
     },
     "execution_count": 59,
     "metadata": {},
     "output_type": "execute_result"
    }
   ],
   "source": [
    "xgb_classifier.fit(X_train_clean, y_train)"
   ]
  },
  {
   "cell_type": "code",
   "execution_count": 60,
   "id": "4c0538a7",
   "metadata": {},
   "outputs": [
    {
     "data": {
      "text/plain": [
       "0.868976651763537"
      ]
     },
     "execution_count": 60,
     "metadata": {},
     "output_type": "execute_result"
    }
   ],
   "source": [
    "xgb_classifier.score(X_train_clean, y_train)"
   ]
  },
  {
   "cell_type": "code",
   "execution_count": 61,
   "id": "77c8b688",
   "metadata": {},
   "outputs": [],
   "source": [
    "xgb_pred = xgb_classifier.predict(X_test_clean)"
   ]
  },
  {
   "cell_type": "code",
   "execution_count": 62,
   "id": "5ac4b9bf",
   "metadata": {},
   "outputs": [
    {
     "name": "stdout",
     "output_type": "stream",
     "text": [
      "              precision    recall  f1-score   support\n",
      "\n",
      "           0       0.62      0.40      0.49        25\n",
      "           1       0.89      0.74      0.81       147\n",
      "           2       0.71      0.94      0.81       594\n",
      "           3       0.74      0.29      0.42        68\n",
      "           4       0.88      0.60      0.71       123\n",
      "           5       0.79      0.53      0.63       250\n",
      "\n",
      "    accuracy                           0.75      1207\n",
      "   macro avg       0.77      0.58      0.65      1207\n",
      "weighted avg       0.77      0.75      0.74      1207\n",
      "\n"
     ]
    }
   ],
   "source": [
    "print(classification_report(y_test, xgb_pred))"
   ]
  },
  {
   "cell_type": "code",
   "execution_count": 63,
   "id": "facdc3da",
   "metadata": {},
   "outputs": [
    {
     "name": "stdout",
     "output_type": "stream",
     "text": [
      "Training Data Score: 0.868976651763537\n",
      "Validating Data Score: 0.7692307692307693\n",
      "Testing Data Score: 0.7506213753106876\n"
     ]
    }
   ],
   "source": [
    "print(f\"Training Data Score: {xgb_classifier.score(X_train_clean, y_train)}\")\n",
    "print(f\"Validating Data Score: {xgb_classifier.score(X_valid_clean, y_valid)}\")\n",
    "print(f\"Testing Data Score: {xgb_classifier.score(X_test_clean, y_test)}\")"
   ]
  },
  {
   "cell_type": "markdown",
   "id": "317da2d0",
   "metadata": {},
   "source": [
    "## Tuning Parameter XGboost"
   ]
  },
  {
   "cell_type": "code",
   "execution_count": 44,
   "id": "c5488576",
   "metadata": {},
   "outputs": [],
   "source": [
    "param_grid = {\n",
    "    'n_estimators': [50, 100, 200],\n",
    "    'max_depth': [3, 5, 7],\n",
    "    'learning_rate': [0.1, 0.5, 1.0],\n",
    "    'subsample': [0.5, 0.7, 1.0]\n",
    "}\n"
   ]
  },
  {
   "cell_type": "code",
   "execution_count": 45,
   "id": "dbf84597",
   "metadata": {},
   "outputs": [],
   "source": [
    "grid_search_xg = GridSearchCV(xgb_classifier, param_grid, scoring='accuracy', cv=5)"
   ]
  },
  {
   "cell_type": "code",
   "execution_count": 46,
   "id": "8204bc0b",
   "metadata": {},
   "outputs": [
    {
     "data": {
      "text/html": [
       "<style>#sk-container-id-6 {color: black;background-color: white;}#sk-container-id-6 pre{padding: 0;}#sk-container-id-6 div.sk-toggleable {background-color: white;}#sk-container-id-6 label.sk-toggleable__label {cursor: pointer;display: block;width: 100%;margin-bottom: 0;padding: 0.3em;box-sizing: border-box;text-align: center;}#sk-container-id-6 label.sk-toggleable__label-arrow:before {content: \"▸\";float: left;margin-right: 0.25em;color: #696969;}#sk-container-id-6 label.sk-toggleable__label-arrow:hover:before {color: black;}#sk-container-id-6 div.sk-estimator:hover label.sk-toggleable__label-arrow:before {color: black;}#sk-container-id-6 div.sk-toggleable__content {max-height: 0;max-width: 0;overflow: hidden;text-align: left;background-color: #f0f8ff;}#sk-container-id-6 div.sk-toggleable__content pre {margin: 0.2em;color: black;border-radius: 0.25em;background-color: #f0f8ff;}#sk-container-id-6 input.sk-toggleable__control:checked~div.sk-toggleable__content {max-height: 200px;max-width: 100%;overflow: auto;}#sk-container-id-6 input.sk-toggleable__control:checked~label.sk-toggleable__label-arrow:before {content: \"▾\";}#sk-container-id-6 div.sk-estimator input.sk-toggleable__control:checked~label.sk-toggleable__label {background-color: #d4ebff;}#sk-container-id-6 div.sk-label input.sk-toggleable__control:checked~label.sk-toggleable__label {background-color: #d4ebff;}#sk-container-id-6 input.sk-hidden--visually {border: 0;clip: rect(1px 1px 1px 1px);clip: rect(1px, 1px, 1px, 1px);height: 1px;margin: -1px;overflow: hidden;padding: 0;position: absolute;width: 1px;}#sk-container-id-6 div.sk-estimator {font-family: monospace;background-color: #f0f8ff;border: 1px dotted black;border-radius: 0.25em;box-sizing: border-box;margin-bottom: 0.5em;}#sk-container-id-6 div.sk-estimator:hover {background-color: #d4ebff;}#sk-container-id-6 div.sk-parallel-item::after {content: \"\";width: 100%;border-bottom: 1px solid gray;flex-grow: 1;}#sk-container-id-6 div.sk-label:hover label.sk-toggleable__label {background-color: #d4ebff;}#sk-container-id-6 div.sk-serial::before {content: \"\";position: absolute;border-left: 1px solid gray;box-sizing: border-box;top: 0;bottom: 0;left: 50%;z-index: 0;}#sk-container-id-6 div.sk-serial {display: flex;flex-direction: column;align-items: center;background-color: white;padding-right: 0.2em;padding-left: 0.2em;position: relative;}#sk-container-id-6 div.sk-item {position: relative;z-index: 1;}#sk-container-id-6 div.sk-parallel {display: flex;align-items: stretch;justify-content: center;background-color: white;position: relative;}#sk-container-id-6 div.sk-item::before, #sk-container-id-6 div.sk-parallel-item::before {content: \"\";position: absolute;border-left: 1px solid gray;box-sizing: border-box;top: 0;bottom: 0;left: 50%;z-index: -1;}#sk-container-id-6 div.sk-parallel-item {display: flex;flex-direction: column;z-index: 1;position: relative;background-color: white;}#sk-container-id-6 div.sk-parallel-item:first-child::after {align-self: flex-end;width: 50%;}#sk-container-id-6 div.sk-parallel-item:last-child::after {align-self: flex-start;width: 50%;}#sk-container-id-6 div.sk-parallel-item:only-child::after {width: 0;}#sk-container-id-6 div.sk-dashed-wrapped {border: 1px dashed gray;margin: 0 0.4em 0.5em 0.4em;box-sizing: border-box;padding-bottom: 0.4em;background-color: white;}#sk-container-id-6 div.sk-label label {font-family: monospace;font-weight: bold;display: inline-block;line-height: 1.2em;}#sk-container-id-6 div.sk-label-container {text-align: center;}#sk-container-id-6 div.sk-container {/* jupyter's `normalize.less` sets `[hidden] { display: none; }` but bootstrap.min.css set `[hidden] { display: none !important; }` so we also need the `!important` here to be able to override the default hidden behavior on the sphinx rendered scikit-learn.org. See: https://github.com/scikit-learn/scikit-learn/issues/21755 */display: inline-block !important;position: relative;}#sk-container-id-6 div.sk-text-repr-fallback {display: none;}</style><div id=\"sk-container-id-6\" class=\"sk-top-container\"><div class=\"sk-text-repr-fallback\"><pre>GridSearchCV(cv=5,\n",
       "             estimator=XGBClassifier(base_score=None, booster=None,\n",
       "                                     callbacks=None, colsample_bylevel=None,\n",
       "                                     colsample_bynode=None,\n",
       "                                     colsample_bytree=None,\n",
       "                                     early_stopping_rounds=None,\n",
       "                                     enable_categorical=False, eval_metric=None,\n",
       "                                     feature_types=None, gamma=None,\n",
       "                                     gpu_id=None, grow_policy=None,\n",
       "                                     importance_type=None,\n",
       "                                     interaction_constraints=None,\n",
       "                                     learning_rate=None,...\n",
       "                                     max_cat_to_onehot=None,\n",
       "                                     max_delta_step=None, max_depth=None,\n",
       "                                     max_leaves=None, min_child_weight=None,\n",
       "                                     missing=nan, monotone_constraints=None,\n",
       "                                     n_estimators=100, n_jobs=None,\n",
       "                                     num_parallel_tree=None, predictor=None,\n",
       "                                     random_state=123, ...),\n",
       "             param_grid={&#x27;learning_rate&#x27;: [0.1, 0.5, 1.0],\n",
       "                         &#x27;max_depth&#x27;: [3, 5, 7], &#x27;n_estimators&#x27;: [50, 100, 200],\n",
       "                         &#x27;subsample&#x27;: [0.5, 0.7, 1.0]},\n",
       "             scoring=&#x27;accuracy&#x27;)</pre><b>In a Jupyter environment, please rerun this cell to show the HTML representation or trust the notebook. <br />On GitHub, the HTML representation is unable to render, please try loading this page with nbviewer.org.</b></div><div class=\"sk-container\" hidden><div class=\"sk-item sk-dashed-wrapped\"><div class=\"sk-label-container\"><div class=\"sk-label sk-toggleable\"><input class=\"sk-toggleable__control sk-hidden--visually\" id=\"sk-estimator-id-10\" type=\"checkbox\" ><label for=\"sk-estimator-id-10\" class=\"sk-toggleable__label sk-toggleable__label-arrow\">GridSearchCV</label><div class=\"sk-toggleable__content\"><pre>GridSearchCV(cv=5,\n",
       "             estimator=XGBClassifier(base_score=None, booster=None,\n",
       "                                     callbacks=None, colsample_bylevel=None,\n",
       "                                     colsample_bynode=None,\n",
       "                                     colsample_bytree=None,\n",
       "                                     early_stopping_rounds=None,\n",
       "                                     enable_categorical=False, eval_metric=None,\n",
       "                                     feature_types=None, gamma=None,\n",
       "                                     gpu_id=None, grow_policy=None,\n",
       "                                     importance_type=None,\n",
       "                                     interaction_constraints=None,\n",
       "                                     learning_rate=None,...\n",
       "                                     max_cat_to_onehot=None,\n",
       "                                     max_delta_step=None, max_depth=None,\n",
       "                                     max_leaves=None, min_child_weight=None,\n",
       "                                     missing=nan, monotone_constraints=None,\n",
       "                                     n_estimators=100, n_jobs=None,\n",
       "                                     num_parallel_tree=None, predictor=None,\n",
       "                                     random_state=123, ...),\n",
       "             param_grid={&#x27;learning_rate&#x27;: [0.1, 0.5, 1.0],\n",
       "                         &#x27;max_depth&#x27;: [3, 5, 7], &#x27;n_estimators&#x27;: [50, 100, 200],\n",
       "                         &#x27;subsample&#x27;: [0.5, 0.7, 1.0]},\n",
       "             scoring=&#x27;accuracy&#x27;)</pre></div></div></div><div class=\"sk-parallel\"><div class=\"sk-parallel-item\"><div class=\"sk-item\"><div class=\"sk-label-container\"><div class=\"sk-label sk-toggleable\"><input class=\"sk-toggleable__control sk-hidden--visually\" id=\"sk-estimator-id-11\" type=\"checkbox\" ><label for=\"sk-estimator-id-11\" class=\"sk-toggleable__label sk-toggleable__label-arrow\">estimator: XGBClassifier</label><div class=\"sk-toggleable__content\"><pre>XGBClassifier(base_score=None, booster=None, callbacks=None,\n",
       "              colsample_bylevel=None, colsample_bynode=None,\n",
       "              colsample_bytree=None, early_stopping_rounds=None,\n",
       "              enable_categorical=False, eval_metric=None, feature_types=None,\n",
       "              gamma=None, gpu_id=None, grow_policy=None, importance_type=None,\n",
       "              interaction_constraints=None, learning_rate=None, max_bin=None,\n",
       "              max_cat_threshold=None, max_cat_to_onehot=None,\n",
       "              max_delta_step=None, max_depth=None, max_leaves=None,\n",
       "              min_child_weight=None, missing=nan, monotone_constraints=None,\n",
       "              n_estimators=100, n_jobs=None, num_parallel_tree=None,\n",
       "              predictor=None, random_state=123, ...)</pre></div></div></div><div class=\"sk-serial\"><div class=\"sk-item\"><div class=\"sk-estimator sk-toggleable\"><input class=\"sk-toggleable__control sk-hidden--visually\" id=\"sk-estimator-id-12\" type=\"checkbox\" ><label for=\"sk-estimator-id-12\" class=\"sk-toggleable__label sk-toggleable__label-arrow\">XGBClassifier</label><div class=\"sk-toggleable__content\"><pre>XGBClassifier(base_score=None, booster=None, callbacks=None,\n",
       "              colsample_bylevel=None, colsample_bynode=None,\n",
       "              colsample_bytree=None, early_stopping_rounds=None,\n",
       "              enable_categorical=False, eval_metric=None, feature_types=None,\n",
       "              gamma=None, gpu_id=None, grow_policy=None, importance_type=None,\n",
       "              interaction_constraints=None, learning_rate=None, max_bin=None,\n",
       "              max_cat_threshold=None, max_cat_to_onehot=None,\n",
       "              max_delta_step=None, max_depth=None, max_leaves=None,\n",
       "              min_child_weight=None, missing=nan, monotone_constraints=None,\n",
       "              n_estimators=100, n_jobs=None, num_parallel_tree=None,\n",
       "              predictor=None, random_state=123, ...)</pre></div></div></div></div></div></div></div></div></div></div>"
      ],
      "text/plain": [
       "GridSearchCV(cv=5,\n",
       "             estimator=XGBClassifier(base_score=None, booster=None,\n",
       "                                     callbacks=None, colsample_bylevel=None,\n",
       "                                     colsample_bynode=None,\n",
       "                                     colsample_bytree=None,\n",
       "                                     early_stopping_rounds=None,\n",
       "                                     enable_categorical=False, eval_metric=None,\n",
       "                                     feature_types=None, gamma=None,\n",
       "                                     gpu_id=None, grow_policy=None,\n",
       "                                     importance_type=None,\n",
       "                                     interaction_constraints=None,\n",
       "                                     learning_rate=None,...\n",
       "                                     max_cat_to_onehot=None,\n",
       "                                     max_delta_step=None, max_depth=None,\n",
       "                                     max_leaves=None, min_child_weight=None,\n",
       "                                     missing=nan, monotone_constraints=None,\n",
       "                                     n_estimators=100, n_jobs=None,\n",
       "                                     num_parallel_tree=None, predictor=None,\n",
       "                                     random_state=123, ...),\n",
       "             param_grid={'learning_rate': [0.1, 0.5, 1.0],\n",
       "                         'max_depth': [3, 5, 7], 'n_estimators': [50, 100, 200],\n",
       "                         'subsample': [0.5, 0.7, 1.0]},\n",
       "             scoring='accuracy')"
      ]
     },
     "execution_count": 46,
     "metadata": {},
     "output_type": "execute_result"
    }
   ],
   "source": [
    "grid_search_xg.fit(X_train_clean, y_train)"
   ]
  },
  {
   "cell_type": "code",
   "execution_count": 47,
   "id": "12acb6a1",
   "metadata": {},
   "outputs": [
    {
     "name": "stdout",
     "output_type": "stream",
     "text": [
      "{'learning_rate': 0.5, 'max_depth': 5, 'n_estimators': 200, 'subsample': 1.0}\n"
     ]
    }
   ],
   "source": [
    "print(grid_search_xg.best_params_)"
   ]
  },
  {
   "cell_type": "code",
   "execution_count": 48,
   "id": "95468116",
   "metadata": {},
   "outputs": [],
   "source": [
    "xgb_best = xgb.XGBClassifier(n_estimators = grid_search_xg.best_params_[\"n_estimators\"], \n",
    "                             max_depth = grid_search_xg.best_params_[\"max_depth\"], \n",
    "                             learning_rate = grid_search_xg.best_params_[\"learning_rate\"], \n",
    "                             subsample = grid_search_xg.best_params_[\"subsample\"])"
   ]
  },
  {
   "cell_type": "code",
   "execution_count": 49,
   "id": "7e7b563b",
   "metadata": {},
   "outputs": [
    {
     "data": {
      "text/html": [
       "<style>#sk-container-id-7 {color: black;background-color: white;}#sk-container-id-7 pre{padding: 0;}#sk-container-id-7 div.sk-toggleable {background-color: white;}#sk-container-id-7 label.sk-toggleable__label {cursor: pointer;display: block;width: 100%;margin-bottom: 0;padding: 0.3em;box-sizing: border-box;text-align: center;}#sk-container-id-7 label.sk-toggleable__label-arrow:before {content: \"▸\";float: left;margin-right: 0.25em;color: #696969;}#sk-container-id-7 label.sk-toggleable__label-arrow:hover:before {color: black;}#sk-container-id-7 div.sk-estimator:hover label.sk-toggleable__label-arrow:before {color: black;}#sk-container-id-7 div.sk-toggleable__content {max-height: 0;max-width: 0;overflow: hidden;text-align: left;background-color: #f0f8ff;}#sk-container-id-7 div.sk-toggleable__content pre {margin: 0.2em;color: black;border-radius: 0.25em;background-color: #f0f8ff;}#sk-container-id-7 input.sk-toggleable__control:checked~div.sk-toggleable__content {max-height: 200px;max-width: 100%;overflow: auto;}#sk-container-id-7 input.sk-toggleable__control:checked~label.sk-toggleable__label-arrow:before {content: \"▾\";}#sk-container-id-7 div.sk-estimator input.sk-toggleable__control:checked~label.sk-toggleable__label {background-color: #d4ebff;}#sk-container-id-7 div.sk-label input.sk-toggleable__control:checked~label.sk-toggleable__label {background-color: #d4ebff;}#sk-container-id-7 input.sk-hidden--visually {border: 0;clip: rect(1px 1px 1px 1px);clip: rect(1px, 1px, 1px, 1px);height: 1px;margin: -1px;overflow: hidden;padding: 0;position: absolute;width: 1px;}#sk-container-id-7 div.sk-estimator {font-family: monospace;background-color: #f0f8ff;border: 1px dotted black;border-radius: 0.25em;box-sizing: border-box;margin-bottom: 0.5em;}#sk-container-id-7 div.sk-estimator:hover {background-color: #d4ebff;}#sk-container-id-7 div.sk-parallel-item::after {content: \"\";width: 100%;border-bottom: 1px solid gray;flex-grow: 1;}#sk-container-id-7 div.sk-label:hover label.sk-toggleable__label {background-color: #d4ebff;}#sk-container-id-7 div.sk-serial::before {content: \"\";position: absolute;border-left: 1px solid gray;box-sizing: border-box;top: 0;bottom: 0;left: 50%;z-index: 0;}#sk-container-id-7 div.sk-serial {display: flex;flex-direction: column;align-items: center;background-color: white;padding-right: 0.2em;padding-left: 0.2em;position: relative;}#sk-container-id-7 div.sk-item {position: relative;z-index: 1;}#sk-container-id-7 div.sk-parallel {display: flex;align-items: stretch;justify-content: center;background-color: white;position: relative;}#sk-container-id-7 div.sk-item::before, #sk-container-id-7 div.sk-parallel-item::before {content: \"\";position: absolute;border-left: 1px solid gray;box-sizing: border-box;top: 0;bottom: 0;left: 50%;z-index: -1;}#sk-container-id-7 div.sk-parallel-item {display: flex;flex-direction: column;z-index: 1;position: relative;background-color: white;}#sk-container-id-7 div.sk-parallel-item:first-child::after {align-self: flex-end;width: 50%;}#sk-container-id-7 div.sk-parallel-item:last-child::after {align-self: flex-start;width: 50%;}#sk-container-id-7 div.sk-parallel-item:only-child::after {width: 0;}#sk-container-id-7 div.sk-dashed-wrapped {border: 1px dashed gray;margin: 0 0.4em 0.5em 0.4em;box-sizing: border-box;padding-bottom: 0.4em;background-color: white;}#sk-container-id-7 div.sk-label label {font-family: monospace;font-weight: bold;display: inline-block;line-height: 1.2em;}#sk-container-id-7 div.sk-label-container {text-align: center;}#sk-container-id-7 div.sk-container {/* jupyter's `normalize.less` sets `[hidden] { display: none; }` but bootstrap.min.css set `[hidden] { display: none !important; }` so we also need the `!important` here to be able to override the default hidden behavior on the sphinx rendered scikit-learn.org. See: https://github.com/scikit-learn/scikit-learn/issues/21755 */display: inline-block !important;position: relative;}#sk-container-id-7 div.sk-text-repr-fallback {display: none;}</style><div id=\"sk-container-id-7\" class=\"sk-top-container\"><div class=\"sk-text-repr-fallback\"><pre>XGBClassifier(base_score=None, booster=None, callbacks=None,\n",
       "              colsample_bylevel=None, colsample_bynode=None,\n",
       "              colsample_bytree=None, early_stopping_rounds=None,\n",
       "              enable_categorical=False, eval_metric=None, feature_types=None,\n",
       "              gamma=None, gpu_id=None, grow_policy=None, importance_type=None,\n",
       "              interaction_constraints=None, learning_rate=0.5, max_bin=None,\n",
       "              max_cat_threshold=None, max_cat_to_onehot=None,\n",
       "              max_delta_step=None, max_depth=5, max_leaves=None,\n",
       "              min_child_weight=None, missing=nan, monotone_constraints=None,\n",
       "              n_estimators=200, n_jobs=None, num_parallel_tree=None,\n",
       "              objective=&#x27;multi:softprob&#x27;, predictor=None, ...)</pre><b>In a Jupyter environment, please rerun this cell to show the HTML representation or trust the notebook. <br />On GitHub, the HTML representation is unable to render, please try loading this page with nbviewer.org.</b></div><div class=\"sk-container\" hidden><div class=\"sk-item\"><div class=\"sk-estimator sk-toggleable\"><input class=\"sk-toggleable__control sk-hidden--visually\" id=\"sk-estimator-id-13\" type=\"checkbox\" checked><label for=\"sk-estimator-id-13\" class=\"sk-toggleable__label sk-toggleable__label-arrow\">XGBClassifier</label><div class=\"sk-toggleable__content\"><pre>XGBClassifier(base_score=None, booster=None, callbacks=None,\n",
       "              colsample_bylevel=None, colsample_bynode=None,\n",
       "              colsample_bytree=None, early_stopping_rounds=None,\n",
       "              enable_categorical=False, eval_metric=None, feature_types=None,\n",
       "              gamma=None, gpu_id=None, grow_policy=None, importance_type=None,\n",
       "              interaction_constraints=None, learning_rate=0.5, max_bin=None,\n",
       "              max_cat_threshold=None, max_cat_to_onehot=None,\n",
       "              max_delta_step=None, max_depth=5, max_leaves=None,\n",
       "              min_child_weight=None, missing=nan, monotone_constraints=None,\n",
       "              n_estimators=200, n_jobs=None, num_parallel_tree=None,\n",
       "              objective=&#x27;multi:softprob&#x27;, predictor=None, ...)</pre></div></div></div></div></div>"
      ],
      "text/plain": [
       "XGBClassifier(base_score=None, booster=None, callbacks=None,\n",
       "              colsample_bylevel=None, colsample_bynode=None,\n",
       "              colsample_bytree=None, early_stopping_rounds=None,\n",
       "              enable_categorical=False, eval_metric=None, feature_types=None,\n",
       "              gamma=None, gpu_id=None, grow_policy=None, importance_type=None,\n",
       "              interaction_constraints=None, learning_rate=0.5, max_bin=None,\n",
       "              max_cat_threshold=None, max_cat_to_onehot=None,\n",
       "              max_delta_step=None, max_depth=5, max_leaves=None,\n",
       "              min_child_weight=None, missing=nan, monotone_constraints=None,\n",
       "              n_estimators=200, n_jobs=None, num_parallel_tree=None,\n",
       "              objective='multi:softprob', predictor=None, ...)"
      ]
     },
     "execution_count": 49,
     "metadata": {},
     "output_type": "execute_result"
    }
   ],
   "source": [
    "xgb_best.fit(X_train_clean, y_train)"
   ]
  },
  {
   "cell_type": "code",
   "execution_count": 50,
   "id": "7622f560",
   "metadata": {},
   "outputs": [],
   "source": [
    "xgboost_cv_pred = xgb_best.predict(X_test_clean)"
   ]
  },
  {
   "cell_type": "code",
   "execution_count": 51,
   "id": "8c4aa20f",
   "metadata": {},
   "outputs": [
    {
     "name": "stdout",
     "output_type": "stream",
     "text": [
      "              precision    recall  f1-score   support\n",
      "\n",
      "           0       0.67      0.40      0.50        25\n",
      "           1       0.89      0.81      0.85       147\n",
      "           2       0.77      0.93      0.84       594\n",
      "           3       0.65      0.35      0.46        68\n",
      "           4       0.86      0.69      0.77       123\n",
      "           5       0.79      0.64      0.71       250\n",
      "\n",
      "    accuracy                           0.79      1207\n",
      "   macro avg       0.77      0.64      0.69      1207\n",
      "weighted avg       0.79      0.79      0.78      1207\n",
      "\n"
     ]
    }
   ],
   "source": [
    "print(classification_report(y_test, xgboost_cv_pred))"
   ]
  },
  {
   "cell_type": "code",
   "execution_count": 52,
   "id": "d0fc368a",
   "metadata": {},
   "outputs": [
    {
     "data": {
      "image/png": "[encoded data removed]",
      "text/plain": [
       "<Figure size 640x480 with 2 Axes>"
      ]
     },
     "metadata": {},
     "output_type": "display_data"
    }
   ],
   "source": [
    "unique_labels = np.unique(y_test)\n",
    "ConfusionMatrixDisplay.from_predictions(y_test, xgboost_cv_pred, display_labels=unique_labels)\n",
    "plt.show()"
   ]
  },
  {
   "cell_type": "markdown",
   "id": "10645cd8",
   "metadata": {},
   "source": [
    "## Deep Learning"
   ]
  },
  {
   "cell_type": "code",
   "execution_count": null,
   "id": "efec1d96",
   "metadata": {},
   "outputs": [],
   "source": [
    "model = Sequential([\n",
    "    Dense(64, activation='relu', input_shape=(13,)),\n",
    "    Dropout(0.2),\n",
    "    Dense(32, activation='relu'),\n",
    "    Dropout(0.2),\n",
    "    Dense(1, activation='sigmoid')\n",
    "])"
   ]
  },
  {
   "cell_type": "code",
   "execution_count": null,
   "id": "747c391d",
   "metadata": {},
   "outputs": [],
   "source": [
    "model.compile(optimizer='adam', loss='binary_crossentropy', metrics=['accuracy'])"
   ]
  },
  {
   "cell_type": "code",
   "execution_count": null,
   "id": "88a4d79a",
   "metadata": {},
   "outputs": [],
   "source": [
    "history = model.fit(X_train_clean, y_train, epochs=500, batch_size=32, validation_data=(X_valid_clean, y_valid))"
   ]
  },
  {
   "cell_type": "code",
   "execution_count": null,
   "id": "d75f781c",
   "metadata": {},
   "outputs": [],
   "source": [
    "deep_pred = np.argmax(model.predict(X_valid_clean), axis=-1)\n",
    "accuracy = accuracy_score(y_valid, deep_pred)\n",
    "print(\"Accuracy:\", accuracy)"
   ]
  },
  {
   "cell_type": "code",
   "execution_count": null,
   "id": "50baace3",
   "metadata": {},
   "outputs": [],
   "source": [
    "deep_pred = np.argmax(model.predict(X_test_clean), axis=-1)\n",
    "accuracy = accuracy_score(y_test, deep_pred)\n",
    "print(\"Accuracy:\", accuracy)"
   ]
  },
  {
   "cell_type": "code",
   "execution_count": null,
   "id": "185121d4",
   "metadata": {},
   "outputs": [],
   "source": [
    "print(classification_report(y_test, deep_pred))"
   ]
  },
  {
   "cell_type": "markdown",
   "id": "d8dc29ae",
   "metadata": {},
   "source": [
    "## Tuning Parameter Deep Learning"
   ]
  },
  {
   "cell_type": "code",
   "execution_count": null,
   "id": "abf3d143",
   "metadata": {},
   "outputs": [],
   "source": [
    "def create_model(units=64, layers=2, dropout=0.2):\n",
    "    model = Sequential()\n",
    "    model.add(Dense(units, activation='relu', input_shape=(13,)))\n",
    "    model.add(Dropout(dropout))\n",
    "    for i in range(layers-1):\n",
    "        model.add(Dense(units, activation='relu'))\n",
    "        model.add(Dropout(dropout))\n",
    "    model.add(Dense(1, activation='sigmoid'))\n",
    "    model.compile(optimizer='adam', loss='binary_crossentropy', metrics=['accuracy'])\n",
    "    return model"
   ]
  },
  {
   "cell_type": "code",
   "execution_count": null,
   "id": "201ed6f1",
   "metadata": {},
   "outputs": [],
   "source": [
    "model = KerasClassifier(build_fn=create_model)"
   ]
  },
  {
   "cell_type": "code",
   "execution_count": null,
   "id": "5cd80a1f",
   "metadata": {},
   "outputs": [],
   "source": [
    "param_grid = {\n",
    "    'units': [32, 64, 128],\n",
    "    'layers': [2, 3, 4],\n",
    "    'dropout': [0.2, 0.3, 0.4]\n",
    "}"
   ]
  },
  {
   "cell_type": "code",
   "execution_count": null,
   "id": "a284fc4f",
   "metadata": {},
   "outputs": [],
   "source": [
    "grid = GridSearchCV(estimator=model, param_grid=param_grid, cv=5)"
   ]
  },
  {
   "cell_type": "code",
   "execution_count": null,
   "id": "460119f6",
   "metadata": {},
   "outputs": [],
   "source": [
    "grid_result = grid.fit(X_train_clean, y_train)"
   ]
  },
  {
   "cell_type": "code",
   "execution_count": null,
   "id": "d669b375",
   "metadata": {},
   "outputs": [],
   "source": [
    "print(\"Best: %f using %s\" % (grid_result.best_score_, grid_result.best_params_))"
   ]
  },
  {
   "cell_type": "code",
   "execution_count": null,
   "id": "c933f81f",
   "metadata": {},
   "outputs": [],
   "source": [
    "deep_pred = np.argmax(grid_result.predict(X_test_clean), axis=-1)\n",
    "accuracy = accuracy_score(y_test, deep_pred)\n",
    "print(\"Accuracy:\", accuracy)"
   ]
  },
  {
   "cell_type": "code",
   "execution_count": null,
   "id": "e87bada3",
   "metadata": {},
   "outputs": [],
   "source": [
    "print(classification_report(y_test, deep_pred))"
   ]
  },
  {
   "cell_type": "code",
   "execution_count": null,
   "id": "bf2a5689",
   "metadata": {},
   "outputs": [],
   "source": [
    "unique_labels = np.unique(y_test)\n",
    "ConfusionMatrixDisplay.from_predictions(y_test, deep_pred, display_labels=unique_labels)\n",
    "plt.show()"
   ]
  },
  {
   "cell_type": "markdown",
   "id": "b9dcef65",
   "metadata": {},
   "source": [
    "## LightGBM"
   ]
  },
  {
   "cell_type": "code",
   "execution_count": 24,
   "id": "0e8efcfa-223e-4306-954f-4d4c3195fe6c",
   "metadata": {},
   "outputs": [],
   "source": [
    "y_train_lgbm = y_train_lgbm.astype(np.float32)  # Konversi ke np.float32 jika belum numerik"
   ]
  },
  {
   "cell_type": "code",
   "execution_count": 64,
   "id": "2ee7e020",
   "metadata": {},
   "outputs": [],
   "source": [
    "# define the LightGBM classifier\n",
    "lgb_awal = LGBMClassifier(random_state = 123)"
   ]
  },
  {
   "cell_type": "code",
   "execution_count": 65,
   "id": "2a74ea1d",
   "metadata": {},
   "outputs": [
    {
     "data": {
      "text/html": [
       "<style>#sk-container-id-12 {color: black;background-color: white;}#sk-container-id-12 pre{padding: 0;}#sk-container-id-12 div.sk-toggleable {background-color: white;}#sk-container-id-12 label.sk-toggleable__label {cursor: pointer;display: block;width: 100%;margin-bottom: 0;padding: 0.3em;box-sizing: border-box;text-align: center;}#sk-container-id-12 label.sk-toggleable__label-arrow:before {content: \"▸\";float: left;margin-right: 0.25em;color: #696969;}#sk-container-id-12 label.sk-toggleable__label-arrow:hover:before {color: black;}#sk-container-id-12 div.sk-estimator:hover label.sk-toggleable__label-arrow:before {color: black;}#sk-container-id-12 div.sk-toggleable__content {max-height: 0;max-width: 0;overflow: hidden;text-align: left;background-color: #f0f8ff;}#sk-container-id-12 div.sk-toggleable__content pre {margin: 0.2em;color: black;border-radius: 0.25em;background-color: #f0f8ff;}#sk-container-id-12 input.sk-toggleable__control:checked~div.sk-toggleable__content {max-height: 200px;max-width: 100%;overflow: auto;}#sk-container-id-12 input.sk-toggleable__control:checked~label.sk-toggleable__label-arrow:before {content: \"▾\";}#sk-container-id-12 div.sk-estimator input.sk-toggleable__control:checked~label.sk-toggleable__label {background-color: #d4ebff;}#sk-container-id-12 div.sk-label input.sk-toggleable__control:checked~label.sk-toggleable__label {background-color: #d4ebff;}#sk-container-id-12 input.sk-hidden--visually {border: 0;clip: rect(1px 1px 1px 1px);clip: rect(1px, 1px, 1px, 1px);height: 1px;margin: -1px;overflow: hidden;padding: 0;position: absolute;width: 1px;}#sk-container-id-12 div.sk-estimator {font-family: monospace;background-color: #f0f8ff;border: 1px dotted black;border-radius: 0.25em;box-sizing: border-box;margin-bottom: 0.5em;}#sk-container-id-12 div.sk-estimator:hover {background-color: #d4ebff;}#sk-container-id-12 div.sk-parallel-item::after {content: \"\";width: 100%;border-bottom: 1px solid gray;flex-grow: 1;}#sk-container-id-12 div.sk-label:hover label.sk-toggleable__label {background-color: #d4ebff;}#sk-container-id-12 div.sk-serial::before {content: \"\";position: absolute;border-left: 1px solid gray;box-sizing: border-box;top: 0;bottom: 0;left: 50%;z-index: 0;}#sk-container-id-12 div.sk-serial {display: flex;flex-direction: column;align-items: center;background-color: white;padding-right: 0.2em;padding-left: 0.2em;position: relative;}#sk-container-id-12 div.sk-item {position: relative;z-index: 1;}#sk-container-id-12 div.sk-parallel {display: flex;align-items: stretch;justify-content: center;background-color: white;position: relative;}#sk-container-id-12 div.sk-item::before, #sk-container-id-12 div.sk-parallel-item::before {content: \"\";position: absolute;border-left: 1px solid gray;box-sizing: border-box;top: 0;bottom: 0;left: 50%;z-index: -1;}#sk-container-id-12 div.sk-parallel-item {display: flex;flex-direction: column;z-index: 1;position: relative;background-color: white;}#sk-container-id-12 div.sk-parallel-item:first-child::after {align-self: flex-end;width: 50%;}#sk-container-id-12 div.sk-parallel-item:last-child::after {align-self: flex-start;width: 50%;}#sk-container-id-12 div.sk-parallel-item:only-child::after {width: 0;}#sk-container-id-12 div.sk-dashed-wrapped {border: 1px dashed gray;margin: 0 0.4em 0.5em 0.4em;box-sizing: border-box;padding-bottom: 0.4em;background-color: white;}#sk-container-id-12 div.sk-label label {font-family: monospace;font-weight: bold;display: inline-block;line-height: 1.2em;}#sk-container-id-12 div.sk-label-container {text-align: center;}#sk-container-id-12 div.sk-container {/* jupyter's `normalize.less` sets `[hidden] { display: none; }` but bootstrap.min.css set `[hidden] { display: none !important; }` so we also need the `!important` here to be able to override the default hidden behavior on the sphinx rendered scikit-learn.org. See: https://github.com/scikit-learn/scikit-learn/issues/21755 */display: inline-block !important;position: relative;}#sk-container-id-12 div.sk-text-repr-fallback {display: none;}</style><div id=\"sk-container-id-12\" class=\"sk-top-container\"><div class=\"sk-text-repr-fallback\"><pre>LGBMClassifier(random_state=123)</pre><b>In a Jupyter environment, please rerun this cell to show the HTML representation or trust the notebook. <br />On GitHub, the HTML representation is unable to render, please try loading this page with nbviewer.org.</b></div><div class=\"sk-container\" hidden><div class=\"sk-item\"><div class=\"sk-estimator sk-toggleable\"><input class=\"sk-toggleable__control sk-hidden--visually\" id=\"sk-estimator-id-18\" type=\"checkbox\" checked><label for=\"sk-estimator-id-18\" class=\"sk-toggleable__label sk-toggleable__label-arrow\">LGBMClassifier</label><div class=\"sk-toggleable__content\"><pre>LGBMClassifier(random_state=123)</pre></div></div></div></div></div>"
      ],
      "text/plain": [
       "LGBMClassifier(random_state=123)"
      ]
     },
     "execution_count": 65,
     "metadata": {},
     "output_type": "execute_result"
    }
   ],
   "source": [
    "lgb_awal.fit(X_train_clean, y_train)"
   ]
  },
  {
   "cell_type": "code",
   "execution_count": 66,
   "id": "9ef42b45",
   "metadata": {},
   "outputs": [
    {
     "data": {
      "text/plain": [
       "0.8866120218579235"
      ]
     },
     "execution_count": 66,
     "metadata": {},
     "output_type": "execute_result"
    }
   ],
   "source": [
    "# train the classifier\n",
    "lgb_awal.score(X_train_clean, y_train)"
   ]
  },
  {
   "cell_type": "code",
   "execution_count": 67,
   "id": "069a9504",
   "metadata": {},
   "outputs": [],
   "source": [
    "# make predictions on the testing set\n",
    "lgb_pred = lgb_awal.predict(X_test_clean)"
   ]
  },
  {
   "cell_type": "code",
   "execution_count": 68,
   "id": "ad3df390",
   "metadata": {},
   "outputs": [
    {
     "name": "stdout",
     "output_type": "stream",
     "text": [
      "Training Data Score: 0.8866120218579235\n",
      "Validating Data Score: 0.749379652605459\n",
      "Testing Data Score: 0.7555923777961889\n"
     ]
    }
   ],
   "source": [
    "print(f\"Training Data Score: {lgb_awal.score(X_train_clean, y_train)}\")\n",
    "print(f\"Validating Data Score: {lgb_awal.score(X_valid_clean, y_valid)}\")\n",
    "print(f\"Testing Data Score: {lgb_awal.score(X_test_clean, y_test)}\")"
   ]
  },
  {
   "cell_type": "code",
   "execution_count": 69,
   "id": "49abd02b",
   "metadata": {},
   "outputs": [
    {
     "name": "stdout",
     "output_type": "stream",
     "text": [
      "              precision    recall  f1-score   support\n",
      "\n",
      "           0       0.50      0.20      0.29        25\n",
      "           1       0.79      0.86      0.83       147\n",
      "           2       0.78      0.88      0.83       594\n",
      "           3       0.54      0.37      0.44        68\n",
      "           4       0.68      0.63      0.65       123\n",
      "           5       0.74      0.62      0.67       250\n",
      "\n",
      "    accuracy                           0.76      1207\n",
      "   macro avg       0.67      0.59      0.62      1207\n",
      "weighted avg       0.75      0.76      0.75      1207\n",
      "\n"
     ]
    }
   ],
   "source": [
    "print(classification_report(y_test, lgb_pred))"
   ]
  },
  {
   "cell_type": "markdown",
   "id": "d1d1468c",
   "metadata": {},
   "source": [
    "## Tuning Parameter LightGBM"
   ]
  },
  {
   "cell_type": "code",
   "execution_count": null,
   "id": "d91829ad",
   "metadata": {},
   "outputs": [],
   "source": [
    "# define the LightGBM classifier\n",
    "lgb = LGBMClassifier()"
   ]
  },
  {
   "cell_type": "code",
   "execution_count": null,
   "id": "845936f2",
   "metadata": {},
   "outputs": [],
   "source": [
    "# define the hyperparameters to tune\n",
    "param_grid = {\n",
    "    'num_leaves': [10, 20, 30],\n",
    "    'max_depth': [3, 4, 5],\n",
    "    'learning_rate': [0.1, 0.01, 0.001]\n",
    "}"
   ]
  },
  {
   "cell_type": "code",
   "execution_count": null,
   "id": "7848d5e5",
   "metadata": {},
   "outputs": [],
   "source": [
    "# create the grid search object\n",
    "grid_search_lgb = GridSearchCV(lgb, param_grid=param_grid, cv=5)"
   ]
  },
  {
   "cell_type": "code",
   "execution_count": null,
   "id": "b01ee185",
   "metadata": {},
   "outputs": [],
   "source": [
    "# train the grid search object\n",
    "grid_search_lgb.fit(X_train_clean, y_train)"
   ]
  },
  {
   "cell_type": "code",
   "execution_count": null,
   "id": "98309473",
   "metadata": {},
   "outputs": [],
   "source": [
    "best_params = grid_search_lgb.best_params_"
   ]
  },
  {
   "cell_type": "code",
   "execution_count": null,
   "id": "ab159150",
   "metadata": {},
   "outputs": [],
   "source": [
    "lgbm_best = LGBMClassifier(**best_params)"
   ]
  },
  {
   "cell_type": "code",
   "execution_count": null,
   "id": "1a411da6",
   "metadata": {},
   "outputs": [],
   "source": [
    "lgbm_best.fit(X_train_clean, y_train)"
   ]
  },
  {
   "cell_type": "code",
   "execution_count": null,
   "id": "6b7b9570",
   "metadata": {},
   "outputs": [],
   "source": [
    "lgb_best_pred = lgbm_best.predict(X_test_clean)"
   ]
  },
  {
   "cell_type": "code",
   "execution_count": null,
   "id": "bc1797d6",
   "metadata": {},
   "outputs": [],
   "source": [
    "print(classification_report(y_test, lgb_best_pred))"
   ]
  },
  {
   "cell_type": "code",
   "execution_count": null,
   "id": "8453012d",
   "metadata": {},
   "outputs": [],
   "source": [
    "unique_labels = np.unique(y_test)\n",
    "ConfusionMatrixDisplay.from_predictions(y_test, lgb_best_pred, display_labels=unique_labels)\n",
    "plt.show()"
   ]
  },
  {
   "cell_type": "code",
   "execution_count": null,
   "id": "4bb0d8eb",
   "metadata": {},
   "outputs": [],
   "source": [
    "# evaluate the classifier using accuracy score and ROC AUC score\n",
    "acc = accuracy_score(y_test, lgb_best_pred)\n",
    "roc_auc = roc_auc_score(y_test, lgb_best_pred)\n",
    "print('Accuracy:', acc)\n",
    "print('ROC AUC score:', roc_auc)"
   ]
  },
  {
   "cell_type": "code",
   "execution_count": null,
   "id": "03a68d74",
   "metadata": {},
   "outputs": [],
   "source": [
    "import pandas as pd\n",
    "from sklearn.metrics import classification_report\n",
    "\n",
    "# definisikan model-model yang ingin dibandingkan\n",
    "models = {'Logistic Regression': logreg_awal, \n",
    "          'Logistic Regression CV': lr_grid_cv,\n",
    "          'Decision Tree': decTree, \n",
    "          'Decision Tree CV': best_decTree,\n",
    "          'Support Vector Classifier':svc_ori,\n",
    "          'Support Vector Classifier CV':svc_grid_cv,\n",
    "          'Random Forest':random_forest,\n",
    "          'Random Forest CV':random_forestcls_cv,\n",
    "          'Ridge':ridge,\n",
    "          'Ridge CV':ridge_cv,\n",
    "          'KNN':knn_awal,\n",
    "          'KNN CV':kn_grid,\n",
    "          'Bagging':bagging_cls,\n",
    "          'Bagging CV':bagging_cv,\n",
    "          'gradient Boosting':grad_boost,\n",
    "          'gradient Boosting CV':gradboost_cv,\n",
    "          'Adaboost':abc_ori,\n",
    "          'Adaboost SVC':adaboost_svc,\n",
    "          'Adaboost CV':adaboost_best,\n",
    "          'Extratrees':extra_trees_awal,\n",
    "          'Extratrees CV':extra_trees_best,\n",
    "          'XGboost':xgb_classifier,\n",
    "          'XGboost CV':xgb_best,\n",
    "          'LightGBM':lgb_awal,\n",
    "          'LightGBM CV':lgbm_best\n",
    "         }\n",
    "\n",
    "# loop untuk menghitung dan menyimpan metrik untuk setiap model\n",
    "results = {}\n",
    "for name, model in models.items():\n",
    "    # hitung prediksi pada data test\n",
    "    y_pred = model.predict(X_test_clean)\n",
    "    # hitung metrik\n",
    "    report = classification_report(y_test, y_pred, output_dict=True)\n",
    "    # simpan metrik ke dictionary\n",
    "    results[name] = {\n",
    "        'precision': report['weighted avg']['precision'],\n",
    "        'recall': report['weighted avg']['recall'],\n",
    "        'f1_score': report['weighted avg']['f1-score'],\n",
    "        'accuracy': report['accuracy'],\n",
    "        'macro_avg_precision': report['macro avg']['precision'],\n",
    "        'macro_avg_recall': report['macro avg']['recall'],\n",
    "        'macro_avg_f1_score': report['macro avg']['f1-score'],\n",
    "        'weighted_avg_precision': report['weighted avg']['precision'],\n",
    "        'weighted_avg_recall': report['weighted avg']['recall'],\n",
    "        'weighted_avg_f1_score': report['weighted avg']['f1-score']\n",
    "    }\n",
    "\n",
    "# buat dataframe dari dictionary\n",
    "df_results = pd.DataFrame.from_dict(results, orient='index')\n",
    "\n",
    "# tampilkan dataframe sebagai tabel\n",
    "print(df_results)\n"
   ]
  },
  {
   "cell_type": "code",
   "execution_count": null,
   "id": "1c7f3ed7",
   "metadata": {},
   "outputs": [],
   "source": [
    "df_results"
   ]
  },
  {
   "cell_type": "markdown",
   "id": "66c320ef",
   "metadata": {},
   "source": [
    "# Save Model"
   ]
  },
  {
   "cell_type": "markdown",
   "id": "373919a6",
   "metadata": {},
   "source": [
    "## Logistic Regression"
   ]
  },
  {
   "cell_type": "code",
   "execution_count": 227,
   "id": "46741057",
   "metadata": {},
   "outputs": [],
   "source": [
    "logreg = 'C:/Users/HALAL/Final Project ML Process/model/1 - Model Unbalance Dataset/logreg.pkl'\n",
    "with open(logreg, 'wb') as file:\n",
    "    pickle.dump(logreg_awal, file)\n",
    "    \n",
    "logreg_cv = 'C:/Users/HALAL/Final Project ML Process/model/1 - Model Unbalance Dataset/logreg_cv.pkl'\n",
    "with open(logreg_cv, 'wb') as file:\n",
    "    pickle.dump(lr_grid_cv, file)"
   ]
  },
  {
   "cell_type": "markdown",
   "id": "94784dd6",
   "metadata": {},
   "source": [
    "## Support Vector Classifier"
   ]
  },
  {
   "cell_type": "code",
   "execution_count": 228,
   "id": "1a6b6e3d",
   "metadata": {},
   "outputs": [],
   "source": [
    "svc = 'C:/Users/HALAL/Final Project ML Process/model/1 - Model Unbalance Dataset/svc.pkl'\n",
    "with open(svc, 'wb') as file:\n",
    "    pickle.dump(svc_ori, file)\n",
    "    \n",
    "svc_cv = 'C:/Users/HALAL/Final Project ML Process/model/1 - Model Unbalance Dataset/svc_cv.pkl'\n",
    "with open(svc_cv, 'wb') as file:\n",
    "    pickle.dump(svc_grid_cv, file)"
   ]
  },
  {
   "cell_type": "markdown",
   "id": "19ad5289",
   "metadata": {},
   "source": [
    "## Decisiontree"
   ]
  },
  {
   "cell_type": "code",
   "execution_count": 229,
   "id": "0a7f2de4",
   "metadata": {},
   "outputs": [],
   "source": [
    "dectree = 'C:/Users/HALAL/Final Project ML Process/model/1 - Model Unbalance Dataset/dectree.pkl'\n",
    "with open(dectree, 'wb') as file:\n",
    "    pickle.dump(decTree, file)\n",
    "    \n",
    "dectree_cv = 'C:/Users/HALAL/Final Project ML Process/model/1 - Model Unbalance Dataset/dectree_cv.pkl'\n",
    "with open(dectree_cv, 'wb') as file:\n",
    "    pickle.dump(best_decTree, file)"
   ]
  },
  {
   "cell_type": "markdown",
   "id": "4e1e16ca",
   "metadata": {},
   "source": [
    "## Randomforest"
   ]
  },
  {
   "cell_type": "code",
   "execution_count": 230,
   "id": "e0ba0331",
   "metadata": {},
   "outputs": [],
   "source": [
    "randomforest = 'C:/Users/HALAL/Final Project ML Process/model/1 - Model Unbalance Dataset/randomforest.pkl'\n",
    "with open(randomforest, 'wb') as file:\n",
    "    pickle.dump(random_forest, file)\n",
    "    \n",
    "randomforest_cv = 'C:/Users/HALAL/Final Project ML Process/model/1 - Model Unbalance Dataset/randomforest_cv.pkl'\n",
    "with open(randomforest_cv, 'wb') as file:\n",
    "    pickle.dump(random_forestcls_cv, file)"
   ]
  },
  {
   "cell_type": "markdown",
   "id": "76188bf1",
   "metadata": {},
   "source": [
    "## Ridge Classifier"
   ]
  },
  {
   "cell_type": "code",
   "execution_count": 231,
   "id": "6c51d47a",
   "metadata": {},
   "outputs": [],
   "source": [
    "ridge = 'C:/Users/HALAL/Final Project ML Process/model/1 - Model Unbalance Dataset/ridge.pkl'\n",
    "with open(ridge, 'wb') as file:\n",
    "    pickle.dump(ridge, file)\n",
    "    \n",
    "ridge_cv = 'C:/Users/HALAL/Final Project ML Process/model/1 - Model Unbalance Dataset/ridge_cv.pkl'\n",
    "with open(ridge_cv, 'wb') as file:\n",
    "    pickle.dump(ridge_cv, file)"
   ]
  },
  {
   "cell_type": "markdown",
   "id": "561c42b1",
   "metadata": {},
   "source": [
    "## KNN "
   ]
  },
  {
   "cell_type": "code",
   "execution_count": 232,
   "id": "e5be5c17",
   "metadata": {},
   "outputs": [],
   "source": [
    "knn = 'C:/Users/HALAL/Final Project ML Process/model/1 - Model Unbalance Dataset/knn.pkl'\n",
    "with open(knn, 'wb') as file:\n",
    "    pickle.dump(knn_awal, file)\n",
    "    \n",
    "knn_cv = 'C:/Users/HALAL/Final Project ML Process/model/1 - Model Unbalance Dataset/knn_cv.pkl'\n",
    "with open(knn_cv, 'wb') as file:\n",
    "    pickle.dump(kn_grid, file)"
   ]
  },
  {
   "cell_type": "markdown",
   "id": "05049437",
   "metadata": {},
   "source": [
    "## Bagging Classifier"
   ]
  },
  {
   "cell_type": "code",
   "execution_count": 233,
   "id": "fecc1db1",
   "metadata": {},
   "outputs": [],
   "source": [
    "bagging = 'C:/Users/HALAL/Final Project ML Process/model/1 - Model Unbalance Dataset/bagging.pkl'\n",
    "with open(bagging, 'wb') as file:\n",
    "    pickle.dump(bagging_cls, file)\n",
    "    \n",
    "bagging_cv = 'C:/Users/HALAL/Final Project ML Process/model/1 - Model Unbalance Dataset/bagging_cv.pkl'\n",
    "with open(bagging_cv, 'wb') as file:\n",
    "    pickle.dump(bagging_cv, file)"
   ]
  },
  {
   "cell_type": "markdown",
   "id": "76299cb8",
   "metadata": {},
   "source": [
    "## Gradient Boosting"
   ]
  },
  {
   "cell_type": "code",
   "execution_count": 234,
   "id": "fec03953",
   "metadata": {},
   "outputs": [],
   "source": [
    "grad_boost = 'C:/Users/HALAL/Final Project ML Process/model/1 - Model Unbalance Dataset/grad_boost.pkl'\n",
    "with open(grad_boost, 'wb') as file:\n",
    "    pickle.dump(grad_boost, file)\n",
    "    \n",
    "grad_boost_cv = 'C:/Users/HALAL/Final Project ML Process/model/1 - Model Unbalance Dataset/grad_boost_cv.pkl'\n",
    "with open(grad_boost_cv, 'wb') as file:\n",
    "    pickle.dump(gradboost_cv, file)"
   ]
  },
  {
   "cell_type": "markdown",
   "id": "83be62dd",
   "metadata": {},
   "source": [
    "## Adaboost"
   ]
  },
  {
   "cell_type": "code",
   "execution_count": 235,
   "id": "eb77bf76",
   "metadata": {},
   "outputs": [],
   "source": [
    "adaboost_svc = 'C:/Users/HALAL/Final Project ML Process/model/1 - Model Unbalance Dataset/adaboost_svc.pkl'\n",
    "with open(adaboost_svc, 'wb') as file:\n",
    "    pickle.dump(adaboost_svc, file)\n",
    "    \n",
    "adaboost_ori = 'C:/Users/HALAL/Final Project ML Process/model/1 - Model Unbalance Dataset/adaboost_ori.pkl'\n",
    "with open(adaboost_ori, 'wb') as file:\n",
    "    pickle.dump(abc_ori, file)\n",
    "    \n",
    "adaboost_cv = 'C:/Users/HALAL/Final Project ML Process/model/1 - Model Unbalance Dataset/adaboost_cv.pkl'\n",
    "with open(adaboost_cv, 'wb') as file:\n",
    "    pickle.dump(adaboost_best, file)"
   ]
  },
  {
   "cell_type": "markdown",
   "id": "268f6258",
   "metadata": {},
   "source": [
    "## Extratrees"
   ]
  },
  {
   "cell_type": "code",
   "execution_count": 236,
   "id": "29c111b8",
   "metadata": {},
   "outputs": [],
   "source": [
    "extra_trees = 'C:/Users/HALAL/Final Project ML Process/model/1 - Model Unbalance Dataset/extra_trees.pkl'\n",
    "with open(extra_trees, 'wb') as file:\n",
    "    pickle.dump(extra_trees_awal, file)\n",
    "    \n",
    "extra_tree_cv = 'C:/Users/HALAL/Final Project ML Process/model/1 - Model Unbalance Dataset/extra_tree_cv.pkl'\n",
    "with open(extra_tree_cv, 'wb') as file:\n",
    "    pickle.dump(extra_trees_best, file)"
   ]
  },
  {
   "cell_type": "markdown",
   "id": "c9575423",
   "metadata": {},
   "source": [
    "## XgBoost"
   ]
  },
  {
   "cell_type": "code",
   "execution_count": 237,
   "id": "8694bc2d",
   "metadata": {},
   "outputs": [],
   "source": [
    "xgboost = 'C:/Users/HALAL/Final Project ML Process/model/1 - Model Unbalance Dataset/xgboost.pkl'\n",
    "with open(xgboost, 'wb') as file:\n",
    "    pickle.dump(xgb_classifier, file)\n",
    "    \n",
    "xgboost_cv = 'C:/Users/HALAL/Final Project ML Process/model/1 - Model Unbalance Dataset/xgboost_cv.pkl'\n",
    "with open(xgboost_cv, 'wb') as file:\n",
    "    pickle.dump(xgb_best, file)"
   ]
  },
  {
   "cell_type": "markdown",
   "id": "079f475c",
   "metadata": {},
   "source": [
    "## Deep Learning"
   ]
  },
  {
   "cell_type": "code",
   "execution_count": 238,
   "id": "809ac55c",
   "metadata": {},
   "outputs": [
    {
     "name": "stdout",
     "output_type": "stream",
     "text": [
      "INFO:tensorflow:Assets written to: C:\\Users\\HALAL\\AppData\\Local\\Temp\\tmp0de6a86h\\assets\n"
     ]
    }
   ],
   "source": [
    "deep_learning = 'C:/Users/HALAL/Final Project ML Process/model/1 - Model Unbalance Dataset/deep_learning.pkl'\n",
    "with open(deep_learning, 'wb') as file:\n",
    "    pickle.dump(model, file)\n",
    "    \n",
    "    \n",
    "deep_learning_cv = 'C:/Users/HALAL/Final Project ML Process/model/1 - Model Unbalance Dataset/deep_learning_cv.pkl'\n",
    "with open(deep_learning_cv, 'wb') as file:\n",
    "    pickle.dump(grid_result, file)"
   ]
  },
  {
   "cell_type": "markdown",
   "id": "e6e9ee23",
   "metadata": {},
   "source": [
    "## LightGBM"
   ]
  },
  {
   "cell_type": "code",
   "execution_count": 239,
   "id": "fba12f92",
   "metadata": {},
   "outputs": [],
   "source": [
    "lgbm = 'C:/Users/HALAL/Final Project ML Process/model/1 - Model Unbalance Dataset/lgbm.pkl'\n",
    "with open(lgbm, 'wb') as file:\n",
    "    pickle.dump(lgb_awal, file)\n",
    "    \n",
    "lgbm_cv = 'C:/Users/HALAL/Final Project ML Process/model/1 - Model Unbalance Dataset/lgbm_cv.pkl'\n",
    "with open(lgbm_cv, 'wb') as file:\n",
    "    pickle.dump(lgbm_best, file)"
   ]
  },
  {
   "cell_type": "markdown",
   "id": "2033f72a",
   "metadata": {},
   "source": [
    "## Cara Load Model"
   ]
  },
  {
   "cell_type": "code",
   "execution_count": null,
   "id": "eba972ca",
   "metadata": {},
   "outputs": [],
   "source": [
    "# Load model dari folder models\n",
    "\"\"\"\n",
    "filename = 'models/model.pkl'\n",
    "with open(filename, 'rb') as file:\n",
    "    model = pickle.load(file)\n",
    "\"''\""
   ]
  }
 ],
 "metadata": {
  "kernelspec": {
   "display_name": "Python 3 (ipykernel)",
   "language": "python",
   "name": "python3"
  },
  "language_info": {
   "codemirror_mode": {
    "name": "ipython",
    "version": 3
   },
   "file_extension": ".py",
   "mimetype": "text/x-python",
   "name": "python",
   "nbconvert_exporter": "python",
   "pygments_lexer": "ipython3",
   "version": "3.11.9"
  }
 },
 "nbformat": 4,
 "nbformat_minor": 5
}
